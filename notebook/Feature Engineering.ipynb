{
 "cells": [
  {
   "cell_type": "code",
   "execution_count": 1,
   "id": "5c45bb94",
   "metadata": {},
   "outputs": [],
   "source": [
    "import numpy as np\n",
    "import pandas as pd\n",
    "import matplotlib.pyplot as plt\n",
    "import seaborn as sns\n",
    "import pickle\n",
    "from datetime import datetime "
   ]
  },
  {
   "cell_type": "code",
   "execution_count": 43,
   "id": "df1ee36e",
   "metadata": {},
   "outputs": [],
   "source": [
    "#clean up csv with wanted features\n",
    "df=pd.read_csv('df_final.csv',index_col=[0])"
   ]
  },
  {
   "cell_type": "code",
   "execution_count": 33,
   "id": "9e4b5cba",
   "metadata": {},
   "outputs": [],
   "source": [
    "#with all features \n",
    "df_all_features = pd.read_csv('df_merged_final.csv',index_col=[0])"
   ]
  },
  {
   "cell_type": "code",
   "execution_count": 44,
   "id": "fd4212ba",
   "metadata": {},
   "outputs": [],
   "source": [
    "#using pickle\n",
    "pickle_in=open(\"df_final.pickle\",\"wb\")\n",
    "pickle.dump(df,pickle_in)\n",
    "pickle_in.close()\n",
    "\n",
    "pickle_out=open('df_final.pickle',\"rb\")\n",
    "df=pickle.load(pickle_out)"
   ]
  },
  {
   "cell_type": "code",
   "execution_count": 45,
   "id": "adbc2838",
   "metadata": {},
   "outputs": [
    {
     "data": {
      "text/html": [
       "<div>\n",
       "<style scoped>\n",
       "    .dataframe tbody tr th:only-of-type {\n",
       "        vertical-align: middle;\n",
       "    }\n",
       "\n",
       "    .dataframe tbody tr th {\n",
       "        vertical-align: top;\n",
       "    }\n",
       "\n",
       "    .dataframe thead th {\n",
       "        text-align: right;\n",
       "    }\n",
       "</style>\n",
       "<table border=\"1\" class=\"dataframe\">\n",
       "  <thead>\n",
       "    <tr style=\"text-align: right;\">\n",
       "      <th></th>\n",
       "      <th>fl_date</th>\n",
       "      <th>mkt_unique_carrier</th>\n",
       "      <th>branded_code_share</th>\n",
       "      <th>mkt_carrier</th>\n",
       "      <th>mkt_carrier_fl_num</th>\n",
       "      <th>op_unique_carrier</th>\n",
       "      <th>tail_num</th>\n",
       "      <th>op_carrier_fl_num</th>\n",
       "      <th>origin_airport_id</th>\n",
       "      <th>origin</th>\n",
       "      <th>...</th>\n",
       "      <th>DestinfeelslikeC</th>\n",
       "      <th>DestinheatindexC</th>\n",
       "      <th>DestinwindchillC</th>\n",
       "      <th>DestinwindgustKmph</th>\n",
       "      <th>Destincloudcover</th>\n",
       "      <th>Destinhumidity</th>\n",
       "      <th>DestinprecipMM</th>\n",
       "      <th>DestintempC</th>\n",
       "      <th>Destinvisibility</th>\n",
       "      <th>DestinwindspeedKmph</th>\n",
       "    </tr>\n",
       "  </thead>\n",
       "  <tbody>\n",
       "    <tr>\n",
       "      <th>0</th>\n",
       "      <td>2018-01-01</td>\n",
       "      <td>DL</td>\n",
       "      <td>DL_CODESHARE</td>\n",
       "      <td>DL</td>\n",
       "      <td>3468</td>\n",
       "      <td>9E</td>\n",
       "      <td>N292PQ</td>\n",
       "      <td>3468</td>\n",
       "      <td>15380</td>\n",
       "      <td>TVC</td>\n",
       "      <td>...</td>\n",
       "      <td>-21</td>\n",
       "      <td>-14</td>\n",
       "      <td>-21</td>\n",
       "      <td>21</td>\n",
       "      <td>58</td>\n",
       "      <td>85</td>\n",
       "      <td>0.2</td>\n",
       "      <td>-12</td>\n",
       "      <td>10</td>\n",
       "      <td>14</td>\n",
       "    </tr>\n",
       "    <tr>\n",
       "      <th>1</th>\n",
       "      <td>2018-01-13</td>\n",
       "      <td>DL</td>\n",
       "      <td>DL_CODESHARE</td>\n",
       "      <td>DL</td>\n",
       "      <td>3512</td>\n",
       "      <td>9E</td>\n",
       "      <td>N820AY</td>\n",
       "      <td>3512</td>\n",
       "      <td>15380</td>\n",
       "      <td>TVC</td>\n",
       "      <td>...</td>\n",
       "      <td>-17</td>\n",
       "      <td>-10</td>\n",
       "      <td>-17</td>\n",
       "      <td>25</td>\n",
       "      <td>60</td>\n",
       "      <td>65</td>\n",
       "      <td>0.0</td>\n",
       "      <td>-9</td>\n",
       "      <td>9</td>\n",
       "      <td>19</td>\n",
       "    </tr>\n",
       "    <tr>\n",
       "      <th>2</th>\n",
       "      <td>2018-01-14</td>\n",
       "      <td>DL</td>\n",
       "      <td>DL_CODESHARE</td>\n",
       "      <td>DL</td>\n",
       "      <td>3512</td>\n",
       "      <td>9E</td>\n",
       "      <td>N820AY</td>\n",
       "      <td>3512</td>\n",
       "      <td>15380</td>\n",
       "      <td>TVC</td>\n",
       "      <td>...</td>\n",
       "      <td>-12</td>\n",
       "      <td>-8</td>\n",
       "      <td>-12</td>\n",
       "      <td>12</td>\n",
       "      <td>50</td>\n",
       "      <td>73</td>\n",
       "      <td>0.1</td>\n",
       "      <td>-7</td>\n",
       "      <td>10</td>\n",
       "      <td>9</td>\n",
       "    </tr>\n",
       "    <tr>\n",
       "      <th>3</th>\n",
       "      <td>2018-01-15</td>\n",
       "      <td>DL</td>\n",
       "      <td>DL_CODESHARE</td>\n",
       "      <td>DL</td>\n",
       "      <td>3512</td>\n",
       "      <td>9E</td>\n",
       "      <td>N686BR</td>\n",
       "      <td>3512</td>\n",
       "      <td>15380</td>\n",
       "      <td>TVC</td>\n",
       "      <td>...</td>\n",
       "      <td>-14</td>\n",
       "      <td>-8</td>\n",
       "      <td>-14</td>\n",
       "      <td>17</td>\n",
       "      <td>99</td>\n",
       "      <td>83</td>\n",
       "      <td>2.6</td>\n",
       "      <td>-5</td>\n",
       "      <td>6</td>\n",
       "      <td>13</td>\n",
       "    </tr>\n",
       "    <tr>\n",
       "      <th>4</th>\n",
       "      <td>2018-01-16</td>\n",
       "      <td>DL</td>\n",
       "      <td>DL_CODESHARE</td>\n",
       "      <td>DL</td>\n",
       "      <td>3512</td>\n",
       "      <td>9E</td>\n",
       "      <td>N8836A</td>\n",
       "      <td>3512</td>\n",
       "      <td>15380</td>\n",
       "      <td>TVC</td>\n",
       "      <td>...</td>\n",
       "      <td>-15</td>\n",
       "      <td>-9</td>\n",
       "      <td>-15</td>\n",
       "      <td>18</td>\n",
       "      <td>99</td>\n",
       "      <td>88</td>\n",
       "      <td>0.6</td>\n",
       "      <td>-8</td>\n",
       "      <td>8</td>\n",
       "      <td>13</td>\n",
       "    </tr>\n",
       "  </tbody>\n",
       "</table>\n",
       "<p>5 rows × 49 columns</p>\n",
       "</div>"
      ],
      "text/plain": [
       "      fl_date mkt_unique_carrier branded_code_share mkt_carrier  \\\n",
       "0  2018-01-01                 DL       DL_CODESHARE          DL   \n",
       "1  2018-01-13                 DL       DL_CODESHARE          DL   \n",
       "2  2018-01-14                 DL       DL_CODESHARE          DL   \n",
       "3  2018-01-15                 DL       DL_CODESHARE          DL   \n",
       "4  2018-01-16                 DL       DL_CODESHARE          DL   \n",
       "\n",
       "   mkt_carrier_fl_num op_unique_carrier tail_num  op_carrier_fl_num  \\\n",
       "0                3468                9E   N292PQ               3468   \n",
       "1                3512                9E   N820AY               3512   \n",
       "2                3512                9E   N820AY               3512   \n",
       "3                3512                9E   N686BR               3512   \n",
       "4                3512                9E   N8836A               3512   \n",
       "\n",
       "   origin_airport_id origin  ... DestinfeelslikeC  DestinheatindexC  \\\n",
       "0              15380    TVC  ...              -21               -14   \n",
       "1              15380    TVC  ...              -17               -10   \n",
       "2              15380    TVC  ...              -12                -8   \n",
       "3              15380    TVC  ...              -14                -8   \n",
       "4              15380    TVC  ...              -15                -9   \n",
       "\n",
       "  DestinwindchillC DestinwindgustKmph  Destincloudcover  Destinhumidity  \\\n",
       "0              -21                 21                58              85   \n",
       "1              -17                 25                60              65   \n",
       "2              -12                 12                50              73   \n",
       "3              -14                 17                99              83   \n",
       "4              -15                 18                99              88   \n",
       "\n",
       "  DestinprecipMM  DestintempC  Destinvisibility  DestinwindspeedKmph  \n",
       "0            0.2          -12                10                   14  \n",
       "1            0.0           -9                 9                   19  \n",
       "2            0.1           -7                10                    9  \n",
       "3            2.6           -5                 6                   13  \n",
       "4            0.6           -8                 8                   13  \n",
       "\n",
       "[5 rows x 49 columns]"
      ]
     },
     "execution_count": 45,
     "metadata": {},
     "output_type": "execute_result"
    }
   ],
   "source": [
    "df.head()"
   ]
  },
  {
   "cell_type": "code",
   "execution_count": 46,
   "id": "842b4ddb",
   "metadata": {
    "scrolled": true
   },
   "outputs": [
    {
     "data": {
      "text/plain": [
       "fl_date                0\n",
       "mkt_unique_carrier     0\n",
       "branded_code_share     0\n",
       "mkt_carrier            0\n",
       "mkt_carrier_fl_num     0\n",
       "op_unique_carrier      0\n",
       "tail_num               0\n",
       "op_carrier_fl_num      0\n",
       "origin_airport_id      0\n",
       "origin                 0\n",
       "origin_city_name       0\n",
       "dest_airport_id        0\n",
       "dest                   0\n",
       "dest_city_name         0\n",
       "crs_dep_time           0\n",
       "crs_arr_time           0\n",
       "dup                    0\n",
       "crs_elapsed_time       0\n",
       "flights                0\n",
       "distance               0\n",
       "arr_time_time          0\n",
       "OriginmaxtempC         0\n",
       "OriginmintempC         0\n",
       "Origintotalsnow_cm     0\n",
       "Originsunhour          0\n",
       "OriginfeelslikeC       0\n",
       "OriginheatindexC       0\n",
       "OriginwindchillC       0\n",
       "OriginwindgustKmph     0\n",
       "Origincloudcover       0\n",
       "Originhumidity         0\n",
       "OriginprecipMM         0\n",
       "OrigintempC            0\n",
       "Originvisibility       0\n",
       "OriginwindspeedKmph    0\n",
       "DestinmaxtempC         0\n",
       "DestinmintempC         0\n",
       "Destintotalsnow_cm     0\n",
       "Destinsunhour          0\n",
       "DestinfeelslikeC       0\n",
       "DestinheatindexC       0\n",
       "DestinwindchillC       0\n",
       "DestinwindgustKmph     0\n",
       "Destincloudcover       0\n",
       "Destinhumidity         0\n",
       "DestinprecipMM         0\n",
       "DestintempC            0\n",
       "Destinvisibility       0\n",
       "DestinwindspeedKmph    0\n",
       "dtype: int64"
      ]
     },
     "execution_count": 46,
     "metadata": {},
     "output_type": "execute_result"
    }
   ],
   "source": [
    "df.isnull().sum()"
   ]
  },
  {
   "cell_type": "markdown",
   "id": "b4369a87",
   "metadata": {},
   "source": [
    "#### departure vs arr_delay"
   ]
  },
  {
   "cell_type": "code",
   "execution_count": 34,
   "id": "cd5f50ac",
   "metadata": {
    "scrolled": true
   },
   "outputs": [],
   "source": [
    "dep_mean=df_all_features.dep_delay.mean()"
   ]
  },
  {
   "cell_type": "code",
   "execution_count": 35,
   "id": "913bccea",
   "metadata": {},
   "outputs": [],
   "source": [
    "arr_mean=df_all_features.arr_delay.mean()"
   ]
  },
  {
   "cell_type": "code",
   "execution_count": null,
   "id": "43a5e41b",
   "metadata": {},
   "outputs": [],
   "source": []
  },
  {
   "cell_type": "code",
   "execution_count": null,
   "id": "40c68752",
   "metadata": {},
   "outputs": [],
   "source": []
  },
  {
   "cell_type": "markdown",
   "id": "7e014d8b",
   "metadata": {},
   "source": [
    "#### by airline \n",
    "* generate arr_dely average by each airline and merge df to df_combined"
   ]
  },
  {
   "cell_type": "code",
   "execution_count": 36,
   "id": "59938972",
   "metadata": {},
   "outputs": [],
   "source": [
    "avg_delay_all = arr_mean"
   ]
  },
  {
   "cell_type": "code",
   "execution_count": 53,
   "id": "91873b3f",
   "metadata": {},
   "outputs": [],
   "source": [
    "df_airline_delay = pd.DataFrame({'delay mean_by_airline' : df_all_features.groupby([ 'op_unique_carrier'] )['arr_delay'].mean()}).reset_index()\n"
   ]
  },
  {
   "cell_type": "code",
   "execution_count": 54,
   "id": "2d35710f",
   "metadata": {},
   "outputs": [
    {
     "data": {
      "text/html": [
       "<div>\n",
       "<style scoped>\n",
       "    .dataframe tbody tr th:only-of-type {\n",
       "        vertical-align: middle;\n",
       "    }\n",
       "\n",
       "    .dataframe tbody tr th {\n",
       "        vertical-align: top;\n",
       "    }\n",
       "\n",
       "    .dataframe thead th {\n",
       "        text-align: right;\n",
       "    }\n",
       "</style>\n",
       "<table border=\"1\" class=\"dataframe\">\n",
       "  <thead>\n",
       "    <tr style=\"text-align: right;\">\n",
       "      <th></th>\n",
       "      <th>op_unique_carrier</th>\n",
       "      <th>delay mean_by_airline</th>\n",
       "    </tr>\n",
       "  </thead>\n",
       "  <tbody>\n",
       "    <tr>\n",
       "      <th>0</th>\n",
       "      <td>9E</td>\n",
       "      <td>4.390513</td>\n",
       "    </tr>\n",
       "    <tr>\n",
       "      <th>1</th>\n",
       "      <td>9K</td>\n",
       "      <td>-3.754545</td>\n",
       "    </tr>\n",
       "    <tr>\n",
       "      <th>2</th>\n",
       "      <td>AA</td>\n",
       "      <td>1.194532</td>\n",
       "    </tr>\n",
       "    <tr>\n",
       "      <th>3</th>\n",
       "      <td>AS</td>\n",
       "      <td>-4.464361</td>\n",
       "    </tr>\n",
       "    <tr>\n",
       "      <th>4</th>\n",
       "      <td>AX</td>\n",
       "      <td>17.721332</td>\n",
       "    </tr>\n",
       "  </tbody>\n",
       "</table>\n",
       "</div>"
      ],
      "text/plain": [
       "  op_unique_carrier  delay mean_by_airline\n",
       "0                9E               4.390513\n",
       "1                9K              -3.754545\n",
       "2                AA               1.194532\n",
       "3                AS              -4.464361\n",
       "4                AX              17.721332"
      ]
     },
     "execution_count": 54,
     "metadata": {},
     "output_type": "execute_result"
    }
   ],
   "source": [
    "df_airline_delay.head()"
   ]
  },
  {
   "cell_type": "code",
   "execution_count": 56,
   "id": "941509f5",
   "metadata": {},
   "outputs": [],
   "source": [
    "#groupby airline and airport\n",
    "df_combined = pd.merge(df, df_airline_delay, how='inner', on=['op_unique_carrier'])\n"
   ]
  },
  {
   "cell_type": "code",
   "execution_count": 57,
   "id": "48b0ada9",
   "metadata": {
    "scrolled": false
   },
   "outputs": [
    {
     "data": {
      "text/html": [
       "<div>\n",
       "<style scoped>\n",
       "    .dataframe tbody tr th:only-of-type {\n",
       "        vertical-align: middle;\n",
       "    }\n",
       "\n",
       "    .dataframe tbody tr th {\n",
       "        vertical-align: top;\n",
       "    }\n",
       "\n",
       "    .dataframe thead th {\n",
       "        text-align: right;\n",
       "    }\n",
       "</style>\n",
       "<table border=\"1\" class=\"dataframe\">\n",
       "  <thead>\n",
       "    <tr style=\"text-align: right;\">\n",
       "      <th></th>\n",
       "      <th>fl_date</th>\n",
       "      <th>mkt_unique_carrier</th>\n",
       "      <th>branded_code_share</th>\n",
       "      <th>mkt_carrier</th>\n",
       "      <th>mkt_carrier_fl_num</th>\n",
       "      <th>op_unique_carrier</th>\n",
       "      <th>tail_num</th>\n",
       "      <th>op_carrier_fl_num</th>\n",
       "      <th>origin_airport_id</th>\n",
       "      <th>origin</th>\n",
       "      <th>...</th>\n",
       "      <th>DestinheatindexC</th>\n",
       "      <th>DestinwindchillC</th>\n",
       "      <th>DestinwindgustKmph</th>\n",
       "      <th>Destincloudcover</th>\n",
       "      <th>Destinhumidity</th>\n",
       "      <th>DestinprecipMM</th>\n",
       "      <th>DestintempC</th>\n",
       "      <th>Destinvisibility</th>\n",
       "      <th>DestinwindspeedKmph</th>\n",
       "      <th>delay mean_by_airline</th>\n",
       "    </tr>\n",
       "  </thead>\n",
       "  <tbody>\n",
       "    <tr>\n",
       "      <th>0</th>\n",
       "      <td>2018-01-01</td>\n",
       "      <td>DL</td>\n",
       "      <td>DL_CODESHARE</td>\n",
       "      <td>DL</td>\n",
       "      <td>3468</td>\n",
       "      <td>9E</td>\n",
       "      <td>N292PQ</td>\n",
       "      <td>3468</td>\n",
       "      <td>15380</td>\n",
       "      <td>TVC</td>\n",
       "      <td>...</td>\n",
       "      <td>-14</td>\n",
       "      <td>-21</td>\n",
       "      <td>21</td>\n",
       "      <td>58</td>\n",
       "      <td>85</td>\n",
       "      <td>0.2</td>\n",
       "      <td>-12</td>\n",
       "      <td>10</td>\n",
       "      <td>14</td>\n",
       "      <td>4.390513</td>\n",
       "    </tr>\n",
       "    <tr>\n",
       "      <th>1</th>\n",
       "      <td>2018-01-13</td>\n",
       "      <td>DL</td>\n",
       "      <td>DL_CODESHARE</td>\n",
       "      <td>DL</td>\n",
       "      <td>3512</td>\n",
       "      <td>9E</td>\n",
       "      <td>N820AY</td>\n",
       "      <td>3512</td>\n",
       "      <td>15380</td>\n",
       "      <td>TVC</td>\n",
       "      <td>...</td>\n",
       "      <td>-10</td>\n",
       "      <td>-17</td>\n",
       "      <td>25</td>\n",
       "      <td>60</td>\n",
       "      <td>65</td>\n",
       "      <td>0.0</td>\n",
       "      <td>-9</td>\n",
       "      <td>9</td>\n",
       "      <td>19</td>\n",
       "      <td>4.390513</td>\n",
       "    </tr>\n",
       "    <tr>\n",
       "      <th>2</th>\n",
       "      <td>2018-01-14</td>\n",
       "      <td>DL</td>\n",
       "      <td>DL_CODESHARE</td>\n",
       "      <td>DL</td>\n",
       "      <td>3512</td>\n",
       "      <td>9E</td>\n",
       "      <td>N820AY</td>\n",
       "      <td>3512</td>\n",
       "      <td>15380</td>\n",
       "      <td>TVC</td>\n",
       "      <td>...</td>\n",
       "      <td>-8</td>\n",
       "      <td>-12</td>\n",
       "      <td>12</td>\n",
       "      <td>50</td>\n",
       "      <td>73</td>\n",
       "      <td>0.1</td>\n",
       "      <td>-7</td>\n",
       "      <td>10</td>\n",
       "      <td>9</td>\n",
       "      <td>4.390513</td>\n",
       "    </tr>\n",
       "    <tr>\n",
       "      <th>3</th>\n",
       "      <td>2018-01-15</td>\n",
       "      <td>DL</td>\n",
       "      <td>DL_CODESHARE</td>\n",
       "      <td>DL</td>\n",
       "      <td>3512</td>\n",
       "      <td>9E</td>\n",
       "      <td>N686BR</td>\n",
       "      <td>3512</td>\n",
       "      <td>15380</td>\n",
       "      <td>TVC</td>\n",
       "      <td>...</td>\n",
       "      <td>-8</td>\n",
       "      <td>-14</td>\n",
       "      <td>17</td>\n",
       "      <td>99</td>\n",
       "      <td>83</td>\n",
       "      <td>2.6</td>\n",
       "      <td>-5</td>\n",
       "      <td>6</td>\n",
       "      <td>13</td>\n",
       "      <td>4.390513</td>\n",
       "    </tr>\n",
       "    <tr>\n",
       "      <th>4</th>\n",
       "      <td>2018-01-16</td>\n",
       "      <td>DL</td>\n",
       "      <td>DL_CODESHARE</td>\n",
       "      <td>DL</td>\n",
       "      <td>3512</td>\n",
       "      <td>9E</td>\n",
       "      <td>N8836A</td>\n",
       "      <td>3512</td>\n",
       "      <td>15380</td>\n",
       "      <td>TVC</td>\n",
       "      <td>...</td>\n",
       "      <td>-9</td>\n",
       "      <td>-15</td>\n",
       "      <td>18</td>\n",
       "      <td>99</td>\n",
       "      <td>88</td>\n",
       "      <td>0.6</td>\n",
       "      <td>-8</td>\n",
       "      <td>8</td>\n",
       "      <td>13</td>\n",
       "      <td>4.390513</td>\n",
       "    </tr>\n",
       "  </tbody>\n",
       "</table>\n",
       "<p>5 rows × 50 columns</p>\n",
       "</div>"
      ],
      "text/plain": [
       "      fl_date mkt_unique_carrier branded_code_share mkt_carrier  \\\n",
       "0  2018-01-01                 DL       DL_CODESHARE          DL   \n",
       "1  2018-01-13                 DL       DL_CODESHARE          DL   \n",
       "2  2018-01-14                 DL       DL_CODESHARE          DL   \n",
       "3  2018-01-15                 DL       DL_CODESHARE          DL   \n",
       "4  2018-01-16                 DL       DL_CODESHARE          DL   \n",
       "\n",
       "   mkt_carrier_fl_num op_unique_carrier tail_num  op_carrier_fl_num  \\\n",
       "0                3468                9E   N292PQ               3468   \n",
       "1                3512                9E   N820AY               3512   \n",
       "2                3512                9E   N820AY               3512   \n",
       "3                3512                9E   N686BR               3512   \n",
       "4                3512                9E   N8836A               3512   \n",
       "\n",
       "   origin_airport_id origin  ... DestinheatindexC  DestinwindchillC  \\\n",
       "0              15380    TVC  ...              -14               -21   \n",
       "1              15380    TVC  ...              -10               -17   \n",
       "2              15380    TVC  ...               -8               -12   \n",
       "3              15380    TVC  ...               -8               -14   \n",
       "4              15380    TVC  ...               -9               -15   \n",
       "\n",
       "  DestinwindgustKmph Destincloudcover  Destinhumidity  DestinprecipMM  \\\n",
       "0                 21               58              85             0.2   \n",
       "1                 25               60              65             0.0   \n",
       "2                 12               50              73             0.1   \n",
       "3                 17               99              83             2.6   \n",
       "4                 18               99              88             0.6   \n",
       "\n",
       "  DestintempC  Destinvisibility  DestinwindspeedKmph  delay mean_by_airline  \n",
       "0         -12                10                   14               4.390513  \n",
       "1          -9                 9                   19               4.390513  \n",
       "2          -7                10                    9               4.390513  \n",
       "3          -5                 6                   13               4.390513  \n",
       "4          -8                 8                   13               4.390513  \n",
       "\n",
       "[5 rows x 50 columns]"
      ]
     },
     "execution_count": 57,
     "metadata": {},
     "output_type": "execute_result"
    }
   ],
   "source": [
    "df_combined.head()"
   ]
  },
  {
   "cell_type": "code",
   "execution_count": 58,
   "id": "b86dc4ff",
   "metadata": {},
   "outputs": [
    {
     "name": "stdout",
     "output_type": "stream",
     "text": [
      "<class 'pandas.core.frame.DataFrame'>\n",
      "Int64Index: 715371 entries, 0 to 715370\n",
      "Data columns (total 50 columns):\n",
      " #   Column                 Non-Null Count   Dtype  \n",
      "---  ------                 --------------   -----  \n",
      " 0   fl_date                715371 non-null  object \n",
      " 1   mkt_unique_carrier     715371 non-null  object \n",
      " 2   branded_code_share     715371 non-null  object \n",
      " 3   mkt_carrier            715371 non-null  object \n",
      " 4   mkt_carrier_fl_num     715371 non-null  int64  \n",
      " 5   op_unique_carrier      715371 non-null  object \n",
      " 6   tail_num               715371 non-null  object \n",
      " 7   op_carrier_fl_num      715371 non-null  int64  \n",
      " 8   origin_airport_id      715371 non-null  int64  \n",
      " 9   origin                 715371 non-null  object \n",
      " 10  origin_city_name       715371 non-null  object \n",
      " 11  dest_airport_id        715371 non-null  int64  \n",
      " 12  dest                   715371 non-null  object \n",
      " 13  dest_city_name         715371 non-null  object \n",
      " 14  crs_dep_time           715371 non-null  int64  \n",
      " 15  crs_arr_time           715371 non-null  int64  \n",
      " 16  dup                    715371 non-null  object \n",
      " 17  crs_elapsed_time       715371 non-null  float64\n",
      " 18  flights                715371 non-null  float64\n",
      " 19  distance               715371 non-null  float64\n",
      " 20  arr_time_time          715371 non-null  int64  \n",
      " 21  OriginmaxtempC         715371 non-null  int64  \n",
      " 22  OriginmintempC         715371 non-null  int64  \n",
      " 23  Origintotalsnow_cm     715371 non-null  float64\n",
      " 24  Originsunhour          715371 non-null  float64\n",
      " 25  OriginfeelslikeC       715371 non-null  int64  \n",
      " 26  OriginheatindexC       715371 non-null  int64  \n",
      " 27  OriginwindchillC       715371 non-null  int64  \n",
      " 28  OriginwindgustKmph     715371 non-null  int64  \n",
      " 29  Origincloudcover       715371 non-null  int64  \n",
      " 30  Originhumidity         715371 non-null  int64  \n",
      " 31  OriginprecipMM         715371 non-null  float64\n",
      " 32  OrigintempC            715371 non-null  int64  \n",
      " 33  Originvisibility       715371 non-null  int64  \n",
      " 34  OriginwindspeedKmph    715371 non-null  int64  \n",
      " 35  DestinmaxtempC         715371 non-null  int64  \n",
      " 36  DestinmintempC         715371 non-null  int64  \n",
      " 37  Destintotalsnow_cm     715371 non-null  float64\n",
      " 38  Destinsunhour          715371 non-null  float64\n",
      " 39  DestinfeelslikeC       715371 non-null  int64  \n",
      " 40  DestinheatindexC       715371 non-null  int64  \n",
      " 41  DestinwindchillC       715371 non-null  int64  \n",
      " 42  DestinwindgustKmph     715371 non-null  int64  \n",
      " 43  Destincloudcover       715371 non-null  int64  \n",
      " 44  Destinhumidity         715371 non-null  int64  \n",
      " 45  DestinprecipMM         715371 non-null  float64\n",
      " 46  DestintempC            715371 non-null  int64  \n",
      " 47  Destinvisibility       715371 non-null  int64  \n",
      " 48  DestinwindspeedKmph    715371 non-null  int64  \n",
      " 49  delay mean_by_airline  715371 non-null  float64\n",
      "dtypes: float64(10), int64(29), object(11)\n",
      "memory usage: 278.4+ MB\n"
     ]
    }
   ],
   "source": [
    "df_combined.info()"
   ]
  },
  {
   "cell_type": "code",
   "execution_count": 59,
   "id": "f100cf40",
   "metadata": {},
   "outputs": [],
   "source": [
    "df_combined.drop('arr_time_time',axis=1,inplace=True)"
   ]
  },
  {
   "cell_type": "code",
   "execution_count": 60,
   "id": "3a6ffd90",
   "metadata": {
    "scrolled": true
   },
   "outputs": [
    {
     "name": "stdout",
     "output_type": "stream",
     "text": [
      "<class 'pandas.core.frame.DataFrame'>\n",
      "Int64Index: 715371 entries, 0 to 715370\n",
      "Data columns (total 49 columns):\n",
      " #   Column                 Non-Null Count   Dtype  \n",
      "---  ------                 --------------   -----  \n",
      " 0   fl_date                715371 non-null  object \n",
      " 1   mkt_unique_carrier     715371 non-null  object \n",
      " 2   branded_code_share     715371 non-null  object \n",
      " 3   mkt_carrier            715371 non-null  object \n",
      " 4   mkt_carrier_fl_num     715371 non-null  int64  \n",
      " 5   op_unique_carrier      715371 non-null  object \n",
      " 6   tail_num               715371 non-null  object \n",
      " 7   op_carrier_fl_num      715371 non-null  int64  \n",
      " 8   origin_airport_id      715371 non-null  int64  \n",
      " 9   origin                 715371 non-null  object \n",
      " 10  origin_city_name       715371 non-null  object \n",
      " 11  dest_airport_id        715371 non-null  int64  \n",
      " 12  dest                   715371 non-null  object \n",
      " 13  dest_city_name         715371 non-null  object \n",
      " 14  crs_dep_time           715371 non-null  int64  \n",
      " 15  crs_arr_time           715371 non-null  int64  \n",
      " 16  dup                    715371 non-null  object \n",
      " 17  crs_elapsed_time       715371 non-null  float64\n",
      " 18  flights                715371 non-null  float64\n",
      " 19  distance               715371 non-null  float64\n",
      " 20  OriginmaxtempC         715371 non-null  int64  \n",
      " 21  OriginmintempC         715371 non-null  int64  \n",
      " 22  Origintotalsnow_cm     715371 non-null  float64\n",
      " 23  Originsunhour          715371 non-null  float64\n",
      " 24  OriginfeelslikeC       715371 non-null  int64  \n",
      " 25  OriginheatindexC       715371 non-null  int64  \n",
      " 26  OriginwindchillC       715371 non-null  int64  \n",
      " 27  OriginwindgustKmph     715371 non-null  int64  \n",
      " 28  Origincloudcover       715371 non-null  int64  \n",
      " 29  Originhumidity         715371 non-null  int64  \n",
      " 30  OriginprecipMM         715371 non-null  float64\n",
      " 31  OrigintempC            715371 non-null  int64  \n",
      " 32  Originvisibility       715371 non-null  int64  \n",
      " 33  OriginwindspeedKmph    715371 non-null  int64  \n",
      " 34  DestinmaxtempC         715371 non-null  int64  \n",
      " 35  DestinmintempC         715371 non-null  int64  \n",
      " 36  Destintotalsnow_cm     715371 non-null  float64\n",
      " 37  Destinsunhour          715371 non-null  float64\n",
      " 38  DestinfeelslikeC       715371 non-null  int64  \n",
      " 39  DestinheatindexC       715371 non-null  int64  \n",
      " 40  DestinwindchillC       715371 non-null  int64  \n",
      " 41  DestinwindgustKmph     715371 non-null  int64  \n",
      " 42  Destincloudcover       715371 non-null  int64  \n",
      " 43  Destinhumidity         715371 non-null  int64  \n",
      " 44  DestinprecipMM         715371 non-null  float64\n",
      " 45  DestintempC            715371 non-null  int64  \n",
      " 46  Destinvisibility       715371 non-null  int64  \n",
      " 47  DestinwindspeedKmph    715371 non-null  int64  \n",
      " 48  delay mean_by_airline  715371 non-null  float64\n",
      "dtypes: float64(10), int64(28), object(11)\n",
      "memory usage: 272.9+ MB\n"
     ]
    }
   ],
   "source": [
    "#check again\n",
    "df_combined.info()"
   ]
  },
  {
   "cell_type": "code",
   "execution_count": 62,
   "id": "783c067c",
   "metadata": {},
   "outputs": [],
   "source": []
  },
  {
   "cell_type": "code",
   "execution_count": 83,
   "id": "3cb0e02e",
   "metadata": {},
   "outputs": [],
   "source": []
  },
  {
   "cell_type": "code",
   "execution_count": null,
   "id": "4b780bd3",
   "metadata": {},
   "outputs": [],
   "source": [
    "df_combined['arr_time']="
   ]
  },
  {
   "cell_type": "markdown",
   "id": "f6772ac0",
   "metadata": {},
   "source": [
    "#### Correlation matrix"
   ]
  },
  {
   "cell_type": "code",
   "execution_count": 81,
   "id": "eff1fa1b",
   "metadata": {},
   "outputs": [
    {
     "data": {
      "text/plain": [
       "Index(['fl_date', 'mkt_unique_carrier', 'branded_code_share', 'mkt_carrier',\n",
       "       'mkt_carrier_fl_num', 'op_unique_carrier', 'tail_num',\n",
       "       'op_carrier_fl_num', 'origin_airport_id', 'origin', 'origin_city_name',\n",
       "       'dest_airport_id', 'dest', 'dest_city_name', 'crs_dep_time',\n",
       "       'crs_arr_time', 'dup', 'crs_elapsed_time', 'flights', 'distance'],\n",
       "      dtype='object')"
      ]
     },
     "execution_count": 81,
     "metadata": {},
     "output_type": "execute_result"
    }
   ],
   "source": [
    "df_combined.iloc[:,0:20].columns"
   ]
  },
  {
   "cell_type": "code",
   "execution_count": 69,
   "id": "17839269",
   "metadata": {},
   "outputs": [],
   "source": [
    "#Computing correlation among the columns\n",
    "correlation_data = df_combined.iloc[:,0:20]\n",
    "corr = correlation_data.corr() "
   ]
  },
  {
   "cell_type": "code",
   "execution_count": 72,
   "id": "10f43010",
   "metadata": {},
   "outputs": [
    {
     "data": {
      "text/plain": [
       "array([1.])"
      ]
     },
     "execution_count": 72,
     "metadata": {},
     "output_type": "execute_result"
    }
   ],
   "source": [
    "df_combined.flights.unique()\n"
   ]
  },
  {
   "cell_type": "code",
   "execution_count": 78,
   "id": "81eec46f",
   "metadata": {},
   "outputs": [
    {
     "name": "stderr",
     "output_type": "stream",
     "text": [
      "/var/folders/46/dbkcnsnj0mj32m5rwc64xzcr0000gn/T/ipykernel_7489/1117180436.py:3: DeprecationWarning: `np.bool` is a deprecated alias for the builtin `bool`. To silence this warning, use `bool` by itself. Doing this will not modify any behavior and is safe. If you specifically wanted the numpy scalar type, use `np.bool_` here.\n",
      "Deprecated in NumPy 1.20; for more details and guidance: https://numpy.org/devdocs/release/1.20.0-notes.html#deprecations\n",
      "  mask = np.triu(np.ones_like(corr, dtype=np.bool))\n"
     ]
    },
    {
     "data": {
      "text/plain": [
       "<AxesSubplot:>"
      ]
     },
     "execution_count": 78,
     "metadata": {},
     "output_type": "execute_result"
    },
    {
     "data": {
      "image/png": "[encoded data removed]",
      "text/plain": [
       "<Figure size 792x648 with 2 Axes>"
      ]
     },
     "metadata": {
      "needs_background": "light"
     },
     "output_type": "display_data"
    }
   ],
   "source": [
    "\n",
    "f, ax = plt.subplots(figsize=(11, 9))\n",
    "# Generate a mask for the upper triangle\n",
    "mask = np.triu(np.ones_like(corr, dtype=np.bool))\n",
    "cmap = sns.diverging_palette(230, 20, as_cmap=True)\n",
    "\n",
    "# Draw the heatmap with the mask and correct aspect ratio\n",
    "sns.heatmap(corr, mask=mask,  cmap=cmap,vmax=.5, center=0,\n",
    "            square=True, linewidths=.6, cbar_kws={\"shrink\": .5})"
   ]
  },
  {
   "cell_type": "markdown",
   "id": "6eae1f44",
   "metadata": {},
   "source": [
    "#### Drop unwanted features"
   ]
  },
  {
   "cell_type": "code",
   "execution_count": 21,
   "id": "df0d6089",
   "metadata": {},
   "outputs": [],
   "source": [
    "y=df_combined['arr_delay']"
   ]
  },
  {
   "cell_type": "code",
   "execution_count": 22,
   "id": "9f30981c",
   "metadata": {},
   "outputs": [],
   "source": [
    "lst=['fl_date', 'mkt_unique_carrier', 'branded_code_share', 'mkt_carrier_fl_num','mkt_carrier', \n",
    "     'op_unique_carrier','op_carrier_fl_num', 'tail_num', 'origin','origin_city_name',\n",
    "     'origin_airport_id', 'dest_city_name','dest','dest_airport_id', 'crs_arr_time',\n",
    "     'crs_dep_time',   'dup','crs_elapsed_time','distance','flights']\n",
    "\n",
    "\n",
    "delay_cols = ['arr_delay',\n",
    "    'late_aircraft_delay',\n",
    "    'security_delay',\n",
    "    'nas_delay',\n",
    "    'weather_delay',\n",
    "    'carrier_delay',\n",
    "    'cancelled',\n",
    "    'cancellation_code',\n",
    "    'actual_elapsed_time'\n",
    "    'air_time',\n",
    "    'taxi_in',\n",
    "    'arr_time',\n",
    "    'wheels_on',\n",
    "    'dep_delay',\n",
    "    'taxi_out',\n",
    "    'wheels_off',\n",
    "    'dep_time',\n",
    "    'diverted',\n",
    "    'longest_add_gtime',\n",
    "    'total_add_gtime',\n",
    "    'first_dep_time'\n",
    "    ]\n",
    "\n",
    "delete=['dep_time','dep_delay', 'taxi_out', 'wheels_off', 'wheels_on', 'taxi_in','arr_time', 'arr_delay', 'cancelled', 'diverted', \n",
    "'actual_elapsed_time', 'air_time']\n"
   ]
  },
  {
   "cell_type": "code",
   "execution_count": 23,
   "id": "b83f7c88",
   "metadata": {
    "scrolled": true
   },
   "outputs": [
    {
     "data": {
      "text/plain": [
       "Index(['fl_date', 'mkt_unique_carrier', 'branded_code_share', 'mkt_carrier',\n",
       "       'mkt_carrier_fl_num', 'op_unique_carrier', 'tail_num',\n",
       "       'op_carrier_fl_num', 'origin_airport_id', 'origin', 'origin_city_name',\n",
       "       'dest_airport_id', 'dest', 'dest_city_name', 'crs_dep_time', 'dep_time',\n",
       "       'dep_delay', 'taxi_out', 'wheels_off', 'wheels_on', 'taxi_in',\n",
       "       'crs_arr_time', 'arr_time', 'arr_delay', 'cancelled', 'diverted', 'dup',\n",
       "       'crs_elapsed_time', 'actual_elapsed_time', 'air_time', 'flights',\n",
       "       'distance', 'arr_time_time', 'OriginmaxtempC', 'OriginmintempC',\n",
       "       'Origintotalsnow_cm', 'Originsunhour', 'OriginfeelslikeC',\n",
       "       'OriginheatindexC', 'OriginwindchillC', 'OriginwindgustKmph',\n",
       "       'Origincloudcover', 'Originhumidity', 'OriginprecipMM', 'OrigintempC',\n",
       "       'Originvisibility', 'OriginwindspeedKmph', 'DestinmaxtempC',\n",
       "       'DestinmintempC', 'Destintotalsnow_cm', 'Destinsunhour',\n",
       "       'DestinfeelslikeC', 'DestinheatindexC', 'DestinwindchillC',\n",
       "       'DestinwindgustKmph', 'Destincloudcover', 'Destinhumidity',\n",
       "       'DestinprecipMM', 'DestintempC', 'Destinvisibility',\n",
       "       'DestinwindspeedKmph', 'delay mean_by_airline'],\n",
       "      dtype='object')"
      ]
     },
     "execution_count": 23,
     "metadata": {},
     "output_type": "execute_result"
    }
   ],
   "source": [
    "df_combined.columns"
   ]
  },
  {
   "cell_type": "code",
   "execution_count": 24,
   "id": "7b804397",
   "metadata": {},
   "outputs": [],
   "source": [
    "df_combined_clean=df_combined.drop(delete,axis=1)"
   ]
  },
  {
   "cell_type": "code",
   "execution_count": 25,
   "id": "96a7d47c",
   "metadata": {
    "scrolled": true
   },
   "outputs": [
    {
     "name": "stdout",
     "output_type": "stream",
     "text": [
      "<class 'pandas.core.frame.DataFrame'>\n",
      "Int64Index: 715371 entries, 0 to 715370\n",
      "Data columns (total 50 columns):\n",
      " #   Column                 Non-Null Count   Dtype         \n",
      "---  ------                 --------------   -----         \n",
      " 0   fl_date                715371 non-null  datetime64[ns]\n",
      " 1   mkt_unique_carrier     715371 non-null  object        \n",
      " 2   branded_code_share     715371 non-null  object        \n",
      " 3   mkt_carrier            715371 non-null  object        \n",
      " 4   mkt_carrier_fl_num     715371 non-null  int64         \n",
      " 5   op_unique_carrier      715371 non-null  object        \n",
      " 6   tail_num               715371 non-null  object        \n",
      " 7   op_carrier_fl_num      715371 non-null  int64         \n",
      " 8   origin_airport_id      715371 non-null  int64         \n",
      " 9   origin                 715371 non-null  object        \n",
      " 10  origin_city_name       715371 non-null  object        \n",
      " 11  dest_airport_id        715371 non-null  int64         \n",
      " 12  dest                   715371 non-null  object        \n",
      " 13  dest_city_name         715371 non-null  object        \n",
      " 14  crs_dep_time           715371 non-null  int64         \n",
      " 15  crs_arr_time           715371 non-null  int64         \n",
      " 16  dup                    715371 non-null  object        \n",
      " 17  crs_elapsed_time       715371 non-null  float64       \n",
      " 18  flights                715371 non-null  float64       \n",
      " 19  distance               715371 non-null  float64       \n",
      " 20  arr_time_time          715371 non-null  int64         \n",
      " 21  OriginmaxtempC         715371 non-null  int64         \n",
      " 22  OriginmintempC         715371 non-null  int64         \n",
      " 23  Origintotalsnow_cm     715371 non-null  float64       \n",
      " 24  Originsunhour          715371 non-null  float64       \n",
      " 25  OriginfeelslikeC       715371 non-null  int64         \n",
      " 26  OriginheatindexC       715371 non-null  int64         \n",
      " 27  OriginwindchillC       715371 non-null  int64         \n",
      " 28  OriginwindgustKmph     715371 non-null  int64         \n",
      " 29  Origincloudcover       715371 non-null  int64         \n",
      " 30  Originhumidity         715371 non-null  int64         \n",
      " 31  OriginprecipMM         715371 non-null  float64       \n",
      " 32  OrigintempC            715371 non-null  int64         \n",
      " 33  Originvisibility       715371 non-null  int64         \n",
      " 34  OriginwindspeedKmph    715371 non-null  int64         \n",
      " 35  DestinmaxtempC         715371 non-null  int64         \n",
      " 36  DestinmintempC         715371 non-null  int64         \n",
      " 37  Destintotalsnow_cm     715371 non-null  float64       \n",
      " 38  Destinsunhour          715371 non-null  float64       \n",
      " 39  DestinfeelslikeC       715371 non-null  int64         \n",
      " 40  DestinheatindexC       715371 non-null  int64         \n",
      " 41  DestinwindchillC       715371 non-null  int64         \n",
      " 42  DestinwindgustKmph     715371 non-null  int64         \n",
      " 43  Destincloudcover       715371 non-null  int64         \n",
      " 44  Destinhumidity         715371 non-null  int64         \n",
      " 45  DestinprecipMM         715371 non-null  float64       \n",
      " 46  DestintempC            715371 non-null  int64         \n",
      " 47  Destinvisibility       715371 non-null  int64         \n",
      " 48  DestinwindspeedKmph    715371 non-null  int64         \n",
      " 49  delay mean_by_airline  715371 non-null  float64       \n",
      "dtypes: datetime64[ns](1), float64(10), int64(29), object(10)\n",
      "memory usage: 278.4+ MB\n"
     ]
    }
   ],
   "source": [
    "df_combined_clean.info()"
   ]
  },
  {
   "cell_type": "code",
   "execution_count": 26,
   "id": "261b2489",
   "metadata": {},
   "outputs": [
    {
     "data": {
      "text/plain": [
       "0        2018-01-01\n",
       "1        2018-01-13\n",
       "2        2018-01-14\n",
       "3        2018-01-15\n",
       "4        2018-01-16\n",
       "            ...    \n",
       "715366   2019-01-29\n",
       "715367   2019-01-29\n",
       "715368   2019-01-31\n",
       "715369   2019-01-26\n",
       "715370   2019-01-30\n",
       "Name: fl_date, Length: 715371, dtype: datetime64[ns]"
      ]
     },
     "execution_count": 26,
     "metadata": {},
     "output_type": "execute_result"
    }
   ],
   "source": [
    "df_combined_clean.fl_date"
   ]
  },
  {
   "cell_type": "code",
   "execution_count": 78,
   "id": "d524f77e",
   "metadata": {
    "scrolled": true
   },
   "outputs": [
    {
     "data": {
      "text/plain": [
       "fl_date                   object\n",
       "mkt_unique_carrier        object\n",
       "branded_code_share        object\n",
       "mkt_carrier               object\n",
       "mkt_carrier_fl_num         int64\n",
       "op_unique_carrier         object\n",
       "tail_num                  object\n",
       "op_carrier_fl_num          int64\n",
       "origin_airport_id          int64\n",
       "origin                    object\n",
       "origin_city_name          object\n",
       "dest_airport_id            int64\n",
       "dest                      object\n",
       "dest_city_name            object\n",
       "crs_dep_time               int64\n",
       "crs_arr_time               int64\n",
       "dup                       object\n",
       "crs_elapsed_time         float64\n",
       "flights                  float64\n",
       "distance                 float64\n",
       "OriginmaxtempC             int64\n",
       "OriginmintempC             int64\n",
       "Origintotalsnow_cm       float64\n",
       "Originsunhour            float64\n",
       "OriginfeelslikeC           int64\n",
       "OriginheatindexC           int64\n",
       "OriginwindchillC           int64\n",
       "OriginwindgustKmph         int64\n",
       "Origincloudcover           int64\n",
       "Originhumidity             int64\n",
       "OriginprecipMM           float64\n",
       "OrigintempC                int64\n",
       "Originvisibility           int64\n",
       "OriginwindspeedKmph        int64\n",
       "DestinmaxtempC             int64\n",
       "DestinmintempC             int64\n",
       "Destintotalsnow_cm       float64\n",
       "Destinsunhour            float64\n",
       "DestinfeelslikeC           int64\n",
       "DestinheatindexC           int64\n",
       "DestinwindchillC           int64\n",
       "DestinwindgustKmph         int64\n",
       "Destincloudcover           int64\n",
       "Destinhumidity             int64\n",
       "DestinprecipMM           float64\n",
       "DestintempC                int64\n",
       "Destinvisibility           int64\n",
       "DestinwindspeedKmph        int64\n",
       "delay mean_by_airline    float64\n",
       "dtype: object"
      ]
     },
     "execution_count": 78,
     "metadata": {},
     "output_type": "execute_result"
    }
   ],
   "source": [
    "df_combined_clean.dtypes"
   ]
  },
  {
   "cell_type": "markdown",
   "id": "a9f5321d",
   "metadata": {},
   "source": [
    "#### Datetime conversion"
   ]
  },
  {
   "cell_type": "code",
   "execution_count": 84,
   "id": "2c1305d4",
   "metadata": {},
   "outputs": [],
   "source": [
    "\n",
    "#Converting flight date to a Datetime object and then computing which weekday the flight was on\n",
    "df_combined_clean['fl_date']= pd.to_datetime(df_combined_clean['fl_date'])\n"
   ]
  },
  {
   "cell_type": "code",
   "execution_count": 92,
   "id": "c1d1bd6a",
   "metadata": {},
   "outputs": [],
   "source": [
    "df_combined_clean['year']=df_combined_clean.fl_date.dt.year"
   ]
  },
  {
   "cell_type": "code",
   "execution_count": 93,
   "id": "6aaa3828",
   "metadata": {},
   "outputs": [],
   "source": [
    "df_combined_clean['Month']=df_combined_clean.fl_date.dt.month"
   ]
  },
  {
   "cell_type": "code",
   "execution_count": 94,
   "id": "193ebb2f",
   "metadata": {},
   "outputs": [],
   "source": [
    "df_combined_clean['Day']=df_combined_clean.fl_date.dt.day"
   ]
  },
  {
   "cell_type": "code",
   "execution_count": 96,
   "id": "c96dc71e",
   "metadata": {},
   "outputs": [],
   "source": [
    "df_combined_clean.drop('fl_date',axis=1, inplace=True)"
   ]
  },
  {
   "cell_type": "code",
   "execution_count": 98,
   "id": "9c04f9ae",
   "metadata": {
    "scrolled": true
   },
   "outputs": [
    {
     "name": "stdout",
     "output_type": "stream",
     "text": [
      "<class 'pandas.core.frame.DataFrame'>\n",
      "Int64Index: 715371 entries, 0 to 715370\n",
      "Data columns (total 52 columns):\n",
      " #   Column                 Non-Null Count   Dtype  \n",
      "---  ------                 --------------   -----  \n",
      " 0   mkt_unique_carrier     715371 non-null  object \n",
      " 1   branded_code_share     715371 non-null  object \n",
      " 2   mkt_carrier            715371 non-null  object \n",
      " 3   mkt_carrier_fl_num     715371 non-null  int64  \n",
      " 4   op_unique_carrier      715371 non-null  object \n",
      " 5   tail_num               715371 non-null  object \n",
      " 6   op_carrier_fl_num      715371 non-null  int64  \n",
      " 7   origin_airport_id      715371 non-null  int64  \n",
      " 8   origin                 715371 non-null  object \n",
      " 9   origin_city_name       715371 non-null  object \n",
      " 10  dest_airport_id        715371 non-null  int64  \n",
      " 11  dest                   715371 non-null  object \n",
      " 12  dest_city_name         715371 non-null  object \n",
      " 13  crs_dep_time           715371 non-null  int64  \n",
      " 14  crs_arr_time           715371 non-null  int64  \n",
      " 15  dup                    715371 non-null  object \n",
      " 16  crs_elapsed_time       715371 non-null  float64\n",
      " 17  flights                715371 non-null  float64\n",
      " 18  distance               715371 non-null  float64\n",
      " 19  arr_time_time          715371 non-null  int64  \n",
      " 20  OriginmaxtempC         715371 non-null  int64  \n",
      " 21  OriginmintempC         715371 non-null  int64  \n",
      " 22  Origintotalsnow_cm     715371 non-null  float64\n",
      " 23  Originsunhour          715371 non-null  float64\n",
      " 24  OriginfeelslikeC       715371 non-null  int64  \n",
      " 25  OriginheatindexC       715371 non-null  int64  \n",
      " 26  OriginwindchillC       715371 non-null  int64  \n",
      " 27  OriginwindgustKmph     715371 non-null  int64  \n",
      " 28  Origincloudcover       715371 non-null  int64  \n",
      " 29  Originhumidity         715371 non-null  int64  \n",
      " 30  OriginprecipMM         715371 non-null  float64\n",
      " 31  OrigintempC            715371 non-null  int64  \n",
      " 32  Originvisibility       715371 non-null  int64  \n",
      " 33  OriginwindspeedKmph    715371 non-null  int64  \n",
      " 34  DestinmaxtempC         715371 non-null  int64  \n",
      " 35  DestinmintempC         715371 non-null  int64  \n",
      " 36  Destintotalsnow_cm     715371 non-null  float64\n",
      " 37  Destinsunhour          715371 non-null  float64\n",
      " 38  DestinfeelslikeC       715371 non-null  int64  \n",
      " 39  DestinheatindexC       715371 non-null  int64  \n",
      " 40  DestinwindchillC       715371 non-null  int64  \n",
      " 41  DestinwindgustKmph     715371 non-null  int64  \n",
      " 42  Destincloudcover       715371 non-null  int64  \n",
      " 43  Destinhumidity         715371 non-null  int64  \n",
      " 44  DestinprecipMM         715371 non-null  float64\n",
      " 45  DestintempC            715371 non-null  int64  \n",
      " 46  Destinvisibility       715371 non-null  int64  \n",
      " 47  DestinwindspeedKmph    715371 non-null  int64  \n",
      " 48  delay mean_by_airline  715371 non-null  float64\n",
      " 49  year                   715371 non-null  int64  \n",
      " 50  Month                  715371 non-null  int64  \n",
      " 51  Day                    715371 non-null  int64  \n",
      "dtypes: float64(10), int64(32), object(10)\n",
      "memory usage: 289.3+ MB\n"
     ]
    }
   ],
   "source": [
    "df_combined_clean.info()"
   ]
  },
  {
   "cell_type": "code",
   "execution_count": null,
   "id": "064fa673",
   "metadata": {},
   "outputs": [],
   "source": []
  },
  {
   "cell_type": "code",
   "execution_count": 85,
   "id": "12d2c248",
   "metadata": {},
   "outputs": [],
   "source": [
    "# Function that convert the 'HHMM' string to datetime.time\n",
    "def format_heure(column):\n",
    "    if pd.isnull(column):\n",
    "        return np.nan\n",
    "    else:\n",
    "        if column == 2400: column = 0\n",
    "        column = \"{0:04d}\".format(int(column))\n",
    "        heure = datetime.time(int(column[0:2]), int(column[2:4]))\n",
    "        return heure"
   ]
  },
  {
   "cell_type": "markdown",
   "id": "bd48d496",
   "metadata": {},
   "source": [
    "#### Dealing with categorical data"
   ]
  },
  {
   "cell_type": "code",
   "execution_count": 99,
   "id": "be8e80f0",
   "metadata": {},
   "outputs": [],
   "source": [
    "numerical = list(df_combined_clean.dtypes[df_combined_clean.dtypes != 'object'].index)\n",
    "\n",
    "categorical = list(df_combined_clean.dtypes[df_combined_clean.dtypes == 'object'].index)"
   ]
  },
  {
   "cell_type": "code",
   "execution_count": 100,
   "id": "ad72d434",
   "metadata": {},
   "outputs": [
    {
     "data": {
      "text/plain": [
       "['mkt_unique_carrier',\n",
       " 'branded_code_share',\n",
       " 'mkt_carrier',\n",
       " 'op_unique_carrier',\n",
       " 'tail_num',\n",
       " 'origin',\n",
       " 'origin_city_name',\n",
       " 'dest',\n",
       " 'dest_city_name',\n",
       " 'dup']"
      ]
     },
     "execution_count": 100,
     "metadata": {},
     "output_type": "execute_result"
    }
   ],
   "source": [
    "categorical"
   ]
  },
  {
   "cell_type": "code",
   "execution_count": 91,
   "id": "32f7b0ca",
   "metadata": {},
   "outputs": [
    {
     "data": {
      "text/plain": [
       "28"
      ]
     },
     "execution_count": 91,
     "metadata": {},
     "output_type": "execute_result"
    }
   ],
   "source": [
    "df_combined_clean['op_unique_carrier'].nunique()"
   ]
  },
  {
   "cell_type": "code",
   "execution_count": 82,
   "id": "2e82a60f",
   "metadata": {},
   "outputs": [],
   "source": [
    "from sklearn import preprocessing"
   ]
  },
  {
   "cell_type": "code",
   "execution_count": 84,
   "id": "dcacf65d",
   "metadata": {},
   "outputs": [],
   "source": [
    "le = preprocessing.LabelEncoder()\n",
    "new=le.fit_transform(df_combined['op_unique_carrier'])"
   ]
  },
  {
   "cell_type": "code",
   "execution_count": 88,
   "id": "3e1113bc",
   "metadata": {},
   "outputs": [],
   "source": [
    "df_label=df_combined_clean.copy()"
   ]
  },
  {
   "cell_type": "code",
   "execution_count": 89,
   "id": "2bd92f42",
   "metadata": {},
   "outputs": [],
   "source": [
    "df_label['op_unique_carrier']=new"
   ]
  },
  {
   "cell_type": "code",
   "execution_count": null,
   "id": "879d4ca2",
   "metadata": {},
   "outputs": [],
   "source": []
  },
  {
   "cell_type": "code",
   "execution_count": null,
   "id": "1ebe127e",
   "metadata": {},
   "outputs": [],
   "source": [
    "# for col in categorical_columns:\n",
    "#     df_combined_clean_encode = pd.get_dummies(df_combined_clean[col],prefix_sep = '_')\n",
    "#     df_2020 = df_2020.drop([col],axis=1)\n",
    "\n",
    "# df_2020 = pd.concat([df_2020, X_encoded], axis=1)"
   ]
  },
  {
   "cell_type": "code",
   "execution_count": null,
   "id": "6cac575e",
   "metadata": {},
   "outputs": [],
   "source": []
  },
  {
   "cell_type": "code",
   "execution_count": null,
   "id": "ef77d39d",
   "metadata": {},
   "outputs": [],
   "source": []
  },
  {
   "cell_type": "code",
   "execution_count": 103,
   "id": "11a006fc",
   "metadata": {
    "scrolled": true
   },
   "outputs": [],
   "source": [
    "df_combined_clean.drop('arr_time_time',axis=1,inplace=True)"
   ]
  },
  {
   "cell_type": "code",
   "execution_count": 104,
   "id": "9afa73fd",
   "metadata": {},
   "outputs": [
    {
     "data": {
      "text/plain": [
       "Index(['mkt_unique_carrier', 'branded_code_share', 'mkt_carrier',\n",
       "       'mkt_carrier_fl_num', 'op_unique_carrier', 'tail_num',\n",
       "       'op_carrier_fl_num', 'origin_airport_id', 'origin', 'origin_city_name',\n",
       "       'dest_airport_id', 'dest', 'dest_city_name', 'crs_dep_time',\n",
       "       'crs_arr_time', 'dup', 'crs_elapsed_time', 'flights', 'distance',\n",
       "       'OriginmaxtempC', 'OriginmintempC', 'Origintotalsnow_cm',\n",
       "       'Originsunhour', 'OriginfeelslikeC', 'OriginheatindexC',\n",
       "       'OriginwindchillC', 'OriginwindgustKmph', 'Origincloudcover',\n",
       "       'Originhumidity', 'OriginprecipMM', 'OrigintempC', 'Originvisibility',\n",
       "       'OriginwindspeedKmph', 'DestinmaxtempC', 'DestinmintempC',\n",
       "       'Destintotalsnow_cm', 'Destinsunhour', 'DestinfeelslikeC',\n",
       "       'DestinheatindexC', 'DestinwindchillC', 'DestinwindgustKmph',\n",
       "       'Destincloudcover', 'Destinhumidity', 'DestinprecipMM', 'DestintempC',\n",
       "       'Destinvisibility', 'DestinwindspeedKmph', 'delay mean_by_airline',\n",
       "       'year', 'Month', 'Day'],\n",
       "      dtype='object')"
      ]
     },
     "execution_count": 104,
     "metadata": {},
     "output_type": "execute_result"
    }
   ],
   "source": [
    "df_combined_clean.columns"
   ]
  },
  {
   "cell_type": "code",
   "execution_count": 106,
   "id": "042f3870",
   "metadata": {},
   "outputs": [],
   "source": [
    "weather_cols=['OriginmaxtempC', 'OriginmintempC', 'Origintotalsnow_cm',\n",
    "       'Originsunhour', 'OriginfeelslikeC', 'OriginheatindexC',\n",
    "       'OriginwindchillC', 'OriginwindgustKmph', 'Origincloudcover',\n",
    "       'Originhumidity', 'OriginprecipMM', 'OrigintempC', 'Originvisibility',\n",
    "       'OriginwindspeedKmph', 'DestinmaxtempC', 'DestinmintempC',\n",
    "       'Destintotalsnow_cm', 'Destinsunhour', 'DestinfeelslikeC',\n",
    "       'DestinheatindexC', 'DestinwindchillC', 'DestinwindgustKmph',\n",
    "       'Destincloudcover', 'Destinhumidity', 'DestinprecipMM', 'DestintempC',\n",
    "       'Destinvisibility', 'DestinwindspeedKmph']"
   ]
  },
  {
   "cell_type": "code",
   "execution_count": 105,
   "id": "2d6915ea",
   "metadata": {},
   "outputs": [],
   "source": [
    "df_weather=df_combined_clean[['mkt_unique_carrier','OriginmaxtempC', 'OriginmintempC', 'Origintotalsnow_cm',\n",
    "       'Originsunhour', 'OriginfeelslikeC', 'OriginheatindexC',\n",
    "       'OriginwindchillC', 'OriginwindgustKmph', 'Origincloudcover',\n",
    "       'Originhumidity', 'OriginprecipMM', 'OrigintempC', 'Originvisibility',\n",
    "       'OriginwindspeedKmph', 'DestinmaxtempC', 'DestinmintempC',\n",
    "       'Destintotalsnow_cm', 'Destinsunhour', 'DestinfeelslikeC',\n",
    "       'DestinheatindexC', 'DestinwindchillC', 'DestinwindgustKmph',\n",
    "       'Destincloudcover', 'Destinhumidity', 'DestinprecipMM', 'DestintempC',\n",
    "       'Destinvisibility', 'DestinwindspeedKmph']]"
   ]
  },
  {
   "cell_type": "code",
   "execution_count": 109,
   "id": "d4ad3957",
   "metadata": {},
   "outputs": [],
   "source": [
    "df_combined_clean_noweather=df_combined_clean.drop(weather_cols,axis=1)"
   ]
  },
  {
   "cell_type": "code",
   "execution_count": 110,
   "id": "4faab3c9",
   "metadata": {},
   "outputs": [
    {
     "data": {
      "text/plain": [
       "Index(['mkt_unique_carrier', 'branded_code_share', 'mkt_carrier',\n",
       "       'mkt_carrier_fl_num', 'op_unique_carrier', 'tail_num',\n",
       "       'op_carrier_fl_num', 'origin_airport_id', 'origin', 'origin_city_name',\n",
       "       'dest_airport_id', 'dest', 'dest_city_name', 'crs_dep_time',\n",
       "       'crs_arr_time', 'dup', 'crs_elapsed_time', 'flights', 'distance',\n",
       "       'delay mean_by_airline', 'year', 'Month', 'Day'],\n",
       "      dtype='object')"
      ]
     },
     "execution_count": 110,
     "metadata": {},
     "output_type": "execute_result"
    }
   ],
   "source": [
    "df_combined_clean_noweather.columns"
   ]
  },
  {
   "cell_type": "code",
   "execution_count": 119,
   "id": "6a448f61",
   "metadata": {},
   "outputs": [],
   "source": [
    "#drop city name \n",
    "city_drop=['origin','origin_city_name','dest', 'dest_city_name',\n",
    "           'branded_code_share', 'mkt_carrier','mkt_carrier_fl_num','mkt_unique_carrier']\n",
    "drop_cont=['tail_num','op_carrier_fl_num','dup']\n"
   ]
  },
  {
   "cell_type": "code",
   "execution_count": 122,
   "id": "0691a7f9",
   "metadata": {
    "scrolled": true
   },
   "outputs": [],
   "source": [
    "# df_combined_clean_noweather.drop(city_drop,axis=1,inplace=True)\n",
    "# df_combined_clean_noweather.drop(drop_cont,axis=1,inplace=True)\n",
    "df_combined_clean_noweather.drop('flights',axis=1,inplace=True)"
   ]
  },
  {
   "cell_type": "code",
   "execution_count": 123,
   "id": "d752a10d",
   "metadata": {},
   "outputs": [
    {
     "data": {
      "text/plain": [
       "Index(['op_unique_carrier', 'origin_airport_id', 'dest_airport_id',\n",
       "       'crs_dep_time', 'crs_arr_time', 'crs_elapsed_time', 'distance',\n",
       "       'delay mean_by_airline', 'year', 'Month', 'Day'],\n",
       "      dtype='object')"
      ]
     },
     "execution_count": 123,
     "metadata": {},
     "output_type": "execute_result"
    }
   ],
   "source": [
    "df_combined_clean_noweather.columns"
   ]
  },
  {
   "cell_type": "code",
   "execution_count": 124,
   "id": "ed92ed93",
   "metadata": {},
   "outputs": [
    {
     "data": {
      "text/html": [
       "<div>\n",
       "<style scoped>\n",
       "    .dataframe tbody tr th:only-of-type {\n",
       "        vertical-align: middle;\n",
       "    }\n",
       "\n",
       "    .dataframe tbody tr th {\n",
       "        vertical-align: top;\n",
       "    }\n",
       "\n",
       "    .dataframe thead th {\n",
       "        text-align: right;\n",
       "    }\n",
       "</style>\n",
       "<table border=\"1\" class=\"dataframe\">\n",
       "  <thead>\n",
       "    <tr style=\"text-align: right;\">\n",
       "      <th></th>\n",
       "      <th>op_unique_carrier</th>\n",
       "      <th>origin_airport_id</th>\n",
       "      <th>dest_airport_id</th>\n",
       "      <th>crs_dep_time</th>\n",
       "      <th>crs_arr_time</th>\n",
       "      <th>crs_elapsed_time</th>\n",
       "      <th>distance</th>\n",
       "      <th>delay mean_by_airline</th>\n",
       "      <th>year</th>\n",
       "      <th>Month</th>\n",
       "      <th>Day</th>\n",
       "    </tr>\n",
       "  </thead>\n",
       "  <tbody>\n",
       "    <tr>\n",
       "      <th>0</th>\n",
       "      <td>9E</td>\n",
       "      <td>15380</td>\n",
       "      <td>11433</td>\n",
       "      <td>615</td>\n",
       "      <td>738</td>\n",
       "      <td>83.0</td>\n",
       "      <td>207.0</td>\n",
       "      <td>1.090909</td>\n",
       "      <td>2018</td>\n",
       "      <td>1</td>\n",
       "      <td>1</td>\n",
       "    </tr>\n",
       "    <tr>\n",
       "      <th>1</th>\n",
       "      <td>9E</td>\n",
       "      <td>15380</td>\n",
       "      <td>11433</td>\n",
       "      <td>1746</td>\n",
       "      <td>1906</td>\n",
       "      <td>80.0</td>\n",
       "      <td>207.0</td>\n",
       "      <td>1.090909</td>\n",
       "      <td>2018</td>\n",
       "      <td>1</td>\n",
       "      <td>13</td>\n",
       "    </tr>\n",
       "    <tr>\n",
       "      <th>2</th>\n",
       "      <td>9E</td>\n",
       "      <td>15380</td>\n",
       "      <td>11433</td>\n",
       "      <td>1746</td>\n",
       "      <td>1909</td>\n",
       "      <td>83.0</td>\n",
       "      <td>207.0</td>\n",
       "      <td>1.090909</td>\n",
       "      <td>2018</td>\n",
       "      <td>1</td>\n",
       "      <td>14</td>\n",
       "    </tr>\n",
       "    <tr>\n",
       "      <th>3</th>\n",
       "      <td>9E</td>\n",
       "      <td>15380</td>\n",
       "      <td>11433</td>\n",
       "      <td>1746</td>\n",
       "      <td>1909</td>\n",
       "      <td>83.0</td>\n",
       "      <td>207.0</td>\n",
       "      <td>1.090909</td>\n",
       "      <td>2018</td>\n",
       "      <td>1</td>\n",
       "      <td>15</td>\n",
       "    </tr>\n",
       "    <tr>\n",
       "      <th>4</th>\n",
       "      <td>9E</td>\n",
       "      <td>15380</td>\n",
       "      <td>11433</td>\n",
       "      <td>1746</td>\n",
       "      <td>1909</td>\n",
       "      <td>83.0</td>\n",
       "      <td>207.0</td>\n",
       "      <td>1.090909</td>\n",
       "      <td>2018</td>\n",
       "      <td>1</td>\n",
       "      <td>16</td>\n",
       "    </tr>\n",
       "  </tbody>\n",
       "</table>\n",
       "</div>"
      ],
      "text/plain": [
       "  op_unique_carrier  origin_airport_id  dest_airport_id  crs_dep_time  \\\n",
       "0                9E              15380            11433           615   \n",
       "1                9E              15380            11433          1746   \n",
       "2                9E              15380            11433          1746   \n",
       "3                9E              15380            11433          1746   \n",
       "4                9E              15380            11433          1746   \n",
       "\n",
       "   crs_arr_time  crs_elapsed_time  distance  delay mean_by_airline  year  \\\n",
       "0           738              83.0     207.0               1.090909  2018   \n",
       "1          1906              80.0     207.0               1.090909  2018   \n",
       "2          1909              83.0     207.0               1.090909  2018   \n",
       "3          1909              83.0     207.0               1.090909  2018   \n",
       "4          1909              83.0     207.0               1.090909  2018   \n",
       "\n",
       "   Month  Day  \n",
       "0      1    1  \n",
       "1      1   13  \n",
       "2      1   14  \n",
       "3      1   15  \n",
       "4      1   16  "
      ]
     },
     "execution_count": 124,
     "metadata": {},
     "output_type": "execute_result"
    }
   ],
   "source": [
    "df_combined_clean_noweather.head()"
   ]
  },
  {
   "cell_type": "code",
   "execution_count": 125,
   "id": "343e70d6",
   "metadata": {},
   "outputs": [],
   "source": [
    "df_withdummies=pd.get_dummies(df_combined_clean_noweather)"
   ]
  },
  {
   "cell_type": "code",
   "execution_count": 126,
   "id": "abd452e1",
   "metadata": {},
   "outputs": [
    {
     "data": {
      "text/html": [
       "<div>\n",
       "<style scoped>\n",
       "    .dataframe tbody tr th:only-of-type {\n",
       "        vertical-align: middle;\n",
       "    }\n",
       "\n",
       "    .dataframe tbody tr th {\n",
       "        vertical-align: top;\n",
       "    }\n",
       "\n",
       "    .dataframe thead th {\n",
       "        text-align: right;\n",
       "    }\n",
       "</style>\n",
       "<table border=\"1\" class=\"dataframe\">\n",
       "  <thead>\n",
       "    <tr style=\"text-align: right;\">\n",
       "      <th></th>\n",
       "      <th>origin_airport_id</th>\n",
       "      <th>dest_airport_id</th>\n",
       "      <th>crs_dep_time</th>\n",
       "      <th>crs_arr_time</th>\n",
       "      <th>crs_elapsed_time</th>\n",
       "      <th>distance</th>\n",
       "      <th>delay mean_by_airline</th>\n",
       "      <th>year</th>\n",
       "      <th>Month</th>\n",
       "      <th>Day</th>\n",
       "      <th>...</th>\n",
       "      <th>op_unique_carrier_OH</th>\n",
       "      <th>op_unique_carrier_OO</th>\n",
       "      <th>op_unique_carrier_PT</th>\n",
       "      <th>op_unique_carrier_QX</th>\n",
       "      <th>op_unique_carrier_UA</th>\n",
       "      <th>op_unique_carrier_VX</th>\n",
       "      <th>op_unique_carrier_WN</th>\n",
       "      <th>op_unique_carrier_YV</th>\n",
       "      <th>op_unique_carrier_YX</th>\n",
       "      <th>op_unique_carrier_ZW</th>\n",
       "    </tr>\n",
       "  </thead>\n",
       "  <tbody>\n",
       "    <tr>\n",
       "      <th>0</th>\n",
       "      <td>15380</td>\n",
       "      <td>11433</td>\n",
       "      <td>615</td>\n",
       "      <td>738</td>\n",
       "      <td>83.0</td>\n",
       "      <td>207.0</td>\n",
       "      <td>1.090909</td>\n",
       "      <td>2018</td>\n",
       "      <td>1</td>\n",
       "      <td>1</td>\n",
       "      <td>...</td>\n",
       "      <td>0</td>\n",
       "      <td>0</td>\n",
       "      <td>0</td>\n",
       "      <td>0</td>\n",
       "      <td>0</td>\n",
       "      <td>0</td>\n",
       "      <td>0</td>\n",
       "      <td>0</td>\n",
       "      <td>0</td>\n",
       "      <td>0</td>\n",
       "    </tr>\n",
       "    <tr>\n",
       "      <th>1</th>\n",
       "      <td>15380</td>\n",
       "      <td>11433</td>\n",
       "      <td>1746</td>\n",
       "      <td>1906</td>\n",
       "      <td>80.0</td>\n",
       "      <td>207.0</td>\n",
       "      <td>1.090909</td>\n",
       "      <td>2018</td>\n",
       "      <td>1</td>\n",
       "      <td>13</td>\n",
       "      <td>...</td>\n",
       "      <td>0</td>\n",
       "      <td>0</td>\n",
       "      <td>0</td>\n",
       "      <td>0</td>\n",
       "      <td>0</td>\n",
       "      <td>0</td>\n",
       "      <td>0</td>\n",
       "      <td>0</td>\n",
       "      <td>0</td>\n",
       "      <td>0</td>\n",
       "    </tr>\n",
       "    <tr>\n",
       "      <th>2</th>\n",
       "      <td>15380</td>\n",
       "      <td>11433</td>\n",
       "      <td>1746</td>\n",
       "      <td>1909</td>\n",
       "      <td>83.0</td>\n",
       "      <td>207.0</td>\n",
       "      <td>1.090909</td>\n",
       "      <td>2018</td>\n",
       "      <td>1</td>\n",
       "      <td>14</td>\n",
       "      <td>...</td>\n",
       "      <td>0</td>\n",
       "      <td>0</td>\n",
       "      <td>0</td>\n",
       "      <td>0</td>\n",
       "      <td>0</td>\n",
       "      <td>0</td>\n",
       "      <td>0</td>\n",
       "      <td>0</td>\n",
       "      <td>0</td>\n",
       "      <td>0</td>\n",
       "    </tr>\n",
       "    <tr>\n",
       "      <th>3</th>\n",
       "      <td>15380</td>\n",
       "      <td>11433</td>\n",
       "      <td>1746</td>\n",
       "      <td>1909</td>\n",
       "      <td>83.0</td>\n",
       "      <td>207.0</td>\n",
       "      <td>1.090909</td>\n",
       "      <td>2018</td>\n",
       "      <td>1</td>\n",
       "      <td>15</td>\n",
       "      <td>...</td>\n",
       "      <td>0</td>\n",
       "      <td>0</td>\n",
       "      <td>0</td>\n",
       "      <td>0</td>\n",
       "      <td>0</td>\n",
       "      <td>0</td>\n",
       "      <td>0</td>\n",
       "      <td>0</td>\n",
       "      <td>0</td>\n",
       "      <td>0</td>\n",
       "    </tr>\n",
       "    <tr>\n",
       "      <th>4</th>\n",
       "      <td>15380</td>\n",
       "      <td>11433</td>\n",
       "      <td>1746</td>\n",
       "      <td>1909</td>\n",
       "      <td>83.0</td>\n",
       "      <td>207.0</td>\n",
       "      <td>1.090909</td>\n",
       "      <td>2018</td>\n",
       "      <td>1</td>\n",
       "      <td>16</td>\n",
       "      <td>...</td>\n",
       "      <td>0</td>\n",
       "      <td>0</td>\n",
       "      <td>0</td>\n",
       "      <td>0</td>\n",
       "      <td>0</td>\n",
       "      <td>0</td>\n",
       "      <td>0</td>\n",
       "      <td>0</td>\n",
       "      <td>0</td>\n",
       "      <td>0</td>\n",
       "    </tr>\n",
       "  </tbody>\n",
       "</table>\n",
       "<p>5 rows × 38 columns</p>\n",
       "</div>"
      ],
      "text/plain": [
       "   origin_airport_id  dest_airport_id  crs_dep_time  crs_arr_time  \\\n",
       "0              15380            11433           615           738   \n",
       "1              15380            11433          1746          1906   \n",
       "2              15380            11433          1746          1909   \n",
       "3              15380            11433          1746          1909   \n",
       "4              15380            11433          1746          1909   \n",
       "\n",
       "   crs_elapsed_time  distance  delay mean_by_airline  year  Month  Day  ...  \\\n",
       "0              83.0     207.0               1.090909  2018      1    1  ...   \n",
       "1              80.0     207.0               1.090909  2018      1   13  ...   \n",
       "2              83.0     207.0               1.090909  2018      1   14  ...   \n",
       "3              83.0     207.0               1.090909  2018      1   15  ...   \n",
       "4              83.0     207.0               1.090909  2018      1   16  ...   \n",
       "\n",
       "   op_unique_carrier_OH  op_unique_carrier_OO  op_unique_carrier_PT  \\\n",
       "0                     0                     0                     0   \n",
       "1                     0                     0                     0   \n",
       "2                     0                     0                     0   \n",
       "3                     0                     0                     0   \n",
       "4                     0                     0                     0   \n",
       "\n",
       "   op_unique_carrier_QX  op_unique_carrier_UA  op_unique_carrier_VX  \\\n",
       "0                     0                     0                     0   \n",
       "1                     0                     0                     0   \n",
       "2                     0                     0                     0   \n",
       "3                     0                     0                     0   \n",
       "4                     0                     0                     0   \n",
       "\n",
       "   op_unique_carrier_WN  op_unique_carrier_YV  op_unique_carrier_YX  \\\n",
       "0                     0                     0                     0   \n",
       "1                     0                     0                     0   \n",
       "2                     0                     0                     0   \n",
       "3                     0                     0                     0   \n",
       "4                     0                     0                     0   \n",
       "\n",
       "   op_unique_carrier_ZW  \n",
       "0                     0  \n",
       "1                     0  \n",
       "2                     0  \n",
       "3                     0  \n",
       "4                     0  \n",
       "\n",
       "[5 rows x 38 columns]"
      ]
     },
     "execution_count": 126,
     "metadata": {},
     "output_type": "execute_result"
    }
   ],
   "source": [
    "df_withdummies.head()"
   ]
  },
  {
   "cell_type": "code",
   "execution_count": 127,
   "id": "a0d7a2b2",
   "metadata": {},
   "outputs": [],
   "source": [
    "df_withdummies.to_csv('df_withdummies.csv')"
   ]
  },
  {
   "cell_type": "code",
   "execution_count": 128,
   "id": "2501f084",
   "metadata": {},
   "outputs": [],
   "source": [
    "#using pickle\n",
    "pickle_in=open(\"df_withdummies.pickle\",\"wb\")\n",
    "pickle.dump(df_withdummies,pickle_in)\n",
    "pickle_in.close()\n",
    "\n",
    "pickle_out=open('df_withdummies.pickle',\"rb\")\n",
    "df_withdummies=pickle.load(pickle_out)"
   ]
  },
  {
   "cell_type": "code",
   "execution_count": null,
   "id": "0a504884",
   "metadata": {},
   "outputs": [],
   "source": []
  }
 ],
 "metadata": {
  "kernelspec": {
   "display_name": "ml_env",
   "language": "python",
   "name": "ml_env"
  },
  "language_info": {
   "codemirror_mode": {
    "name": "ipython",
    "version": 3
   },
   "file_extension": ".py",
   "mimetype": "text/x-python",
   "name": "python",
   "nbconvert_exporter": "python",
   "pygments_lexer": "ipython3",
   "version": "3.9.12"
  },
  "toc": {
   "base_numbering": 1,
   "nav_menu": {},
   "number_sections": true,
   "sideBar": true,
   "skip_h1_title": false,
   "title_cell": "Table of Contents",
   "title_sidebar": "Contents",
   "toc_cell": false,
   "toc_position": {},
   "toc_section_display": true,
   "toc_window_display": false
  }
 },
 "nbformat": 4,
 "nbformat_minor": 5
}
