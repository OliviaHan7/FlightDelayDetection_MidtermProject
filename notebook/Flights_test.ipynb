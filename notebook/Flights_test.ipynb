{
 "cells": [
  {
   "cell_type": "markdown",
   "id": "9e93e3d4-1db8-45ef-865f-8813d01e4b17",
   "metadata": {
    "id": "9e93e3d4-1db8-45ef-865f-8813d01e4b17"
   },
   "source": [
    "# Loading Libraries"
   ]
  },
  {
   "cell_type": "code",
   "execution_count": 507,
   "id": "e5943c8a-b7d3-4617-8c0d-c2850a8d428e",
   "metadata": {
    "executionInfo": {
     "elapsed": 1779,
     "status": "ok",
     "timestamp": 1657260200332,
     "user": {
      "displayName": "olivia han",
      "userId": "16453021985307431611"
     },
     "user_tz": 420
    },
    "id": "e5943c8a-b7d3-4617-8c0d-c2850a8d428e"
   },
   "outputs": [],
   "source": [
    "# Importing Libs\n",
    "import os\n",
    "import numpy as np # Linear Algebra\n",
    "import pandas as pd # Data Manipulation\n",
    "import seaborn as sns # Data Viz\n",
    "import matplotlib.pyplot as plt # Data Viz\n",
    "from sklearn.preprocessing import OneHotEncoder,LabelEncoder # Perform OneHotEnconding\n",
    "from sklearn.ensemble import RandomForestRegressor\n",
    "from sklearn.model_selection import train_test_split\n",
    "#warnings\n",
    "import warnings\n",
    "warnings.filterwarnings(\"ignore\")\n",
    "# os.chdir(\"/content/drive/MyDrive/Midterm-project_I\")"
   ]
  },
  {
   "cell_type": "code",
   "execution_count": 258,
   "id": "h4_-T899oont",
   "metadata": {
    "id": "h4_-T899oont"
   },
   "outputs": [],
   "source": [
    "%%capture\n",
    "!pip install xgboost==1.6.1"
   ]
  },
  {
   "cell_type": "markdown",
   "id": "56a60b67-18f7-4c3e-821d-cff22c0d5fed",
   "metadata": {
    "id": "56a60b67-18f7-4c3e-821d-cff22c0d5fed",
    "jp-MarkdownHeadingCollapsed": true,
    "tags": []
   },
   "source": [
    "## 1. Load Weather Data"
   ]
  },
  {
   "cell_type": "code",
   "execution_count": null,
   "id": "e66242fe",
   "metadata": {},
   "outputs": [],
   "source": [
    "dff=pd.read_csv('df_merged_final.csv',index_col=[0])\n"
   ]
  },
  {
   "cell_type": "code",
   "execution_count": null,
   "id": "c5f051cb-da1f-455c-87db-ef485797360e",
   "metadata": {
    "id": "c5f051cb-da1f-455c-87db-ef485797360e"
   },
   "outputs": [],
   "source": [
    "dff.describe()"
   ]
  },
  {
   "cell_type": "code",
   "execution_count": null,
   "id": "7168ff47-9e8a-4c73-852a-5ad93b0f77a5",
   "metadata": {
    "id": "7168ff47-9e8a-4c73-852a-5ad93b0f77a5"
   },
   "outputs": [],
   "source": [
    "#plot distributions\n",
    "axes = dff.iloc[:,35:49].hist(layout=(5,6), alpha=0.5, label='x',figsize=(25, 15))\n",
    "plt.tight_layout()\n",
    "plt.show()"
   ]
  },
  {
   "cell_type": "code",
   "execution_count": null,
   "id": "ee359262-0369-458c-b9bc-7b845c5a52bd",
   "metadata": {
    "id": "ee359262-0369-458c-b9bc-7b845c5a52bd"
   },
   "outputs": [],
   "source": [
    "# plot precipitation distribution\n",
    "axes = dff.iloc[:,42:43].hist(layout=(1,1), alpha=0.5, label='x',figsize=(25, 15), bins=30)\n",
    "plt.tight_layout()\n",
    "plt.show()"
   ]
  },
  {
   "cell_type": "markdown",
   "id": "b9e77419-692c-44e9-b8b5-b6a7e53c8596",
   "metadata": {
    "id": "b9e77419-692c-44e9-b8b5-b6a7e53c8596"
   },
   "source": [
    "## 2.Weather Feature Engineering"
   ]
  },
  {
   "cell_type": "code",
   "execution_count": null,
   "id": "fabfb719",
   "metadata": {},
   "outputs": [],
   "source": [
    "# encode the weather data at origin\n",
    "def newlabel_origin(df):\n",
    "    \n",
    "    if df['Origincloudcover']<40 and df['OriginprecipMM'] == 0:\n",
    "        return \"clear\"\n",
    "    if df['Origincloudcover']>=40 and df['OriginprecipMM'] == 0:\n",
    "        return \"cloudy\"\n",
    "    if 0<df['OriginprecipMM']<=10:\n",
    "        return \"lightrain\"\n",
    "    if 10<df['OriginprecipMM']<=25:\n",
    "        return \"heavyrain\"\n",
    "    if df['OriginprecipMM']>25:\n",
    "        return \"storm\"\n",
    "\n",
    "df['Weather_origin']=df.apply(newlabel_origin, axis=1)\n",
    "\n",
    "# encode the weather data at destination\n",
    "def newlabel_destin(df):\n",
    "    \n",
    "    if df['Destincloudcover']<40 and df['DestinprecipMM'] == 0:\n",
    "        return \"clear\"\n",
    "    if df['Destincloudcover']>=40 and df['DestinprecipMM'] == 0:\n",
    "        return \"cloudy\"\n",
    "    if 0<df['DestinprecipMM']<=10:\n",
    "        return \"lightrain\"\n",
    "    if 10<df['DestinprecipMM']<=25:\n",
    "        return \"heavyrain\"\n",
    "    if df['DestinprecipMM']>25:\n",
    "        return \"storm\"\n",
    "\n",
    "df['Weather_destin']=df.apply(newlabel_destin, axis=1)"
   ]
  },
  {
   "cell_type": "code",
   "execution_count": null,
   "id": "bfb604dd-c559-44b7-89c4-47b6bc4227cc",
   "metadata": {
    "id": "bfb604dd-c559-44b7-89c4-47b6bc4227cc"
   },
   "outputs": [],
   "source": [
    "# encode the visibility \n",
    "def visibility_origin(df):\n",
    "    \n",
    "    if df['Originvisibility']<7:\n",
    "        return \"lowvisibility\"\n",
    "    if 7<=df['Originvisibility']<9:\n",
    "        return \"mediumvisbility\"\n",
    "    if df['Originvisibility']>=9:\n",
    "        return \"highvisibility\"\n",
    "    \n",
    "\n",
    "df['Visibility_origin']=df.apply(visibility_origin, axis=1)\n",
    "\n",
    "def visibility_destin(df):\n",
    "    if df['Destinvisibility']<7:\n",
    "        return \"lowvisibility\"\n",
    "    if 7<=df['Destinvisibility']<9:\n",
    "        return \"mediumvisbility\"\n",
    "    if df['Destinvisibility']>=9:\n",
    "        return \"highvisibility\"\n",
    "    \n",
    "df['Visibility_destin']=df.apply(visibility_destin, axis=1)"
   ]
  },
  {
   "cell_type": "code",
   "execution_count": null,
   "id": "173eaf18-47f3-42ee-bf7a-68eca3e8f147",
   "metadata": {
    "id": "173eaf18-47f3-42ee-bf7a-68eca3e8f147"
   },
   "outputs": [],
   "source": [
    "#encode the wind speed\n",
    "def windspeed_origin(df):\n",
    "    \n",
    "    if df['OriginwindgustKmph']<45:\n",
    "        return \"lowwindspeed\"\n",
    "    if df['OriginwindgustKmph']>=45:\n",
    "        return \"highwindspeed\"\n",
    "\n",
    "dff['windspeed_origin']=dff.apply(windspeed_origin, axis=1)\n",
    "\n",
    "\n",
    "def windspeed_destin(df):\n",
    "    \n",
    "    if df['DestinwindgustKmph']<45:\n",
    "        return \"lowwindspeed\"\n",
    "    if df['DestinwindgustKmph']>=45:\n",
    "        return \"highwindspeed\"\n",
    "    \n",
    "dff['windspeed_destin']=dff.apply(windspeed_destin, axis=1)"
   ]
  },
  {
   "cell_type": "code",
   "execution_count": null,
   "id": "15bc19bd-8de8-4376-9eac-7c2cffd0a306",
   "metadata": {
    "id": "15bc19bd-8de8-4376-9eac-7c2cffd0a306",
    "outputId": "80d9d8ac-beab-40bb-b4be-e3b343b1942b"
   },
   "outputs": [
    {
     "data": {
      "text/html": [
       "<div>\n",
       "<style scoped>\n",
       "    .dataframe tbody tr th:only-of-type {\n",
       "        vertical-align: middle;\n",
       "    }\n",
       "\n",
       "    .dataframe tbody tr th {\n",
       "        vertical-align: top;\n",
       "    }\n",
       "\n",
       "    .dataframe thead th {\n",
       "        text-align: right;\n",
       "    }\n",
       "</style>\n",
       "<table border=\"1\" class=\"dataframe\">\n",
       "  <thead>\n",
       "    <tr style=\"text-align: right;\">\n",
       "      <th></th>\n",
       "      <th>fl_date</th>\n",
       "      <th>mkt_unique_carrier</th>\n",
       "      <th>branded_code_share</th>\n",
       "      <th>mkt_carrier</th>\n",
       "      <th>mkt_carrier_fl_num</th>\n",
       "      <th>op_unique_carrier</th>\n",
       "      <th>tail_num</th>\n",
       "      <th>op_carrier_fl_num</th>\n",
       "      <th>origin_airport_id</th>\n",
       "      <th>origin</th>\n",
       "      <th>...</th>\n",
       "      <th>DestinwindchillC</th>\n",
       "      <th>DestinwindgustKmph</th>\n",
       "      <th>Destincloudcover</th>\n",
       "      <th>Destinhumidity</th>\n",
       "      <th>DestinprecipMM</th>\n",
       "      <th>DestintempC</th>\n",
       "      <th>Destinvisibility</th>\n",
       "      <th>DestinwindspeedKmph</th>\n",
       "      <th>windspeed_origin</th>\n",
       "      <th>windspeed_destin</th>\n",
       "    </tr>\n",
       "  </thead>\n",
       "  <tbody>\n",
       "  </tbody>\n",
       "</table>\n",
       "<p>0 rows × 62 columns</p>\n",
       "</div>"
      ],
      "text/plain": [
       "Empty DataFrame\n",
       "Columns: [fl_date, mkt_unique_carrier, branded_code_share, mkt_carrier, mkt_carrier_fl_num, op_unique_carrier, tail_num, op_carrier_fl_num, origin_airport_id, origin, origin_city_name, dest_airport_id, dest, dest_city_name, crs_dep_time, dep_time, dep_delay, taxi_out, wheels_off, wheels_on, taxi_in, crs_arr_time, arr_time, arr_delay, cancelled, diverted, dup, crs_elapsed_time, actual_elapsed_time, air_time, flights, distance, OriginmaxtempC, OriginmintempC, Origintotalsnow_cm, Originsunhour, OriginfeelslikeC, OriginheatindexC, OriginwindchillC, OriginwindgustKmph, Origincloudcover, Originhumidity, OriginprecipMM, OrigintempC, Originvisibility, OriginwindspeedKmph, DestinmaxtempC, DestinmintempC, Destintotalsnow_cm, Destinsunhour, DestinfeelslikeC, DestinheatindexC, DestinwindchillC, DestinwindgustKmph, Destincloudcover, Destinhumidity, DestinprecipMM, DestintempC, Destinvisibility, DestinwindspeedKmph, windspeed_origin, windspeed_destin]\n",
       "Index: []\n",
       "\n",
       "[0 rows x 62 columns]"
      ]
     },
     "execution_count": 486,
     "metadata": {},
     "output_type": "execute_result"
    }
   ],
   "source": [
    "dff[dff.isnull().any(axis=1)]"
   ]
  },
  {
   "cell_type": "code",
   "execution_count": null,
   "id": "9d31e850-a64a-40ff-b1d2-f6b9bccb2999",
   "metadata": {
    "id": "9d31e850-a64a-40ff-b1d2-f6b9bccb2999"
   },
   "outputs": [],
   "source": [
    "#remove redundant weather columns\n",
    "colstodrop = ['OriginmaxtempC', 'OriginmintempC',\n",
    "       'Origintotalsnow_cm', 'Originsunhour', 'OriginfeelslikeC',\n",
    "       'OriginheatindexC', 'OriginwindchillC', 'OriginwindgustKmph',\n",
    "       'Origincloudcover', 'Originhumidity', 'OriginprecipMM', 'OrigintempC',\n",
    "       'Originvisibility', 'OriginwindspeedKmph', 'DestinmaxtempC',\n",
    "       'DestinmintempC', 'Destintotalsnow_cm', 'Destinsunhour',\n",
    "       'DestinfeelslikeC', 'DestinheatindexC', 'DestinwindchillC',\n",
    "       'DestinwindgustKmph', 'Destincloudcover', 'Destinhumidity',\n",
    "       'DestinprecipMM', 'DestintempC', 'Destinvisibility',\n",
    "       'DestinwindspeedKmph']\n",
    "\n",
    "\n",
    "dff.drop(colstodrop,axis=1,inplace=True)"
   ]
  },
  {
   "cell_type": "code",
   "execution_count": null,
   "id": "eaf83289-8232-43ca-942a-4ab474510b0c",
   "metadata": {
    "id": "eaf83289-8232-43ca-942a-4ab474510b0c",
    "outputId": "f967a370-8b5d-4cc0-89da-16b6335aeee3"
   },
   "outputs": [
    {
     "ename": "AttributeError",
     "evalue": "'_iLocIndexer' object has no attribute 'to_csv'",
     "output_type": "error",
     "traceback": [
      "\u001b[0;31m---------------------------------------------------------------------------\u001b[0m",
      "\u001b[0;31mAttributeError\u001b[0m                            Traceback (most recent call last)",
      "Input \u001b[0;32mIn [488]\u001b[0m, in \u001b[0;36m<cell line: 2>\u001b[0;34m()\u001b[0m\n\u001b[1;32m      1\u001b[0m \u001b[38;5;66;03m#Exporting CSV file with weather features to add more features\u001b[39;00m\n\u001b[0;32m----> 2\u001b[0m \u001b[43mdff\u001b[49m\u001b[38;5;241;43m.\u001b[39;49m\u001b[43miloc\u001b[49m\u001b[38;5;241;43m.\u001b[39;49m\u001b[43mto_csv\u001b[49m(\u001b[38;5;124m'\u001b[39m\u001b[38;5;124mdf_merged_final_weathermodified.csv\u001b[39m\u001b[38;5;124m'\u001b[39m)\n",
      "\u001b[0;31mAttributeError\u001b[0m: '_iLocIndexer' object has no attribute 'to_csv'"
     ]
    }
   ],
   "source": [
    "#Exporting CSV file with weather features to add more features\n",
    "# dff.to_csv('df_merged_final_weathermodified.csv')"
   ]
  },
  {
   "cell_type": "code",
   "execution_count": null,
   "id": "b0bd9443-8ecb-4c52-9567-b61dc0351719",
   "metadata": {
    "id": "b0bd9443-8ecb-4c52-9567-b61dc0351719"
   },
   "outputs": [],
   "source": [
    "#correlation matrix\n",
    "dff.corr()"
   ]
  },
  {
   "cell_type": "code",
   "execution_count": null,
   "id": "7dec8051-cb9b-4d33-bf9a-d1ee9ecb7671",
   "metadata": {
    "id": "7dec8051-cb9b-4d33-bf9a-d1ee9ecb7671"
   },
   "outputs": [],
   "source": []
  },
  {
   "cell_type": "code",
   "execution_count": null,
   "id": "8afb8f26-cba1-420d-af12-88dae0615ac9",
   "metadata": {
    "id": "8afb8f26-cba1-420d-af12-88dae0615ac9"
   },
   "outputs": [],
   "source": []
  },
  {
   "cell_type": "code",
   "execution_count": null,
   "id": "4a56f9ff-b0f5-44c7-a21e-d9fa18fd9593",
   "metadata": {
    "id": "4a56f9ff-b0f5-44c7-a21e-d9fa18fd9593"
   },
   "outputs": [],
   "source": []
  },
  {
   "cell_type": "markdown",
   "id": "f9aeb64c-bc1f-4492-b5ca-3b6a4aa67790",
   "metadata": {
    "id": "f9aeb64c-bc1f-4492-b5ca-3b6a4aa67790"
   },
   "source": []
  },
  {
   "cell_type": "markdown",
   "id": "76ceeb52-1ca2-4f0b-9cd5-a24d8dddd4f9",
   "metadata": {
    "id": "76ceeb52-1ca2-4f0b-9cd5-a24d8dddd4f9"
   },
   "source": [
    "# Clean up the testingfile for final prediction"
   ]
  },
  {
   "cell_type": "code",
   "execution_count": 261,
   "id": "GnLpdsL_72wl",
   "metadata": {
    "colab": {
     "base_uri": "https://localhost:8080/"
    },
    "executionInfo": {
     "elapsed": 24023,
     "status": "ok",
     "timestamp": 1657260224349,
     "user": {
      "displayName": "olivia han",
      "userId": "16453021985307431611"
     },
     "user_tz": 420
    },
    "id": "GnLpdsL_72wl",
    "outputId": "33101da7-9f49-42b3-ca33-689cb1f2d9ea"
   },
   "outputs": [],
   "source": [
    "# import os\n",
    "# from google.colab import drive\n",
    "# drive.mount('/content/drive')\n",
    "# os.chdir(\"/content/drive/MyDrive/Midterm-project_I\")"
   ]
  },
  {
   "cell_type": "code",
   "execution_count": null,
   "id": "NwujR2go72sA",
   "metadata": {
    "id": "NwujR2go72sA"
   },
   "outputs": [],
   "source": [
    "\n"
   ]
  },
  {
   "cell_type": "markdown",
   "id": "19f75598-d0d3-488f-9136-400cded3bd81",
   "metadata": {
    "id": "19f75598-d0d3-488f-9136-400cded3bd81",
    "tags": []
   },
   "source": [
    "## 1.Load Data"
   ]
  },
  {
   "cell_type": "code",
   "execution_count": 262,
   "id": "8be646e5-7d1f-4c0b-a83b-7689f97c1f03",
   "metadata": {
    "executionInfo": {
     "elapsed": 7825,
     "status": "ok",
     "timestamp": 1657260232169,
     "user": {
      "displayName": "olivia han",
      "userId": "16453021985307431611"
     },
     "user_tz": 420
    },
    "id": "1b0822dc-6c02-43c5-b734-416f7211fa30"
   },
   "outputs": [],
   "source": [
    "df_original=pd.read_csv('df_merged_final_weathermodified.csv',index_col=[0] )"
   ]
  },
  {
   "cell_type": "code",
   "execution_count": 263,
   "id": "36eaaa58-21cc-4598-ab95-e15d1db62f31",
   "metadata": {
    "executionInfo": {
     "elapsed": 7825,
     "status": "ok",
     "timestamp": 1657260232169,
     "user": {
      "displayName": "olivia han",
      "userId": "16453021985307431611"
     },
     "user_tz": 420
    },
    "id": "1b0822dc-6c02-43c5-b734-416f7211fa30"
   },
   "outputs": [],
   "source": [
    "df_test=pd.read_csv('df_merged_final_weathermodified_test.csv',index_col=[0] ).drop('Unnamed: 0',axis=1)"
   ]
  },
  {
   "cell_type": "code",
   "execution_count": null,
   "id": "6166db0d-caa0-4ed8-b706-f37944f0d837",
   "metadata": {},
   "outputs": [],
   "source": []
  },
  {
   "cell_type": "code",
   "execution_count": 264,
   "id": "31cV6DwzaPrL",
   "metadata": {
    "id": "31cV6DwzaPrL"
   },
   "outputs": [],
   "source": [
    "df=df_original.copy()"
   ]
  },
  {
   "cell_type": "code",
   "execution_count": 265,
   "id": "egf1p3e9aSHd",
   "metadata": {
    "id": "egf1p3e9aSHd"
   },
   "outputs": [],
   "source": [
    "df_test['fl_date'] = pd.to_datetime(df_test['fl_date'])"
   ]
  },
  {
   "cell_type": "code",
   "execution_count": 266,
   "id": "AWl7gA8vaTd3",
   "metadata": {
    "id": "AWl7gA8vaTd3"
   },
   "outputs": [],
   "source": [
    "df_test['weekday']=df_test['fl_date'].dt.dayofweek"
   ]
  },
  {
   "cell_type": "code",
   "execution_count": 372,
   "id": "1238e299-d9a0-444d-b280-aa102190be79",
   "metadata": {},
   "outputs": [
    {
     "data": {
      "text/html": [
       "<div>\n",
       "<style scoped>\n",
       "    .dataframe tbody tr th:only-of-type {\n",
       "        vertical-align: middle;\n",
       "    }\n",
       "\n",
       "    .dataframe tbody tr th {\n",
       "        vertical-align: top;\n",
       "    }\n",
       "\n",
       "    .dataframe thead th {\n",
       "        text-align: right;\n",
       "    }\n",
       "</style>\n",
       "<table border=\"1\" class=\"dataframe\">\n",
       "  <thead>\n",
       "    <tr style=\"text-align: right;\">\n",
       "      <th></th>\n",
       "      <th>fl_date</th>\n",
       "      <th>mkt_unique_carrier</th>\n",
       "      <th>branded_code_share</th>\n",
       "      <th>mkt_carrier</th>\n",
       "      <th>mkt_carrier_fl_num</th>\n",
       "      <th>op_unique_carrier</th>\n",
       "      <th>tail_num</th>\n",
       "      <th>op_carrier_fl_num</th>\n",
       "      <th>origin_airport_id</th>\n",
       "      <th>origin</th>\n",
       "      <th>...</th>\n",
       "      <th>distance</th>\n",
       "      <th>Weather_origin</th>\n",
       "      <th>Weather_destin</th>\n",
       "      <th>Visibility_origin</th>\n",
       "      <th>Visibility_destin</th>\n",
       "      <th>windspeed_origin</th>\n",
       "      <th>windspeed_destin</th>\n",
       "      <th>weekday</th>\n",
       "      <th>crs_arr_timeblk</th>\n",
       "      <th>crs_dep_timeblk</th>\n",
       "    </tr>\n",
       "  </thead>\n",
       "  <tbody>\n",
       "    <tr>\n",
       "      <th>0</th>\n",
       "      <td>2020-01-01</td>\n",
       "      <td>WN</td>\n",
       "      <td>WN</td>\n",
       "      <td>WN</td>\n",
       "      <td>3719</td>\n",
       "      <td>WN</td>\n",
       "      <td>N941WN</td>\n",
       "      <td>3719</td>\n",
       "      <td>13931</td>\n",
       "      <td>ORF</td>\n",
       "      <td>...</td>\n",
       "      <td>159</td>\n",
       "      <td>clear</td>\n",
       "      <td>clear</td>\n",
       "      <td>highvisibility</td>\n",
       "      <td>highvisibility</td>\n",
       "      <td>lowwindspeed</td>\n",
       "      <td>lowwindspeed</td>\n",
       "      <td>2</td>\n",
       "      <td>Afternoon</td>\n",
       "      <td>Morning</td>\n",
       "    </tr>\n",
       "    <tr>\n",
       "      <th>1</th>\n",
       "      <td>2020-01-01</td>\n",
       "      <td>WN</td>\n",
       "      <td>WN</td>\n",
       "      <td>WN</td>\n",
       "      <td>4863</td>\n",
       "      <td>WN</td>\n",
       "      <td>N496WN</td>\n",
       "      <td>4863</td>\n",
       "      <td>13931</td>\n",
       "      <td>ORF</td>\n",
       "      <td>...</td>\n",
       "      <td>159</td>\n",
       "      <td>clear</td>\n",
       "      <td>clear</td>\n",
       "      <td>highvisibility</td>\n",
       "      <td>highvisibility</td>\n",
       "      <td>lowwindspeed</td>\n",
       "      <td>lowwindspeed</td>\n",
       "      <td>2</td>\n",
       "      <td>Morning</td>\n",
       "      <td>RedEye</td>\n",
       "    </tr>\n",
       "    <tr>\n",
       "      <th>2</th>\n",
       "      <td>2020-01-01</td>\n",
       "      <td>WN</td>\n",
       "      <td>WN</td>\n",
       "      <td>WN</td>\n",
       "      <td>4924</td>\n",
       "      <td>WN</td>\n",
       "      <td>N7732A</td>\n",
       "      <td>4924</td>\n",
       "      <td>13931</td>\n",
       "      <td>ORF</td>\n",
       "      <td>...</td>\n",
       "      <td>159</td>\n",
       "      <td>clear</td>\n",
       "      <td>clear</td>\n",
       "      <td>highvisibility</td>\n",
       "      <td>highvisibility</td>\n",
       "      <td>lowwindspeed</td>\n",
       "      <td>lowwindspeed</td>\n",
       "      <td>2</td>\n",
       "      <td>Evening</td>\n",
       "      <td>Evening</td>\n",
       "    </tr>\n",
       "    <tr>\n",
       "      <th>3</th>\n",
       "      <td>2020-01-01</td>\n",
       "      <td>WN</td>\n",
       "      <td>WN</td>\n",
       "      <td>WN</td>\n",
       "      <td>5321</td>\n",
       "      <td>WN</td>\n",
       "      <td>N7863A</td>\n",
       "      <td>5321</td>\n",
       "      <td>13931</td>\n",
       "      <td>ORF</td>\n",
       "      <td>...</td>\n",
       "      <td>159</td>\n",
       "      <td>clear</td>\n",
       "      <td>clear</td>\n",
       "      <td>highvisibility</td>\n",
       "      <td>highvisibility</td>\n",
       "      <td>lowwindspeed</td>\n",
       "      <td>lowwindspeed</td>\n",
       "      <td>2</td>\n",
       "      <td>Evening</td>\n",
       "      <td>Afternoon</td>\n",
       "    </tr>\n",
       "    <tr>\n",
       "      <th>4</th>\n",
       "      <td>2020-01-01</td>\n",
       "      <td>WN</td>\n",
       "      <td>WN</td>\n",
       "      <td>WN</td>\n",
       "      <td>4887</td>\n",
       "      <td>WN</td>\n",
       "      <td>N246LV</td>\n",
       "      <td>4887</td>\n",
       "      <td>14027</td>\n",
       "      <td>PBI</td>\n",
       "      <td>...</td>\n",
       "      <td>883</td>\n",
       "      <td>clear</td>\n",
       "      <td>clear</td>\n",
       "      <td>highvisibility</td>\n",
       "      <td>highvisibility</td>\n",
       "      <td>lowwindspeed</td>\n",
       "      <td>lowwindspeed</td>\n",
       "      <td>2</td>\n",
       "      <td>Morning</td>\n",
       "      <td>Morning</td>\n",
       "    </tr>\n",
       "    <tr>\n",
       "      <th>...</th>\n",
       "      <td>...</td>\n",
       "      <td>...</td>\n",
       "      <td>...</td>\n",
       "      <td>...</td>\n",
       "      <td>...</td>\n",
       "      <td>...</td>\n",
       "      <td>...</td>\n",
       "      <td>...</td>\n",
       "      <td>...</td>\n",
       "      <td>...</td>\n",
       "      <td>...</td>\n",
       "      <td>...</td>\n",
       "      <td>...</td>\n",
       "      <td>...</td>\n",
       "      <td>...</td>\n",
       "      <td>...</td>\n",
       "      <td>...</td>\n",
       "      <td>...</td>\n",
       "      <td>...</td>\n",
       "      <td>...</td>\n",
       "      <td>...</td>\n",
       "    </tr>\n",
       "    <tr>\n",
       "      <th>17765</th>\n",
       "      <td>2020-01-01</td>\n",
       "      <td>AS</td>\n",
       "      <td>AS</td>\n",
       "      <td>AS</td>\n",
       "      <td>70</td>\n",
       "      <td>AS</td>\n",
       "      <td>N644AS</td>\n",
       "      <td>70</td>\n",
       "      <td>12523</td>\n",
       "      <td>JNU</td>\n",
       "      <td>...</td>\n",
       "      <td>95</td>\n",
       "      <td>storm</td>\n",
       "      <td>storm</td>\n",
       "      <td>lowvisibility</td>\n",
       "      <td>lowvisibility</td>\n",
       "      <td>lowwindspeed</td>\n",
       "      <td>lowwindspeed</td>\n",
       "      <td>2</td>\n",
       "      <td>RedEye</td>\n",
       "      <td>Evening</td>\n",
       "    </tr>\n",
       "    <tr>\n",
       "      <th>17766</th>\n",
       "      <td>2020-01-01</td>\n",
       "      <td>AS</td>\n",
       "      <td>AS</td>\n",
       "      <td>AS</td>\n",
       "      <td>64</td>\n",
       "      <td>AS</td>\n",
       "      <td>N622AS</td>\n",
       "      <td>64</td>\n",
       "      <td>12523</td>\n",
       "      <td>JNU</td>\n",
       "      <td>...</td>\n",
       "      <td>123</td>\n",
       "      <td>storm</td>\n",
       "      <td>heavyrain</td>\n",
       "      <td>lowvisibility</td>\n",
       "      <td>lowvisibility</td>\n",
       "      <td>lowwindspeed</td>\n",
       "      <td>lowwindspeed</td>\n",
       "      <td>2</td>\n",
       "      <td>Afternoon</td>\n",
       "      <td>Afternoon</td>\n",
       "    </tr>\n",
       "    <tr>\n",
       "      <th>17767</th>\n",
       "      <td>2020-01-01</td>\n",
       "      <td>AS</td>\n",
       "      <td>AS</td>\n",
       "      <td>AS</td>\n",
       "      <td>65</td>\n",
       "      <td>AS</td>\n",
       "      <td>N607AS</td>\n",
       "      <td>65</td>\n",
       "      <td>15841</td>\n",
       "      <td>WRG</td>\n",
       "      <td>...</td>\n",
       "      <td>31</td>\n",
       "      <td>heavyrain</td>\n",
       "      <td>heavyrain</td>\n",
       "      <td>lowvisibility</td>\n",
       "      <td>lowvisibility</td>\n",
       "      <td>lowwindspeed</td>\n",
       "      <td>lowwindspeed</td>\n",
       "      <td>2</td>\n",
       "      <td>Morning</td>\n",
       "      <td>Morning</td>\n",
       "    </tr>\n",
       "    <tr>\n",
       "      <th>17768</th>\n",
       "      <td>2020-01-01</td>\n",
       "      <td>AS</td>\n",
       "      <td>AS</td>\n",
       "      <td>AS</td>\n",
       "      <td>64</td>\n",
       "      <td>AS</td>\n",
       "      <td>N622AS</td>\n",
       "      <td>64</td>\n",
       "      <td>14256</td>\n",
       "      <td>PSG</td>\n",
       "      <td>...</td>\n",
       "      <td>31</td>\n",
       "      <td>heavyrain</td>\n",
       "      <td>heavyrain</td>\n",
       "      <td>lowvisibility</td>\n",
       "      <td>lowvisibility</td>\n",
       "      <td>lowwindspeed</td>\n",
       "      <td>lowwindspeed</td>\n",
       "      <td>2</td>\n",
       "      <td>Afternoon</td>\n",
       "      <td>Afternoon</td>\n",
       "    </tr>\n",
       "    <tr>\n",
       "      <th>17769</th>\n",
       "      <td>2020-01-01</td>\n",
       "      <td>UA</td>\n",
       "      <td>UA</td>\n",
       "      <td>UA</td>\n",
       "      <td>174</td>\n",
       "      <td>UA</td>\n",
       "      <td>N34282</td>\n",
       "      <td>174</td>\n",
       "      <td>12016</td>\n",
       "      <td>GUM</td>\n",
       "      <td>...</td>\n",
       "      <td>129</td>\n",
       "      <td>clear</td>\n",
       "      <td>heavyrain</td>\n",
       "      <td>highvisibility</td>\n",
       "      <td>highvisibility</td>\n",
       "      <td>lowwindspeed</td>\n",
       "      <td>highwindspeed</td>\n",
       "      <td>2</td>\n",
       "      <td>Morning</td>\n",
       "      <td>Morning</td>\n",
       "    </tr>\n",
       "  </tbody>\n",
       "</table>\n",
       "<p>17770 rows × 29 columns</p>\n",
       "</div>"
      ],
      "text/plain": [
       "         fl_date mkt_unique_carrier branded_code_share mkt_carrier  \\\n",
       "0     2020-01-01                 WN                 WN          WN   \n",
       "1     2020-01-01                 WN                 WN          WN   \n",
       "2     2020-01-01                 WN                 WN          WN   \n",
       "3     2020-01-01                 WN                 WN          WN   \n",
       "4     2020-01-01                 WN                 WN          WN   \n",
       "...          ...                ...                ...         ...   \n",
       "17765 2020-01-01                 AS                 AS          AS   \n",
       "17766 2020-01-01                 AS                 AS          AS   \n",
       "17767 2020-01-01                 AS                 AS          AS   \n",
       "17768 2020-01-01                 AS                 AS          AS   \n",
       "17769 2020-01-01                 UA                 UA          UA   \n",
       "\n",
       "       mkt_carrier_fl_num op_unique_carrier tail_num  op_carrier_fl_num  \\\n",
       "0                    3719                WN   N941WN               3719   \n",
       "1                    4863                WN   N496WN               4863   \n",
       "2                    4924                WN   N7732A               4924   \n",
       "3                    5321                WN   N7863A               5321   \n",
       "4                    4887                WN   N246LV               4887   \n",
       "...                   ...               ...      ...                ...   \n",
       "17765                  70                AS   N644AS                 70   \n",
       "17766                  64                AS   N622AS                 64   \n",
       "17767                  65                AS   N607AS                 65   \n",
       "17768                  64                AS   N622AS                 64   \n",
       "17769                 174                UA   N34282                174   \n",
       "\n",
       "       origin_airport_id origin  ... distance  Weather_origin Weather_destin  \\\n",
       "0                  13931    ORF  ...      159           clear          clear   \n",
       "1                  13931    ORF  ...      159           clear          clear   \n",
       "2                  13931    ORF  ...      159           clear          clear   \n",
       "3                  13931    ORF  ...      159           clear          clear   \n",
       "4                  14027    PBI  ...      883           clear          clear   \n",
       "...                  ...    ...  ...      ...             ...            ...   \n",
       "17765              12523    JNU  ...       95           storm          storm   \n",
       "17766              12523    JNU  ...      123           storm      heavyrain   \n",
       "17767              15841    WRG  ...       31       heavyrain      heavyrain   \n",
       "17768              14256    PSG  ...       31       heavyrain      heavyrain   \n",
       "17769              12016    GUM  ...      129           clear      heavyrain   \n",
       "\n",
       "      Visibility_origin  Visibility_destin  windspeed_origin windspeed_destin  \\\n",
       "0        highvisibility     highvisibility      lowwindspeed     lowwindspeed   \n",
       "1        highvisibility     highvisibility      lowwindspeed     lowwindspeed   \n",
       "2        highvisibility     highvisibility      lowwindspeed     lowwindspeed   \n",
       "3        highvisibility     highvisibility      lowwindspeed     lowwindspeed   \n",
       "4        highvisibility     highvisibility      lowwindspeed     lowwindspeed   \n",
       "...                 ...                ...               ...              ...   \n",
       "17765     lowvisibility      lowvisibility      lowwindspeed     lowwindspeed   \n",
       "17766     lowvisibility      lowvisibility      lowwindspeed     lowwindspeed   \n",
       "17767     lowvisibility      lowvisibility      lowwindspeed     lowwindspeed   \n",
       "17768     lowvisibility      lowvisibility      lowwindspeed     lowwindspeed   \n",
       "17769    highvisibility     highvisibility      lowwindspeed    highwindspeed   \n",
       "\n",
       "       weekday  crs_arr_timeblk  crs_dep_timeblk  \n",
       "0            2        Afternoon          Morning  \n",
       "1            2          Morning           RedEye  \n",
       "2            2          Evening          Evening  \n",
       "3            2          Evening        Afternoon  \n",
       "4            2          Morning          Morning  \n",
       "...        ...              ...              ...  \n",
       "17765        2           RedEye          Evening  \n",
       "17766        2        Afternoon        Afternoon  \n",
       "17767        2          Morning          Morning  \n",
       "17768        2        Afternoon        Afternoon  \n",
       "17769        2          Morning          Morning  \n",
       "\n",
       "[17770 rows x 29 columns]"
      ]
     },
     "execution_count": 372,
     "metadata": {},
     "output_type": "execute_result"
    }
   ],
   "source": [
    "df_test"
   ]
  },
  {
   "cell_type": "markdown",
   "id": "b2dd2530-7c63-47d2-9993-13aeeb585902",
   "metadata": {
    "id": "b2dd2530-7c63-47d2-9993-13aeeb585902",
    "tags": []
   },
   "source": [
    "## 2.Data Clean"
   ]
  },
  {
   "cell_type": "markdown",
   "id": "df824e9d-4af4-44c8-a875-cfd3511e143b",
   "metadata": {
    "id": "df824e9d-4af4-44c8-a875-cfd3511e143b"
   },
   "source": [
    "## 3.Exploratory Data Analysis"
   ]
  },
  {
   "cell_type": "markdown",
   "id": "3x--Y2eFm_zI",
   "metadata": {
    "id": "3x--Y2eFm_zI"
   },
   "source": [
    "*is_delayed indicator"
   ]
  },
  {
   "cell_type": "code",
   "execution_count": 268,
   "id": "bxFuUAlCm7rX",
   "metadata": {
    "executionInfo": {
     "elapsed": 1574,
     "status": "ok",
     "timestamp": 1657260339177,
     "user": {
      "displayName": "olivia han",
      "userId": "16453021985307431611"
     },
     "user_tz": 420
    },
    "id": "bxFuUAlCm7rX"
   },
   "outputs": [],
   "source": [
    "#new feature: is_delayed\n",
    "\n",
    "result = []\n",
    "for value in df['arr_delay']:\n",
    "    if value > 0:\n",
    "        result.append(1)\n",
    "    elif value <= 0:\n",
    "        result.append(0)\n",
    "\n",
    "df['is_delayed'] = result  \n"
   ]
  },
  {
   "cell_type": "markdown",
   "id": "1df6136a-89f1-44f9-a1b2-adaa1a33f4ef",
   "metadata": {
    "id": "1df6136a-89f1-44f9-a1b2-adaa1a33f4ef"
   },
   "source": [
    "### b.10 busiest airport-pairs with average delay by airline"
   ]
  },
  {
   "cell_type": "code",
   "execution_count": 269,
   "id": "WrG90OhReCtM",
   "metadata": {
    "executionInfo": {
     "elapsed": 410,
     "status": "ok",
     "timestamp": 1657260373249,
     "user": {
      "displayName": "olivia han",
      "userId": "16453021985307431611"
     },
     "user_tz": 420
    },
    "id": "WrG90OhReCtM"
   },
   "outputs": [],
   "source": [
    "businest_airport=['ATL', 'ORD', 'DEN', 'LAX', 'CLT', 'PHX', 'SEA', 'SFO', 'IAH', 'LGA']"
   ]
  },
  {
   "cell_type": "code",
   "execution_count": 373,
   "id": "89c61e61-b19b-4422-8925-f83e605ed00e",
   "metadata": {},
   "outputs": [],
   "source": []
  },
  {
   "cell_type": "markdown",
   "id": "nBrD5HalgIHZ",
   "metadata": {
    "id": "nBrD5HalgIHZ"
   },
   "source": [
    "*Above are the top ten businest airports with the most flights. both as departure and as desination airports"
   ]
  },
  {
   "cell_type": "code",
   "execution_count": 270,
   "id": "f1afc0ed-21a7-4606-8d15-a65da87f7bf3",
   "metadata": {
    "id": "f1afc0ed-21a7-4606-8d15-a65da87f7bf3"
   },
   "outputs": [
    {
     "data": {
      "text/html": [
       "<div>\n",
       "<style scoped>\n",
       "    .dataframe tbody tr th:only-of-type {\n",
       "        vertical-align: middle;\n",
       "    }\n",
       "\n",
       "    .dataframe tbody tr th {\n",
       "        vertical-align: top;\n",
       "    }\n",
       "\n",
       "    .dataframe thead th {\n",
       "        text-align: right;\n",
       "    }\n",
       "</style>\n",
       "<table border=\"1\" class=\"dataframe\">\n",
       "  <thead>\n",
       "    <tr style=\"text-align: right;\">\n",
       "      <th></th>\n",
       "      <th>fl_date</th>\n",
       "      <th>mkt_unique_carrier</th>\n",
       "      <th>branded_code_share</th>\n",
       "      <th>mkt_carrier</th>\n",
       "      <th>mkt_carrier_fl_num</th>\n",
       "      <th>op_unique_carrier</th>\n",
       "      <th>tail_num</th>\n",
       "      <th>op_carrier_fl_num</th>\n",
       "      <th>origin_airport_id</th>\n",
       "      <th>origin</th>\n",
       "      <th>...</th>\n",
       "      <th>air_time</th>\n",
       "      <th>flights</th>\n",
       "      <th>distance</th>\n",
       "      <th>Weather_origin</th>\n",
       "      <th>Weather_destin</th>\n",
       "      <th>Visibility_origin</th>\n",
       "      <th>Visibility_destin</th>\n",
       "      <th>windspeed_origin</th>\n",
       "      <th>windspeed_destin</th>\n",
       "      <th>is_delayed</th>\n",
       "    </tr>\n",
       "  </thead>\n",
       "  <tbody>\n",
       "    <tr>\n",
       "      <th>0</th>\n",
       "      <td>2018-01-01</td>\n",
       "      <td>DL</td>\n",
       "      <td>DL_CODESHARE</td>\n",
       "      <td>DL</td>\n",
       "      <td>3468</td>\n",
       "      <td>9E</td>\n",
       "      <td>N292PQ</td>\n",
       "      <td>3468</td>\n",
       "      <td>15380</td>\n",
       "      <td>TVC</td>\n",
       "      <td>...</td>\n",
       "      <td>35.0</td>\n",
       "      <td>1.0</td>\n",
       "      <td>207.0</td>\n",
       "      <td>lightrain</td>\n",
       "      <td>lightrain</td>\n",
       "      <td>lowvisibility</td>\n",
       "      <td>highvisibility</td>\n",
       "      <td>lowwindspeed</td>\n",
       "      <td>lowwindspeed</td>\n",
       "      <td>0</td>\n",
       "    </tr>\n",
       "    <tr>\n",
       "      <th>1</th>\n",
       "      <td>2018-01-01</td>\n",
       "      <td>DL</td>\n",
       "      <td>DL_CODESHARE</td>\n",
       "      <td>DL</td>\n",
       "      <td>4579</td>\n",
       "      <td>OO</td>\n",
       "      <td>N8903A</td>\n",
       "      <td>4579</td>\n",
       "      <td>15380</td>\n",
       "      <td>TVC</td>\n",
       "      <td>...</td>\n",
       "      <td>37.0</td>\n",
       "      <td>1.0</td>\n",
       "      <td>207.0</td>\n",
       "      <td>lightrain</td>\n",
       "      <td>lightrain</td>\n",
       "      <td>lowvisibility</td>\n",
       "      <td>highvisibility</td>\n",
       "      <td>lowwindspeed</td>\n",
       "      <td>lowwindspeed</td>\n",
       "      <td>0</td>\n",
       "    </tr>\n",
       "    <tr>\n",
       "      <th>2</th>\n",
       "      <td>2018-01-01</td>\n",
       "      <td>DL</td>\n",
       "      <td>DL_CODESHARE</td>\n",
       "      <td>DL</td>\n",
       "      <td>4669</td>\n",
       "      <td>OO</td>\n",
       "      <td>N931EV</td>\n",
       "      <td>4669</td>\n",
       "      <td>15380</td>\n",
       "      <td>TVC</td>\n",
       "      <td>...</td>\n",
       "      <td>32.0</td>\n",
       "      <td>1.0</td>\n",
       "      <td>207.0</td>\n",
       "      <td>lightrain</td>\n",
       "      <td>lightrain</td>\n",
       "      <td>lowvisibility</td>\n",
       "      <td>highvisibility</td>\n",
       "      <td>lowwindspeed</td>\n",
       "      <td>lowwindspeed</td>\n",
       "      <td>1</td>\n",
       "    </tr>\n",
       "    <tr>\n",
       "      <th>3</th>\n",
       "      <td>2018-01-01</td>\n",
       "      <td>DL</td>\n",
       "      <td>DL_CODESHARE</td>\n",
       "      <td>DL</td>\n",
       "      <td>3470</td>\n",
       "      <td>9E</td>\n",
       "      <td>N309PQ</td>\n",
       "      <td>3470</td>\n",
       "      <td>13871</td>\n",
       "      <td>OMA</td>\n",
       "      <td>...</td>\n",
       "      <td>88.0</td>\n",
       "      <td>1.0</td>\n",
       "      <td>651.0</td>\n",
       "      <td>clear</td>\n",
       "      <td>lightrain</td>\n",
       "      <td>highvisibility</td>\n",
       "      <td>highvisibility</td>\n",
       "      <td>lowwindspeed</td>\n",
       "      <td>lowwindspeed</td>\n",
       "      <td>1</td>\n",
       "    </tr>\n",
       "    <tr>\n",
       "      <th>4</th>\n",
       "      <td>2018-01-01</td>\n",
       "      <td>NK</td>\n",
       "      <td>NK</td>\n",
       "      <td>NK</td>\n",
       "      <td>342</td>\n",
       "      <td>NK</td>\n",
       "      <td>N637NK</td>\n",
       "      <td>342</td>\n",
       "      <td>13487</td>\n",
       "      <td>MSP</td>\n",
       "      <td>...</td>\n",
       "      <td>69.0</td>\n",
       "      <td>1.0</td>\n",
       "      <td>528.0</td>\n",
       "      <td>cloudy</td>\n",
       "      <td>lightrain</td>\n",
       "      <td>highvisibility</td>\n",
       "      <td>highvisibility</td>\n",
       "      <td>lowwindspeed</td>\n",
       "      <td>lowwindspeed</td>\n",
       "      <td>1</td>\n",
       "    </tr>\n",
       "    <tr>\n",
       "      <th>...</th>\n",
       "      <td>...</td>\n",
       "      <td>...</td>\n",
       "      <td>...</td>\n",
       "      <td>...</td>\n",
       "      <td>...</td>\n",
       "      <td>...</td>\n",
       "      <td>...</td>\n",
       "      <td>...</td>\n",
       "      <td>...</td>\n",
       "      <td>...</td>\n",
       "      <td>...</td>\n",
       "      <td>...</td>\n",
       "      <td>...</td>\n",
       "      <td>...</td>\n",
       "      <td>...</td>\n",
       "      <td>...</td>\n",
       "      <td>...</td>\n",
       "      <td>...</td>\n",
       "      <td>...</td>\n",
       "      <td>...</td>\n",
       "      <td>...</td>\n",
       "    </tr>\n",
       "    <tr>\n",
       "      <th>715366</th>\n",
       "      <td>2019-01-31</td>\n",
       "      <td>HA</td>\n",
       "      <td>HA_CODESHARE</td>\n",
       "      <td>HA</td>\n",
       "      <td>684</td>\n",
       "      <td>EM</td>\n",
       "      <td>N804HC</td>\n",
       "      <td>684</td>\n",
       "      <td>12173</td>\n",
       "      <td>HNL</td>\n",
       "      <td>...</td>\n",
       "      <td>30.0</td>\n",
       "      <td>1.0</td>\n",
       "      <td>72.0</td>\n",
       "      <td>lightrain</td>\n",
       "      <td>lightrain</td>\n",
       "      <td>highvisibility</td>\n",
       "      <td>highvisibility</td>\n",
       "      <td>highwindspeed</td>\n",
       "      <td>lowwindspeed</td>\n",
       "      <td>1</td>\n",
       "    </tr>\n",
       "    <tr>\n",
       "      <th>715367</th>\n",
       "      <td>2019-01-31</td>\n",
       "      <td>G4</td>\n",
       "      <td>G4</td>\n",
       "      <td>G4</td>\n",
       "      <td>940</td>\n",
       "      <td>G4</td>\n",
       "      <td>234NV</td>\n",
       "      <td>940</td>\n",
       "      <td>14112</td>\n",
       "      <td>PIE</td>\n",
       "      <td>...</td>\n",
       "      <td>146.0</td>\n",
       "      <td>1.0</td>\n",
       "      <td>1224.0</td>\n",
       "      <td>lightrain</td>\n",
       "      <td>lightrain</td>\n",
       "      <td>lowvisibility</td>\n",
       "      <td>highvisibility</td>\n",
       "      <td>lowwindspeed</td>\n",
       "      <td>lowwindspeed</td>\n",
       "      <td>1</td>\n",
       "    </tr>\n",
       "    <tr>\n",
       "      <th>715368</th>\n",
       "      <td>2019-01-31</td>\n",
       "      <td>UA</td>\n",
       "      <td>UA</td>\n",
       "      <td>UA</td>\n",
       "      <td>174</td>\n",
       "      <td>UA</td>\n",
       "      <td>N36280</td>\n",
       "      <td>174</td>\n",
       "      <td>12016</td>\n",
       "      <td>GUM</td>\n",
       "      <td>...</td>\n",
       "      <td>24.0</td>\n",
       "      <td>1.0</td>\n",
       "      <td>129.0</td>\n",
       "      <td>clear</td>\n",
       "      <td>heavyrain</td>\n",
       "      <td>highvisibility</td>\n",
       "      <td>highvisibility</td>\n",
       "      <td>lowwindspeed</td>\n",
       "      <td>highwindspeed</td>\n",
       "      <td>0</td>\n",
       "    </tr>\n",
       "    <tr>\n",
       "      <th>715369</th>\n",
       "      <td>2019-01-31</td>\n",
       "      <td>UA</td>\n",
       "      <td>UA</td>\n",
       "      <td>UA</td>\n",
       "      <td>104</td>\n",
       "      <td>UA</td>\n",
       "      <td>N39726</td>\n",
       "      <td>104</td>\n",
       "      <td>12016</td>\n",
       "      <td>GUM</td>\n",
       "      <td>...</td>\n",
       "      <td>26.0</td>\n",
       "      <td>1.0</td>\n",
       "      <td>129.0</td>\n",
       "      <td>clear</td>\n",
       "      <td>heavyrain</td>\n",
       "      <td>highvisibility</td>\n",
       "      <td>highvisibility</td>\n",
       "      <td>lowwindspeed</td>\n",
       "      <td>highwindspeed</td>\n",
       "      <td>0</td>\n",
       "    </tr>\n",
       "    <tr>\n",
       "      <th>715370</th>\n",
       "      <td>2019-01-31</td>\n",
       "      <td>AA</td>\n",
       "      <td>AA_CODESHARE</td>\n",
       "      <td>AA</td>\n",
       "      <td>3129</td>\n",
       "      <td>OO</td>\n",
       "      <td>N699BR</td>\n",
       "      <td>3129</td>\n",
       "      <td>13241</td>\n",
       "      <td>MEI</td>\n",
       "      <td>...</td>\n",
       "      <td>17.0</td>\n",
       "      <td>1.0</td>\n",
       "      <td>69.0</td>\n",
       "      <td>clear</td>\n",
       "      <td>clear</td>\n",
       "      <td>highvisibility</td>\n",
       "      <td>highvisibility</td>\n",
       "      <td>lowwindspeed</td>\n",
       "      <td>lowwindspeed</td>\n",
       "      <td>0</td>\n",
       "    </tr>\n",
       "  </tbody>\n",
       "</table>\n",
       "<p>715371 rows × 39 columns</p>\n",
       "</div>"
      ],
      "text/plain": [
       "           fl_date mkt_unique_carrier branded_code_share mkt_carrier  \\\n",
       "0       2018-01-01                 DL       DL_CODESHARE          DL   \n",
       "1       2018-01-01                 DL       DL_CODESHARE          DL   \n",
       "2       2018-01-01                 DL       DL_CODESHARE          DL   \n",
       "3       2018-01-01                 DL       DL_CODESHARE          DL   \n",
       "4       2018-01-01                 NK                 NK          NK   \n",
       "...            ...                ...                ...         ...   \n",
       "715366  2019-01-31                 HA       HA_CODESHARE          HA   \n",
       "715367  2019-01-31                 G4                 G4          G4   \n",
       "715368  2019-01-31                 UA                 UA          UA   \n",
       "715369  2019-01-31                 UA                 UA          UA   \n",
       "715370  2019-01-31                 AA       AA_CODESHARE          AA   \n",
       "\n",
       "        mkt_carrier_fl_num op_unique_carrier tail_num  op_carrier_fl_num  \\\n",
       "0                     3468                9E   N292PQ               3468   \n",
       "1                     4579                OO   N8903A               4579   \n",
       "2                     4669                OO   N931EV               4669   \n",
       "3                     3470                9E   N309PQ               3470   \n",
       "4                      342                NK   N637NK                342   \n",
       "...                    ...               ...      ...                ...   \n",
       "715366                 684                EM   N804HC                684   \n",
       "715367                 940                G4    234NV                940   \n",
       "715368                 174                UA   N36280                174   \n",
       "715369                 104                UA   N39726                104   \n",
       "715370                3129                OO   N699BR               3129   \n",
       "\n",
       "        origin_airport_id origin  ... air_time  flights distance  \\\n",
       "0                   15380    TVC  ...     35.0      1.0    207.0   \n",
       "1                   15380    TVC  ...     37.0      1.0    207.0   \n",
       "2                   15380    TVC  ...     32.0      1.0    207.0   \n",
       "3                   13871    OMA  ...     88.0      1.0    651.0   \n",
       "4                   13487    MSP  ...     69.0      1.0    528.0   \n",
       "...                   ...    ...  ...      ...      ...      ...   \n",
       "715366              12173    HNL  ...     30.0      1.0     72.0   \n",
       "715367              14112    PIE  ...    146.0      1.0   1224.0   \n",
       "715368              12016    GUM  ...     24.0      1.0    129.0   \n",
       "715369              12016    GUM  ...     26.0      1.0    129.0   \n",
       "715370              13241    MEI  ...     17.0      1.0     69.0   \n",
       "\n",
       "       Weather_origin  Weather_destin  Visibility_origin  Visibility_destin  \\\n",
       "0           lightrain       lightrain      lowvisibility     highvisibility   \n",
       "1           lightrain       lightrain      lowvisibility     highvisibility   \n",
       "2           lightrain       lightrain      lowvisibility     highvisibility   \n",
       "3               clear       lightrain     highvisibility     highvisibility   \n",
       "4              cloudy       lightrain     highvisibility     highvisibility   \n",
       "...               ...             ...                ...                ...   \n",
       "715366      lightrain       lightrain     highvisibility     highvisibility   \n",
       "715367      lightrain       lightrain      lowvisibility     highvisibility   \n",
       "715368          clear       heavyrain     highvisibility     highvisibility   \n",
       "715369          clear       heavyrain     highvisibility     highvisibility   \n",
       "715370          clear           clear     highvisibility     highvisibility   \n",
       "\n",
       "        windspeed_origin  windspeed_destin  is_delayed  \n",
       "0           lowwindspeed      lowwindspeed           0  \n",
       "1           lowwindspeed      lowwindspeed           0  \n",
       "2           lowwindspeed      lowwindspeed           1  \n",
       "3           lowwindspeed      lowwindspeed           1  \n",
       "4           lowwindspeed      lowwindspeed           1  \n",
       "...                  ...               ...         ...  \n",
       "715366     highwindspeed      lowwindspeed           1  \n",
       "715367      lowwindspeed      lowwindspeed           1  \n",
       "715368      lowwindspeed     highwindspeed           0  \n",
       "715369      lowwindspeed     highwindspeed           0  \n",
       "715370      lowwindspeed      lowwindspeed           0  \n",
       "\n",
       "[715371 rows x 39 columns]"
      ]
     },
     "execution_count": 270,
     "metadata": {},
     "output_type": "execute_result"
    }
   ],
   "source": [
    "df"
   ]
  },
  {
   "cell_type": "markdown",
   "id": "0bb7b1db-3dd5-480a-9118-274088b435af",
   "metadata": {
    "id": "0bb7b1db-3dd5-480a-9118-274088b435af"
   },
   "source": [
    "### b.delay by time"
   ]
  },
  {
   "cell_type": "markdown",
   "id": "a4cf09a3-6995-4643-971e-aba2ba83b29c",
   "metadata": {
    "id": "a4cf09a3-6995-4643-971e-aba2ba83b29c"
   },
   "source": [
    "#### b.1. categorize arr_delay by day of week:\n",
    "* are flights tends to delay during the weekdays or weekends?"
   ]
  },
  {
   "cell_type": "markdown",
   "id": "0e1c88c1-694a-406b-8005-1380d03563fd",
   "metadata": {
    "id": "0e1c88c1-694a-406b-8005-1380d03563fd",
    "tags": []
   },
   "source": [
    "#### b.2. creating time block desination"
   ]
  },
  {
   "cell_type": "code",
   "execution_count": 271,
   "id": "fd635e65-0b4a-4440-8755-bbbbf5446db2",
   "metadata": {
    "executionInfo": {
     "elapsed": 3,
     "status": "ok",
     "timestamp": 1657260430422,
     "user": {
      "displayName": "olivia han",
      "userId": "16453021985307431611"
     },
     "user_tz": 420
    },
    "id": "fd635e65-0b4a-4440-8755-bbbbf5446db2"
   },
   "outputs": [],
   "source": [
    "def arr_time(x):\n",
    "    if x>=700 and x<=1200:\n",
    "        return \"Morning\"\n",
    "    elif x>1200 and x<=1800:\n",
    "        return \"Afternoon\"\n",
    "    elif x>1800 and x<=2300:\n",
    "        return \"Evening\"\n",
    "    elif (x>2300 and x<=2400) or (x<700):\n",
    "        return \"RedEye\"\n",
    "    "
   ]
  },
  {
   "cell_type": "markdown",
   "id": "01d9988d-808f-49b6-ad74-d9923345de04",
   "metadata": {},
   "source": [
    "#add arrival/departure timeblock to testing file"
   ]
  },
  {
   "cell_type": "code",
   "execution_count": 272,
   "id": "4ZRmI6Xkx4Af",
   "metadata": {
    "executionInfo": {
     "elapsed": 675,
     "status": "ok",
     "timestamp": 1657260493301,
     "user": {
      "displayName": "olivia han",
      "userId": "16453021985307431611"
     },
     "user_tz": 420
    },
    "id": "4ZRmI6Xkx4Af",
    "tags": []
   },
   "outputs": [],
   "source": [
    "df_test['crs_arr_timeblk'] = df_test['crs_arr_time'].apply(lambda x :arr_time(x))\n",
    "df['crs_arr_timeblk'] = df['crs_arr_time'].apply(lambda x :arr_time(x))\n"
   ]
  },
  {
   "cell_type": "code",
   "execution_count": 273,
   "id": "o6vmgjtjbBc1",
   "metadata": {
    "executionInfo": {
     "elapsed": 543,
     "status": "ok",
     "timestamp": 1657260493842,
     "user": {
      "displayName": "olivia han",
      "userId": "16453021985307431611"
     },
     "user_tz": 420
    },
    "id": "o6vmgjtjbBc1"
   },
   "outputs": [],
   "source": [
    "df_test['crs_dep_timeblk'] = df_test['crs_dep_time'].apply(lambda x :arr_time(x))\n",
    "df['crs_dep_timeblk'] = df['crs_dep_time'].apply(lambda x :arr_time(x))"
   ]
  },
  {
   "cell_type": "code",
   "execution_count": 274,
   "id": "e1be625e-5f0c-463f-8750-916c8cc44f5e",
   "metadata": {},
   "outputs": [
    {
     "data": {
      "text/html": [
       "<div>\n",
       "<style scoped>\n",
       "    .dataframe tbody tr th:only-of-type {\n",
       "        vertical-align: middle;\n",
       "    }\n",
       "\n",
       "    .dataframe tbody tr th {\n",
       "        vertical-align: top;\n",
       "    }\n",
       "\n",
       "    .dataframe thead th {\n",
       "        text-align: right;\n",
       "    }\n",
       "</style>\n",
       "<table border=\"1\" class=\"dataframe\">\n",
       "  <thead>\n",
       "    <tr style=\"text-align: right;\">\n",
       "      <th></th>\n",
       "      <th>fl_date</th>\n",
       "      <th>mkt_unique_carrier</th>\n",
       "      <th>branded_code_share</th>\n",
       "      <th>mkt_carrier</th>\n",
       "      <th>mkt_carrier_fl_num</th>\n",
       "      <th>op_unique_carrier</th>\n",
       "      <th>tail_num</th>\n",
       "      <th>op_carrier_fl_num</th>\n",
       "      <th>origin_airport_id</th>\n",
       "      <th>origin</th>\n",
       "      <th>...</th>\n",
       "      <th>distance</th>\n",
       "      <th>Weather_origin</th>\n",
       "      <th>Weather_destin</th>\n",
       "      <th>Visibility_origin</th>\n",
       "      <th>Visibility_destin</th>\n",
       "      <th>windspeed_origin</th>\n",
       "      <th>windspeed_destin</th>\n",
       "      <th>weekday</th>\n",
       "      <th>crs_arr_timeblk</th>\n",
       "      <th>crs_dep_timeblk</th>\n",
       "    </tr>\n",
       "  </thead>\n",
       "  <tbody>\n",
       "    <tr>\n",
       "      <th>0</th>\n",
       "      <td>2020-01-01</td>\n",
       "      <td>WN</td>\n",
       "      <td>WN</td>\n",
       "      <td>WN</td>\n",
       "      <td>3719</td>\n",
       "      <td>WN</td>\n",
       "      <td>N941WN</td>\n",
       "      <td>3719</td>\n",
       "      <td>13931</td>\n",
       "      <td>ORF</td>\n",
       "      <td>...</td>\n",
       "      <td>159</td>\n",
       "      <td>clear</td>\n",
       "      <td>clear</td>\n",
       "      <td>highvisibility</td>\n",
       "      <td>highvisibility</td>\n",
       "      <td>lowwindspeed</td>\n",
       "      <td>lowwindspeed</td>\n",
       "      <td>2</td>\n",
       "      <td>Afternoon</td>\n",
       "      <td>Morning</td>\n",
       "    </tr>\n",
       "    <tr>\n",
       "      <th>1</th>\n",
       "      <td>2020-01-01</td>\n",
       "      <td>WN</td>\n",
       "      <td>WN</td>\n",
       "      <td>WN</td>\n",
       "      <td>4863</td>\n",
       "      <td>WN</td>\n",
       "      <td>N496WN</td>\n",
       "      <td>4863</td>\n",
       "      <td>13931</td>\n",
       "      <td>ORF</td>\n",
       "      <td>...</td>\n",
       "      <td>159</td>\n",
       "      <td>clear</td>\n",
       "      <td>clear</td>\n",
       "      <td>highvisibility</td>\n",
       "      <td>highvisibility</td>\n",
       "      <td>lowwindspeed</td>\n",
       "      <td>lowwindspeed</td>\n",
       "      <td>2</td>\n",
       "      <td>Morning</td>\n",
       "      <td>RedEye</td>\n",
       "    </tr>\n",
       "    <tr>\n",
       "      <th>2</th>\n",
       "      <td>2020-01-01</td>\n",
       "      <td>WN</td>\n",
       "      <td>WN</td>\n",
       "      <td>WN</td>\n",
       "      <td>4924</td>\n",
       "      <td>WN</td>\n",
       "      <td>N7732A</td>\n",
       "      <td>4924</td>\n",
       "      <td>13931</td>\n",
       "      <td>ORF</td>\n",
       "      <td>...</td>\n",
       "      <td>159</td>\n",
       "      <td>clear</td>\n",
       "      <td>clear</td>\n",
       "      <td>highvisibility</td>\n",
       "      <td>highvisibility</td>\n",
       "      <td>lowwindspeed</td>\n",
       "      <td>lowwindspeed</td>\n",
       "      <td>2</td>\n",
       "      <td>Evening</td>\n",
       "      <td>Evening</td>\n",
       "    </tr>\n",
       "    <tr>\n",
       "      <th>3</th>\n",
       "      <td>2020-01-01</td>\n",
       "      <td>WN</td>\n",
       "      <td>WN</td>\n",
       "      <td>WN</td>\n",
       "      <td>5321</td>\n",
       "      <td>WN</td>\n",
       "      <td>N7863A</td>\n",
       "      <td>5321</td>\n",
       "      <td>13931</td>\n",
       "      <td>ORF</td>\n",
       "      <td>...</td>\n",
       "      <td>159</td>\n",
       "      <td>clear</td>\n",
       "      <td>clear</td>\n",
       "      <td>highvisibility</td>\n",
       "      <td>highvisibility</td>\n",
       "      <td>lowwindspeed</td>\n",
       "      <td>lowwindspeed</td>\n",
       "      <td>2</td>\n",
       "      <td>Evening</td>\n",
       "      <td>Afternoon</td>\n",
       "    </tr>\n",
       "    <tr>\n",
       "      <th>4</th>\n",
       "      <td>2020-01-01</td>\n",
       "      <td>WN</td>\n",
       "      <td>WN</td>\n",
       "      <td>WN</td>\n",
       "      <td>4887</td>\n",
       "      <td>WN</td>\n",
       "      <td>N246LV</td>\n",
       "      <td>4887</td>\n",
       "      <td>14027</td>\n",
       "      <td>PBI</td>\n",
       "      <td>...</td>\n",
       "      <td>883</td>\n",
       "      <td>clear</td>\n",
       "      <td>clear</td>\n",
       "      <td>highvisibility</td>\n",
       "      <td>highvisibility</td>\n",
       "      <td>lowwindspeed</td>\n",
       "      <td>lowwindspeed</td>\n",
       "      <td>2</td>\n",
       "      <td>Morning</td>\n",
       "      <td>Morning</td>\n",
       "    </tr>\n",
       "    <tr>\n",
       "      <th>...</th>\n",
       "      <td>...</td>\n",
       "      <td>...</td>\n",
       "      <td>...</td>\n",
       "      <td>...</td>\n",
       "      <td>...</td>\n",
       "      <td>...</td>\n",
       "      <td>...</td>\n",
       "      <td>...</td>\n",
       "      <td>...</td>\n",
       "      <td>...</td>\n",
       "      <td>...</td>\n",
       "      <td>...</td>\n",
       "      <td>...</td>\n",
       "      <td>...</td>\n",
       "      <td>...</td>\n",
       "      <td>...</td>\n",
       "      <td>...</td>\n",
       "      <td>...</td>\n",
       "      <td>...</td>\n",
       "      <td>...</td>\n",
       "      <td>...</td>\n",
       "    </tr>\n",
       "    <tr>\n",
       "      <th>17765</th>\n",
       "      <td>2020-01-01</td>\n",
       "      <td>AS</td>\n",
       "      <td>AS</td>\n",
       "      <td>AS</td>\n",
       "      <td>70</td>\n",
       "      <td>AS</td>\n",
       "      <td>N644AS</td>\n",
       "      <td>70</td>\n",
       "      <td>12523</td>\n",
       "      <td>JNU</td>\n",
       "      <td>...</td>\n",
       "      <td>95</td>\n",
       "      <td>storm</td>\n",
       "      <td>storm</td>\n",
       "      <td>lowvisibility</td>\n",
       "      <td>lowvisibility</td>\n",
       "      <td>lowwindspeed</td>\n",
       "      <td>lowwindspeed</td>\n",
       "      <td>2</td>\n",
       "      <td>RedEye</td>\n",
       "      <td>Evening</td>\n",
       "    </tr>\n",
       "    <tr>\n",
       "      <th>17766</th>\n",
       "      <td>2020-01-01</td>\n",
       "      <td>AS</td>\n",
       "      <td>AS</td>\n",
       "      <td>AS</td>\n",
       "      <td>64</td>\n",
       "      <td>AS</td>\n",
       "      <td>N622AS</td>\n",
       "      <td>64</td>\n",
       "      <td>12523</td>\n",
       "      <td>JNU</td>\n",
       "      <td>...</td>\n",
       "      <td>123</td>\n",
       "      <td>storm</td>\n",
       "      <td>heavyrain</td>\n",
       "      <td>lowvisibility</td>\n",
       "      <td>lowvisibility</td>\n",
       "      <td>lowwindspeed</td>\n",
       "      <td>lowwindspeed</td>\n",
       "      <td>2</td>\n",
       "      <td>Afternoon</td>\n",
       "      <td>Afternoon</td>\n",
       "    </tr>\n",
       "    <tr>\n",
       "      <th>17767</th>\n",
       "      <td>2020-01-01</td>\n",
       "      <td>AS</td>\n",
       "      <td>AS</td>\n",
       "      <td>AS</td>\n",
       "      <td>65</td>\n",
       "      <td>AS</td>\n",
       "      <td>N607AS</td>\n",
       "      <td>65</td>\n",
       "      <td>15841</td>\n",
       "      <td>WRG</td>\n",
       "      <td>...</td>\n",
       "      <td>31</td>\n",
       "      <td>heavyrain</td>\n",
       "      <td>heavyrain</td>\n",
       "      <td>lowvisibility</td>\n",
       "      <td>lowvisibility</td>\n",
       "      <td>lowwindspeed</td>\n",
       "      <td>lowwindspeed</td>\n",
       "      <td>2</td>\n",
       "      <td>Morning</td>\n",
       "      <td>Morning</td>\n",
       "    </tr>\n",
       "    <tr>\n",
       "      <th>17768</th>\n",
       "      <td>2020-01-01</td>\n",
       "      <td>AS</td>\n",
       "      <td>AS</td>\n",
       "      <td>AS</td>\n",
       "      <td>64</td>\n",
       "      <td>AS</td>\n",
       "      <td>N622AS</td>\n",
       "      <td>64</td>\n",
       "      <td>14256</td>\n",
       "      <td>PSG</td>\n",
       "      <td>...</td>\n",
       "      <td>31</td>\n",
       "      <td>heavyrain</td>\n",
       "      <td>heavyrain</td>\n",
       "      <td>lowvisibility</td>\n",
       "      <td>lowvisibility</td>\n",
       "      <td>lowwindspeed</td>\n",
       "      <td>lowwindspeed</td>\n",
       "      <td>2</td>\n",
       "      <td>Afternoon</td>\n",
       "      <td>Afternoon</td>\n",
       "    </tr>\n",
       "    <tr>\n",
       "      <th>17769</th>\n",
       "      <td>2020-01-01</td>\n",
       "      <td>UA</td>\n",
       "      <td>UA</td>\n",
       "      <td>UA</td>\n",
       "      <td>174</td>\n",
       "      <td>UA</td>\n",
       "      <td>N34282</td>\n",
       "      <td>174</td>\n",
       "      <td>12016</td>\n",
       "      <td>GUM</td>\n",
       "      <td>...</td>\n",
       "      <td>129</td>\n",
       "      <td>clear</td>\n",
       "      <td>heavyrain</td>\n",
       "      <td>highvisibility</td>\n",
       "      <td>highvisibility</td>\n",
       "      <td>lowwindspeed</td>\n",
       "      <td>highwindspeed</td>\n",
       "      <td>2</td>\n",
       "      <td>Morning</td>\n",
       "      <td>Morning</td>\n",
       "    </tr>\n",
       "  </tbody>\n",
       "</table>\n",
       "<p>17770 rows × 29 columns</p>\n",
       "</div>"
      ],
      "text/plain": [
       "         fl_date mkt_unique_carrier branded_code_share mkt_carrier  \\\n",
       "0     2020-01-01                 WN                 WN          WN   \n",
       "1     2020-01-01                 WN                 WN          WN   \n",
       "2     2020-01-01                 WN                 WN          WN   \n",
       "3     2020-01-01                 WN                 WN          WN   \n",
       "4     2020-01-01                 WN                 WN          WN   \n",
       "...          ...                ...                ...         ...   \n",
       "17765 2020-01-01                 AS                 AS          AS   \n",
       "17766 2020-01-01                 AS                 AS          AS   \n",
       "17767 2020-01-01                 AS                 AS          AS   \n",
       "17768 2020-01-01                 AS                 AS          AS   \n",
       "17769 2020-01-01                 UA                 UA          UA   \n",
       "\n",
       "       mkt_carrier_fl_num op_unique_carrier tail_num  op_carrier_fl_num  \\\n",
       "0                    3719                WN   N941WN               3719   \n",
       "1                    4863                WN   N496WN               4863   \n",
       "2                    4924                WN   N7732A               4924   \n",
       "3                    5321                WN   N7863A               5321   \n",
       "4                    4887                WN   N246LV               4887   \n",
       "...                   ...               ...      ...                ...   \n",
       "17765                  70                AS   N644AS                 70   \n",
       "17766                  64                AS   N622AS                 64   \n",
       "17767                  65                AS   N607AS                 65   \n",
       "17768                  64                AS   N622AS                 64   \n",
       "17769                 174                UA   N34282                174   \n",
       "\n",
       "       origin_airport_id origin  ... distance  Weather_origin Weather_destin  \\\n",
       "0                  13931    ORF  ...      159           clear          clear   \n",
       "1                  13931    ORF  ...      159           clear          clear   \n",
       "2                  13931    ORF  ...      159           clear          clear   \n",
       "3                  13931    ORF  ...      159           clear          clear   \n",
       "4                  14027    PBI  ...      883           clear          clear   \n",
       "...                  ...    ...  ...      ...             ...            ...   \n",
       "17765              12523    JNU  ...       95           storm          storm   \n",
       "17766              12523    JNU  ...      123           storm      heavyrain   \n",
       "17767              15841    WRG  ...       31       heavyrain      heavyrain   \n",
       "17768              14256    PSG  ...       31       heavyrain      heavyrain   \n",
       "17769              12016    GUM  ...      129           clear      heavyrain   \n",
       "\n",
       "      Visibility_origin  Visibility_destin  windspeed_origin windspeed_destin  \\\n",
       "0        highvisibility     highvisibility      lowwindspeed     lowwindspeed   \n",
       "1        highvisibility     highvisibility      lowwindspeed     lowwindspeed   \n",
       "2        highvisibility     highvisibility      lowwindspeed     lowwindspeed   \n",
       "3        highvisibility     highvisibility      lowwindspeed     lowwindspeed   \n",
       "4        highvisibility     highvisibility      lowwindspeed     lowwindspeed   \n",
       "...                 ...                ...               ...              ...   \n",
       "17765     lowvisibility      lowvisibility      lowwindspeed     lowwindspeed   \n",
       "17766     lowvisibility      lowvisibility      lowwindspeed     lowwindspeed   \n",
       "17767     lowvisibility      lowvisibility      lowwindspeed     lowwindspeed   \n",
       "17768     lowvisibility      lowvisibility      lowwindspeed     lowwindspeed   \n",
       "17769    highvisibility     highvisibility      lowwindspeed    highwindspeed   \n",
       "\n",
       "       weekday  crs_arr_timeblk  crs_dep_timeblk  \n",
       "0            2        Afternoon          Morning  \n",
       "1            2          Morning           RedEye  \n",
       "2            2          Evening          Evening  \n",
       "3            2          Evening        Afternoon  \n",
       "4            2          Morning          Morning  \n",
       "...        ...              ...              ...  \n",
       "17765        2           RedEye          Evening  \n",
       "17766        2        Afternoon        Afternoon  \n",
       "17767        2          Morning          Morning  \n",
       "17768        2        Afternoon        Afternoon  \n",
       "17769        2          Morning          Morning  \n",
       "\n",
       "[17770 rows x 29 columns]"
      ]
     },
     "execution_count": 274,
     "metadata": {},
     "output_type": "execute_result"
    }
   ],
   "source": [
    "df_test"
   ]
  },
  {
   "cell_type": "code",
   "execution_count": null,
   "id": "42e9b4b0-2835-4dfb-88a5-8d2b366a5041",
   "metadata": {
    "id": "42e9b4b0-2835-4dfb-88a5-8d2b366a5041"
   },
   "outputs": [],
   "source": [
    "\n",
    "#arr"
   ]
  },
  {
   "cell_type": "code",
   "execution_count": 169,
   "id": "c48OH1hGvbb_",
   "metadata": {
    "id": "c48OH1hGvbb_",
    "tags": []
   },
   "outputs": [],
   "source": [
    "dfff=df[df['is_delayed']==1]"
   ]
  },
  {
   "cell_type": "code",
   "execution_count": 170,
   "id": "KCYSlr8iuNpX",
   "metadata": {
    "executionInfo": {
     "elapsed": 394,
     "status": "ok",
     "timestamp": 1657260504739,
     "user": {
      "displayName": "olivia han",
      "userId": "16453021985307431611"
     },
     "user_tz": 420
    },
    "id": "KCYSlr8iuNpX"
   },
   "outputs": [],
   "source": [
    "df_rounte_day_timeblk_airline_avg_arr=dfff.groupby(['origin','dest','crs_arr_timeblk','op_unique_carrier']).agg({'arr_delay':'mean',\n",
    "                      }).reset_index()"
   ]
  },
  {
   "cell_type": "code",
   "execution_count": 171,
   "id": "_lHPijfjvEBx",
   "metadata": {
    "executionInfo": {
     "elapsed": 4,
     "status": "ok",
     "timestamp": 1657260505963,
     "user": {
      "displayName": "olivia han",
      "userId": "16453021985307431611"
     },
     "user_tz": 420
    },
    "id": "_lHPijfjvEBx"
   },
   "outputs": [],
   "source": [
    "df_rounte_day_timeblk_airline_avg_arr=df_rounte_day_timeblk_airline_avg_arr.rename(columns={'arr_delay':'route_day_timeblk_airline_avg_arr'})"
   ]
  },
  {
   "cell_type": "code",
   "execution_count": 172,
   "id": "8165bd2e-dfce-48f0-a68c-08ccc64d32a8",
   "metadata": {},
   "outputs": [],
   "source": [
    "#dep"
   ]
  },
  {
   "cell_type": "code",
   "execution_count": 173,
   "id": "0Lpb9qoS0JhC",
   "metadata": {
    "executionInfo": {
     "elapsed": 3,
     "status": "ok",
     "timestamp": 1657260507812,
     "user": {
      "displayName": "olivia han",
      "userId": "16453021985307431611"
     },
     "user_tz": 420
    },
    "id": "0Lpb9qoS0JhC"
   },
   "outputs": [],
   "source": [
    "df_rounte_day_timeblk_airline_avg_dep=dfff.groupby(['origin','dest','crs_dep_timeblk','op_unique_carrier']).agg({'dep_delay':'mean',\n",
    "                      }).reset_index()"
   ]
  },
  {
   "cell_type": "code",
   "execution_count": 174,
   "id": "-XOCDNxCy-_D",
   "metadata": {
    "executionInfo": {
     "elapsed": 18,
     "status": "ok",
     "timestamp": 1657260509729,
     "user": {
      "displayName": "olivia han",
      "userId": "16453021985307431611"
     },
     "user_tz": 420
    },
    "id": "-XOCDNxCy-_D"
   },
   "outputs": [],
   "source": [
    "df_rounte_day_timeblk_airline_avg_dep=df_rounte_day_timeblk_airline_avg_dep.rename(columns={'dep_delay':'route_day_timeblk_airline_avg_dep'})"
   ]
  },
  {
   "cell_type": "code",
   "execution_count": 175,
   "id": "e4feaa2a-166c-4cb1-ac2f-5e9908473152",
   "metadata": {},
   "outputs": [
    {
     "data": {
      "text/html": [
       "<div>\n",
       "<style scoped>\n",
       "    .dataframe tbody tr th:only-of-type {\n",
       "        vertical-align: middle;\n",
       "    }\n",
       "\n",
       "    .dataframe tbody tr th {\n",
       "        vertical-align: top;\n",
       "    }\n",
       "\n",
       "    .dataframe thead th {\n",
       "        text-align: right;\n",
       "    }\n",
       "</style>\n",
       "<table border=\"1\" class=\"dataframe\">\n",
       "  <thead>\n",
       "    <tr style=\"text-align: right;\">\n",
       "      <th></th>\n",
       "      <th>origin</th>\n",
       "      <th>dest</th>\n",
       "      <th>crs_arr_timeblk</th>\n",
       "      <th>op_unique_carrier</th>\n",
       "      <th>route_day_timeblk_airline_avg_arr</th>\n",
       "    </tr>\n",
       "  </thead>\n",
       "  <tbody>\n",
       "    <tr>\n",
       "      <th>0</th>\n",
       "      <td>ABE</td>\n",
       "      <td>ATL</td>\n",
       "      <td>Afternoon</td>\n",
       "      <td>9E</td>\n",
       "      <td>50.750000</td>\n",
       "    </tr>\n",
       "    <tr>\n",
       "      <th>1</th>\n",
       "      <td>ABE</td>\n",
       "      <td>ATL</td>\n",
       "      <td>Afternoon</td>\n",
       "      <td>EV</td>\n",
       "      <td>1.000000</td>\n",
       "    </tr>\n",
       "    <tr>\n",
       "      <th>2</th>\n",
       "      <td>ABE</td>\n",
       "      <td>ATL</td>\n",
       "      <td>Evening</td>\n",
       "      <td>9E</td>\n",
       "      <td>46.571429</td>\n",
       "    </tr>\n",
       "    <tr>\n",
       "      <th>3</th>\n",
       "      <td>ABE</td>\n",
       "      <td>ATL</td>\n",
       "      <td>Evening</td>\n",
       "      <td>EV</td>\n",
       "      <td>5.750000</td>\n",
       "    </tr>\n",
       "    <tr>\n",
       "      <th>4</th>\n",
       "      <td>ABE</td>\n",
       "      <td>ATL</td>\n",
       "      <td>Morning</td>\n",
       "      <td>DL</td>\n",
       "      <td>59.300000</td>\n",
       "    </tr>\n",
       "    <tr>\n",
       "      <th>...</th>\n",
       "      <td>...</td>\n",
       "      <td>...</td>\n",
       "      <td>...</td>\n",
       "      <td>...</td>\n",
       "      <td>...</td>\n",
       "    </tr>\n",
       "    <tr>\n",
       "      <th>23232</th>\n",
       "      <td>YKM</td>\n",
       "      <td>SEA</td>\n",
       "      <td>RedEye</td>\n",
       "      <td>QX</td>\n",
       "      <td>9.375000</td>\n",
       "    </tr>\n",
       "    <tr>\n",
       "      <th>23233</th>\n",
       "      <td>YNG</td>\n",
       "      <td>SFB</td>\n",
       "      <td>Evening</td>\n",
       "      <td>G4</td>\n",
       "      <td>9.000000</td>\n",
       "    </tr>\n",
       "    <tr>\n",
       "      <th>23234</th>\n",
       "      <td>YUM</td>\n",
       "      <td>PHX</td>\n",
       "      <td>Afternoon</td>\n",
       "      <td>OO</td>\n",
       "      <td>22.181818</td>\n",
       "    </tr>\n",
       "    <tr>\n",
       "      <th>23235</th>\n",
       "      <td>YUM</td>\n",
       "      <td>PHX</td>\n",
       "      <td>Evening</td>\n",
       "      <td>OO</td>\n",
       "      <td>23.857143</td>\n",
       "    </tr>\n",
       "    <tr>\n",
       "      <th>23236</th>\n",
       "      <td>YUM</td>\n",
       "      <td>PHX</td>\n",
       "      <td>Morning</td>\n",
       "      <td>OO</td>\n",
       "      <td>19.000000</td>\n",
       "    </tr>\n",
       "  </tbody>\n",
       "</table>\n",
       "<p>23237 rows × 5 columns</p>\n",
       "</div>"
      ],
      "text/plain": [
       "      origin dest crs_arr_timeblk op_unique_carrier  \\\n",
       "0        ABE  ATL       Afternoon                9E   \n",
       "1        ABE  ATL       Afternoon                EV   \n",
       "2        ABE  ATL         Evening                9E   \n",
       "3        ABE  ATL         Evening                EV   \n",
       "4        ABE  ATL         Morning                DL   \n",
       "...      ...  ...             ...               ...   \n",
       "23232    YKM  SEA          RedEye                QX   \n",
       "23233    YNG  SFB         Evening                G4   \n",
       "23234    YUM  PHX       Afternoon                OO   \n",
       "23235    YUM  PHX         Evening                OO   \n",
       "23236    YUM  PHX         Morning                OO   \n",
       "\n",
       "       route_day_timeblk_airline_avg_arr  \n",
       "0                              50.750000  \n",
       "1                               1.000000  \n",
       "2                              46.571429  \n",
       "3                               5.750000  \n",
       "4                              59.300000  \n",
       "...                                  ...  \n",
       "23232                           9.375000  \n",
       "23233                           9.000000  \n",
       "23234                          22.181818  \n",
       "23235                          23.857143  \n",
       "23236                          19.000000  \n",
       "\n",
       "[23237 rows x 5 columns]"
      ]
     },
     "execution_count": 175,
     "metadata": {},
     "output_type": "execute_result"
    }
   ],
   "source": [
    "df_rounte_day_timeblk_airline_avg_arr"
   ]
  },
  {
   "cell_type": "code",
   "execution_count": 176,
   "id": "2dabca7e-dc4a-4eaa-8a2b-7f56ab0b2054",
   "metadata": {},
   "outputs": [
    {
     "data": {
      "text/html": [
       "<div>\n",
       "<style scoped>\n",
       "    .dataframe tbody tr th:only-of-type {\n",
       "        vertical-align: middle;\n",
       "    }\n",
       "\n",
       "    .dataframe tbody tr th {\n",
       "        vertical-align: top;\n",
       "    }\n",
       "\n",
       "    .dataframe thead th {\n",
       "        text-align: right;\n",
       "    }\n",
       "</style>\n",
       "<table border=\"1\" class=\"dataframe\">\n",
       "  <thead>\n",
       "    <tr style=\"text-align: right;\">\n",
       "      <th></th>\n",
       "      <th>fl_date</th>\n",
       "      <th>mkt_unique_carrier</th>\n",
       "      <th>branded_code_share</th>\n",
       "      <th>mkt_carrier</th>\n",
       "      <th>mkt_carrier_fl_num</th>\n",
       "      <th>op_unique_carrier</th>\n",
       "      <th>tail_num</th>\n",
       "      <th>op_carrier_fl_num</th>\n",
       "      <th>origin_airport_id</th>\n",
       "      <th>origin</th>\n",
       "      <th>...</th>\n",
       "      <th>distance</th>\n",
       "      <th>Weather_origin</th>\n",
       "      <th>Weather_destin</th>\n",
       "      <th>Visibility_origin</th>\n",
       "      <th>Visibility_destin</th>\n",
       "      <th>windspeed_origin</th>\n",
       "      <th>windspeed_destin</th>\n",
       "      <th>weekday</th>\n",
       "      <th>crs_arr_timeblk</th>\n",
       "      <th>crs_dep_timeblk</th>\n",
       "    </tr>\n",
       "  </thead>\n",
       "  <tbody>\n",
       "    <tr>\n",
       "      <th>0</th>\n",
       "      <td>2020-01-01</td>\n",
       "      <td>WN</td>\n",
       "      <td>WN</td>\n",
       "      <td>WN</td>\n",
       "      <td>3719</td>\n",
       "      <td>WN</td>\n",
       "      <td>N941WN</td>\n",
       "      <td>3719</td>\n",
       "      <td>13931</td>\n",
       "      <td>ORF</td>\n",
       "      <td>...</td>\n",
       "      <td>159</td>\n",
       "      <td>clear</td>\n",
       "      <td>clear</td>\n",
       "      <td>highvisibility</td>\n",
       "      <td>highvisibility</td>\n",
       "      <td>lowwindspeed</td>\n",
       "      <td>lowwindspeed</td>\n",
       "      <td>2</td>\n",
       "      <td>Afternoon</td>\n",
       "      <td>Morning</td>\n",
       "    </tr>\n",
       "    <tr>\n",
       "      <th>1</th>\n",
       "      <td>2020-01-01</td>\n",
       "      <td>WN</td>\n",
       "      <td>WN</td>\n",
       "      <td>WN</td>\n",
       "      <td>4863</td>\n",
       "      <td>WN</td>\n",
       "      <td>N496WN</td>\n",
       "      <td>4863</td>\n",
       "      <td>13931</td>\n",
       "      <td>ORF</td>\n",
       "      <td>...</td>\n",
       "      <td>159</td>\n",
       "      <td>clear</td>\n",
       "      <td>clear</td>\n",
       "      <td>highvisibility</td>\n",
       "      <td>highvisibility</td>\n",
       "      <td>lowwindspeed</td>\n",
       "      <td>lowwindspeed</td>\n",
       "      <td>2</td>\n",
       "      <td>Morning</td>\n",
       "      <td>RedEye</td>\n",
       "    </tr>\n",
       "    <tr>\n",
       "      <th>2</th>\n",
       "      <td>2020-01-01</td>\n",
       "      <td>WN</td>\n",
       "      <td>WN</td>\n",
       "      <td>WN</td>\n",
       "      <td>4924</td>\n",
       "      <td>WN</td>\n",
       "      <td>N7732A</td>\n",
       "      <td>4924</td>\n",
       "      <td>13931</td>\n",
       "      <td>ORF</td>\n",
       "      <td>...</td>\n",
       "      <td>159</td>\n",
       "      <td>clear</td>\n",
       "      <td>clear</td>\n",
       "      <td>highvisibility</td>\n",
       "      <td>highvisibility</td>\n",
       "      <td>lowwindspeed</td>\n",
       "      <td>lowwindspeed</td>\n",
       "      <td>2</td>\n",
       "      <td>Evening</td>\n",
       "      <td>Evening</td>\n",
       "    </tr>\n",
       "    <tr>\n",
       "      <th>3</th>\n",
       "      <td>2020-01-01</td>\n",
       "      <td>WN</td>\n",
       "      <td>WN</td>\n",
       "      <td>WN</td>\n",
       "      <td>5321</td>\n",
       "      <td>WN</td>\n",
       "      <td>N7863A</td>\n",
       "      <td>5321</td>\n",
       "      <td>13931</td>\n",
       "      <td>ORF</td>\n",
       "      <td>...</td>\n",
       "      <td>159</td>\n",
       "      <td>clear</td>\n",
       "      <td>clear</td>\n",
       "      <td>highvisibility</td>\n",
       "      <td>highvisibility</td>\n",
       "      <td>lowwindspeed</td>\n",
       "      <td>lowwindspeed</td>\n",
       "      <td>2</td>\n",
       "      <td>Evening</td>\n",
       "      <td>Afternoon</td>\n",
       "    </tr>\n",
       "    <tr>\n",
       "      <th>4</th>\n",
       "      <td>2020-01-01</td>\n",
       "      <td>WN</td>\n",
       "      <td>WN</td>\n",
       "      <td>WN</td>\n",
       "      <td>4887</td>\n",
       "      <td>WN</td>\n",
       "      <td>N246LV</td>\n",
       "      <td>4887</td>\n",
       "      <td>14027</td>\n",
       "      <td>PBI</td>\n",
       "      <td>...</td>\n",
       "      <td>883</td>\n",
       "      <td>clear</td>\n",
       "      <td>clear</td>\n",
       "      <td>highvisibility</td>\n",
       "      <td>highvisibility</td>\n",
       "      <td>lowwindspeed</td>\n",
       "      <td>lowwindspeed</td>\n",
       "      <td>2</td>\n",
       "      <td>Morning</td>\n",
       "      <td>Morning</td>\n",
       "    </tr>\n",
       "    <tr>\n",
       "      <th>...</th>\n",
       "      <td>...</td>\n",
       "      <td>...</td>\n",
       "      <td>...</td>\n",
       "      <td>...</td>\n",
       "      <td>...</td>\n",
       "      <td>...</td>\n",
       "      <td>...</td>\n",
       "      <td>...</td>\n",
       "      <td>...</td>\n",
       "      <td>...</td>\n",
       "      <td>...</td>\n",
       "      <td>...</td>\n",
       "      <td>...</td>\n",
       "      <td>...</td>\n",
       "      <td>...</td>\n",
       "      <td>...</td>\n",
       "      <td>...</td>\n",
       "      <td>...</td>\n",
       "      <td>...</td>\n",
       "      <td>...</td>\n",
       "      <td>...</td>\n",
       "    </tr>\n",
       "    <tr>\n",
       "      <th>17765</th>\n",
       "      <td>2020-01-01</td>\n",
       "      <td>AS</td>\n",
       "      <td>AS</td>\n",
       "      <td>AS</td>\n",
       "      <td>70</td>\n",
       "      <td>AS</td>\n",
       "      <td>N644AS</td>\n",
       "      <td>70</td>\n",
       "      <td>12523</td>\n",
       "      <td>JNU</td>\n",
       "      <td>...</td>\n",
       "      <td>95</td>\n",
       "      <td>storm</td>\n",
       "      <td>storm</td>\n",
       "      <td>lowvisibility</td>\n",
       "      <td>lowvisibility</td>\n",
       "      <td>lowwindspeed</td>\n",
       "      <td>lowwindspeed</td>\n",
       "      <td>2</td>\n",
       "      <td>RedEye</td>\n",
       "      <td>Evening</td>\n",
       "    </tr>\n",
       "    <tr>\n",
       "      <th>17766</th>\n",
       "      <td>2020-01-01</td>\n",
       "      <td>AS</td>\n",
       "      <td>AS</td>\n",
       "      <td>AS</td>\n",
       "      <td>64</td>\n",
       "      <td>AS</td>\n",
       "      <td>N622AS</td>\n",
       "      <td>64</td>\n",
       "      <td>12523</td>\n",
       "      <td>JNU</td>\n",
       "      <td>...</td>\n",
       "      <td>123</td>\n",
       "      <td>storm</td>\n",
       "      <td>heavyrain</td>\n",
       "      <td>lowvisibility</td>\n",
       "      <td>lowvisibility</td>\n",
       "      <td>lowwindspeed</td>\n",
       "      <td>lowwindspeed</td>\n",
       "      <td>2</td>\n",
       "      <td>Afternoon</td>\n",
       "      <td>Afternoon</td>\n",
       "    </tr>\n",
       "    <tr>\n",
       "      <th>17767</th>\n",
       "      <td>2020-01-01</td>\n",
       "      <td>AS</td>\n",
       "      <td>AS</td>\n",
       "      <td>AS</td>\n",
       "      <td>65</td>\n",
       "      <td>AS</td>\n",
       "      <td>N607AS</td>\n",
       "      <td>65</td>\n",
       "      <td>15841</td>\n",
       "      <td>WRG</td>\n",
       "      <td>...</td>\n",
       "      <td>31</td>\n",
       "      <td>heavyrain</td>\n",
       "      <td>heavyrain</td>\n",
       "      <td>lowvisibility</td>\n",
       "      <td>lowvisibility</td>\n",
       "      <td>lowwindspeed</td>\n",
       "      <td>lowwindspeed</td>\n",
       "      <td>2</td>\n",
       "      <td>Morning</td>\n",
       "      <td>Morning</td>\n",
       "    </tr>\n",
       "    <tr>\n",
       "      <th>17768</th>\n",
       "      <td>2020-01-01</td>\n",
       "      <td>AS</td>\n",
       "      <td>AS</td>\n",
       "      <td>AS</td>\n",
       "      <td>64</td>\n",
       "      <td>AS</td>\n",
       "      <td>N622AS</td>\n",
       "      <td>64</td>\n",
       "      <td>14256</td>\n",
       "      <td>PSG</td>\n",
       "      <td>...</td>\n",
       "      <td>31</td>\n",
       "      <td>heavyrain</td>\n",
       "      <td>heavyrain</td>\n",
       "      <td>lowvisibility</td>\n",
       "      <td>lowvisibility</td>\n",
       "      <td>lowwindspeed</td>\n",
       "      <td>lowwindspeed</td>\n",
       "      <td>2</td>\n",
       "      <td>Afternoon</td>\n",
       "      <td>Afternoon</td>\n",
       "    </tr>\n",
       "    <tr>\n",
       "      <th>17769</th>\n",
       "      <td>2020-01-01</td>\n",
       "      <td>UA</td>\n",
       "      <td>UA</td>\n",
       "      <td>UA</td>\n",
       "      <td>174</td>\n",
       "      <td>UA</td>\n",
       "      <td>N34282</td>\n",
       "      <td>174</td>\n",
       "      <td>12016</td>\n",
       "      <td>GUM</td>\n",
       "      <td>...</td>\n",
       "      <td>129</td>\n",
       "      <td>clear</td>\n",
       "      <td>heavyrain</td>\n",
       "      <td>highvisibility</td>\n",
       "      <td>highvisibility</td>\n",
       "      <td>lowwindspeed</td>\n",
       "      <td>highwindspeed</td>\n",
       "      <td>2</td>\n",
       "      <td>Morning</td>\n",
       "      <td>Morning</td>\n",
       "    </tr>\n",
       "  </tbody>\n",
       "</table>\n",
       "<p>17770 rows × 29 columns</p>\n",
       "</div>"
      ],
      "text/plain": [
       "         fl_date mkt_unique_carrier branded_code_share mkt_carrier  \\\n",
       "0     2020-01-01                 WN                 WN          WN   \n",
       "1     2020-01-01                 WN                 WN          WN   \n",
       "2     2020-01-01                 WN                 WN          WN   \n",
       "3     2020-01-01                 WN                 WN          WN   \n",
       "4     2020-01-01                 WN                 WN          WN   \n",
       "...          ...                ...                ...         ...   \n",
       "17765 2020-01-01                 AS                 AS          AS   \n",
       "17766 2020-01-01                 AS                 AS          AS   \n",
       "17767 2020-01-01                 AS                 AS          AS   \n",
       "17768 2020-01-01                 AS                 AS          AS   \n",
       "17769 2020-01-01                 UA                 UA          UA   \n",
       "\n",
       "       mkt_carrier_fl_num op_unique_carrier tail_num  op_carrier_fl_num  \\\n",
       "0                    3719                WN   N941WN               3719   \n",
       "1                    4863                WN   N496WN               4863   \n",
       "2                    4924                WN   N7732A               4924   \n",
       "3                    5321                WN   N7863A               5321   \n",
       "4                    4887                WN   N246LV               4887   \n",
       "...                   ...               ...      ...                ...   \n",
       "17765                  70                AS   N644AS                 70   \n",
       "17766                  64                AS   N622AS                 64   \n",
       "17767                  65                AS   N607AS                 65   \n",
       "17768                  64                AS   N622AS                 64   \n",
       "17769                 174                UA   N34282                174   \n",
       "\n",
       "       origin_airport_id origin  ... distance  Weather_origin Weather_destin  \\\n",
       "0                  13931    ORF  ...      159           clear          clear   \n",
       "1                  13931    ORF  ...      159           clear          clear   \n",
       "2                  13931    ORF  ...      159           clear          clear   \n",
       "3                  13931    ORF  ...      159           clear          clear   \n",
       "4                  14027    PBI  ...      883           clear          clear   \n",
       "...                  ...    ...  ...      ...             ...            ...   \n",
       "17765              12523    JNU  ...       95           storm          storm   \n",
       "17766              12523    JNU  ...      123           storm      heavyrain   \n",
       "17767              15841    WRG  ...       31       heavyrain      heavyrain   \n",
       "17768              14256    PSG  ...       31       heavyrain      heavyrain   \n",
       "17769              12016    GUM  ...      129           clear      heavyrain   \n",
       "\n",
       "      Visibility_origin  Visibility_destin  windspeed_origin windspeed_destin  \\\n",
       "0        highvisibility     highvisibility      lowwindspeed     lowwindspeed   \n",
       "1        highvisibility     highvisibility      lowwindspeed     lowwindspeed   \n",
       "2        highvisibility     highvisibility      lowwindspeed     lowwindspeed   \n",
       "3        highvisibility     highvisibility      lowwindspeed     lowwindspeed   \n",
       "4        highvisibility     highvisibility      lowwindspeed     lowwindspeed   \n",
       "...                 ...                ...               ...              ...   \n",
       "17765     lowvisibility      lowvisibility      lowwindspeed     lowwindspeed   \n",
       "17766     lowvisibility      lowvisibility      lowwindspeed     lowwindspeed   \n",
       "17767     lowvisibility      lowvisibility      lowwindspeed     lowwindspeed   \n",
       "17768     lowvisibility      lowvisibility      lowwindspeed     lowwindspeed   \n",
       "17769    highvisibility     highvisibility      lowwindspeed    highwindspeed   \n",
       "\n",
       "       weekday  crs_arr_timeblk  crs_dep_timeblk  \n",
       "0            2        Afternoon          Morning  \n",
       "1            2          Morning           RedEye  \n",
       "2            2          Evening          Evening  \n",
       "3            2          Evening        Afternoon  \n",
       "4            2          Morning          Morning  \n",
       "...        ...              ...              ...  \n",
       "17765        2           RedEye          Evening  \n",
       "17766        2        Afternoon        Afternoon  \n",
       "17767        2          Morning          Morning  \n",
       "17768        2        Afternoon        Afternoon  \n",
       "17769        2          Morning          Morning  \n",
       "\n",
       "[17770 rows x 29 columns]"
      ]
     },
     "execution_count": 176,
     "metadata": {},
     "output_type": "execute_result"
    }
   ],
   "source": [
    "df_test"
   ]
  },
  {
   "cell_type": "code",
   "execution_count": null,
   "id": "ca2d3098-0a82-4ca7-98e3-ae2abc6f6f32",
   "metadata": {},
   "outputs": [],
   "source": []
  },
  {
   "cell_type": "code",
   "execution_count": 196,
   "id": "7de371ad-db44-43d3-9549-5a59c40e80ad",
   "metadata": {},
   "outputs": [],
   "source": [
    "#For_testing_data"
   ]
  },
  {
   "cell_type": "code",
   "execution_count": null,
   "id": "556c2f52-8c2e-4d36-b04b-6710d43755b3",
   "metadata": {},
   "outputs": [],
   "source": []
  },
  {
   "cell_type": "code",
   "execution_count": null,
   "id": "2b40742f-f6f0-4588-90bc-d9e8126d3df9",
   "metadata": {},
   "outputs": [],
   "source": []
  },
  {
   "cell_type": "code",
   "execution_count": 300,
   "id": "67d86362-758f-428a-8ee9-c30a68c2349c",
   "metadata": {
    "tags": []
   },
   "outputs": [],
   "source": [
    "df_arr=df.groupby(['op_unique_carrier']).agg({'arr_delay':'mean',}).reset_index()"
   ]
  },
  {
   "cell_type": "code",
   "execution_count": 303,
   "id": "a0d73d72-e0fe-47cc-b91e-ca05fbdb3fbb",
   "metadata": {},
   "outputs": [],
   "source": [
    "df_dep=df.groupby(['op_unique_carrier']).agg({'dep_delay':'mean',}).reset_index()"
   ]
  },
  {
   "cell_type": "code",
   "execution_count": 301,
   "id": "898a1f06-fdab-4d09-9d46-a6c60a99d193",
   "metadata": {},
   "outputs": [],
   "source": [
    "df_arr=df_arr.rename(columns={'arr_delay':'avg_arr'})"
   ]
  },
  {
   "cell_type": "code",
   "execution_count": 304,
   "id": "a00b3f97-e3d9-4c28-9b13-02b0f72ae0ff",
   "metadata": {},
   "outputs": [],
   "source": [
    "df_dep=df_dep.rename(columns={'dep_delay':'avg_dep'})"
   ]
  },
  {
   "cell_type": "code",
   "execution_count": null,
   "id": "a54077a6-d836-4412-a852-7cdd960ede89",
   "metadata": {},
   "outputs": [],
   "source": []
  },
  {
   "cell_type": "code",
   "execution_count": 305,
   "id": "3d1be232-116a-4b41-a0ac-bbe7928bf8f0",
   "metadata": {},
   "outputs": [],
   "source": [
    "df_t=df_test.copy()"
   ]
  },
  {
   "cell_type": "code",
   "execution_count": 306,
   "id": "jxhFYgW30q1m",
   "metadata": {
    "executionInfo": {
     "elapsed": 3082,
     "status": "ok",
     "timestamp": 1657260517345,
     "user": {
      "displayName": "olivia han",
      "userId": "16453021985307431611"
     },
     "user_tz": 420
    },
    "id": "jxhFYgW30q1m"
   },
   "outputs": [],
   "source": [
    "df_t=df_t.merge(df_arr,on=['op_unique_carrier'],how='left').drop_duplicates(keep='first')"
   ]
  },
  {
   "cell_type": "code",
   "execution_count": 312,
   "id": "25a960b4-092e-4b82-ad12-cf62dcad99fd",
   "metadata": {},
   "outputs": [],
   "source": [
    "df_t=df_t.merge(df_dep,on=['op_unique_carrier'],how='left').drop_duplicates(keep='first')"
   ]
  },
  {
   "cell_type": "code",
   "execution_count": 313,
   "id": "df6a9a73-7aee-4d05-a6a4-b81c03e140c3",
   "metadata": {},
   "outputs": [
    {
     "data": {
      "text/html": [
       "<div>\n",
       "<style scoped>\n",
       "    .dataframe tbody tr th:only-of-type {\n",
       "        vertical-align: middle;\n",
       "    }\n",
       "\n",
       "    .dataframe tbody tr th {\n",
       "        vertical-align: top;\n",
       "    }\n",
       "\n",
       "    .dataframe thead th {\n",
       "        text-align: right;\n",
       "    }\n",
       "</style>\n",
       "<table border=\"1\" class=\"dataframe\">\n",
       "  <thead>\n",
       "    <tr style=\"text-align: right;\">\n",
       "      <th></th>\n",
       "      <th>fl_date</th>\n",
       "      <th>mkt_unique_carrier</th>\n",
       "      <th>branded_code_share</th>\n",
       "      <th>mkt_carrier</th>\n",
       "      <th>mkt_carrier_fl_num</th>\n",
       "      <th>op_unique_carrier</th>\n",
       "      <th>tail_num</th>\n",
       "      <th>op_carrier_fl_num</th>\n",
       "      <th>origin_airport_id</th>\n",
       "      <th>origin</th>\n",
       "      <th>...</th>\n",
       "      <th>Weather_destin</th>\n",
       "      <th>Visibility_origin</th>\n",
       "      <th>Visibility_destin</th>\n",
       "      <th>windspeed_origin</th>\n",
       "      <th>windspeed_destin</th>\n",
       "      <th>weekday</th>\n",
       "      <th>crs_arr_timeblk</th>\n",
       "      <th>crs_dep_timeblk</th>\n",
       "      <th>avg_arr</th>\n",
       "      <th>avg_dep</th>\n",
       "    </tr>\n",
       "  </thead>\n",
       "  <tbody>\n",
       "    <tr>\n",
       "      <th>0</th>\n",
       "      <td>2020-01-01</td>\n",
       "      <td>WN</td>\n",
       "      <td>WN</td>\n",
       "      <td>WN</td>\n",
       "      <td>3719</td>\n",
       "      <td>WN</td>\n",
       "      <td>N941WN</td>\n",
       "      <td>3719</td>\n",
       "      <td>13931</td>\n",
       "      <td>ORF</td>\n",
       "      <td>...</td>\n",
       "      <td>clear</td>\n",
       "      <td>highvisibility</td>\n",
       "      <td>highvisibility</td>\n",
       "      <td>lowwindspeed</td>\n",
       "      <td>lowwindspeed</td>\n",
       "      <td>2</td>\n",
       "      <td>Afternoon</td>\n",
       "      <td>Morning</td>\n",
       "      <td>-1.379324</td>\n",
       "      <td>6.408516</td>\n",
       "    </tr>\n",
       "    <tr>\n",
       "      <th>1</th>\n",
       "      <td>2020-01-01</td>\n",
       "      <td>WN</td>\n",
       "      <td>WN</td>\n",
       "      <td>WN</td>\n",
       "      <td>4863</td>\n",
       "      <td>WN</td>\n",
       "      <td>N496WN</td>\n",
       "      <td>4863</td>\n",
       "      <td>13931</td>\n",
       "      <td>ORF</td>\n",
       "      <td>...</td>\n",
       "      <td>clear</td>\n",
       "      <td>highvisibility</td>\n",
       "      <td>highvisibility</td>\n",
       "      <td>lowwindspeed</td>\n",
       "      <td>lowwindspeed</td>\n",
       "      <td>2</td>\n",
       "      <td>Morning</td>\n",
       "      <td>RedEye</td>\n",
       "      <td>-1.379324</td>\n",
       "      <td>6.408516</td>\n",
       "    </tr>\n",
       "    <tr>\n",
       "      <th>2</th>\n",
       "      <td>2020-01-01</td>\n",
       "      <td>WN</td>\n",
       "      <td>WN</td>\n",
       "      <td>WN</td>\n",
       "      <td>4924</td>\n",
       "      <td>WN</td>\n",
       "      <td>N7732A</td>\n",
       "      <td>4924</td>\n",
       "      <td>13931</td>\n",
       "      <td>ORF</td>\n",
       "      <td>...</td>\n",
       "      <td>clear</td>\n",
       "      <td>highvisibility</td>\n",
       "      <td>highvisibility</td>\n",
       "      <td>lowwindspeed</td>\n",
       "      <td>lowwindspeed</td>\n",
       "      <td>2</td>\n",
       "      <td>Evening</td>\n",
       "      <td>Evening</td>\n",
       "      <td>-1.379324</td>\n",
       "      <td>6.408516</td>\n",
       "    </tr>\n",
       "    <tr>\n",
       "      <th>3</th>\n",
       "      <td>2020-01-01</td>\n",
       "      <td>WN</td>\n",
       "      <td>WN</td>\n",
       "      <td>WN</td>\n",
       "      <td>5321</td>\n",
       "      <td>WN</td>\n",
       "      <td>N7863A</td>\n",
       "      <td>5321</td>\n",
       "      <td>13931</td>\n",
       "      <td>ORF</td>\n",
       "      <td>...</td>\n",
       "      <td>clear</td>\n",
       "      <td>highvisibility</td>\n",
       "      <td>highvisibility</td>\n",
       "      <td>lowwindspeed</td>\n",
       "      <td>lowwindspeed</td>\n",
       "      <td>2</td>\n",
       "      <td>Evening</td>\n",
       "      <td>Afternoon</td>\n",
       "      <td>-1.379324</td>\n",
       "      <td>6.408516</td>\n",
       "    </tr>\n",
       "    <tr>\n",
       "      <th>4</th>\n",
       "      <td>2020-01-01</td>\n",
       "      <td>WN</td>\n",
       "      <td>WN</td>\n",
       "      <td>WN</td>\n",
       "      <td>4887</td>\n",
       "      <td>WN</td>\n",
       "      <td>N246LV</td>\n",
       "      <td>4887</td>\n",
       "      <td>14027</td>\n",
       "      <td>PBI</td>\n",
       "      <td>...</td>\n",
       "      <td>clear</td>\n",
       "      <td>highvisibility</td>\n",
       "      <td>highvisibility</td>\n",
       "      <td>lowwindspeed</td>\n",
       "      <td>lowwindspeed</td>\n",
       "      <td>2</td>\n",
       "      <td>Morning</td>\n",
       "      <td>Morning</td>\n",
       "      <td>-1.379324</td>\n",
       "      <td>6.408516</td>\n",
       "    </tr>\n",
       "    <tr>\n",
       "      <th>...</th>\n",
       "      <td>...</td>\n",
       "      <td>...</td>\n",
       "      <td>...</td>\n",
       "      <td>...</td>\n",
       "      <td>...</td>\n",
       "      <td>...</td>\n",
       "      <td>...</td>\n",
       "      <td>...</td>\n",
       "      <td>...</td>\n",
       "      <td>...</td>\n",
       "      <td>...</td>\n",
       "      <td>...</td>\n",
       "      <td>...</td>\n",
       "      <td>...</td>\n",
       "      <td>...</td>\n",
       "      <td>...</td>\n",
       "      <td>...</td>\n",
       "      <td>...</td>\n",
       "      <td>...</td>\n",
       "      <td>...</td>\n",
       "      <td>...</td>\n",
       "    </tr>\n",
       "    <tr>\n",
       "      <th>17765</th>\n",
       "      <td>2020-01-01</td>\n",
       "      <td>AS</td>\n",
       "      <td>AS</td>\n",
       "      <td>AS</td>\n",
       "      <td>70</td>\n",
       "      <td>AS</td>\n",
       "      <td>N644AS</td>\n",
       "      <td>70</td>\n",
       "      <td>12523</td>\n",
       "      <td>JNU</td>\n",
       "      <td>...</td>\n",
       "      <td>storm</td>\n",
       "      <td>lowvisibility</td>\n",
       "      <td>lowvisibility</td>\n",
       "      <td>lowwindspeed</td>\n",
       "      <td>lowwindspeed</td>\n",
       "      <td>2</td>\n",
       "      <td>RedEye</td>\n",
       "      <td>Evening</td>\n",
       "      <td>-4.464361</td>\n",
       "      <td>-0.969753</td>\n",
       "    </tr>\n",
       "    <tr>\n",
       "      <th>17766</th>\n",
       "      <td>2020-01-01</td>\n",
       "      <td>AS</td>\n",
       "      <td>AS</td>\n",
       "      <td>AS</td>\n",
       "      <td>64</td>\n",
       "      <td>AS</td>\n",
       "      <td>N622AS</td>\n",
       "      <td>64</td>\n",
       "      <td>12523</td>\n",
       "      <td>JNU</td>\n",
       "      <td>...</td>\n",
       "      <td>heavyrain</td>\n",
       "      <td>lowvisibility</td>\n",
       "      <td>lowvisibility</td>\n",
       "      <td>lowwindspeed</td>\n",
       "      <td>lowwindspeed</td>\n",
       "      <td>2</td>\n",
       "      <td>Afternoon</td>\n",
       "      <td>Afternoon</td>\n",
       "      <td>-4.464361</td>\n",
       "      <td>-0.969753</td>\n",
       "    </tr>\n",
       "    <tr>\n",
       "      <th>17767</th>\n",
       "      <td>2020-01-01</td>\n",
       "      <td>AS</td>\n",
       "      <td>AS</td>\n",
       "      <td>AS</td>\n",
       "      <td>65</td>\n",
       "      <td>AS</td>\n",
       "      <td>N607AS</td>\n",
       "      <td>65</td>\n",
       "      <td>15841</td>\n",
       "      <td>WRG</td>\n",
       "      <td>...</td>\n",
       "      <td>heavyrain</td>\n",
       "      <td>lowvisibility</td>\n",
       "      <td>lowvisibility</td>\n",
       "      <td>lowwindspeed</td>\n",
       "      <td>lowwindspeed</td>\n",
       "      <td>2</td>\n",
       "      <td>Morning</td>\n",
       "      <td>Morning</td>\n",
       "      <td>-4.464361</td>\n",
       "      <td>-0.969753</td>\n",
       "    </tr>\n",
       "    <tr>\n",
       "      <th>17768</th>\n",
       "      <td>2020-01-01</td>\n",
       "      <td>AS</td>\n",
       "      <td>AS</td>\n",
       "      <td>AS</td>\n",
       "      <td>64</td>\n",
       "      <td>AS</td>\n",
       "      <td>N622AS</td>\n",
       "      <td>64</td>\n",
       "      <td>14256</td>\n",
       "      <td>PSG</td>\n",
       "      <td>...</td>\n",
       "      <td>heavyrain</td>\n",
       "      <td>lowvisibility</td>\n",
       "      <td>lowvisibility</td>\n",
       "      <td>lowwindspeed</td>\n",
       "      <td>lowwindspeed</td>\n",
       "      <td>2</td>\n",
       "      <td>Afternoon</td>\n",
       "      <td>Afternoon</td>\n",
       "      <td>-4.464361</td>\n",
       "      <td>-0.969753</td>\n",
       "    </tr>\n",
       "    <tr>\n",
       "      <th>17769</th>\n",
       "      <td>2020-01-01</td>\n",
       "      <td>UA</td>\n",
       "      <td>UA</td>\n",
       "      <td>UA</td>\n",
       "      <td>174</td>\n",
       "      <td>UA</td>\n",
       "      <td>N34282</td>\n",
       "      <td>174</td>\n",
       "      <td>12016</td>\n",
       "      <td>GUM</td>\n",
       "      <td>...</td>\n",
       "      <td>heavyrain</td>\n",
       "      <td>highvisibility</td>\n",
       "      <td>highvisibility</td>\n",
       "      <td>lowwindspeed</td>\n",
       "      <td>highwindspeed</td>\n",
       "      <td>2</td>\n",
       "      <td>Morning</td>\n",
       "      <td>Morning</td>\n",
       "      <td>1.494380</td>\n",
       "      <td>8.501611</td>\n",
       "    </tr>\n",
       "  </tbody>\n",
       "</table>\n",
       "<p>17770 rows × 31 columns</p>\n",
       "</div>"
      ],
      "text/plain": [
       "         fl_date mkt_unique_carrier branded_code_share mkt_carrier  \\\n",
       "0     2020-01-01                 WN                 WN          WN   \n",
       "1     2020-01-01                 WN                 WN          WN   \n",
       "2     2020-01-01                 WN                 WN          WN   \n",
       "3     2020-01-01                 WN                 WN          WN   \n",
       "4     2020-01-01                 WN                 WN          WN   \n",
       "...          ...                ...                ...         ...   \n",
       "17765 2020-01-01                 AS                 AS          AS   \n",
       "17766 2020-01-01                 AS                 AS          AS   \n",
       "17767 2020-01-01                 AS                 AS          AS   \n",
       "17768 2020-01-01                 AS                 AS          AS   \n",
       "17769 2020-01-01                 UA                 UA          UA   \n",
       "\n",
       "       mkt_carrier_fl_num op_unique_carrier tail_num  op_carrier_fl_num  \\\n",
       "0                    3719                WN   N941WN               3719   \n",
       "1                    4863                WN   N496WN               4863   \n",
       "2                    4924                WN   N7732A               4924   \n",
       "3                    5321                WN   N7863A               5321   \n",
       "4                    4887                WN   N246LV               4887   \n",
       "...                   ...               ...      ...                ...   \n",
       "17765                  70                AS   N644AS                 70   \n",
       "17766                  64                AS   N622AS                 64   \n",
       "17767                  65                AS   N607AS                 65   \n",
       "17768                  64                AS   N622AS                 64   \n",
       "17769                 174                UA   N34282                174   \n",
       "\n",
       "       origin_airport_id origin  ... Weather_destin  Visibility_origin  \\\n",
       "0                  13931    ORF  ...          clear     highvisibility   \n",
       "1                  13931    ORF  ...          clear     highvisibility   \n",
       "2                  13931    ORF  ...          clear     highvisibility   \n",
       "3                  13931    ORF  ...          clear     highvisibility   \n",
       "4                  14027    PBI  ...          clear     highvisibility   \n",
       "...                  ...    ...  ...            ...                ...   \n",
       "17765              12523    JNU  ...          storm      lowvisibility   \n",
       "17766              12523    JNU  ...      heavyrain      lowvisibility   \n",
       "17767              15841    WRG  ...      heavyrain      lowvisibility   \n",
       "17768              14256    PSG  ...      heavyrain      lowvisibility   \n",
       "17769              12016    GUM  ...      heavyrain     highvisibility   \n",
       "\n",
       "      Visibility_destin windspeed_origin  windspeed_destin  weekday  \\\n",
       "0        highvisibility     lowwindspeed      lowwindspeed        2   \n",
       "1        highvisibility     lowwindspeed      lowwindspeed        2   \n",
       "2        highvisibility     lowwindspeed      lowwindspeed        2   \n",
       "3        highvisibility     lowwindspeed      lowwindspeed        2   \n",
       "4        highvisibility     lowwindspeed      lowwindspeed        2   \n",
       "...                 ...              ...               ...      ...   \n",
       "17765     lowvisibility     lowwindspeed      lowwindspeed        2   \n",
       "17766     lowvisibility     lowwindspeed      lowwindspeed        2   \n",
       "17767     lowvisibility     lowwindspeed      lowwindspeed        2   \n",
       "17768     lowvisibility     lowwindspeed      lowwindspeed        2   \n",
       "17769    highvisibility     lowwindspeed     highwindspeed        2   \n",
       "\n",
       "      crs_arr_timeblk  crs_dep_timeblk   avg_arr   avg_dep  \n",
       "0           Afternoon          Morning -1.379324  6.408516  \n",
       "1             Morning           RedEye -1.379324  6.408516  \n",
       "2             Evening          Evening -1.379324  6.408516  \n",
       "3             Evening        Afternoon -1.379324  6.408516  \n",
       "4             Morning          Morning -1.379324  6.408516  \n",
       "...               ...              ...       ...       ...  \n",
       "17765          RedEye          Evening -4.464361 -0.969753  \n",
       "17766       Afternoon        Afternoon -4.464361 -0.969753  \n",
       "17767         Morning          Morning -4.464361 -0.969753  \n",
       "17768       Afternoon        Afternoon -4.464361 -0.969753  \n",
       "17769         Morning          Morning  1.494380  8.501611  \n",
       "\n",
       "[17770 rows x 31 columns]"
      ]
     },
     "execution_count": 313,
     "metadata": {},
     "output_type": "execute_result"
    }
   ],
   "source": [
    "df_t"
   ]
  },
  {
   "cell_type": "code",
   "execution_count": null,
   "id": "66531bdd-3a5e-4dd6-b03d-ee1a10ba2704",
   "metadata": {},
   "outputs": [],
   "source": []
  },
  {
   "cell_type": "code",
   "execution_count": null,
   "id": "CB9qnt6jx4MT",
   "metadata": {
    "id": "CB9qnt6jx4MT"
   },
   "outputs": [],
   "source": []
  },
  {
   "cell_type": "code",
   "execution_count": null,
   "id": "IIgrV5aT9Int",
   "metadata": {
    "id": "IIgrV5aT9Int"
   },
   "outputs": [],
   "source": []
  },
  {
   "cell_type": "markdown",
   "id": "-_kcYUjxS68B",
   "metadata": {
    "id": "-_kcYUjxS68B",
    "tags": []
   },
   "source": [
    "# Regression"
   ]
  },
  {
   "cell_type": "code",
   "execution_count": null,
   "id": "CFQ8yuav5Blb",
   "metadata": {
    "id": "CFQ8yuav5Blb"
   },
   "outputs": [],
   "source": []
  },
  {
   "cell_type": "markdown",
   "id": "zOwleRKs5B5f",
   "metadata": {
    "id": "zOwleRKs5B5f",
    "tags": []
   },
   "source": [
    "\n",
    "## Data Preprocessing"
   ]
  },
  {
   "cell_type": "code",
   "execution_count": null,
   "id": "3ouMKbGv7vds",
   "metadata": {
    "id": "3ouMKbGv7vds"
   },
   "outputs": [],
   "source": [
    "df=df.merge(df.groupby('op_unique_carrier')['arr_delay'].agg(['count','sum','mean']),on='op_unique_carrier')"
   ]
  },
  {
   "cell_type": "code",
   "execution_count": 401,
   "id": "XdAb8f97zK91",
   "metadata": {
    "id": "XdAb8f97zK91"
   },
   "outputs": [],
   "source": [
    "dff=df_t[(df['dest'].isin(airport))&(df_t['origin'].isin(airport))]"
   ]
  },
  {
   "cell_type": "markdown",
   "id": "Uh3uV7f45B5f",
   "metadata": {
    "id": "Uh3uV7f45B5f",
    "tags": []
   },
   "source": [
    "### ONEHOTENCODE"
   ]
  },
  {
   "cell_type": "code",
   "execution_count": 402,
   "id": "bMEZLHrU5B5f",
   "metadata": {
    "id": "bMEZLHrU5B5f"
   },
   "outputs": [],
   "source": [
    "# # # df_final =pd.read_csv('df_finalversion_data_final.csv')\n",
    "# import pickle\n",
    "\n",
    "# pickle_out = open(\"dfffffff.pickle\",\"wb\")\n",
    "# pickle.dump(df, pickle_out)\n",
    "# pickle_out.close()\n",
    "# pickle_in = open(\"dfffffff.pickle\",\"rb\")\n",
    "# df = pickle.load(pickle_in)\n"
   ]
  },
  {
   "cell_type": "code",
   "execution_count": 403,
   "id": "g9TCVgTa5B5g",
   "metadata": {
    "id": "g9TCVgTa5B5g"
   },
   "outputs": [],
   "source": [
    "#  df_airport =pd.read_csv('df_finalversion_data_final_top10airports.csv')\n",
    "#  df_final_modeling=df_airport.copy()"
   ]
  },
  {
   "cell_type": "code",
   "execution_count": 404,
   "id": "DSCYvBCh5B5g",
   "metadata": {
    "id": "DSCYvBCh5B5g"
   },
   "outputs": [],
   "source": [
    "# df_sample=df_final.sample(n=10000)\n",
    "df_sample=dff.copy()"
   ]
  },
  {
   "cell_type": "code",
   "execution_count": 387,
   "id": "PcxBeAK05B5g",
   "metadata": {
    "id": "PcxBeAK05B5g"
   },
   "outputs": [],
   "source": [
    "# X=df_sample.drop('arr_delay',axis=1)"
   ]
  },
  {
   "cell_type": "code",
   "execution_count": 388,
   "id": "WedNpEa45B5g",
   "metadata": {
    "id": "WedNpEa45B5g"
   },
   "outputs": [],
   "source": [
    "# y=df['arr_delay']"
   ]
  },
  {
   "cell_type": "code",
   "execution_count": 405,
   "id": "jbST4s-v5B5g",
   "metadata": {
    "id": "jbST4s-v5B5g"
   },
   "outputs": [],
   "source": [
    "X=df_sample.copy()"
   ]
  },
  {
   "cell_type": "code",
   "execution_count": 406,
   "id": "V5v03Ht85B5h",
   "metadata": {
    "colab": {
     "base_uri": "https://localhost:8080/"
    },
    "executionInfo": {
     "elapsed": 7,
     "status": "ok",
     "timestamp": 1657252472339,
     "user": {
      "displayName": "olivia han",
      "userId": "16453021985307431611"
     },
     "user_tz": 420
    },
    "id": "V5v03Ht85B5h",
    "outputId": "7bad6e69-6105-4919-eaa6-32bebc4727b7"
   },
   "outputs": [
    {
     "data": {
      "text/plain": [
       "Index(['fl_date', 'mkt_unique_carrier', 'branded_code_share', 'mkt_carrier',\n",
       "       'mkt_carrier_fl_num', 'op_unique_carrier', 'tail_num',\n",
       "       'op_carrier_fl_num', 'origin_airport_id', 'origin', 'origin_city_name',\n",
       "       'dest_airport_id', 'dest', 'dest_city_name', 'crs_dep_time',\n",
       "       'crs_arr_time', 'dup', 'crs_elapsed_time', 'flights', 'distance',\n",
       "       'Weather_origin', 'Weather_destin', 'Visibility_origin',\n",
       "       'Visibility_destin', 'windspeed_origin', 'windspeed_destin', 'weekday',\n",
       "       'crs_arr_timeblk', 'crs_dep_timeblk', 'avg_arr', 'avg_dep'],\n",
       "      dtype='object')"
      ]
     },
     "execution_count": 406,
     "metadata": {},
     "output_type": "execute_result"
    }
   ],
   "source": [
    "X.columns"
   ]
  },
  {
   "cell_type": "code",
   "execution_count": 407,
   "id": "VMxsjAby5B5h",
   "metadata": {
    "id": "VMxsjAby5B5h"
   },
   "outputs": [],
   "source": [
    "#Select features"
   ]
  },
  {
   "cell_type": "code",
   "execution_count": 408,
   "id": "k7Da470i5B5h",
   "metadata": {
    "id": "k7Da470i5B5h"
   },
   "outputs": [],
   "source": [
    "X_tmp=X[['dest_airport_id','origin_airport_id','op_unique_carrier','dest','origin','crs_arr_time','crs_dep_time','crs_elapsed_time',\n",
    "       'Weather_origin', 'Weather_destin','crs_arr_timeblk','crs_dep_timeblk','weekday',\n",
    "       'Visibility_origin', 'Visibility_destin', 'windspeed_origin',\n",
    "       'windspeed_destin']]\n",
    "# 'route_day_timeblk_airline_avg_arr',\n",
    "#         'route_day_timeblk_airline_avg_dep'\n",
    "# X_tmp=X[['origin_airport_id','distance','op_unique_carrier','dest','origin','crs_dep_time','crs_arr_time',]]\n"
   ]
  },
  {
   "cell_type": "code",
   "execution_count": 409,
   "id": "cBmEULzJ5B5h",
   "metadata": {
    "id": "cBmEULzJ5B5h"
   },
   "outputs": [],
   "source": [
    "# X_tmp.corr()"
   ]
  },
  {
   "cell_type": "code",
   "execution_count": 410,
   "id": "Hkneffq85B5h",
   "metadata": {
    "id": "Hkneffq85B5h"
   },
   "outputs": [],
   "source": [
    "# #one-hot encoded\n",
    "# enc=OneHotEncoder()\n",
    "# X_encoded=enc.fit_transform(X_tmp)\n",
    "X_encoded=pd.get_dummies(X_tmp)"
   ]
  },
  {
   "cell_type": "code",
   "execution_count": 411,
   "id": "YOqmq_ZW5B5h",
   "metadata": {
    "colab": {
     "base_uri": "https://localhost:8080/"
    },
    "executionInfo": {
     "elapsed": 4,
     "status": "ok",
     "timestamp": 1657252549910,
     "user": {
      "displayName": "olivia han",
      "userId": "16453021985307431611"
     },
     "user_tz": 420
    },
    "id": "YOqmq_ZW5B5h",
    "outputId": "d533d770-f12d-481e-c092-ee3d9e9e6a67"
   },
   "outputs": [
    {
     "data": {
      "text/plain": [
       "(715371,)"
      ]
     },
     "execution_count": 411,
     "metadata": {},
     "output_type": "execute_result"
    }
   ],
   "source": []
  },
  {
   "cell_type": "code",
   "execution_count": 412,
   "id": "qHblUGin5B5h",
   "metadata": {
    "colab": {
     "base_uri": "https://localhost:8080/"
    },
    "executionInfo": {
     "elapsed": 6,
     "status": "ok",
     "timestamp": 1657252550531,
     "user": {
      "displayName": "olivia han",
      "userId": "16453021985307431611"
     },
     "user_tz": 420
    },
    "id": "qHblUGin5B5h",
    "outputId": "ccefed7a-55ee-4ccb-e41d-1996c38999cc"
   },
   "outputs": [
    {
     "data": {
      "text/plain": [
       "(3989, 173)"
      ]
     },
     "execution_count": 412,
     "metadata": {},
     "output_type": "execute_result"
    }
   ],
   "source": [
    "X_encoded.shape"
   ]
  },
  {
   "cell_type": "code",
   "execution_count": null,
   "id": "U3YJqG8G5B5h",
   "metadata": {
    "id": "U3YJqG8G5B5h"
   },
   "outputs": [],
   "source": [
    "# X_1 = enc.fit_transform(X_tmp)\n"
   ]
  },
  {
   "cell_type": "code",
   "execution_count": null,
   "id": "goV2JyIR5B5h",
   "metadata": {
    "colab": {
     "base_uri": "https://localhost:8080/"
    },
    "executionInfo": {
     "elapsed": 8,
     "status": "ok",
     "timestamp": 1657252551995,
     "user": {
      "displayName": "olivia han",
      "userId": "16453021985307431611"
     },
     "user_tz": 420
    },
    "id": "goV2JyIR5B5h",
    "outputId": "309b896c-e155-4038-99e4-51aa06993643"
   },
   "outputs": [
    {
     "data": {
      "text/plain": [
       "(48967, 72)"
      ]
     },
     "execution_count": 47,
     "metadata": {},
     "output_type": "execute_result"
    }
   ],
   "source": [
    "X_encoded.shape"
   ]
  },
  {
   "cell_type": "code",
   "execution_count": null,
   "id": "iT2PB2_E5B5h",
   "metadata": {
    "id": "iT2PB2_E5B5h"
   },
   "outputs": [],
   "source": [
    "X_train, X_test, y_train, y_test = train_test_split(X_encoded, y, test_size=0.25, random_state=0)"
   ]
  },
  {
   "cell_type": "code",
   "execution_count": null,
   "id": "YRu04r9Q0CUM",
   "metadata": {
    "id": "YRu04r9Q0CUM"
   },
   "outputs": [],
   "source": [
    "# # Feature Scaling\n",
    "# from sklearn.preprocessing import StandardScaler\n",
    "# scaler = StandardScaler(with_mean=False)\n",
    "# X_train = scaler.fit_transform(X_train)\n",
    "# X_test = scaler.transform(X_test)"
   ]
  },
  {
   "cell_type": "markdown",
   "id": "vwmziVqb5B5i",
   "metadata": {
    "id": "vwmziVqb5B5i",
    "tags": []
   },
   "source": [
    "### 2. LABELENCODER"
   ]
  },
  {
   "cell_type": "code",
   "execution_count": null,
   "id": "1n5O_7LY5B5i",
   "metadata": {
    "id": "1n5O_7LY5B5i"
   },
   "outputs": [],
   "source": [
    "X=df_sample.drop('arr_delay',axis=1)"
   ]
  },
  {
   "cell_type": "code",
   "execution_count": null,
   "id": "hIQoHk2Y5B5i",
   "metadata": {
    "id": "hIQoHk2Y5B5i"
   },
   "outputs": [],
   "source": [
    "y=df_sample['arr_delay']"
   ]
  },
  {
   "cell_type": "code",
   "execution_count": null,
   "id": "Z5GkdAKb5B5i",
   "metadata": {
    "id": "Z5GkdAKb5B5i"
   },
   "outputs": [],
   "source": [
    "X_tmp=X[['dest_airport_id','origin_airport_id','dest','origin','crs_arr_time',\n",
    "       'Weather_origin', 'Weather_destin','crs_arr_timeblk','crs_dep_timeblk','weekday',\n",
    "       'Visibility_origin', 'Visibility_destin', 'windspeed_origin',\n",
    "       'windspeed_destin','route_day_timeblk_airline_avg_arr',\n",
    "        'route_day_timeblk_airline_avg_dep']]\n",
    "\n",
    "# X_tmp=X[['origin_airport_id','distance','op_unique_carrier','dest','origin','crs_dep_time','crs_arr_time',]]\n"
   ]
  },
  {
   "cell_type": "code",
   "execution_count": null,
   "id": "ysNeDTuK5B5i",
   "metadata": {
    "id": "ysNeDTuK5B5i"
   },
   "outputs": [],
   "source": [
    "enc=LabelEncoder()\n",
    "x=X_tmp.apply(enc.fit_transform)\n"
   ]
  },
  {
   "cell_type": "code",
   "execution_count": null,
   "id": "M0dzxvrA5B5i",
   "metadata": {
    "id": "M0dzxvrA5B5i"
   },
   "outputs": [],
   "source": [
    "X_train, X_test, y_train, y_test = train_test_split(x, y, test_size=0.3, random_state=0)"
   ]
  },
  {
   "cell_type": "markdown",
   "id": "5C4j-pBY5RG9",
   "metadata": {
    "id": "5C4j-pBY5RG9",
    "jp-MarkdownHeadingCollapsed": true,
    "tags": []
   },
   "source": [
    "## Modeling RandomForestRegressor"
   ]
  },
  {
   "cell_type": "code",
   "execution_count": null,
   "id": "wSnzNEM6Tagn",
   "metadata": {
    "id": "wSnzNEM6Tagn"
   },
   "outputs": [],
   "source": [
    "from sklearn.ensemble import RandomForestRegressor\n",
    "from sklearn.metrics import r2_score\n"
   ]
  },
  {
   "cell_type": "code",
   "execution_count": null,
   "id": "yJZKLwi1TD3P",
   "metadata": {
    "colab": {
     "base_uri": "https://localhost:8080/"
    },
    "executionInfo": {
     "elapsed": 35262,
     "status": "ok",
     "timestamp": 1657252591384,
     "user": {
      "displayName": "olivia han",
      "userId": "16453021985307431611"
     },
     "user_tz": 420
    },
    "id": "yJZKLwi1TD3P",
    "outputId": "f24fd8c5-e8f3-438f-e12c-fe00d9f59286"
   },
   "outputs": [
    {
     "data": {
      "text/plain": [
       "RandomForestRegressor()"
      ]
     },
     "execution_count": 51,
     "metadata": {},
     "output_type": "execute_result"
    }
   ],
   "source": [
    "rfr = RandomForestRegressor()\n",
    "rfr.fit(X_train,y_train)"
   ]
  },
  {
   "cell_type": "code",
   "execution_count": null,
   "id": "nNwR1leWTTnn",
   "metadata": {
    "id": "nNwR1leWTTnn"
   },
   "outputs": [],
   "source": [
    "y_pred = rfr.predict(X_test)"
   ]
  },
  {
   "cell_type": "code",
   "execution_count": null,
   "id": "4_SedEipTqSw",
   "metadata": {
    "colab": {
     "base_uri": "https://localhost:8080/"
    },
    "executionInfo": {
     "elapsed": 2143,
     "status": "ok",
     "timestamp": 1657252594164,
     "user": {
      "displayName": "olivia han",
      "userId": "16453021985307431611"
     },
     "user_tz": 420
    },
    "id": "4_SedEipTqSw",
    "outputId": "fd75ec94-9cbc-4509-f2e3-663baa2acfdb"
   },
   "outputs": [
    {
     "data": {
      "text/plain": [
       "0.8594102354150114"
      ]
     },
     "execution_count": 53,
     "metadata": {},
     "output_type": "execute_result"
    }
   ],
   "source": [
    "rfr.score(X_train,y_train)"
   ]
  },
  {
   "cell_type": "code",
   "execution_count": null,
   "id": "QzYomWfIrPUk",
   "metadata": {
    "colab": {
     "base_uri": "https://localhost:8080/"
    },
    "executionInfo": {
     "elapsed": 260,
     "status": "ok",
     "timestamp": 1657252594420,
     "user": {
      "displayName": "olivia han",
      "userId": "16453021985307431611"
     },
     "user_tz": 420
    },
    "id": "QzYomWfIrPUk",
    "outputId": "5eba001d-c132-4967-dd92-65d29ddfc641"
   },
   "outputs": [
    {
     "data": {
      "text/plain": [
       "0.17330105880624025"
      ]
     },
     "execution_count": 54,
     "metadata": {},
     "output_type": "execute_result"
    }
   ],
   "source": [
    "rfr.score(X_test,y_test)"
   ]
  },
  {
   "cell_type": "code",
   "execution_count": null,
   "id": "O6SIOQPUrUyg",
   "metadata": {
    "colab": {
     "base_uri": "https://localhost:8080/"
    },
    "executionInfo": {
     "elapsed": 8,
     "status": "ok",
     "timestamp": 1657250520442,
     "user": {
      "displayName": "olivia han",
      "userId": "16453021985307431611"
     },
     "user_tz": 420
    },
    "id": "O6SIOQPUrUyg",
    "outputId": "4474321d-3c08-44b6-f3f1-880445c69ffe"
   },
   "outputs": [
    {
     "data": {
      "text/plain": [
       "0.20464169015178602"
      ]
     },
     "execution_count": 392,
     "metadata": {},
     "output_type": "execute_result"
    }
   ],
   "source": [
    "r2_score(y_test,y_pred)"
   ]
  },
  {
   "cell_type": "code",
   "execution_count": null,
   "id": "Mnut5_2b6Hhl",
   "metadata": {
    "id": "Mnut5_2b6Hhl"
   },
   "outputs": [],
   "source": []
  },
  {
   "cell_type": "code",
   "execution_count": null,
   "id": "LkOSz8iw6HeJ",
   "metadata": {
    "id": "LkOSz8iw6HeJ"
   },
   "outputs": [],
   "source": [
    "#evaluation"
   ]
  },
  {
   "cell_type": "code",
   "execution_count": null,
   "id": "Bdi5mdVM6Ham",
   "metadata": {
    "id": "Bdi5mdVM6Ham"
   },
   "outputs": [],
   "source": [
    "from sklearn.model_selection import RandomizedSearchCV,GridSearchCV "
   ]
  },
  {
   "cell_type": "code",
   "execution_count": null,
   "id": "3gxaJAEl6HHw",
   "metadata": {
    "id": "3gxaJAEl6HHw"
   },
   "outputs": [],
   "source": [
    "#Randomized Search CV\n",
    "\n",
    "# Number of features to consider at every split\n",
    "max_features = ['auto', 'sqrt']\n",
    "# Maximum number of levels in tree\n",
    "max_depth = [15,20,30]\n",
    "# Minimum number of samples required to split a node\n",
    "min_samples_split = [10, 15]\n",
    "# Minimum number of samples required at each leaf node\n",
    "min_samples_leaf = [5, 10]\n"
   ]
  },
  {
   "cell_type": "code",
   "execution_count": null,
   "id": "XwOLeK3d6Mjz",
   "metadata": {
    "id": "XwOLeK3d6Mjz"
   },
   "outputs": [],
   "source": [
    "# Create the random grid\n",
    "# n_estimators:Number of trees in random forest\n",
    "\n",
    "random_grid = {'n_estimators': [200],\n",
    "               'max_features': ['auto','sqrt'],\n",
    "               'max_depth': [15,],\n",
    "               'min_samples_split': min_samples_split,\n",
    "               'min_samples_leaf': min_samples_leaf}\n"
   ]
  },
  {
   "cell_type": "code",
   "execution_count": null,
   "id": "Uv8PX3x36O1E",
   "metadata": {
    "id": "Uv8PX3x36O1E"
   },
   "outputs": [],
   "source": [
    "# Random search of parameters, using 5 fold cross validation, \n",
    "rf_random = RandomizedSearchCV(estimator = rfr, \n",
    "                               param_distributions = random_grid,\n",
    "                               scoring='neg_mean_squared_error', \n",
    "                               n_iter = 3, cv = 4, \n",
    "                               verbose=2, random_state=42, \n",
    "                               n_jobs = 1)"
   ]
  },
  {
   "cell_type": "code",
   "execution_count": null,
   "id": "Z8Iht0dG6RZ9",
   "metadata": {
    "colab": {
     "base_uri": "https://localhost:8080/"
    },
    "executionInfo": {
     "elapsed": 312642,
     "status": "ok",
     "timestamp": 1657250855870,
     "user": {
      "displayName": "olivia han",
      "userId": "16453021985307431611"
     },
     "user_tz": 420
    },
    "id": "Z8Iht0dG6RZ9",
    "outputId": "81475edd-9290-4367-8c64-19bdb396a810"
   },
   "outputs": [
    {
     "name": "stdout",
     "output_type": "stream",
     "text": [
      "Fitting 4 folds for each of 3 candidates, totalling 12 fits\n",
      "[CV] END max_depth=15, max_features=auto, min_samples_leaf=5, min_samples_split=15, n_estimators=200; total time=  31.3s\n",
      "[CV] END max_depth=15, max_features=auto, min_samples_leaf=5, min_samples_split=15, n_estimators=200; total time=  30.1s\n",
      "[CV] END max_depth=15, max_features=auto, min_samples_leaf=5, min_samples_split=15, n_estimators=200; total time=  35.2s\n",
      "[CV] END max_depth=15, max_features=auto, min_samples_leaf=5, min_samples_split=15, n_estimators=200; total time=  30.2s\n",
      "[CV] END max_depth=15, max_features=sqrt, min_samples_leaf=5, min_samples_split=15, n_estimators=200; total time=   4.6s\n",
      "[CV] END max_depth=15, max_features=sqrt, min_samples_leaf=5, min_samples_split=15, n_estimators=200; total time=   4.6s\n",
      "[CV] END max_depth=15, max_features=sqrt, min_samples_leaf=5, min_samples_split=15, n_estimators=200; total time=   4.7s\n",
      "[CV] END max_depth=15, max_features=sqrt, min_samples_leaf=5, min_samples_split=15, n_estimators=200; total time=   4.6s\n",
      "[CV] END max_depth=15, max_features=auto, min_samples_leaf=5, min_samples_split=10, n_estimators=200; total time=  30.8s\n",
      "[CV] END max_depth=15, max_features=auto, min_samples_leaf=5, min_samples_split=10, n_estimators=200; total time=  31.2s\n",
      "[CV] END max_depth=15, max_features=auto, min_samples_leaf=5, min_samples_split=10, n_estimators=200; total time=  32.5s\n",
      "[CV] END max_depth=15, max_features=auto, min_samples_leaf=5, min_samples_split=10, n_estimators=200; total time=  31.1s\n"
     ]
    },
    {
     "data": {
      "text/plain": [
       "RandomizedSearchCV(cv=4, estimator=RandomForestRegressor(), n_iter=3, n_jobs=1,\n",
       "                   param_distributions={'max_depth': [15],\n",
       "                                        'max_features': ['auto', 'sqrt'],\n",
       "                                        'min_samples_leaf': [5, 10],\n",
       "                                        'min_samples_split': [10, 15],\n",
       "                                        'n_estimators': [200]},\n",
       "                   random_state=42, scoring='neg_mean_squared_error',\n",
       "                   verbose=2)"
      ]
     },
     "execution_count": 397,
     "metadata": {},
     "output_type": "execute_result"
    }
   ],
   "source": [
    "rf_random.fit(X_train,y_train)\n"
   ]
  },
  {
   "cell_type": "code",
   "execution_count": null,
   "id": "XvVEJMU46Tqm",
   "metadata": {
    "colab": {
     "base_uri": "https://localhost:8080/"
    },
    "executionInfo": {
     "elapsed": 230,
     "status": "ok",
     "timestamp": 1657250906598,
     "user": {
      "displayName": "olivia han",
      "userId": "16453021985307431611"
     },
     "user_tz": 420
    },
    "id": "XvVEJMU46Tqm",
    "outputId": "a9c30b83-e312-4bf2-e6d0-ca932f5d56e9"
   },
   "outputs": [
    {
     "data": {
      "text/plain": [
       "{'max_depth': 15,\n",
       " 'max_features': 'auto',\n",
       " 'min_samples_leaf': 5,\n",
       " 'min_samples_split': 15,\n",
       " 'n_estimators': 200}"
      ]
     },
     "execution_count": 398,
     "metadata": {},
     "output_type": "execute_result"
    }
   ],
   "source": [
    "rf_random.best_params_\n"
   ]
  },
  {
   "cell_type": "code",
   "execution_count": null,
   "id": "CFO9KkVZrulH",
   "metadata": {
    "id": "CFO9KkVZrulH"
   },
   "outputs": [],
   "source": [
    "# {'max_depth': 15,\n",
    "#  'max_features': 'auto',\n",
    "#  'min_samples_leaf': 5,\n",
    "#  'min_samples_split': 10,\n",
    "#  'n_estimators': 200}"
   ]
  },
  {
   "cell_type": "code",
   "execution_count": null,
   "id": "xhefdgnb6Wd8",
   "metadata": {
    "id": "xhefdgnb6Wd8"
   },
   "outputs": [],
   "source": [
    "y_predict=rf_random.predict(X_test)\n"
   ]
  },
  {
   "cell_type": "code",
   "execution_count": null,
   "id": "hXtcved_mbQc",
   "metadata": {
    "colab": {
     "base_uri": "https://localhost:8080/"
    },
    "executionInfo": {
     "elapsed": 351,
     "status": "ok",
     "timestamp": 1657250911238,
     "user": {
      "displayName": "olivia han",
      "userId": "16453021985307431611"
     },
     "user_tz": 420
    },
    "id": "hXtcved_mbQc",
    "outputId": "a27fafdc-009c-4b68-caea-8fb1d30880c4"
   },
   "outputs": [
    {
     "data": {
      "text/plain": [
       "0.28172616828884467"
      ]
     },
     "execution_count": 400,
     "metadata": {},
     "output_type": "execute_result"
    }
   ],
   "source": [
    "r2_score(y_test,y_predict)"
   ]
  },
  {
   "cell_type": "markdown",
   "id": "24f7d152-e266-4e09-815b-084fb2509f54",
   "metadata": {
    "id": "24f7d152-e266-4e09-815b-084fb2509f54",
    "jp-MarkdownHeadingCollapsed": true,
    "tags": []
   },
   "source": [
    "## Modeling XGBoost\n"
   ]
  },
  {
   "cell_type": "code",
   "execution_count": null,
   "id": "QXJiN5BDUozf",
   "metadata": {
    "id": "QXJiN5BDUozf"
   },
   "outputs": [],
   "source": [
    "import xgboost as xgb\n",
    "### XGBoost\n",
    "\n",
    "from sklearn.model_selection import RandomizedSearchCV,GridSearchCV\n",
    "\n",
    "#define model\n",
    "#model = xgb.XGBRegressor(tree_method = 'gpu_hist')\n",
    "model = xgb.XGBRegressor(tree_method = 'hist')"
   ]
  },
  {
   "cell_type": "code",
   "execution_count": null,
   "id": "ZqQ_L-5JUuNF",
   "metadata": {
    "id": "ZqQ_L-5JUuNF"
   },
   "outputs": [],
   "source": [
    "#parameter definition\n",
    "params = {\"n_estimators\": [3, 50, 100, 200, 500,700, 1000],\n",
    "'min_child_weight': [1, 5, 7.5, 10],\n",
    "'gamma': [0.5, 1, 1.5, 2, 5],\n",
    "'subsample': [0.6, 0.8, 1.0],\n",
    "'colsample_bytree': [0.6, 0.8, 1.0],\n",
    "'max_depth': [3, 4, 5, 6, 7, 8, 9, 10],\n",
    "'learning_rate': [.01, .02, .05, .1, .15, .2]\n",
    "}"
   ]
  },
  {
   "cell_type": "code",
   "execution_count": null,
   "id": "0ARt8T4GUxCN",
   "metadata": {
    "colab": {
     "base_uri": "https://localhost:8080/"
    },
    "executionInfo": {
     "elapsed": 1705060,
     "status": "ok",
     "timestamp": 1657171007683,
     "user": {
      "displayName": "ripudaman bevli",
      "userId": "06084801483216786470"
     },
     "user_tz": 420
    },
    "id": "0ARt8T4GUxCN",
    "outputId": "1bdb00dc-389c-4629-803f-5625405f524a"
   },
   "outputs": [
    {
     "name": "stdout",
     "output_type": "stream",
     "text": [
      "Fitting 5 folds for each of 100 candidates, totalling 500 fits\n"
     ]
    }
   ],
   "source": [
    "# Instantiate RandomizedSearchCV()\n",
    "model_rs = RandomizedSearchCV(model, param_distributions=params, scoring= 'r2', n_jobs=-1, verbose=5, random_state=42,refit=True, n_iter = 100)\n",
    "\n",
    "# Train the model on the training set\n",
    "model_rs.fit(X_train, y_train)\n",
    "\n",
    "# predicted values\n",
    "y_pred = model_rs.predict(X_test)"
   ]
  },
  {
   "cell_type": "code",
   "execution_count": null,
   "id": "x6ohhBsAbLW2",
   "metadata": {
    "colab": {
     "base_uri": "https://localhost:8080/"
    },
    "executionInfo": {
     "elapsed": 178,
     "status": "ok",
     "timestamp": 1657171054879,
     "user": {
      "displayName": "ripudaman bevli",
      "userId": "06084801483216786470"
     },
     "user_tz": 420
    },
    "id": "x6ohhBsAbLW2",
    "outputId": "ef31d4c5-e73b-45ec-c65b-920c7b54fc51"
   },
   "outputs": [
    {
     "name": "stdout",
     "output_type": "stream",
     "text": [
      "Best parameters found:  {'subsample': 1.0, 'n_estimators': 50, 'min_child_weight': 7.5, 'max_depth': 10, 'learning_rate': 0.15, 'gamma': 0.5, 'colsample_bytree': 0.8}\n",
      "Best score found:  0.22814851365575511\n",
      "Feature Importance [0.00201003 0.00279097 0.0016356  ... 0.00148325 0.0015096  0.00188325]\n"
     ]
    },
    {
     "data": {
      "text/plain": [
       "{'mean_fit_time': array([13.89533072,  1.00776219, 13.62248731,  0.24932423, 14.0658505 ,\n",
       "         0.17250237,  2.1570118 ,  9.72917008,  1.32852354,  1.11078305,\n",
       "         0.86715183, 13.67590666,  0.68448591,  3.9193253 , 10.14961567,\n",
       "         0.20562625,  6.88461165,  1.35693631,  6.2186902 ,  8.27557974,\n",
       "         2.98671336, 13.37214379, 31.82109809, 14.86592298,  0.11142211,\n",
       "         5.91343803, 10.96651669,  1.5053268 ,  4.1162447 ,  8.64052663,\n",
       "        14.00817409,  0.22803292,  8.47372432,  0.10665627,  6.60431399,\n",
       "         7.04827461,  7.09629979,  0.29633927,  5.50490303,  0.10537143,\n",
       "         1.48530784,  2.35665874,  1.17377644,  4.16569905, 28.85037155,\n",
       "         5.38402967,  4.08577628,  1.83476663,  8.47113914,  1.35039077,\n",
       "         1.35148525,  4.96567221, 11.86303401,  1.60857844,  6.90602121,\n",
       "         0.13123426,  0.21040363,  5.21740541,  0.13616662,  5.67545428,\n",
       "         9.40042229, 11.54734721,  7.65250149, 16.29976788,  3.79652858,\n",
       "        14.60705261,  6.43084593,  3.20382791,  9.84362898,  1.82816534,\n",
       "         0.1807004 ,  1.0347847 ,  1.39644127,  0.15644836, 24.64131436,\n",
       "         0.10921321,  4.23867702,  2.90598755,  1.66168137,  2.63403563,\n",
       "        10.75295081, 14.95926051,  4.20298114, 10.18858953, 11.61613832,\n",
       "        17.72290144, 20.93845358, 15.64234796, 24.97553062,  3.11920381,\n",
       "        10.64234147,  1.17822227,  1.00312834,  6.00546336,  0.10100069,\n",
       "        10.41825013,  8.05208163, 12.90179906,  0.64817986,  0.11023703]),\n",
       " 'mean_score_time': array([0.38761902, 0.02999544, 0.41628041, 0.01074972, 0.35885429,\n",
       "        0.01241927, 0.05573864, 0.20651131, 0.03904233, 0.03224225,\n",
       "        0.0267283 , 0.40038567, 0.02072349, 0.08593078, 0.23103704,\n",
       "        0.01092186, 0.14982772, 0.03137236, 0.14606624, 0.11961269,\n",
       "        0.0664465 , 0.50375004, 1.63642459, 0.43066478, 0.00969701,\n",
       "        0.13039641, 0.15639963, 0.04150453, 0.07087331, 0.21385379,\n",
       "        0.38556395, 0.01044817, 0.18241773, 0.01016865, 0.08737283,\n",
       "        0.17705531, 0.14726558, 0.01106129, 0.10961399, 0.00972047,\n",
       "        0.04144726, 0.05272727, 0.03167367, 0.10504141, 1.06238484,\n",
       "        0.08715024, 0.10002265, 0.04332542, 0.2455379 , 0.03741007,\n",
       "        0.0344594 , 0.04855928, 0.34989147, 0.03123403, 0.18115726,\n",
       "        0.01002893, 0.01193519, 0.12013984, 0.00993481, 0.10544844,\n",
       "        0.25416846, 0.29229465, 0.21359901, 0.68176227, 0.07543802,\n",
       "        0.4236897 , 0.13819175, 0.07284508, 0.21616282, 0.03831396,\n",
       "        0.01071472, 0.02725058, 0.03409896, 0.0104877 , 0.73792243,\n",
       "        0.00973454, 0.09654064, 0.07281933, 0.04271641, 0.06908598,\n",
       "        0.36249113, 0.57292705, 0.11203313, 0.26458697, 0.30285788,\n",
       "        0.67342806, 1.16232572, 0.35604062, 0.64965706, 0.07842355,\n",
       "        0.2144299 , 0.03270555, 0.03432631, 0.1617806 , 0.00950546,\n",
       "        0.22044563, 0.1726593 , 0.27323217, 0.02178044, 0.00974064]),\n",
       " 'mean_test_score': array([0.18550415, 0.13980078, 0.15164648, 0.04799491, 0.22118179,\n",
       "        0.00610122, 0.20627158, 0.19093795, 0.18558012, 0.11675869,\n",
       "        0.13091156, 0.20923903, 0.16998637, 0.18984107, 0.181604  ,\n",
       "        0.13223933, 0.13754514, 0.17308581, 0.14321291, 0.12625044,\n",
       "        0.19729451, 0.19670879, 0.15714173, 0.09965441, 0.09447466,\n",
       "        0.12537973, 0.22233536, 0.19837797, 0.16863809, 0.09892156,\n",
       "        0.0619241 , 0.01722007, 0.16784418, 0.07585406, 0.18278282,\n",
       "        0.19545964, 0.15755726, 0.05004132, 0.11897807, 0.00329398,\n",
       "        0.20429097, 0.17661034, 0.14375303, 0.21392809, 0.1543555 ,\n",
       "        0.18532677, 0.20575117, 0.1960895 , 0.20025878, 0.17957164,\n",
       "        0.21892538, 0.18843966, 0.2116257 , 0.14234253, 0.19985407,\n",
       "        0.03984972, 0.07916101, 0.14799676, 0.09976064, 0.07305822,\n",
       "        0.19536449, 0.21848052, 0.07009682, 0.15899609, 0.17847341,\n",
       "        0.18610718, 0.18274461, 0.18558028, 0.1736698 , 0.22814851,\n",
       "        0.08269723, 0.07779626, 0.15001935, 0.01362988, 0.22264819,\n",
       "        0.00808961, 0.13529763, 0.19155946, 0.20451102, 0.18958419,\n",
       "        0.19733891, 0.18634668, 0.2248275 , 0.16843647, 0.16790892,\n",
       "        0.18410402, 0.2220682 , 0.21944084, 0.1735106 , 0.19926303,\n",
       "        0.15537367, 0.17009039, 0.18684866, 0.16398063, 0.01092483,\n",
       "        0.10739253, 0.1772049 , 0.17718634, 0.16933094, 0.01325018]),\n",
       " 'param_colsample_bytree': masked_array(data=[1.0, 0.6, 0.6, 0.8, 1.0, 1.0, 0.6, 1.0, 0.6, 0.6, 0.8,\n",
       "                    0.8, 1.0, 1.0, 1.0, 0.6, 1.0, 0.6, 0.6, 1.0, 1.0, 0.6,\n",
       "                    0.6, 0.8, 0.8, 0.6, 1.0, 0.6, 0.8, 0.6, 0.8, 1.0, 0.8,\n",
       "                    0.6, 1.0, 0.6, 0.6, 1.0, 1.0, 0.6, 0.6, 0.8, 1.0, 0.6,\n",
       "                    1.0, 0.6, 0.8, 1.0, 0.6, 0.6, 0.6, 1.0, 0.8, 1.0, 0.6,\n",
       "                    0.8, 0.6, 0.6, 1.0, 1.0, 0.6, 1.0, 0.6, 0.8, 0.6, 1.0,\n",
       "                    1.0, 1.0, 1.0, 0.8, 1.0, 1.0, 1.0, 0.6, 1.0, 1.0, 0.6,\n",
       "                    0.8, 0.8, 0.6, 0.6, 0.8, 0.6, 0.6, 0.6, 1.0, 0.6, 1.0,\n",
       "                    1.0, 0.6, 1.0, 0.6, 0.6, 0.6, 0.8, 0.8, 0.8, 0.8, 0.6,\n",
       "                    0.8],\n",
       "              mask=[False, False, False, False, False, False, False, False,\n",
       "                    False, False, False, False, False, False, False, False,\n",
       "                    False, False, False, False, False, False, False, False,\n",
       "                    False, False, False, False, False, False, False, False,\n",
       "                    False, False, False, False, False, False, False, False,\n",
       "                    False, False, False, False, False, False, False, False,\n",
       "                    False, False, False, False, False, False, False, False,\n",
       "                    False, False, False, False, False, False, False, False,\n",
       "                    False, False, False, False, False, False, False, False,\n",
       "                    False, False, False, False, False, False, False, False,\n",
       "                    False, False, False, False, False, False, False, False,\n",
       "                    False, False, False, False, False, False, False, False,\n",
       "                    False, False, False, False],\n",
       "        fill_value='?',\n",
       "             dtype=object),\n",
       " 'param_gamma': masked_array(data=[2, 2, 0.5, 5, 2, 1, 1.5, 2, 1, 5, 5, 0.5, 1, 0.5, 5, 2,\n",
       "                    0.5, 0.5, 0.5, 5, 2, 0.5, 1, 5, 5, 5, 2, 5, 1.5, 1, 1,\n",
       "                    0.5, 1, 5, 5, 5, 0.5, 5, 5, 0.5, 5, 2, 2, 0.5, 5, 0.5,\n",
       "                    1.5, 1.5, 1.5, 0.5, 0.5, 0.5, 1.5, 5, 2, 0.5, 1.5, 1.5,\n",
       "                    0.5, 0.5, 1.5, 0.5, 1.5, 0.5, 0.5, 2, 5, 2, 2, 0.5, 5,\n",
       "                    1.5, 5, 5, 1, 0.5, 2, 2, 1, 0.5, 0.5, 0.5, 5, 0.5, 1.5,\n",
       "                    0.5, 2, 2, 0.5, 1.5, 1, 1, 1, 0.5, 5, 1, 2, 2, 1.5,\n",
       "                    1.5],\n",
       "              mask=[False, False, False, False, False, False, False, False,\n",
       "                    False, False, False, False, False, False, False, False,\n",
       "                    False, False, False, False, False, False, False, False,\n",
       "                    False, False, False, False, False, False, False, False,\n",
       "                    False, False, False, False, False, False, False, False,\n",
       "                    False, False, False, False, False, False, False, False,\n",
       "                    False, False, False, False, False, False, False, False,\n",
       "                    False, False, False, False, False, False, False, False,\n",
       "                    False, False, False, False, False, False, False, False,\n",
       "                    False, False, False, False, False, False, False, False,\n",
       "                    False, False, False, False, False, False, False, False,\n",
       "                    False, False, False, False, False, False, False, False,\n",
       "                    False, False, False, False],\n",
       "        fill_value='?',\n",
       "             dtype=object),\n",
       " 'param_learning_rate': masked_array(data=[0.2, 0.2, 0.02, 0.05, 0.05, 0.01, 0.15, 0.1, 0.1, 0.02,\n",
       "                    0.02, 0.05, 0.15, 0.2, 0.2, 0.2, 0.02, 0.05, 0.02,\n",
       "                    0.15, 0.2, 0.1, 0.02, 0.05, 0.15, 0.05, 0.02, 0.2,\n",
       "                    0.01, 0.1, 0.15, 0.02, 0.05, 0.15, 0.01, 0.1, 0.15,\n",
       "                    0.05, 0.15, 0.01, 0.15, 0.2, 0.05, 0.05, 0.01, 0.02,\n",
       "                    0.15, 0.1, 0.15, 0.2, 0.2, 0.02, 0.1, 0.2, 0.1, 0.05,\n",
       "                    0.1, 0.02, 0.15, 0.15, 0.01, 0.1, 0.15, 0.2, 0.1, 0.2,\n",
       "                    0.1, 0.15, 0.1, 0.15, 0.1, 0.01, 0.2, 0.02, 0.01, 0.02,\n",
       "                    0.1, 0.2, 0.1, 0.05, 0.2, 0.2, 0.15, 0.02, 0.2, 0.15,\n",
       "                    0.02, 0.01, 0.01, 0.05, 0.05, 0.15, 0.05, 0.01, 0.02,\n",
       "                    0.1, 0.05, 0.01, 0.2, 0.02],\n",
       "              mask=[False, False, False, False, False, False, False, False,\n",
       "                    False, False, False, False, False, False, False, False,\n",
       "                    False, False, False, False, False, False, False, False,\n",
       "                    False, False, False, False, False, False, False, False,\n",
       "                    False, False, False, False, False, False, False, False,\n",
       "                    False, False, False, False, False, False, False, False,\n",
       "                    False, False, False, False, False, False, False, False,\n",
       "                    False, False, False, False, False, False, False, False,\n",
       "                    False, False, False, False, False, False, False, False,\n",
       "                    False, False, False, False, False, False, False, False,\n",
       "                    False, False, False, False, False, False, False, False,\n",
       "                    False, False, False, False, False, False, False, False,\n",
       "                    False, False, False, False],\n",
       "        fill_value='?',\n",
       "             dtype=object),\n",
       " 'param_max_depth': masked_array(data=[10, 7, 5, 9, 9, 7, 9, 8, 5, 3, 5, 8, 4, 8, 8, 9, 4, 7,\n",
       "                    4, 10, 6, 7, 10, 5, 5, 4, 10, 6, 8, 7, 10, 8, 4, 4, 9,\n",
       "                    6, 3, 9, 3, 5, 6, 4, 3, 9, 8, 10, 10, 6, 10, 5, 9, 10,\n",
       "                    8, 8, 7, 6, 9, 3, 6, 3, 7, 10, 6, 7, 10, 7, 5, 6, 5,\n",
       "                    10, 7, 5, 4, 7, 10, 3, 8, 6, 6, 5, 9, 7, 10, 7, 5, 9,\n",
       "                    10, 9, 8, 6, 3, 4, 6, 4, 4, 7, 4, 7, 4, 5],\n",
       "              mask=[False, False, False, False, False, False, False, False,\n",
       "                    False, False, False, False, False, False, False, False,\n",
       "                    False, False, False, False, False, False, False, False,\n",
       "                    False, False, False, False, False, False, False, False,\n",
       "                    False, False, False, False, False, False, False, False,\n",
       "                    False, False, False, False, False, False, False, False,\n",
       "                    False, False, False, False, False, False, False, False,\n",
       "                    False, False, False, False, False, False, False, False,\n",
       "                    False, False, False, False, False, False, False, False,\n",
       "                    False, False, False, False, False, False, False, False,\n",
       "                    False, False, False, False, False, False, False, False,\n",
       "                    False, False, False, False, False, False, False, False,\n",
       "                    False, False, False, False],\n",
       "        fill_value='?',\n",
       "             dtype=object),\n",
       " 'param_min_child_weight': masked_array(data=[7.5, 1, 1, 5, 10, 7.5, 5, 5, 7.5, 7.5, 10, 5, 10, 5, 5,\n",
       "                    10, 1, 1, 1, 1, 10, 10, 1, 1, 7.5, 1, 5, 5, 7.5, 1, 1,\n",
       "                    5, 5, 7.5, 7.5, 5, 7.5, 5, 1, 5, 7.5, 10, 7.5, 7.5, 1,\n",
       "                    1, 7.5, 5, 7.5, 5, 5, 5, 10, 1, 7.5, 5, 7.5, 7.5, 10,\n",
       "                    1, 5, 10, 1, 5, 1, 10, 10, 5, 5, 7.5, 5, 1, 1, 5, 5, 1,\n",
       "                    1, 7.5, 10, 10, 10, 10, 7.5, 1, 7.5, 7.5, 7.5, 10, 1,\n",
       "                    5, 7.5, 10, 7.5, 10, 5, 1, 10, 1, 5, 10],\n",
       "              mask=[False, False, False, False, False, False, False, False,\n",
       "                    False, False, False, False, False, False, False, False,\n",
       "                    False, False, False, False, False, False, False, False,\n",
       "                    False, False, False, False, False, False, False, False,\n",
       "                    False, False, False, False, False, False, False, False,\n",
       "                    False, False, False, False, False, False, False, False,\n",
       "                    False, False, False, False, False, False, False, False,\n",
       "                    False, False, False, False, False, False, False, False,\n",
       "                    False, False, False, False, False, False, False, False,\n",
       "                    False, False, False, False, False, False, False, False,\n",
       "                    False, False, False, False, False, False, False, False,\n",
       "                    False, False, False, False, False, False, False, False,\n",
       "                    False, False, False, False],\n",
       "        fill_value='?',\n",
       "             dtype=object),\n",
       " 'param_n_estimators': masked_array(data=[700, 50, 1000, 3, 700, 3, 100, 500, 100, 100, 50, 700,\n",
       "                    50, 200, 500, 3, 500, 50, 500, 200, 200, 1000, 1000,\n",
       "                    1000, 3, 500, 200, 100, 100, 500, 500, 3, 700, 3, 100,\n",
       "                    500, 700, 3, 500, 3, 100, 200, 100, 200, 1000, 100,\n",
       "                    200, 100, 500, 100, 50, 50, 700, 50, 500, 3, 3, 500, 3,\n",
       "                    500, 500, 500, 500, 1000, 100, 1000, 500, 200, 700, 50,\n",
       "                    3, 50, 100, 3, 500, 3, 200, 200, 100, 200, 700, 1000,\n",
       "                    200, 500, 1000, 1000, 1000, 500, 700, 200, 1000, 100,\n",
       "                    50, 500, 3, 500, 700, 500, 50, 3],\n",
       "              mask=[False, False, False, False, False, False, False, False,\n",
       "                    False, False, False, False, False, False, False, False,\n",
       "                    False, False, False, False, False, False, False, False,\n",
       "                    False, False, False, False, False, False, False, False,\n",
       "                    False, False, False, False, False, False, False, False,\n",
       "                    False, False, False, False, False, False, False, False,\n",
       "                    False, False, False, False, False, False, False, False,\n",
       "                    False, False, False, False, False, False, False, False,\n",
       "                    False, False, False, False, False, False, False, False,\n",
       "                    False, False, False, False, False, False, False, False,\n",
       "                    False, False, False, False, False, False, False, False,\n",
       "                    False, False, False, False, False, False, False, False,\n",
       "                    False, False, False, False],\n",
       "        fill_value='?',\n",
       "             dtype=object),\n",
       " 'param_subsample': masked_array(data=[0.8, 0.6, 1.0, 0.8, 0.8, 1.0, 0.8, 0.8, 0.8, 1.0, 0.6,\n",
       "                    1.0, 0.8, 0.8, 1.0, 0.6, 1.0, 1.0, 0.8, 1.0, 0.8, 0.6,\n",
       "                    0.8, 0.8, 1.0, 0.6, 0.8, 1.0, 0.8, 0.6, 0.6, 0.8, 1.0,\n",
       "                    0.6, 0.8, 1.0, 1.0, 1.0, 1.0, 0.6, 1.0, 0.8, 1.0, 0.6,\n",
       "                    0.6, 0.8, 0.6, 0.8, 0.6, 0.8, 1.0, 1.0, 1.0, 0.8, 0.6,\n",
       "                    0.6, 0.8, 1.0, 0.6, 0.8, 0.6, 1.0, 0.6, 1.0, 1.0, 0.6,\n",
       "                    0.6, 0.8, 1.0, 1.0, 0.8, 0.6, 1.0, 1.0, 0.8, 1.0, 0.6,\n",
       "                    0.8, 1.0, 0.8, 0.8, 1.0, 1.0, 0.8, 0.8, 0.8, 0.8, 0.6,\n",
       "                    1.0, 1.0, 1.0, 0.6, 1.0, 1.0, 0.6, 0.8, 0.8, 1.0, 1.0,\n",
       "                    0.6],\n",
       "              mask=[False, False, False, False, False, False, False, False,\n",
       "                    False, False, False, False, False, False, False, False,\n",
       "                    False, False, False, False, False, False, False, False,\n",
       "                    False, False, False, False, False, False, False, False,\n",
       "                    False, False, False, False, False, False, False, False,\n",
       "                    False, False, False, False, False, False, False, False,\n",
       "                    False, False, False, False, False, False, False, False,\n",
       "                    False, False, False, False, False, False, False, False,\n",
       "                    False, False, False, False, False, False, False, False,\n",
       "                    False, False, False, False, False, False, False, False,\n",
       "                    False, False, False, False, False, False, False, False,\n",
       "                    False, False, False, False, False, False, False, False,\n",
       "                    False, False, False, False],\n",
       "        fill_value='?',\n",
       "             dtype=object),\n",
       " 'params': [{'colsample_bytree': 1.0,\n",
       "   'gamma': 2,\n",
       "   'learning_rate': 0.2,\n",
       "   'max_depth': 10,\n",
       "   'min_child_weight': 7.5,\n",
       "   'n_estimators': 700,\n",
       "   'subsample': 0.8},\n",
       "  {'colsample_bytree': 0.6,\n",
       "   'gamma': 2,\n",
       "   'learning_rate': 0.2,\n",
       "   'max_depth': 7,\n",
       "   'min_child_weight': 1,\n",
       "   'n_estimators': 50,\n",
       "   'subsample': 0.6},\n",
       "  {'colsample_bytree': 0.6,\n",
       "   'gamma': 0.5,\n",
       "   'learning_rate': 0.02,\n",
       "   'max_depth': 5,\n",
       "   'min_child_weight': 1,\n",
       "   'n_estimators': 1000,\n",
       "   'subsample': 1.0},\n",
       "  {'colsample_bytree': 0.8,\n",
       "   'gamma': 5,\n",
       "   'learning_rate': 0.05,\n",
       "   'max_depth': 9,\n",
       "   'min_child_weight': 5,\n",
       "   'n_estimators': 3,\n",
       "   'subsample': 0.8},\n",
       "  {'colsample_bytree': 1.0,\n",
       "   'gamma': 2,\n",
       "   'learning_rate': 0.05,\n",
       "   'max_depth': 9,\n",
       "   'min_child_weight': 10,\n",
       "   'n_estimators': 700,\n",
       "   'subsample': 0.8},\n",
       "  {'colsample_bytree': 1.0,\n",
       "   'gamma': 1,\n",
       "   'learning_rate': 0.01,\n",
       "   'max_depth': 7,\n",
       "   'min_child_weight': 7.5,\n",
       "   'n_estimators': 3,\n",
       "   'subsample': 1.0},\n",
       "  {'colsample_bytree': 0.6,\n",
       "   'gamma': 1.5,\n",
       "   'learning_rate': 0.15,\n",
       "   'max_depth': 9,\n",
       "   'min_child_weight': 5,\n",
       "   'n_estimators': 100,\n",
       "   'subsample': 0.8},\n",
       "  {'colsample_bytree': 1.0,\n",
       "   'gamma': 2,\n",
       "   'learning_rate': 0.1,\n",
       "   'max_depth': 8,\n",
       "   'min_child_weight': 5,\n",
       "   'n_estimators': 500,\n",
       "   'subsample': 0.8},\n",
       "  {'colsample_bytree': 0.6,\n",
       "   'gamma': 1,\n",
       "   'learning_rate': 0.1,\n",
       "   'max_depth': 5,\n",
       "   'min_child_weight': 7.5,\n",
       "   'n_estimators': 100,\n",
       "   'subsample': 0.8},\n",
       "  {'colsample_bytree': 0.6,\n",
       "   'gamma': 5,\n",
       "   'learning_rate': 0.02,\n",
       "   'max_depth': 3,\n",
       "   'min_child_weight': 7.5,\n",
       "   'n_estimators': 100,\n",
       "   'subsample': 1.0},\n",
       "  {'colsample_bytree': 0.8,\n",
       "   'gamma': 5,\n",
       "   'learning_rate': 0.02,\n",
       "   'max_depth': 5,\n",
       "   'min_child_weight': 10,\n",
       "   'n_estimators': 50,\n",
       "   'subsample': 0.6},\n",
       "  {'colsample_bytree': 0.8,\n",
       "   'gamma': 0.5,\n",
       "   'learning_rate': 0.05,\n",
       "   'max_depth': 8,\n",
       "   'min_child_weight': 5,\n",
       "   'n_estimators': 700,\n",
       "   'subsample': 1.0},\n",
       "  {'colsample_bytree': 1.0,\n",
       "   'gamma': 1,\n",
       "   'learning_rate': 0.15,\n",
       "   'max_depth': 4,\n",
       "   'min_child_weight': 10,\n",
       "   'n_estimators': 50,\n",
       "   'subsample': 0.8},\n",
       "  {'colsample_bytree': 1.0,\n",
       "   'gamma': 0.5,\n",
       "   'learning_rate': 0.2,\n",
       "   'max_depth': 8,\n",
       "   'min_child_weight': 5,\n",
       "   'n_estimators': 200,\n",
       "   'subsample': 0.8},\n",
       "  {'colsample_bytree': 1.0,\n",
       "   'gamma': 5,\n",
       "   'learning_rate': 0.2,\n",
       "   'max_depth': 8,\n",
       "   'min_child_weight': 5,\n",
       "   'n_estimators': 500,\n",
       "   'subsample': 1.0},\n",
       "  {'colsample_bytree': 0.6,\n",
       "   'gamma': 2,\n",
       "   'learning_rate': 0.2,\n",
       "   'max_depth': 9,\n",
       "   'min_child_weight': 10,\n",
       "   'n_estimators': 3,\n",
       "   'subsample': 0.6},\n",
       "  {'colsample_bytree': 1.0,\n",
       "   'gamma': 0.5,\n",
       "   'learning_rate': 0.02,\n",
       "   'max_depth': 4,\n",
       "   'min_child_weight': 1,\n",
       "   'n_estimators': 500,\n",
       "   'subsample': 1.0},\n",
       "  {'colsample_bytree': 0.6,\n",
       "   'gamma': 0.5,\n",
       "   'learning_rate': 0.05,\n",
       "   'max_depth': 7,\n",
       "   'min_child_weight': 1,\n",
       "   'n_estimators': 50,\n",
       "   'subsample': 1.0},\n",
       "  {'colsample_bytree': 0.6,\n",
       "   'gamma': 0.5,\n",
       "   'learning_rate': 0.02,\n",
       "   'max_depth': 4,\n",
       "   'min_child_weight': 1,\n",
       "   'n_estimators': 500,\n",
       "   'subsample': 0.8},\n",
       "  {'colsample_bytree': 1.0,\n",
       "   'gamma': 5,\n",
       "   'learning_rate': 0.15,\n",
       "   'max_depth': 10,\n",
       "   'min_child_weight': 1,\n",
       "   'n_estimators': 200,\n",
       "   'subsample': 1.0},\n",
       "  {'colsample_bytree': 1.0,\n",
       "   'gamma': 2,\n",
       "   'learning_rate': 0.2,\n",
       "   'max_depth': 6,\n",
       "   'min_child_weight': 10,\n",
       "   'n_estimators': 200,\n",
       "   'subsample': 0.8},\n",
       "  {'colsample_bytree': 0.6,\n",
       "   'gamma': 0.5,\n",
       "   'learning_rate': 0.1,\n",
       "   'max_depth': 7,\n",
       "   'min_child_weight': 10,\n",
       "   'n_estimators': 1000,\n",
       "   'subsample': 0.6},\n",
       "  {'colsample_bytree': 0.6,\n",
       "   'gamma': 1,\n",
       "   'learning_rate': 0.02,\n",
       "   'max_depth': 10,\n",
       "   'min_child_weight': 1,\n",
       "   'n_estimators': 1000,\n",
       "   'subsample': 0.8},\n",
       "  {'colsample_bytree': 0.8,\n",
       "   'gamma': 5,\n",
       "   'learning_rate': 0.05,\n",
       "   'max_depth': 5,\n",
       "   'min_child_weight': 1,\n",
       "   'n_estimators': 1000,\n",
       "   'subsample': 0.8},\n",
       "  {'colsample_bytree': 0.8,\n",
       "   'gamma': 5,\n",
       "   'learning_rate': 0.15,\n",
       "   'max_depth': 5,\n",
       "   'min_child_weight': 7.5,\n",
       "   'n_estimators': 3,\n",
       "   'subsample': 1.0},\n",
       "  {'colsample_bytree': 0.6,\n",
       "   'gamma': 5,\n",
       "   'learning_rate': 0.05,\n",
       "   'max_depth': 4,\n",
       "   'min_child_weight': 1,\n",
       "   'n_estimators': 500,\n",
       "   'subsample': 0.6},\n",
       "  {'colsample_bytree': 1.0,\n",
       "   'gamma': 2,\n",
       "   'learning_rate': 0.02,\n",
       "   'max_depth': 10,\n",
       "   'min_child_weight': 5,\n",
       "   'n_estimators': 200,\n",
       "   'subsample': 0.8},\n",
       "  {'colsample_bytree': 0.6,\n",
       "   'gamma': 5,\n",
       "   'learning_rate': 0.2,\n",
       "   'max_depth': 6,\n",
       "   'min_child_weight': 5,\n",
       "   'n_estimators': 100,\n",
       "   'subsample': 1.0},\n",
       "  {'colsample_bytree': 0.8,\n",
       "   'gamma': 1.5,\n",
       "   'learning_rate': 0.01,\n",
       "   'max_depth': 8,\n",
       "   'min_child_weight': 7.5,\n",
       "   'n_estimators': 100,\n",
       "   'subsample': 0.8},\n",
       "  {'colsample_bytree': 0.6,\n",
       "   'gamma': 1,\n",
       "   'learning_rate': 0.1,\n",
       "   'max_depth': 7,\n",
       "   'min_child_weight': 1,\n",
       "   'n_estimators': 500,\n",
       "   'subsample': 0.6},\n",
       "  {'colsample_bytree': 0.8,\n",
       "   'gamma': 1,\n",
       "   'learning_rate': 0.15,\n",
       "   'max_depth': 10,\n",
       "   'min_child_weight': 1,\n",
       "   'n_estimators': 500,\n",
       "   'subsample': 0.6},\n",
       "  {'colsample_bytree': 1.0,\n",
       "   'gamma': 0.5,\n",
       "   'learning_rate': 0.02,\n",
       "   'max_depth': 8,\n",
       "   'min_child_weight': 5,\n",
       "   'n_estimators': 3,\n",
       "   'subsample': 0.8},\n",
       "  {'colsample_bytree': 0.8,\n",
       "   'gamma': 1,\n",
       "   'learning_rate': 0.05,\n",
       "   'max_depth': 4,\n",
       "   'min_child_weight': 5,\n",
       "   'n_estimators': 700,\n",
       "   'subsample': 1.0},\n",
       "  {'colsample_bytree': 0.6,\n",
       "   'gamma': 5,\n",
       "   'learning_rate': 0.15,\n",
       "   'max_depth': 4,\n",
       "   'min_child_weight': 7.5,\n",
       "   'n_estimators': 3,\n",
       "   'subsample': 0.6},\n",
       "  {'colsample_bytree': 1.0,\n",
       "   'gamma': 5,\n",
       "   'learning_rate': 0.01,\n",
       "   'max_depth': 9,\n",
       "   'min_child_weight': 7.5,\n",
       "   'n_estimators': 100,\n",
       "   'subsample': 0.8},\n",
       "  {'colsample_bytree': 0.6,\n",
       "   'gamma': 5,\n",
       "   'learning_rate': 0.1,\n",
       "   'max_depth': 6,\n",
       "   'min_child_weight': 5,\n",
       "   'n_estimators': 500,\n",
       "   'subsample': 1.0},\n",
       "  {'colsample_bytree': 0.6,\n",
       "   'gamma': 0.5,\n",
       "   'learning_rate': 0.15,\n",
       "   'max_depth': 3,\n",
       "   'min_child_weight': 7.5,\n",
       "   'n_estimators': 700,\n",
       "   'subsample': 1.0},\n",
       "  {'colsample_bytree': 1.0,\n",
       "   'gamma': 5,\n",
       "   'learning_rate': 0.05,\n",
       "   'max_depth': 9,\n",
       "   'min_child_weight': 5,\n",
       "   'n_estimators': 3,\n",
       "   'subsample': 1.0},\n",
       "  {'colsample_bytree': 1.0,\n",
       "   'gamma': 5,\n",
       "   'learning_rate': 0.15,\n",
       "   'max_depth': 3,\n",
       "   'min_child_weight': 1,\n",
       "   'n_estimators': 500,\n",
       "   'subsample': 1.0},\n",
       "  {'colsample_bytree': 0.6,\n",
       "   'gamma': 0.5,\n",
       "   'learning_rate': 0.01,\n",
       "   'max_depth': 5,\n",
       "   'min_child_weight': 5,\n",
       "   'n_estimators': 3,\n",
       "   'subsample': 0.6},\n",
       "  {'colsample_bytree': 0.6,\n",
       "   'gamma': 5,\n",
       "   'learning_rate': 0.15,\n",
       "   'max_depth': 6,\n",
       "   'min_child_weight': 7.5,\n",
       "   'n_estimators': 100,\n",
       "   'subsample': 1.0},\n",
       "  {'colsample_bytree': 0.8,\n",
       "   'gamma': 2,\n",
       "   'learning_rate': 0.2,\n",
       "   'max_depth': 4,\n",
       "   'min_child_weight': 10,\n",
       "   'n_estimators': 200,\n",
       "   'subsample': 0.8},\n",
       "  {'colsample_bytree': 1.0,\n",
       "   'gamma': 2,\n",
       "   'learning_rate': 0.05,\n",
       "   'max_depth': 3,\n",
       "   'min_child_weight': 7.5,\n",
       "   'n_estimators': 100,\n",
       "   'subsample': 1.0},\n",
       "  {'colsample_bytree': 0.6,\n",
       "   'gamma': 0.5,\n",
       "   'learning_rate': 0.05,\n",
       "   'max_depth': 9,\n",
       "   'min_child_weight': 7.5,\n",
       "   'n_estimators': 200,\n",
       "   'subsample': 0.6},\n",
       "  {'colsample_bytree': 1.0,\n",
       "   'gamma': 5,\n",
       "   'learning_rate': 0.01,\n",
       "   'max_depth': 8,\n",
       "   'min_child_weight': 1,\n",
       "   'n_estimators': 1000,\n",
       "   'subsample': 0.6},\n",
       "  {'colsample_bytree': 0.6,\n",
       "   'gamma': 0.5,\n",
       "   'learning_rate': 0.02,\n",
       "   'max_depth': 10,\n",
       "   'min_child_weight': 1,\n",
       "   'n_estimators': 100,\n",
       "   'subsample': 0.8},\n",
       "  {'colsample_bytree': 0.8,\n",
       "   'gamma': 1.5,\n",
       "   'learning_rate': 0.15,\n",
       "   'max_depth': 10,\n",
       "   'min_child_weight': 7.5,\n",
       "   'n_estimators': 200,\n",
       "   'subsample': 0.6},\n",
       "  {'colsample_bytree': 1.0,\n",
       "   'gamma': 1.5,\n",
       "   'learning_rate': 0.1,\n",
       "   'max_depth': 6,\n",
       "   'min_child_weight': 5,\n",
       "   'n_estimators': 100,\n",
       "   'subsample': 0.8},\n",
       "  {'colsample_bytree': 0.6,\n",
       "   'gamma': 1.5,\n",
       "   'learning_rate': 0.15,\n",
       "   'max_depth': 10,\n",
       "   'min_child_weight': 7.5,\n",
       "   'n_estimators': 500,\n",
       "   'subsample': 0.6},\n",
       "  {'colsample_bytree': 0.6,\n",
       "   'gamma': 0.5,\n",
       "   'learning_rate': 0.2,\n",
       "   'max_depth': 5,\n",
       "   'min_child_weight': 5,\n",
       "   'n_estimators': 100,\n",
       "   'subsample': 0.8},\n",
       "  {'colsample_bytree': 0.6,\n",
       "   'gamma': 0.5,\n",
       "   'learning_rate': 0.2,\n",
       "   'max_depth': 9,\n",
       "   'min_child_weight': 5,\n",
       "   'n_estimators': 50,\n",
       "   'subsample': 1.0},\n",
       "  {'colsample_bytree': 1.0,\n",
       "   'gamma': 0.5,\n",
       "   'learning_rate': 0.02,\n",
       "   'max_depth': 10,\n",
       "   'min_child_weight': 5,\n",
       "   'n_estimators': 50,\n",
       "   'subsample': 1.0},\n",
       "  {'colsample_bytree': 0.8,\n",
       "   'gamma': 1.5,\n",
       "   'learning_rate': 0.1,\n",
       "   'max_depth': 8,\n",
       "   'min_child_weight': 10,\n",
       "   'n_estimators': 700,\n",
       "   'subsample': 1.0},\n",
       "  {'colsample_bytree': 1.0,\n",
       "   'gamma': 5,\n",
       "   'learning_rate': 0.2,\n",
       "   'max_depth': 8,\n",
       "   'min_child_weight': 1,\n",
       "   'n_estimators': 50,\n",
       "   'subsample': 0.8},\n",
       "  {'colsample_bytree': 0.6,\n",
       "   'gamma': 2,\n",
       "   'learning_rate': 0.1,\n",
       "   'max_depth': 7,\n",
       "   'min_child_weight': 7.5,\n",
       "   'n_estimators': 500,\n",
       "   'subsample': 0.6},\n",
       "  {'colsample_bytree': 0.8,\n",
       "   'gamma': 0.5,\n",
       "   'learning_rate': 0.05,\n",
       "   'max_depth': 6,\n",
       "   'min_child_weight': 5,\n",
       "   'n_estimators': 3,\n",
       "   'subsample': 0.6},\n",
       "  {'colsample_bytree': 0.6,\n",
       "   'gamma': 1.5,\n",
       "   'learning_rate': 0.1,\n",
       "   'max_depth': 9,\n",
       "   'min_child_weight': 7.5,\n",
       "   'n_estimators': 3,\n",
       "   'subsample': 0.8},\n",
       "  {'colsample_bytree': 0.6,\n",
       "   'gamma': 1.5,\n",
       "   'learning_rate': 0.02,\n",
       "   'max_depth': 3,\n",
       "   'min_child_weight': 7.5,\n",
       "   'n_estimators': 500,\n",
       "   'subsample': 1.0},\n",
       "  {'colsample_bytree': 1.0,\n",
       "   'gamma': 0.5,\n",
       "   'learning_rate': 0.15,\n",
       "   'max_depth': 6,\n",
       "   'min_child_weight': 10,\n",
       "   'n_estimators': 3,\n",
       "   'subsample': 0.6},\n",
       "  {'colsample_bytree': 1.0,\n",
       "   'gamma': 0.5,\n",
       "   'learning_rate': 0.15,\n",
       "   'max_depth': 3,\n",
       "   'min_child_weight': 1,\n",
       "   'n_estimators': 500,\n",
       "   'subsample': 0.8},\n",
       "  {'colsample_bytree': 0.6,\n",
       "   'gamma': 1.5,\n",
       "   'learning_rate': 0.01,\n",
       "   'max_depth': 7,\n",
       "   'min_child_weight': 5,\n",
       "   'n_estimators': 500,\n",
       "   'subsample': 0.6},\n",
       "  {'colsample_bytree': 1.0,\n",
       "   'gamma': 0.5,\n",
       "   'learning_rate': 0.1,\n",
       "   'max_depth': 10,\n",
       "   'min_child_weight': 10,\n",
       "   'n_estimators': 500,\n",
       "   'subsample': 1.0},\n",
       "  {'colsample_bytree': 0.6,\n",
       "   'gamma': 1.5,\n",
       "   'learning_rate': 0.15,\n",
       "   'max_depth': 6,\n",
       "   'min_child_weight': 1,\n",
       "   'n_estimators': 500,\n",
       "   'subsample': 0.6},\n",
       "  {'colsample_bytree': 0.8,\n",
       "   'gamma': 0.5,\n",
       "   'learning_rate': 0.2,\n",
       "   'max_depth': 7,\n",
       "   'min_child_weight': 5,\n",
       "   'n_estimators': 1000,\n",
       "   'subsample': 1.0},\n",
       "  {'colsample_bytree': 0.6,\n",
       "   'gamma': 0.5,\n",
       "   'learning_rate': 0.1,\n",
       "   'max_depth': 10,\n",
       "   'min_child_weight': 1,\n",
       "   'n_estimators': 100,\n",
       "   'subsample': 1.0},\n",
       "  {'colsample_bytree': 1.0,\n",
       "   'gamma': 2,\n",
       "   'learning_rate': 0.2,\n",
       "   'max_depth': 7,\n",
       "   'min_child_weight': 10,\n",
       "   'n_estimators': 1000,\n",
       "   'subsample': 0.6},\n",
       "  {'colsample_bytree': 1.0,\n",
       "   'gamma': 5,\n",
       "   'learning_rate': 0.1,\n",
       "   'max_depth': 5,\n",
       "   'min_child_weight': 10,\n",
       "   'n_estimators': 500,\n",
       "   'subsample': 0.6},\n",
       "  {'colsample_bytree': 1.0,\n",
       "   'gamma': 2,\n",
       "   'learning_rate': 0.15,\n",
       "   'max_depth': 6,\n",
       "   'min_child_weight': 5,\n",
       "   'n_estimators': 200,\n",
       "   'subsample': 0.8},\n",
       "  {'colsample_bytree': 1.0,\n",
       "   'gamma': 2,\n",
       "   'learning_rate': 0.1,\n",
       "   'max_depth': 5,\n",
       "   'min_child_weight': 5,\n",
       "   'n_estimators': 700,\n",
       "   'subsample': 1.0},\n",
       "  {'colsample_bytree': 0.8,\n",
       "   'gamma': 0.5,\n",
       "   'learning_rate': 0.15,\n",
       "   'max_depth': 10,\n",
       "   'min_child_weight': 7.5,\n",
       "   'n_estimators': 50,\n",
       "   'subsample': 1.0},\n",
       "  {'colsample_bytree': 1.0,\n",
       "   'gamma': 5,\n",
       "   'learning_rate': 0.1,\n",
       "   'max_depth': 7,\n",
       "   'min_child_weight': 5,\n",
       "   'n_estimators': 3,\n",
       "   'subsample': 0.8},\n",
       "  {'colsample_bytree': 1.0,\n",
       "   'gamma': 1.5,\n",
       "   'learning_rate': 0.01,\n",
       "   'max_depth': 5,\n",
       "   'min_child_weight': 1,\n",
       "   'n_estimators': 50,\n",
       "   'subsample': 0.6},\n",
       "  {'colsample_bytree': 1.0,\n",
       "   'gamma': 5,\n",
       "   'learning_rate': 0.2,\n",
       "   'max_depth': 4,\n",
       "   'min_child_weight': 1,\n",
       "   'n_estimators': 100,\n",
       "   'subsample': 1.0},\n",
       "  {'colsample_bytree': 0.6,\n",
       "   'gamma': 5,\n",
       "   'learning_rate': 0.02,\n",
       "   'max_depth': 7,\n",
       "   'min_child_weight': 5,\n",
       "   'n_estimators': 3,\n",
       "   'subsample': 1.0},\n",
       "  {'colsample_bytree': 1.0,\n",
       "   'gamma': 1,\n",
       "   'learning_rate': 0.01,\n",
       "   'max_depth': 10,\n",
       "   'min_child_weight': 5,\n",
       "   'n_estimators': 500,\n",
       "   'subsample': 0.8},\n",
       "  {'colsample_bytree': 1.0,\n",
       "   'gamma': 0.5,\n",
       "   'learning_rate': 0.02,\n",
       "   'max_depth': 3,\n",
       "   'min_child_weight': 1,\n",
       "   'n_estimators': 3,\n",
       "   'subsample': 1.0},\n",
       "  {'colsample_bytree': 0.6,\n",
       "   'gamma': 2,\n",
       "   'learning_rate': 0.1,\n",
       "   'max_depth': 8,\n",
       "   'min_child_weight': 1,\n",
       "   'n_estimators': 200,\n",
       "   'subsample': 0.6},\n",
       "  {'colsample_bytree': 0.8,\n",
       "   'gamma': 2,\n",
       "   'learning_rate': 0.2,\n",
       "   'max_depth': 6,\n",
       "   'min_child_weight': 7.5,\n",
       "   'n_estimators': 200,\n",
       "   'subsample': 0.8},\n",
       "  {'colsample_bytree': 0.8,\n",
       "   'gamma': 1,\n",
       "   'learning_rate': 0.1,\n",
       "   'max_depth': 6,\n",
       "   'min_child_weight': 10,\n",
       "   'n_estimators': 100,\n",
       "   'subsample': 1.0},\n",
       "  {'colsample_bytree': 0.6,\n",
       "   'gamma': 0.5,\n",
       "   'learning_rate': 0.05,\n",
       "   'max_depth': 5,\n",
       "   'min_child_weight': 10,\n",
       "   'n_estimators': 200,\n",
       "   'subsample': 0.8},\n",
       "  {'colsample_bytree': 0.6,\n",
       "   'gamma': 0.5,\n",
       "   'learning_rate': 0.2,\n",
       "   'max_depth': 9,\n",
       "   'min_child_weight': 10,\n",
       "   'n_estimators': 700,\n",
       "   'subsample': 0.8},\n",
       "  {'colsample_bytree': 0.8,\n",
       "   'gamma': 0.5,\n",
       "   'learning_rate': 0.2,\n",
       "   'max_depth': 7,\n",
       "   'min_child_weight': 10,\n",
       "   'n_estimators': 1000,\n",
       "   'subsample': 1.0},\n",
       "  {'colsample_bytree': 0.6,\n",
       "   'gamma': 5,\n",
       "   'learning_rate': 0.15,\n",
       "   'max_depth': 10,\n",
       "   'min_child_weight': 7.5,\n",
       "   'n_estimators': 200,\n",
       "   'subsample': 1.0},\n",
       "  {'colsample_bytree': 0.6,\n",
       "   'gamma': 0.5,\n",
       "   'learning_rate': 0.02,\n",
       "   'max_depth': 7,\n",
       "   'min_child_weight': 1,\n",
       "   'n_estimators': 500,\n",
       "   'subsample': 0.8},\n",
       "  {'colsample_bytree': 0.6,\n",
       "   'gamma': 1.5,\n",
       "   'learning_rate': 0.2,\n",
       "   'max_depth': 5,\n",
       "   'min_child_weight': 7.5,\n",
       "   'n_estimators': 1000,\n",
       "   'subsample': 0.8},\n",
       "  {'colsample_bytree': 1.0,\n",
       "   'gamma': 0.5,\n",
       "   'learning_rate': 0.15,\n",
       "   'max_depth': 9,\n",
       "   'min_child_weight': 7.5,\n",
       "   'n_estimators': 1000,\n",
       "   'subsample': 0.8},\n",
       "  {'colsample_bytree': 0.6,\n",
       "   'gamma': 2,\n",
       "   'learning_rate': 0.02,\n",
       "   'max_depth': 10,\n",
       "   'min_child_weight': 7.5,\n",
       "   'n_estimators': 1000,\n",
       "   'subsample': 0.8},\n",
       "  {'colsample_bytree': 1.0,\n",
       "   'gamma': 2,\n",
       "   'learning_rate': 0.01,\n",
       "   'max_depth': 9,\n",
       "   'min_child_weight': 10,\n",
       "   'n_estimators': 500,\n",
       "   'subsample': 0.6},\n",
       "  {'colsample_bytree': 1.0,\n",
       "   'gamma': 0.5,\n",
       "   'learning_rate': 0.01,\n",
       "   'max_depth': 8,\n",
       "   'min_child_weight': 1,\n",
       "   'n_estimators': 700,\n",
       "   'subsample': 1.0},\n",
       "  {'colsample_bytree': 0.6,\n",
       "   'gamma': 1.5,\n",
       "   'learning_rate': 0.05,\n",
       "   'max_depth': 6,\n",
       "   'min_child_weight': 5,\n",
       "   'n_estimators': 200,\n",
       "   'subsample': 1.0},\n",
       "  {'colsample_bytree': 1.0,\n",
       "   'gamma': 1,\n",
       "   'learning_rate': 0.05,\n",
       "   'max_depth': 3,\n",
       "   'min_child_weight': 7.5,\n",
       "   'n_estimators': 1000,\n",
       "   'subsample': 1.0},\n",
       "  {'colsample_bytree': 0.6,\n",
       "   'gamma': 1,\n",
       "   'learning_rate': 0.15,\n",
       "   'max_depth': 4,\n",
       "   'min_child_weight': 10,\n",
       "   'n_estimators': 100,\n",
       "   'subsample': 0.6},\n",
       "  {'colsample_bytree': 0.6,\n",
       "   'gamma': 1,\n",
       "   'learning_rate': 0.05,\n",
       "   'max_depth': 6,\n",
       "   'min_child_weight': 7.5,\n",
       "   'n_estimators': 50,\n",
       "   'subsample': 1.0},\n",
       "  {'colsample_bytree': 0.6,\n",
       "   'gamma': 0.5,\n",
       "   'learning_rate': 0.01,\n",
       "   'max_depth': 4,\n",
       "   'min_child_weight': 10,\n",
       "   'n_estimators': 500,\n",
       "   'subsample': 1.0},\n",
       "  {'colsample_bytree': 0.8,\n",
       "   'gamma': 5,\n",
       "   'learning_rate': 0.02,\n",
       "   'max_depth': 4,\n",
       "   'min_child_weight': 5,\n",
       "   'n_estimators': 3,\n",
       "   'subsample': 0.6},\n",
       "  {'colsample_bytree': 0.8,\n",
       "   'gamma': 1,\n",
       "   'learning_rate': 0.1,\n",
       "   'max_depth': 7,\n",
       "   'min_child_weight': 1,\n",
       "   'n_estimators': 500,\n",
       "   'subsample': 0.8},\n",
       "  {'colsample_bytree': 0.8,\n",
       "   'gamma': 2,\n",
       "   'learning_rate': 0.05,\n",
       "   'max_depth': 4,\n",
       "   'min_child_weight': 10,\n",
       "   'n_estimators': 700,\n",
       "   'subsample': 0.8},\n",
       "  {'colsample_bytree': 0.8,\n",
       "   'gamma': 2,\n",
       "   'learning_rate': 0.01,\n",
       "   'max_depth': 7,\n",
       "   'min_child_weight': 1,\n",
       "   'n_estimators': 500,\n",
       "   'subsample': 1.0},\n",
       "  {'colsample_bytree': 0.6,\n",
       "   'gamma': 1.5,\n",
       "   'learning_rate': 0.2,\n",
       "   'max_depth': 4,\n",
       "   'min_child_weight': 5,\n",
       "   'n_estimators': 50,\n",
       "   'subsample': 1.0},\n",
       "  {'colsample_bytree': 0.8,\n",
       "   'gamma': 1.5,\n",
       "   'learning_rate': 0.02,\n",
       "   'max_depth': 5,\n",
       "   'min_child_weight': 10,\n",
       "   'n_estimators': 3,\n",
       "   'subsample': 0.6}],\n",
       " 'rank_test_score': array([ 37,  70,  64,  92,   6,  99,  13,  28,  36,  78,  74,  12,  52,\n",
       "         29,  42,  73,  71,  50,  68,  75,  22,  23,  61,  81,  83,  76,\n",
       "          4,  20,  54,  82,  90,  94,  57,  87,  40,  25,  60,  91,  77,\n",
       "        100,  16,  47,  67,  10,  63,  38,  14,  24,  17,  43,   8,  31,\n",
       "         11,  69,  18,  93,  85,  66,  80,  88,  26,   9,  89,  59,  44,\n",
       "         34,  41,  35,  48,   1,  84,  86,  65,  95,   3,  98,  72,  27,\n",
       "         15,  30,  21,  33,   2,  55,  56,  39,   5,   7,  49,  19,  62,\n",
       "         51,  32,  58,  97,  79,  45,  46,  53,  96], dtype=int32),\n",
       " 'split0_test_score': array([0.19690148, 0.14136179, 0.16219454, 0.04386404, 0.22492784,\n",
       "        0.00437313, 0.19797484, 0.19941598, 0.18394601, 0.10578745,\n",
       "        0.12153677, 0.221552  , 0.16712536, 0.19442534, 0.20098337,\n",
       "        0.11732493, 0.14883069, 0.17677871, 0.14479069, 0.12495809,\n",
       "        0.19502624, 0.1978472 , 0.1748191 , 0.12220512, 0.08996327,\n",
       "        0.13036689, 0.23063741, 0.20041643, 0.16141786, 0.09857035,\n",
       "        0.08478877, 0.01601772, 0.15641643, 0.06177435, 0.18231283,\n",
       "        0.19647465, 0.15583362, 0.04640378, 0.13238554, 0.00124895,\n",
       "        0.20399389, 0.17119108, 0.13891673, 0.21400152, 0.1680929 ,\n",
       "        0.18767873, 0.20783038, 0.19269492, 0.19514712, 0.16479054,\n",
       "        0.21868117, 0.18855586, 0.21539606, 0.15510491, 0.20086534,\n",
       "        0.03392206, 0.07034963, 0.13985773, 0.09043945, 0.08007369,\n",
       "        0.19335914, 0.22481304, 0.07689737, 0.16808747, 0.18924228,\n",
       "        0.18087545, 0.17868308, 0.17943477, 0.17831569, 0.23839   ,\n",
       "        0.08121618, 0.07645033, 0.15091993, 0.01018598, 0.2310343 ,\n",
       "        0.00595493, 0.13325273, 0.19765182, 0.20636186, 0.18996909,\n",
       "        0.1875279 , 0.19279627, 0.21886411, 0.17862936, 0.16529775,\n",
       "        0.19678271, 0.22477517, 0.22134133, 0.17484563, 0.19621175,\n",
       "        0.1541121 , 0.16759821, 0.18133238, 0.15314975, 0.00798261,\n",
       "        0.12566001, 0.17487139, 0.18835705, 0.15881364, 0.0104608 ]),\n",
       " 'split1_test_score': array([0.19415079, 0.15926601, 0.15755454, 0.05323893, 0.22568929,\n",
       "        0.00739501, 0.19895747, 0.17740397, 0.19329758, 0.12941418,\n",
       "        0.14151207, 0.19484664, 0.18548661, 0.17437786, 0.17360244,\n",
       "        0.14448915, 0.13357784, 0.17221628, 0.14992994, 0.0933652 ,\n",
       "        0.20008282, 0.20395576, 0.15779828, 0.12584258, 0.10580857,\n",
       "        0.13670249, 0.21400497, 0.19901534, 0.17433773, 0.10730796,\n",
       "        0.06019588, 0.01841964, 0.17907861, 0.08811813, 0.18582379,\n",
       "        0.19070131, 0.16765603, 0.05537161, 0.11594651, 0.00469342,\n",
       "        0.20671132, 0.1876416 , 0.15324586, 0.22048512, 0.16220565,\n",
       "        0.18341877, 0.21922809, 0.19803843, 0.20242956, 0.19928717,\n",
       "        0.19898653, 0.18771664, 0.21337768, 0.16113151, 0.21014423,\n",
       "        0.04801511, 0.08585399, 0.16043698, 0.10904757, 0.10673921,\n",
       "        0.20013253, 0.21461322, 0.0858561 , 0.15861867, 0.15948926,\n",
       "        0.19751796, 0.19973983, 0.18647402, 0.17422968, 0.2260336 ,\n",
       "        0.08399558, 0.08461162, 0.14668993, 0.01579495, 0.21069414,\n",
       "        0.01021778, 0.14230513, 0.19755142, 0.21136385, 0.19759069,\n",
       "        0.20031789, 0.19851956, 0.22508439, 0.17165591, 0.18303794,\n",
       "        0.1957982 , 0.22167616, 0.22248269, 0.15358476, 0.19960912,\n",
       "        0.15885231, 0.18217003, 0.19176021, 0.17720321, 0.01400623,\n",
       "        0.12168573, 0.19010462, 0.16939717, 0.18074143, 0.01665884]),\n",
       " 'split2_test_score': array([0.14807462, 0.11333138, 0.13884423, 0.0523136 , 0.22629245,\n",
       "        0.00577252, 0.22338714, 0.20409141, 0.19850454, 0.11723523,\n",
       "        0.13200726, 0.22618982, 0.17949427, 0.21644556, 0.19336112,\n",
       "        0.13809769, 0.12119207, 0.17789941, 0.13512954, 0.13344958,\n",
       "        0.20793915, 0.19800264, 0.13143972, 0.03002163, 0.0984275 ,\n",
       "        0.10228609, 0.23778844, 0.21667764, 0.17671383, 0.07826472,\n",
       "        0.04872979, 0.01852323, 0.17565492, 0.08171177, 0.18953276,\n",
       "        0.20906127, 0.15995415, 0.05526431, 0.1484473 , 0.00287132,\n",
       "        0.21535857, 0.18870027, 0.14551936, 0.2227543 , 0.13185462,\n",
       "        0.19876585, 0.20856823, 0.21316291, 0.21933002, 0.18414507,\n",
       "        0.24406908, 0.21552619, 0.22268966, 0.11099611, 0.20824806,\n",
       "        0.04251791, 0.09015248, 0.15024944, 0.10540773, 0.02925003,\n",
       "        0.20646587, 0.23326226, 0.00882833, 0.18552831, 0.17577413,\n",
       "        0.20072725, 0.18792449, 0.2013773 , 0.18315709, 0.23676746,\n",
       "        0.08998191, 0.07696248, 0.17700463, 0.01577139, 0.2411402 ,\n",
       "        0.00547987, 0.11470173, 0.19544544, 0.21317289, 0.19928571,\n",
       "        0.20737221, 0.18776854, 0.23493548, 0.1564618 , 0.16866729,\n",
       "        0.16172501, 0.22697581, 0.22941702, 0.18696346, 0.21693454,\n",
       "        0.16162158, 0.18299425, 0.19431054, 0.17061059, 0.01038073,\n",
       "        0.07248304, 0.18344819, 0.17933322, 0.16663824, 0.01325004]),\n",
       " 'split3_test_score': array([0.19150289, 0.13516752, 0.15367031, 0.04188188, 0.20874231,\n",
       "        0.00404074, 0.19117535, 0.18844648, 0.16517894, 0.11047147,\n",
       "        0.11995309, 0.19101498, 0.15157837, 0.18045929, 0.17023073,\n",
       "        0.12910918, 0.14126415, 0.16038736, 0.14345368, 0.1479524 ,\n",
       "        0.18641112, 0.18268073, 0.16400396, 0.11505383, 0.08358249,\n",
       "        0.12775082, 0.20766087, 0.1829595 , 0.15539487, 0.09989939,\n",
       "        0.08839205, 0.01335145, 0.15875857, 0.06399715, 0.16992675,\n",
       "        0.17627583, 0.14076626, 0.03991604, 0.10885759, 0.00174861,\n",
       "        0.18908809, 0.15821124, 0.13830704, 0.19533545, 0.15854503,\n",
       "        0.16877656, 0.19595696, 0.18878165, 0.18986834, 0.1680995 ,\n",
       "        0.20685161, 0.16558017, 0.19126549, 0.15506048, 0.17971639,\n",
       "        0.03328389, 0.06862848, 0.13818781, 0.09634367, 0.08571088,\n",
       "        0.17638019, 0.20332327, 0.0914358 , 0.14406342, 0.18609026,\n",
       "        0.17114957, 0.16357667, 0.1782648 , 0.16275741, 0.21029051,\n",
       "        0.07492357, 0.06924434, 0.13527397, 0.00991597, 0.20620554,\n",
       "        0.00796612, 0.14092261, 0.17506708, 0.1899116 , 0.16897009,\n",
       "        0.19507636, 0.16589505, 0.21200432, 0.16988757, 0.15014014,\n",
       "        0.1779407 , 0.21120257, 0.20716241, 0.17839665, 0.18126535,\n",
       "        0.14658988, 0.15327461, 0.17403996, 0.15142584, 0.00854687,\n",
       "        0.10113523, 0.16209099, 0.17577473, 0.1669648 , 0.01096986]),\n",
       " 'split4_test_score': array([0.19689095, 0.14987717, 0.14596877, 0.04867609, 0.22025707,\n",
       "        0.00892469, 0.2198631 , 0.18533191, 0.18697356, 0.12088512,\n",
       "        0.13954861, 0.21259172, 0.16624723, 0.18349728, 0.16984236,\n",
       "        0.13217569, 0.14286094, 0.17814727, 0.1427607 , 0.13152692,\n",
       "        0.19701319, 0.2010576 , 0.1576476 , 0.10514887, 0.09459145,\n",
       "        0.12979235, 0.22158509, 0.19282096, 0.17532614, 0.11056538,\n",
       "        0.02751399, 0.01978831, 0.16931238, 0.08366889, 0.18631799,\n",
       "        0.20478516, 0.16357626, 0.05325087, 0.0892534 , 0.00590762,\n",
       "        0.20630298, 0.17730749, 0.14277617, 0.21706407, 0.1510793 ,\n",
       "        0.18799393, 0.19717221, 0.18776961, 0.19451887, 0.18153592,\n",
       "        0.22603854, 0.18481945, 0.21539959, 0.12941964, 0.20029634,\n",
       "        0.04150961, 0.08082048, 0.15125184, 0.09756479, 0.06351731,\n",
       "        0.20048473, 0.21639079, 0.08746651, 0.13868258, 0.18177111,\n",
       "        0.18026569, 0.18379899, 0.18235053, 0.16988915, 0.229261  ,\n",
       "        0.0833689 , 0.08171252, 0.14020827, 0.01648111, 0.22416676,\n",
       "        0.01082935, 0.14530596, 0.19208155, 0.20174487, 0.19210538,\n",
       "        0.19640016, 0.18675396, 0.2332492 , 0.16554768, 0.17240145,\n",
       "        0.18827349, 0.22571128, 0.21680074, 0.17376249, 0.20229437,\n",
       "        0.15569247, 0.16441486, 0.1928002 , 0.16751377, 0.0137077 ,\n",
       "        0.11599866, 0.17550933, 0.1730695 , 0.17349661, 0.01491137]),\n",
       " 'std_fit_time': array([0.46837091, 0.01273563, 0.1020675 , 0.00737098, 0.11654663,\n",
       "        0.00254854, 0.0422502 , 0.40800537, 0.01193401, 0.01394544,\n",
       "        0.01632002, 0.15956713, 0.0078584 , 0.04238997, 0.10165466,\n",
       "        0.01434405, 0.04427663, 0.01586956, 0.05829242, 0.11141512,\n",
       "        0.01470197, 0.09466869, 1.24539529, 0.07317759, 0.00521507,\n",
       "        0.03163491, 0.07349649, 0.02989523, 0.02751351, 0.04332347,\n",
       "        0.10505399, 0.00944076, 0.11763846, 0.00814315, 0.08532521,\n",
       "        0.06015048, 0.08818399, 0.00181368, 0.0420208 , 0.00140311,\n",
       "        0.01611972, 0.02977745, 0.01390386, 0.05013974, 0.04253928,\n",
       "        0.08438063, 0.04446057, 0.01589665, 0.09340512, 0.03565519,\n",
       "        0.03785329, 0.17989079, 0.07920671, 0.04197147, 0.05284904,\n",
       "        0.00605922, 0.00675711, 0.02029235, 0.00517945, 0.06589202,\n",
       "        0.07928017, 0.1227565 , 0.11144733, 0.15184378, 0.11749359,\n",
       "        0.26630122, 0.07301423, 0.03631669, 0.05673559, 0.01922976,\n",
       "        0.00265384, 0.01706099, 0.01082971, 0.00620508, 0.19105221,\n",
       "        0.00969204, 0.07306409, 0.06722915, 0.0370743 , 0.03799008,\n",
       "        0.15551987, 0.08493497, 0.02372999, 0.08893512, 0.04694201,\n",
       "        0.20760878, 0.21677389, 0.22666423, 0.51031558, 0.06276548,\n",
       "        0.05317526, 0.01770392, 0.00893353, 0.07603737, 0.00381224,\n",
       "        0.18880878, 0.01912433, 1.02761784, 0.01838201, 0.00165536]),\n",
       " 'std_score_time': array([4.79536250e-02, 3.19130673e-03, 1.40042394e-02, 4.26646289e-04,\n",
       "        1.93176672e-02, 4.82135229e-03, 1.46891506e-03, 8.80893677e-03,\n",
       "        4.55738838e-03, 7.13405049e-04, 3.87562160e-04, 1.41159629e-02,\n",
       "        3.03970602e-04, 3.08096363e-03, 9.34526939e-03, 9.89808277e-05,\n",
       "        1.03608979e-02, 3.02177708e-04, 1.22410290e-02, 1.81369924e-03,\n",
       "        1.21284400e-03, 5.27592703e-02, 8.54993983e-02, 9.55466530e-03,\n",
       "        1.72216419e-04, 6.49436588e-03, 1.18830279e-02, 1.24659947e-03,\n",
       "        1.23227954e-03, 9.06347910e-03, 2.71340402e-02, 2.57225092e-04,\n",
       "        3.39391508e-03, 2.33833212e-04, 6.75214133e-03, 3.68516959e-03,\n",
       "        5.43647489e-03, 1.41104180e-03, 8.85757329e-03, 9.28619523e-05,\n",
       "        4.92371267e-04, 1.34023481e-03, 2.34732893e-04, 3.20075007e-03,\n",
       "        4.43820511e-02, 3.44088969e-03, 3.59947928e-03, 1.95903626e-03,\n",
       "        7.85474601e-03, 1.09676139e-03, 4.51549215e-04, 4.04397798e-03,\n",
       "        5.66280357e-03, 5.20741960e-04, 1.33217646e-02, 6.19492085e-04,\n",
       "        1.92801619e-03, 1.51411210e-03, 2.13044236e-04, 2.00951825e-03,\n",
       "        4.58621173e-03, 1.59203378e-02, 1.60135566e-02, 3.80679445e-02,\n",
       "        6.45807373e-03, 2.29203788e-02, 6.82421703e-03, 6.60504071e-03,\n",
       "        5.14723542e-03, 7.91395020e-04, 1.58962119e-04, 3.04160860e-03,\n",
       "        5.64313007e-04, 1.84545135e-04, 6.87237007e-02, 3.98256627e-04,\n",
       "        3.84779993e-03, 3.92024972e-03, 2.93975913e-04, 8.41878826e-04,\n",
       "        1.58002923e-02, 1.99092602e-02, 4.11311175e-03, 6.03799019e-03,\n",
       "        8.94017466e-03, 2.25507886e-02, 6.03176258e-02, 1.68945804e-02,\n",
       "        3.14069973e-02, 1.13728786e-03, 1.12963918e-02, 3.89343978e-04,\n",
       "        8.09191831e-03, 5.19029212e-03, 7.72124964e-05, 1.65802765e-03,\n",
       "        1.39143186e-03, 4.54400542e-02, 6.45654705e-04, 1.31466901e-04]),\n",
       " 'std_test_score': array([0.01882167, 0.01552393, 0.00832342, 0.00449551, 0.00657366,\n",
       "        0.00184314, 0.01286779, 0.00965085, 0.0113791 , 0.00821356,\n",
       "        0.00890107, 0.01406724, 0.01176162, 0.01480667, 0.01300386,\n",
       "        0.00912819, 0.00951435, 0.00669975, 0.00475839, 0.01807624,\n",
       "        0.0069965 , 0.00736461, 0.01428888, 0.03552579, 0.00752447,\n",
       "        0.01192884, 0.01089055, 0.01102768, 0.00860172, 0.01125784,\n",
       "        0.02273534, 0.00228669, 0.00897237, 0.01081311, 0.00682358,\n",
       "        0.01152094, 0.00926139, 0.00602903, 0.02021567, 0.00176287,\n",
       "        0.00852777, 0.01128039, 0.00542654, 0.00976138, 0.01252929,\n",
       "        0.00970365, 0.00852539, 0.00926767, 0.01034854, 0.01235773,\n",
       "        0.01566011, 0.01593662, 0.0106628 , 0.01911674, 0.01079899,\n",
       "        0.00556409, 0.00844911, 0.00815952, 0.00665611, 0.02589943,\n",
       "        0.0103597 , 0.01007637, 0.03100158, 0.0168664 , 0.01051231,\n",
       "        0.01121764, 0.01183796, 0.00839118, 0.007004  , 0.01003786,\n",
       "        0.00485442, 0.00524268, 0.01451747, 0.00293451, 0.01286738,\n",
       "        0.00216417, 0.01103888, 0.00848991, 0.00832117, 0.01085973,\n",
       "        0.00650842, 0.01104747, 0.00863896, 0.00732261, 0.0106976 ,\n",
       "        0.01306671, 0.00570789, 0.00735008, 0.01098852, 0.01144393,\n",
       "        0.00509874, 0.01125718, 0.0078704 , 0.01006188, 0.00252376,\n",
       "        0.0193385 , 0.00940353, 0.00646538, 0.00736227, 0.00233919])}"
      ]
     },
     "execution_count": 25,
     "metadata": {},
     "output_type": "execute_result"
    }
   ],
   "source": [
    "# Print the best parameters and highest accuracy\n",
    "print(\"Best parameters found: \", model_rs.best_params_)\n",
    "print(\"Best score found: \", model_rs.best_score_)\n",
    "print(\"Feature Importance\", model_rs.best_estimator_.feature_importances_)\n",
    "model_rs.cv_results_\n"
   ]
  },
  {
   "cell_type": "code",
   "execution_count": null,
   "id": "IYyRRP2TUyon",
   "metadata": {
    "colab": {
     "base_uri": "https://localhost:8080/"
    },
    "executionInfo": {
     "elapsed": 165,
     "status": "ok",
     "timestamp": 1657171071352,
     "user": {
      "displayName": "ripudaman bevli",
      "userId": "06084801483216786470"
     },
     "user_tz": 420
    },
    "id": "IYyRRP2TUyon",
    "outputId": "defcc712-3954-4a99-cc29-534fbd12f752"
   },
   "outputs": [
    {
     "name": "stdout",
     "output_type": "stream",
     "text": [
      "R^2 score is 0.2286069383185585\n",
      "RMSE score is 41.997668248467235\n"
     ]
    }
   ],
   "source": [
    "import sklearn.metrics as metrics\n",
    "from sklearn.metrics import mean_squared_error, r2_score, mean_absolute_error\n",
    "# R^2 score\n",
    "r2score = metrics.r2_score(y_test, y_pred)\n",
    "rmse = np.sqrt(mean_squared_error(y_test, y_pred))\n",
    "print (\"R^2 score is\", r2score)\n",
    "print (\"RMSE score is\", rmse)"
   ]
  },
  {
   "cell_type": "code",
   "execution_count": null,
   "id": "iTUt0htCLLlX",
   "metadata": {
    "id": "iTUt0htCLLlX"
   },
   "outputs": [],
   "source": []
  },
  {
   "cell_type": "code",
   "execution_count": null,
   "id": "C-fXwVtT1p4q",
   "metadata": {
    "id": "C-fXwVtT1p4q"
   },
   "outputs": [],
   "source": []
  },
  {
   "cell_type": "markdown",
   "id": "NxnEfTO9CKax",
   "metadata": {
    "id": "NxnEfTO9CKax"
   },
   "source": [
    "# Testing"
   ]
  },
  {
   "cell_type": "code",
   "execution_count": 21,
   "id": "akWqArUYCO7i",
   "metadata": {
    "executionInfo": {
     "elapsed": 791,
     "status": "ok",
     "timestamp": 1657260545496,
     "user": {
      "displayName": "olivia han",
      "userId": "16453021985307431611"
     },
     "user_tz": 420
    },
    "id": "akWqArUYCO7i"
   },
   "outputs": [],
   "source": [
    "# df_testing=pd.read_csv('df_merged_final_weathermodified_test.csv',index_col=[0])"
   ]
  },
  {
   "cell_type": "code",
   "execution_count": 314,
   "id": "GOGH7da8CO4G",
   "metadata": {
    "colab": {
     "base_uri": "https://localhost:8080/",
     "height": 404
    },
    "executionInfo": {
     "elapsed": 8,
     "status": "ok",
     "timestamp": 1657260546101,
     "user": {
      "displayName": "olivia han",
      "userId": "16453021985307431611"
     },
     "user_tz": 420
    },
    "id": "GOGH7da8CO4G",
    "outputId": "931e13c1-21be-42fa-83e0-47853d79a33d"
   },
   "outputs": [
    {
     "data": {
      "text/plain": [
       "Index(['fl_date', 'mkt_unique_carrier', 'branded_code_share', 'mkt_carrier',\n",
       "       'mkt_carrier_fl_num', 'op_unique_carrier', 'tail_num',\n",
       "       'op_carrier_fl_num', 'origin_airport_id', 'origin', 'origin_city_name',\n",
       "       'dest_airport_id', 'dest', 'dest_city_name', 'crs_dep_time',\n",
       "       'crs_arr_time', 'dup', 'crs_elapsed_time', 'flights', 'distance',\n",
       "       'Weather_origin', 'Weather_destin', 'Visibility_origin',\n",
       "       'Visibility_destin', 'windspeed_origin', 'windspeed_destin', 'weekday',\n",
       "       'crs_arr_timeblk', 'crs_dep_timeblk', 'avg_arr', 'avg_dep'],\n",
       "      dtype='object')"
      ]
     },
     "execution_count": 314,
     "metadata": {},
     "output_type": "execute_result"
    }
   ],
   "source": [
    "df_t.columns"
   ]
  },
  {
   "cell_type": "code",
   "execution_count": 429,
   "id": "631f8851-2fcf-4f27-b8af-5b4755d0af84",
   "metadata": {},
   "outputs": [],
   "source": [
    "df_origin_busiest=df.groupby(['origin']).agg({'flights':'count',}).sort_values(by='flights',ascending=False).reset_index().head(55)"
   ]
  },
  {
   "cell_type": "code",
   "execution_count": 430,
   "id": "a790046b-e217-4134-a8f6-fb1d0cebeb73",
   "metadata": {},
   "outputs": [],
   "source": [
    "airport=list(df_origin_busiest.origin)"
   ]
  },
  {
   "cell_type": "code",
   "execution_count": 505,
   "id": "vcyGSF5QCOwO",
   "metadata": {
    "colab": {
     "base_uri": "https://localhost:8080/"
    },
    "executionInfo": {
     "elapsed": 3,
     "status": "ok",
     "timestamp": 1657260548741,
     "user": {
      "displayName": "olivia han",
      "userId": "16453021985307431611"
     },
     "user_tz": 420
    },
    "id": "vcyGSF5QCOwO",
    "outputId": "0fa2f740-6b0e-417a-a981-86012f09aec8"
   },
   "outputs": [],
   "source": [
    "df_t_new=df_t[(df_t['origin'].isin(airport))&(df_t['dest'].isin(airport))]"
   ]
  },
  {
   "cell_type": "code",
   "execution_count": 506,
   "id": "58fe6960-bd00-4506-b7c5-0fc168a12681",
   "metadata": {},
   "outputs": [],
   "source": [
    "df_t_new.to_csv('df_test_without_dummies.csv')"
   ]
  },
  {
   "cell_type": "code",
   "execution_count": 486,
   "id": "QoIbdsxY3_f_",
   "metadata": {
    "id": "QoIbdsxY3_f_",
    "tags": []
   },
   "outputs": [],
   "source": [
    "X_tmp=df_t_new[['distance','origin_airport_id','op_unique_carrier','dest','origin','crs_dep_time','crs_arr_time',\n",
    "       'Weather_origin', 'Weather_destin','crs_arr_timeblk','crs_dep_timeblk',\n",
    "       'Visibility_origin', 'Visibility_destin', 'windspeed_origin','weekday',\n",
    "       'windspeed_destin','avg_arr',\n",
    "        'avg_dep']]"
   ]
  },
  {
   "cell_type": "code",
   "execution_count": 501,
   "id": "66f1075d-0442-4327-b45a-1c275f625843",
   "metadata": {},
   "outputs": [],
   "source": [
    "X=pd.get_dummies(X_tmp).drop('origin_BUF',axis=1)"
   ]
  },
  {
   "cell_type": "code",
   "execution_count": 502,
   "id": "7277d36b-bfcd-41d2-abc0-433ed07490b9",
   "metadata": {},
   "outputs": [
    {
     "data": {
      "text/plain": [
       "Index(['distance', 'origin_airport_id', 'crs_dep_time', 'crs_arr_time',\n",
       "       'weekday', 'avg_arr', 'avg_dep', 'op_unique_carrier_9E',\n",
       "       'op_unique_carrier_AA', 'op_unique_carrier_AS',\n",
       "       ...\n",
       "       'crs_dep_timeblk_Morning', 'crs_dep_timeblk_RedEye',\n",
       "       'Visibility_origin_highvisibility', 'Visibility_origin_lowvisibility',\n",
       "       'Visibility_origin_mediumvisbility', 'Visibility_destin_highvisibility',\n",
       "       'Visibility_destin_lowvisibility', 'Visibility_destin_mediumvisbility',\n",
       "       'windspeed_origin_lowwindspeed', 'windspeed_destin_lowwindspeed'],\n",
       "      dtype='object', length=162)"
      ]
     },
     "execution_count": 502,
     "metadata": {},
     "output_type": "execute_result"
    }
   ],
   "source": [
    "X.columns"
   ]
  },
  {
   "cell_type": "code",
   "execution_count": 503,
   "id": "6c6297e9-66ce-4ed7-ae6e-15a997c532b9",
   "metadata": {},
   "outputs": [
    {
     "data": {
      "text/plain": [
       "(10519, 162)"
      ]
     },
     "execution_count": 503,
     "metadata": {},
     "output_type": "execute_result"
    }
   ],
   "source": [
    "X.shape"
   ]
  },
  {
   "cell_type": "code",
   "execution_count": 366,
   "id": "2b1a785f-9470-438a-9ea0-0521cf9c1fa0",
   "metadata": {
    "scrolled": true
   },
   "outputs": [
    {
     "data": {
      "text/plain": [
       "Index(['distance', 'origin_airport_id', 'crs_dep_time', 'crs_arr_time',\n",
       "       'weekday', 'avg_arr', 'avg_dep', 'op_unique_carrier_9E',\n",
       "       'op_unique_carrier_AA', 'op_unique_carrier_AS', 'op_unique_carrier_AX',\n",
       "       'op_unique_carrier_B6', 'op_unique_carrier_C5', 'op_unique_carrier_CP',\n",
       "       'op_unique_carrier_DL', 'op_unique_carrier_EV', 'op_unique_carrier_F9',\n",
       "       'op_unique_carrier_G7', 'op_unique_carrier_MQ', 'op_unique_carrier_NK',\n",
       "       'op_unique_carrier_OH', 'op_unique_carrier_OO', 'op_unique_carrier_QX',\n",
       "       'op_unique_carrier_UA', 'op_unique_carrier_WN', 'op_unique_carrier_YV',\n",
       "       'op_unique_carrier_YX', 'dest_ATL', 'dest_CLT', 'dest_DEN', 'dest_DTW',\n",
       "       'dest_EWR', 'dest_IAH', 'dest_LAS', 'dest_LAX', 'dest_LGA', 'dest_MCO',\n",
       "       'dest_MSP', 'dest_ORD', 'dest_PHX', 'dest_SEA', 'dest_SFO',\n",
       "       'origin_ATL', 'origin_CLT', 'origin_DEN', 'origin_DTW', 'origin_EWR',\n",
       "       'origin_IAH', 'origin_LAS', 'origin_LAX', 'origin_LGA', 'origin_MCO',\n",
       "       'origin_MSP', 'origin_ORD', 'origin_PHX', 'origin_SEA', 'origin_SFO',\n",
       "       'Weather_origin_clear', 'Weather_origin_heavyrain',\n",
       "       'Weather_origin_lightrain', 'Weather_destin_clear',\n",
       "       'Weather_destin_heavyrain', 'Weather_destin_lightrain',\n",
       "       'crs_arr_timeblk_Afternoon', 'crs_arr_timeblk_Evening',\n",
       "       'crs_arr_timeblk_Morning', 'crs_arr_timeblk_RedEye',\n",
       "       'crs_dep_timeblk_Afternoon', 'crs_dep_timeblk_Evening',\n",
       "       'crs_dep_timeblk_Morning', 'crs_dep_timeblk_RedEye',\n",
       "       'Visibility_origin_highvisibility', 'Visibility_destin_highvisibility',\n",
       "       'windspeed_origin_lowwindspeed', 'windspeed_destin_lowwindspeed'],\n",
       "      dtype='object')"
      ]
     },
     "execution_count": 366,
     "metadata": {},
     "output_type": "execute_result"
    }
   ],
   "source": [
    "X.columns"
   ]
  },
  {
   "cell_type": "code",
   "execution_count": 504,
   "id": "be6ab4a8-af0d-4d69-8afc-1270ffe55b02",
   "metadata": {},
   "outputs": [],
   "source": [
    "X.to_csv('df_test_with_dummies.csv')"
   ]
  },
  {
   "cell_type": "code",
   "execution_count": 192,
   "id": "446d470a-f3e0-4bd2-b96f-b9f1958097b0",
   "metadata": {},
   "outputs": [],
   "source": [
    "import pickle\n",
    "pickle_out = open(\"df_test_with_dummies.pickle\",\"wb\")\n",
    "pickle.dump(X, pickle_out)\n",
    "pickle_out.close()"
   ]
  },
  {
   "cell_type": "code",
   "execution_count": 193,
   "id": "e670764f-e43b-42e0-a7a1-e1ab22c0ce86",
   "metadata": {},
   "outputs": [],
   "source": [
    "\n",
    "pickle_in = open(\"df_test_with_dummies.pickle\",\"rb\")\n",
    "ffff = pickle.load(pickle_in)"
   ]
  },
  {
   "cell_type": "code",
   "execution_count": null,
   "id": "ebi-GKkl4I_u",
   "metadata": {
    "id": "ebi-GKkl4I_u"
   },
   "outputs": [],
   "source": [
    "# #one-hot encoded\n",
    "# enc=OneHotEncoder()\n",
    "# X = enc.fit_transform(X_tmp)\n"
   ]
  },
  {
   "cell_type": "code",
   "execution_count": 184,
   "id": "dfvr7MVS4M_y",
   "metadata": {
    "id": "dfvr7MVS4M_y"
   },
   "outputs": [],
   "source": [
    "from sklearn.ensemble import RandomForestRegressor\n",
    "from sklearn.metrics import r2_score"
   ]
  },
  {
   "cell_type": "code",
   "execution_count": 185,
   "id": "9e8ca89b-3615-487d-a103-57af79f02d3e",
   "metadata": {},
   "outputs": [],
   "source": [
    "rfr = RandomForestRegressor(max_depth=15,max_features='auto',min_samples_leaf= 5,min_samples_split= 10,n_estimators= 200)"
   ]
  },
  {
   "cell_type": "code",
   "execution_count": null,
   "id": "b4caccff",
   "metadata": {},
   "outputs": [],
   "source": [
    "y_predict=rfr.fit(X)"
   ]
  },
  {
   "cell_type": "code",
   "execution_count": null,
   "id": "2ce96802-e202-4e19-b37c-4935df02e5d4",
   "metadata": {},
   "outputs": [],
   "source": [
    "y_predict.to_csv('final_submission.csv')"
   ]
  },
  {
   "cell_type": "code",
   "execution_count": null,
   "id": "5UbiN3-P4p8t",
   "metadata": {
    "id": "5UbiN3-P4p8t"
   },
   "outputs": [],
   "source": []
  },
  {
   "cell_type": "code",
   "execution_count": null,
   "id": "CqznHtLk4p6C",
   "metadata": {
    "id": "CqznHtLk4p6C"
   },
   "outputs": [],
   "source": []
  }
 ],
 "metadata": {
  "colab": {
   "collapsed_sections": [
    "706f1eec-d4d8-4a27-8f39-112d3ca5de7d",
    "b9e77419-692c-44e9-b8b5-b6a7e53c8596",
    "1d3d3132-cd23-426c-a299-3357b0308945",
    "7017abf2-fec0-403e-848f-9f1c516e2482",
    "11099085-5c4c-433c-a3db-e7352da18d47"
   ],
   "name": "Flights_test.ipynb",
   "provenance": [
    {
     "file_id": "1w9fe4UWb_ThxLjufQFvAKV2O1pIgzorb",
     "timestamp": 1657260170074
    }
   ],
   "toc_visible": true
  },
  "gpuClass": "standard",
  "kernelspec": {
   "display_name": "ml_env",
   "language": "python",
   "name": "ml_env"
  },
  "language_info": {
   "codemirror_mode": {
    "name": "ipython",
    "version": 3
   },
   "file_extension": ".py",
   "mimetype": "text/x-python",
   "name": "python",
   "nbconvert_exporter": "python",
   "pygments_lexer": "ipython3",
   "version": "3.9.12"
  },
  "toc": {
   "base_numbering": 1,
   "nav_menu": {},
   "number_sections": true,
   "sideBar": true,
   "skip_h1_title": false,
   "title_cell": "Table of Contents",
   "title_sidebar": "Contents",
   "toc_cell": false,
   "toc_position": {},
   "toc_section_display": true,
   "toc_window_display": false
  }
 },
 "nbformat": 4,
 "nbformat_minor": 5
}
