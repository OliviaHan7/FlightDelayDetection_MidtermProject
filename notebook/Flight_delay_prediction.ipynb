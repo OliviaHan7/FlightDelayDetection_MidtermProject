{
 "cells": [
  {
   "cell_type": "markdown",
   "id": "9e93e3d4-1db8-45ef-865f-8813d01e4b17",
   "metadata": {
    "id": "9e93e3d4-1db8-45ef-865f-8813d01e4b17"
   },
   "source": [
    "# Loading Libraries"
   ]
  },
  {
   "cell_type": "code",
   "execution_count": 1,
   "id": "e5943c8a-b7d3-4617-8c0d-c2850a8d428e",
   "metadata": {
    "id": "e5943c8a-b7d3-4617-8c0d-c2850a8d428e"
   },
   "outputs": [],
   "source": [
    "# Importing Libs\n",
    "import os\n",
    "import numpy as np # Linear Algebra\n",
    "import pandas as pd # Data Manipulation\n",
    "from collections import Counter # Data Manipulation\n",
    "import seaborn as sns # Data Viz\n",
    "import matplotlib.pyplot as plt # Data Viz\n",
    "from sklearn.impute import SimpleImputer # Perform Imputation\n",
    "from sklearn.preprocessing import OneHotEncoder,LabelEncoder # Perform OneHotEnconding\n",
    "from sklearn.ensemble import RandomForestRegressor\n",
    "from sklearn.metrics import classification_report, roc_auc_score,precision_score,recall_score,r2_score # Evaluating the Model\n",
    "from sklearn.model_selection import train_test_split\n",
    "# from sklearn import metrices\n",
    "#warnings\n",
    "import warnings\n",
    "warnings.filterwarnings(\"ignore\")\n",
    "# os.chdir(\"/content/drive/MyDrive/Midterm-project_I\")"
   ]
  },
  {
   "cell_type": "code",
   "execution_count": 58,
   "id": "h4_-T899oont",
   "metadata": {
    "id": "h4_-T899oont"
   },
   "outputs": [],
   "source": [
    "%%capture\n",
    "!pip install xgboost==1.6.1"
   ]
  },
  {
   "cell_type": "markdown",
   "id": "706f1eec-d4d8-4a27-8f39-112d3ca5de7d",
   "metadata": {
    "id": "706f1eec-d4d8-4a27-8f39-112d3ca5de7d",
    "tags": []
   },
   "source": [
    "# Weather Data"
   ]
  },
  {
   "cell_type": "markdown",
   "id": "56a60b67-18f7-4c3e-821d-cff22c0d5fed",
   "metadata": {
    "id": "56a60b67-18f7-4c3e-821d-cff22c0d5fed"
   },
   "source": [
    "## 1. Load Weather Data"
   ]
  },
  {
   "cell_type": "code",
   "execution_count": 2,
   "id": "3c498ea0-ab36-47c3-81b6-6352876bc4ab",
   "metadata": {
    "colab": {
     "base_uri": "https://localhost:8080/",
     "height": 340
    },
    "id": "3c498ea0-ab36-47c3-81b6-6352876bc4ab",
    "outputId": "ad7e99e9-884d-4e74-90a4-778b1388774a"
   },
   "outputs": [],
   "source": [
    "# dff=pd.read_csv('df_merged_final.csv',index_col=[0])\n",
    "# dff"
   ]
  },
  {
   "cell_type": "code",
   "execution_count": null,
   "id": "c5f051cb-da1f-455c-87db-ef485797360e",
   "metadata": {
    "id": "c5f051cb-da1f-455c-87db-ef485797360e"
   },
   "outputs": [],
   "source": [
    "dff.describe()"
   ]
  },
  {
   "cell_type": "code",
   "execution_count": null,
   "id": "7168ff47-9e8a-4c73-852a-5ad93b0f77a5",
   "metadata": {
    "id": "7168ff47-9e8a-4c73-852a-5ad93b0f77a5"
   },
   "outputs": [],
   "source": [
    "#plot distributions\n",
    "axes = dff.iloc[:,35:49].hist(layout=(5,6), alpha=0.5, label='x',figsize=(25, 15))\n",
    "plt.tight_layout()\n",
    "plt.show()"
   ]
  },
  {
   "cell_type": "code",
   "execution_count": null,
   "id": "ee359262-0369-458c-b9bc-7b845c5a52bd",
   "metadata": {
    "id": "ee359262-0369-458c-b9bc-7b845c5a52bd"
   },
   "outputs": [],
   "source": [
    "# plot precipitation distribution\n",
    "axes = dff.iloc[:,42:43].hist(layout=(1,1), alpha=0.5, label='x',figsize=(25, 15), bins=30)\n",
    "plt.tight_layout()\n",
    "plt.show()"
   ]
  },
  {
   "cell_type": "markdown",
   "id": "b9e77419-692c-44e9-b8b5-b6a7e53c8596",
   "metadata": {
    "id": "b9e77419-692c-44e9-b8b5-b6a7e53c8596"
   },
   "source": [
    "## 2.Weather Feature Engineering"
   ]
  },
  {
   "cell_type": "code",
   "execution_count": null,
   "id": "6cb1e38d",
   "metadata": {},
   "outputs": [],
   "source": [
    "# encode the weather data at origin\n",
    "def newlabel_origin(df):\n",
    "    \n",
    "    if df['Origincloudcover']<40 and df['OriginprecipMM'] == 0:\n",
    "        return \"clear\"\n",
    "    if df['Origincloudcover']>=40 and df['OriginprecipMM'] == 0:\n",
    "        return \"cloudy\"\n",
    "    if 0<df['OriginprecipMM']<=10:\n",
    "        return \"lightrain\"\n",
    "    if 10<df['OriginprecipMM']<=25:\n",
    "        return \"heavyrain\"\n",
    "    if df['OriginprecipMM']>25:\n",
    "        return \"storm\"\n",
    "\n",
    "df['Weather_origin']=df.apply(newlabel_origin, axis=1)\n",
    "\n",
    "# encode the weather data at destination\n",
    "def newlabel_destin(df):\n",
    "    \n",
    "    if df['Destincloudcover']<40 and df['DestinprecipMM'] == 0:\n",
    "        return \"clear\"\n",
    "    if df['Destincloudcover']>=40 and df['DestinprecipMM'] == 0:\n",
    "        return \"cloudy\"\n",
    "    if 0<df['DestinprecipMM']<=10:\n",
    "        return \"lightrain\"\n",
    "    if 10<df['DestinprecipMM']<=25:\n",
    "        return \"heavyrain\"\n",
    "    if df['DestinprecipMM']>25:\n",
    "        return \"storm\"\n",
    "\n",
    "df['Weather_destin']=df.apply(newlabel_destin, axis=1)"
   ]
  },
  {
   "cell_type": "code",
   "execution_count": null,
   "id": "bfb604dd-c559-44b7-89c4-47b6bc4227cc",
   "metadata": {
    "id": "bfb604dd-c559-44b7-89c4-47b6bc4227cc"
   },
   "outputs": [],
   "source": [
    "# encode the visibility \n",
    "def visibility_origin(df):\n",
    "    \n",
    "    if df['Originvisibility']<7:\n",
    "        return \"lowvisibility\"\n",
    "    if 7<=df['Originvisibility']<9:\n",
    "        return \"mediumvisbility\"\n",
    "    if df['Originvisibility']>=9:\n",
    "        return \"highvisibility\"\n",
    "    \n",
    "\n",
    "df['Visibility_origin']=df.apply(visibility_origin, axis=1)\n",
    "\n",
    "def visibility_destin(df):\n",
    "    if df['Destinvisibility']<7:\n",
    "        return \"lowvisibility\"\n",
    "    if 7<=df['Destinvisibility']<9:\n",
    "        return \"mediumvisbility\"\n",
    "    if df['Destinvisibility']>=9:\n",
    "        return \"highvisibility\"\n",
    "    \n",
    "df['Visibility_destin']=df.apply(visibility_destin, axis=1)"
   ]
  },
  {
   "cell_type": "code",
   "execution_count": null,
   "id": "173eaf18-47f3-42ee-bf7a-68eca3e8f147",
   "metadata": {
    "id": "173eaf18-47f3-42ee-bf7a-68eca3e8f147"
   },
   "outputs": [],
   "source": [
    "#encode the wind speed\n",
    "def windspeed_origin(df):\n",
    "    \n",
    "    if df['OriginwindgustKmph']<45:\n",
    "        return \"lowwindspeed\"\n",
    "    if df['OriginwindgustKmph']>=45:\n",
    "        return \"highwindspeed\"\n",
    "\n",
    "dff['windspeed_origin']=dff.apply(windspeed_origin, axis=1)\n",
    "\n",
    "\n",
    "def windspeed_destin(df):\n",
    "    \n",
    "    if df['DestinwindgustKmph']<45:\n",
    "        return \"lowwindspeed\"\n",
    "    if df['DestinwindgustKmph']>=45:\n",
    "        return \"highwindspeed\"\n",
    "    \n",
    "dff['windspeed_destin']=dff.apply(windspeed_destin, axis=1)"
   ]
  },
  {
   "cell_type": "code",
   "execution_count": null,
   "id": "15bc19bd-8de8-4376-9eac-7c2cffd0a306",
   "metadata": {
    "id": "15bc19bd-8de8-4376-9eac-7c2cffd0a306",
    "outputId": "80d9d8ac-beab-40bb-b4be-e3b343b1942b"
   },
   "outputs": [
    {
     "data": {
      "text/html": [
       "<div>\n",
       "<style scoped>\n",
       "    .dataframe tbody tr th:only-of-type {\n",
       "        vertical-align: middle;\n",
       "    }\n",
       "\n",
       "    .dataframe tbody tr th {\n",
       "        vertical-align: top;\n",
       "    }\n",
       "\n",
       "    .dataframe thead th {\n",
       "        text-align: right;\n",
       "    }\n",
       "</style>\n",
       "<table border=\"1\" class=\"dataframe\">\n",
       "  <thead>\n",
       "    <tr style=\"text-align: right;\">\n",
       "      <th></th>\n",
       "      <th>fl_date</th>\n",
       "      <th>mkt_unique_carrier</th>\n",
       "      <th>branded_code_share</th>\n",
       "      <th>mkt_carrier</th>\n",
       "      <th>mkt_carrier_fl_num</th>\n",
       "      <th>op_unique_carrier</th>\n",
       "      <th>tail_num</th>\n",
       "      <th>op_carrier_fl_num</th>\n",
       "      <th>origin_airport_id</th>\n",
       "      <th>origin</th>\n",
       "      <th>...</th>\n",
       "      <th>DestinwindchillC</th>\n",
       "      <th>DestinwindgustKmph</th>\n",
       "      <th>Destincloudcover</th>\n",
       "      <th>Destinhumidity</th>\n",
       "      <th>DestinprecipMM</th>\n",
       "      <th>DestintempC</th>\n",
       "      <th>Destinvisibility</th>\n",
       "      <th>DestinwindspeedKmph</th>\n",
       "      <th>windspeed_origin</th>\n",
       "      <th>windspeed_destin</th>\n",
       "    </tr>\n",
       "  </thead>\n",
       "  <tbody>\n",
       "  </tbody>\n",
       "</table>\n",
       "<p>0 rows × 62 columns</p>\n",
       "</div>"
      ],
      "text/plain": [
       "Empty DataFrame\n",
       "Columns: [fl_date, mkt_unique_carrier, branded_code_share, mkt_carrier, mkt_carrier_fl_num, op_unique_carrier, tail_num, op_carrier_fl_num, origin_airport_id, origin, origin_city_name, dest_airport_id, dest, dest_city_name, crs_dep_time, dep_time, dep_delay, taxi_out, wheels_off, wheels_on, taxi_in, crs_arr_time, arr_time, arr_delay, cancelled, diverted, dup, crs_elapsed_time, actual_elapsed_time, air_time, flights, distance, OriginmaxtempC, OriginmintempC, Origintotalsnow_cm, Originsunhour, OriginfeelslikeC, OriginheatindexC, OriginwindchillC, OriginwindgustKmph, Origincloudcover, Originhumidity, OriginprecipMM, OrigintempC, Originvisibility, OriginwindspeedKmph, DestinmaxtempC, DestinmintempC, Destintotalsnow_cm, Destinsunhour, DestinfeelslikeC, DestinheatindexC, DestinwindchillC, DestinwindgustKmph, Destincloudcover, Destinhumidity, DestinprecipMM, DestintempC, Destinvisibility, DestinwindspeedKmph, windspeed_origin, windspeed_destin]\n",
       "Index: []\n",
       "\n",
       "[0 rows x 62 columns]"
      ]
     },
     "execution_count": 486,
     "metadata": {},
     "output_type": "execute_result"
    }
   ],
   "source": [
    "dff[dff.isnull().any(axis=1)]"
   ]
  },
  {
   "cell_type": "code",
   "execution_count": null,
   "id": "9d31e850-a64a-40ff-b1d2-f6b9bccb2999",
   "metadata": {
    "id": "9d31e850-a64a-40ff-b1d2-f6b9bccb2999"
   },
   "outputs": [],
   "source": [
    "#Exporting CSV file with weather features to add more features\n",
    "# dff.to_csv('df_merged_final_weathermodified.csv')#remove redundant weather columns\n",
    "colstodrop = ['OriginmaxtempC', 'OriginmintempC',\n",
    "       'Origintotalsnow_cm', 'Originsunhour', 'OriginfeelslikeC',\n",
    "       'OriginheatindexC', 'OriginwindchillC', 'OriginwindgustKmph',\n",
    "       'Origincloudcover', 'Originhumidity', 'OriginprecipMM', 'OrigintempC',\n",
    "       'Originvisibility', 'OriginwindspeedKmph', 'DestinmaxtempC',\n",
    "       'DestinmintempC', 'Destintotalsnow_cm', 'Destinsunhour',\n",
    "       'DestinfeelslikeC', 'DestinheatindexC', 'DestinwindchillC',\n",
    "       'DestinwindgustKmph', 'Destincloudcover', 'Destinhumidity',\n",
    "       'DestinprecipMM', 'DestintempC', 'Destinvisibility',\n",
    "       'DestinwindspeedKmph']\n",
    "\n",
    "\n",
    "dff.drop(colstodrop,axis=1,inplace=True)"
   ]
  },
  {
   "cell_type": "code",
   "execution_count": null,
   "id": "1d6a0b58",
   "metadata": {},
   "outputs": [],
   "source": [
    "#Exporting CSV file with weather features to add more features\n",
    "# dff.to_csv('df_merged_final_weathermodified.csv')"
   ]
  },
  {
   "cell_type": "code",
   "execution_count": null,
   "id": "b0bd9443-8ecb-4c52-9567-b61dc0351719",
   "metadata": {
    "id": "b0bd9443-8ecb-4c52-9567-b61dc0351719"
   },
   "outputs": [],
   "source": [
    "#correlation matrix\n",
    "dff.corr()"
   ]
  },
  {
   "cell_type": "code",
   "execution_count": null,
   "id": "7dec8051-cb9b-4d33-bf9a-d1ee9ecb7671",
   "metadata": {
    "id": "7dec8051-cb9b-4d33-bf9a-d1ee9ecb7671"
   },
   "outputs": [],
   "source": []
  },
  {
   "cell_type": "code",
   "execution_count": null,
   "id": "8afb8f26-cba1-420d-af12-88dae0615ac9",
   "metadata": {
    "id": "8afb8f26-cba1-420d-af12-88dae0615ac9"
   },
   "outputs": [],
   "source": []
  },
  {
   "cell_type": "code",
   "execution_count": null,
   "id": "4a56f9ff-b0f5-44c7-a21e-d9fa18fd9593",
   "metadata": {
    "id": "4a56f9ff-b0f5-44c7-a21e-d9fa18fd9593"
   },
   "outputs": [],
   "source": []
  },
  {
   "cell_type": "markdown",
   "id": "f9aeb64c-bc1f-4492-b5ca-3b6a4aa67790",
   "metadata": {
    "id": "f9aeb64c-bc1f-4492-b5ca-3b6a4aa67790"
   },
   "source": []
  },
  {
   "cell_type": "markdown",
   "id": "76ceeb52-1ca2-4f0b-9cd5-a24d8dddd4f9",
   "metadata": {
    "id": "76ceeb52-1ca2-4f0b-9cd5-a24d8dddd4f9"
   },
   "source": [
    "# Flight InfomationData"
   ]
  },
  {
   "cell_type": "code",
   "execution_count": 42,
   "id": "GnLpdsL_72wl",
   "metadata": {
    "colab": {
     "base_uri": "https://localhost:8080/"
    },
    "id": "GnLpdsL_72wl",
    "outputId": "8c86f48f-fbc8-4f04-e515-30de2e89d814"
   },
   "outputs": [
    {
     "name": "stdout",
     "output_type": "stream",
     "text": [
      "Drive already mounted at /content/drive; to attempt to forcibly remount, call drive.mount(\"/content/drive\", force_remount=True).\n"
     ]
    }
   ],
   "source": [
    "import os\n",
    "from google.colab import drive\n",
    "drive.mount('/content/drive')\n",
    "os.chdir(\"/content/drive/MyDrive/Midterm-project_I\")"
   ]
  },
  {
   "cell_type": "code",
   "execution_count": null,
   "id": "NwujR2go72sA",
   "metadata": {
    "id": "NwujR2go72sA"
   },
   "outputs": [],
   "source": []
  },
  {
   "cell_type": "markdown",
   "id": "19f75598-d0d3-488f-9136-400cded3bd81",
   "metadata": {
    "id": "19f75598-d0d3-488f-9136-400cded3bd81",
    "tags": []
   },
   "source": [
    "## 1.Load Data"
   ]
  },
  {
   "cell_type": "code",
   "execution_count": 9,
   "id": "1b0822dc-6c02-43c5-b734-416f7211fa30",
   "metadata": {
    "id": "1b0822dc-6c02-43c5-b734-416f7211fa30"
   },
   "outputs": [],
   "source": [
    "df_original=pd.read_csv('df_merged_final_weathermodified.csv',index_col=[0] )"
   ]
  },
  {
   "cell_type": "code",
   "execution_count": 5,
   "id": "0b8dc427-0179-4c9a-8a6a-b8293391cdfb",
   "metadata": {
    "id": "0b8dc427-0179-4c9a-8a6a-b8293391cdfb"
   },
   "outputs": [],
   "source": [
    "# df_original=dff"
   ]
  },
  {
   "cell_type": "code",
   "execution_count": 6,
   "id": "032d1206-e644-4da2-8ea3-05749ed98159",
   "metadata": {
    "id": "032d1206-e644-4da2-8ea3-05749ed98159"
   },
   "outputs": [],
   "source": [
    "# df_original.drop(['Unnamed: 0.1','new','arr_time_time'],axis=1,inplace=True)"
   ]
  },
  {
   "cell_type": "code",
   "execution_count": 7,
   "id": "00f6e4ab-5692-4b92-ae13-163356c5b169",
   "metadata": {
    "id": "00f6e4ab-5692-4b92-ae13-163356c5b169"
   },
   "outputs": [],
   "source": [
    "# df_original.to_csv('df_merged_final_weathermodified.csv')"
   ]
  },
  {
   "cell_type": "code",
   "execution_count": 10,
   "id": "3086e1d2-9e1f-42fd-b255-3206b0309e32",
   "metadata": {
    "colab": {
     "base_uri": "https://localhost:8080/",
     "height": 386
    },
    "id": "3086e1d2-9e1f-42fd-b255-3206b0309e32",
    "outputId": "576d03c7-311c-4612-d632-d83bbf5b7c46"
   },
   "outputs": [
    {
     "data": {
      "text/html": [
       "<div>\n",
       "<style scoped>\n",
       "    .dataframe tbody tr th:only-of-type {\n",
       "        vertical-align: middle;\n",
       "    }\n",
       "\n",
       "    .dataframe tbody tr th {\n",
       "        vertical-align: top;\n",
       "    }\n",
       "\n",
       "    .dataframe thead th {\n",
       "        text-align: right;\n",
       "    }\n",
       "</style>\n",
       "<table border=\"1\" class=\"dataframe\">\n",
       "  <thead>\n",
       "    <tr style=\"text-align: right;\">\n",
       "      <th></th>\n",
       "      <th>fl_date</th>\n",
       "      <th>mkt_unique_carrier</th>\n",
       "      <th>branded_code_share</th>\n",
       "      <th>mkt_carrier</th>\n",
       "      <th>mkt_carrier_fl_num</th>\n",
       "      <th>op_unique_carrier</th>\n",
       "      <th>tail_num</th>\n",
       "      <th>op_carrier_fl_num</th>\n",
       "      <th>origin_airport_id</th>\n",
       "      <th>origin</th>\n",
       "      <th>...</th>\n",
       "      <th>actual_elapsed_time</th>\n",
       "      <th>air_time</th>\n",
       "      <th>flights</th>\n",
       "      <th>distance</th>\n",
       "      <th>Weather_origin</th>\n",
       "      <th>Weather_destin</th>\n",
       "      <th>Visibility_origin</th>\n",
       "      <th>Visibility_destin</th>\n",
       "      <th>windspeed_origin</th>\n",
       "      <th>windspeed_destin</th>\n",
       "    </tr>\n",
       "  </thead>\n",
       "  <tbody>\n",
       "    <tr>\n",
       "      <th>0</th>\n",
       "      <td>2018-01-01</td>\n",
       "      <td>DL</td>\n",
       "      <td>DL_CODESHARE</td>\n",
       "      <td>DL</td>\n",
       "      <td>3468</td>\n",
       "      <td>9E</td>\n",
       "      <td>N292PQ</td>\n",
       "      <td>3468</td>\n",
       "      <td>15380</td>\n",
       "      <td>TVC</td>\n",
       "      <td>...</td>\n",
       "      <td>70.0</td>\n",
       "      <td>35.0</td>\n",
       "      <td>1.0</td>\n",
       "      <td>207.0</td>\n",
       "      <td>lightrain</td>\n",
       "      <td>lightrain</td>\n",
       "      <td>lowvisibility</td>\n",
       "      <td>highvisibility</td>\n",
       "      <td>lowwindspeed</td>\n",
       "      <td>lowwindspeed</td>\n",
       "    </tr>\n",
       "    <tr>\n",
       "      <th>1</th>\n",
       "      <td>2018-01-01</td>\n",
       "      <td>DL</td>\n",
       "      <td>DL_CODESHARE</td>\n",
       "      <td>DL</td>\n",
       "      <td>4579</td>\n",
       "      <td>OO</td>\n",
       "      <td>N8903A</td>\n",
       "      <td>4579</td>\n",
       "      <td>15380</td>\n",
       "      <td>TVC</td>\n",
       "      <td>...</td>\n",
       "      <td>61.0</td>\n",
       "      <td>37.0</td>\n",
       "      <td>1.0</td>\n",
       "      <td>207.0</td>\n",
       "      <td>lightrain</td>\n",
       "      <td>lightrain</td>\n",
       "      <td>lowvisibility</td>\n",
       "      <td>highvisibility</td>\n",
       "      <td>lowwindspeed</td>\n",
       "      <td>lowwindspeed</td>\n",
       "    </tr>\n",
       "    <tr>\n",
       "      <th>2</th>\n",
       "      <td>2018-01-01</td>\n",
       "      <td>DL</td>\n",
       "      <td>DL_CODESHARE</td>\n",
       "      <td>DL</td>\n",
       "      <td>4669</td>\n",
       "      <td>OO</td>\n",
       "      <td>N931EV</td>\n",
       "      <td>4669</td>\n",
       "      <td>15380</td>\n",
       "      <td>TVC</td>\n",
       "      <td>...</td>\n",
       "      <td>67.0</td>\n",
       "      <td>32.0</td>\n",
       "      <td>1.0</td>\n",
       "      <td>207.0</td>\n",
       "      <td>lightrain</td>\n",
       "      <td>lightrain</td>\n",
       "      <td>lowvisibility</td>\n",
       "      <td>highvisibility</td>\n",
       "      <td>lowwindspeed</td>\n",
       "      <td>lowwindspeed</td>\n",
       "    </tr>\n",
       "    <tr>\n",
       "      <th>3</th>\n",
       "      <td>2018-01-01</td>\n",
       "      <td>DL</td>\n",
       "      <td>DL_CODESHARE</td>\n",
       "      <td>DL</td>\n",
       "      <td>3470</td>\n",
       "      <td>9E</td>\n",
       "      <td>N309PQ</td>\n",
       "      <td>3470</td>\n",
       "      <td>13871</td>\n",
       "      <td>OMA</td>\n",
       "      <td>...</td>\n",
       "      <td>137.0</td>\n",
       "      <td>88.0</td>\n",
       "      <td>1.0</td>\n",
       "      <td>651.0</td>\n",
       "      <td>clear</td>\n",
       "      <td>lightrain</td>\n",
       "      <td>highvisibility</td>\n",
       "      <td>highvisibility</td>\n",
       "      <td>lowwindspeed</td>\n",
       "      <td>lowwindspeed</td>\n",
       "    </tr>\n",
       "    <tr>\n",
       "      <th>4</th>\n",
       "      <td>2018-01-01</td>\n",
       "      <td>NK</td>\n",
       "      <td>NK</td>\n",
       "      <td>NK</td>\n",
       "      <td>342</td>\n",
       "      <td>NK</td>\n",
       "      <td>N637NK</td>\n",
       "      <td>342</td>\n",
       "      <td>13487</td>\n",
       "      <td>MSP</td>\n",
       "      <td>...</td>\n",
       "      <td>85.0</td>\n",
       "      <td>69.0</td>\n",
       "      <td>1.0</td>\n",
       "      <td>528.0</td>\n",
       "      <td>cloudy</td>\n",
       "      <td>lightrain</td>\n",
       "      <td>highvisibility</td>\n",
       "      <td>highvisibility</td>\n",
       "      <td>lowwindspeed</td>\n",
       "      <td>lowwindspeed</td>\n",
       "    </tr>\n",
       "  </tbody>\n",
       "</table>\n",
       "<p>5 rows × 38 columns</p>\n",
       "</div>"
      ],
      "text/plain": [
       "      fl_date mkt_unique_carrier branded_code_share mkt_carrier  \\\n",
       "0  2018-01-01                 DL       DL_CODESHARE          DL   \n",
       "1  2018-01-01                 DL       DL_CODESHARE          DL   \n",
       "2  2018-01-01                 DL       DL_CODESHARE          DL   \n",
       "3  2018-01-01                 DL       DL_CODESHARE          DL   \n",
       "4  2018-01-01                 NK                 NK          NK   \n",
       "\n",
       "   mkt_carrier_fl_num op_unique_carrier tail_num  op_carrier_fl_num  \\\n",
       "0                3468                9E   N292PQ               3468   \n",
       "1                4579                OO   N8903A               4579   \n",
       "2                4669                OO   N931EV               4669   \n",
       "3                3470                9E   N309PQ               3470   \n",
       "4                 342                NK   N637NK                342   \n",
       "\n",
       "   origin_airport_id origin  ... actual_elapsed_time  air_time flights  \\\n",
       "0              15380    TVC  ...                70.0      35.0     1.0   \n",
       "1              15380    TVC  ...                61.0      37.0     1.0   \n",
       "2              15380    TVC  ...                67.0      32.0     1.0   \n",
       "3              13871    OMA  ...               137.0      88.0     1.0   \n",
       "4              13487    MSP  ...                85.0      69.0     1.0   \n",
       "\n",
       "  distance  Weather_origin  Weather_destin  Visibility_origin  \\\n",
       "0    207.0       lightrain       lightrain      lowvisibility   \n",
       "1    207.0       lightrain       lightrain      lowvisibility   \n",
       "2    207.0       lightrain       lightrain      lowvisibility   \n",
       "3    651.0           clear       lightrain     highvisibility   \n",
       "4    528.0          cloudy       lightrain     highvisibility   \n",
       "\n",
       "   Visibility_destin  windspeed_origin  windspeed_destin  \n",
       "0     highvisibility      lowwindspeed      lowwindspeed  \n",
       "1     highvisibility      lowwindspeed      lowwindspeed  \n",
       "2     highvisibility      lowwindspeed      lowwindspeed  \n",
       "3     highvisibility      lowwindspeed      lowwindspeed  \n",
       "4     highvisibility      lowwindspeed      lowwindspeed  \n",
       "\n",
       "[5 rows x 38 columns]"
      ]
     },
     "execution_count": 10,
     "metadata": {},
     "output_type": "execute_result"
    }
   ],
   "source": [
    "df_original.head()"
   ]
  },
  {
   "cell_type": "code",
   "execution_count": 11,
   "id": "03481f7a-c536-47c1-9b2e-5971c3f63df8",
   "metadata": {
    "colab": {
     "base_uri": "https://localhost:8080/"
    },
    "id": "03481f7a-c536-47c1-9b2e-5971c3f63df8",
    "outputId": "8125b80a-eb65-45b5-9d5c-0a5af2770bdf"
   },
   "outputs": [
    {
     "data": {
      "text/plain": [
       "Index(['fl_date', 'mkt_unique_carrier', 'branded_code_share', 'mkt_carrier',\n",
       "       'mkt_carrier_fl_num', 'op_unique_carrier', 'tail_num',\n",
       "       'op_carrier_fl_num', 'origin_airport_id', 'origin', 'origin_city_name',\n",
       "       'dest_airport_id', 'dest', 'dest_city_name', 'crs_dep_time', 'dep_time',\n",
       "       'dep_delay', 'taxi_out', 'wheels_off', 'wheels_on', 'taxi_in',\n",
       "       'crs_arr_time', 'arr_time', 'arr_delay', 'cancelled', 'diverted', 'dup',\n",
       "       'crs_elapsed_time', 'actual_elapsed_time', 'air_time', 'flights',\n",
       "       'distance', 'Weather_origin', 'Weather_destin', 'Visibility_origin',\n",
       "       'Visibility_destin', 'windspeed_origin', 'windspeed_destin'],\n",
       "      dtype='object')"
      ]
     },
     "execution_count": 11,
     "metadata": {},
     "output_type": "execute_result"
    }
   ],
   "source": [
    "df_original.columns"
   ]
  },
  {
   "cell_type": "code",
   "execution_count": 12,
   "id": "342e285f-7748-4f41-969e-6a4f1874d64b",
   "metadata": {
    "colab": {
     "base_uri": "https://localhost:8080/"
    },
    "id": "342e285f-7748-4f41-969e-6a4f1874d64b",
    "outputId": "a12fc7ca-3b2a-4655-854a-8971205b74ef"
   },
   "outputs": [
    {
     "name": "stdout",
     "output_type": "stream",
     "text": [
      "<class 'pandas.core.frame.DataFrame'>\n",
      "Int64Index: 715371 entries, 0 to 715370\n",
      "Data columns (total 38 columns):\n",
      " #   Column               Non-Null Count   Dtype  \n",
      "---  ------               --------------   -----  \n",
      " 0   fl_date              715371 non-null  object \n",
      " 1   mkt_unique_carrier   715371 non-null  object \n",
      " 2   branded_code_share   715371 non-null  object \n",
      " 3   mkt_carrier          715371 non-null  object \n",
      " 4   mkt_carrier_fl_num   715371 non-null  int64  \n",
      " 5   op_unique_carrier    715371 non-null  object \n",
      " 6   tail_num             715371 non-null  object \n",
      " 7   op_carrier_fl_num    715371 non-null  int64  \n",
      " 8   origin_airport_id    715371 non-null  int64  \n",
      " 9   origin               715371 non-null  object \n",
      " 10  origin_city_name     715371 non-null  object \n",
      " 11  dest_airport_id      715371 non-null  int64  \n",
      " 12  dest                 715371 non-null  object \n",
      " 13  dest_city_name       715371 non-null  object \n",
      " 14  crs_dep_time         715371 non-null  int64  \n",
      " 15  dep_time             715371 non-null  float64\n",
      " 16  dep_delay            715371 non-null  float64\n",
      " 17  taxi_out             715371 non-null  float64\n",
      " 18  wheels_off           715371 non-null  float64\n",
      " 19  wheels_on            715371 non-null  float64\n",
      " 20  taxi_in              715371 non-null  float64\n",
      " 21  crs_arr_time         715371 non-null  int64  \n",
      " 22  arr_time             715371 non-null  float64\n",
      " 23  arr_delay            715371 non-null  float64\n",
      " 24  cancelled            715371 non-null  float64\n",
      " 25  diverted             715371 non-null  float64\n",
      " 26  dup                  715371 non-null  object \n",
      " 27  crs_elapsed_time     715371 non-null  float64\n",
      " 28  actual_elapsed_time  715371 non-null  float64\n",
      " 29  air_time             715371 non-null  float64\n",
      " 30  flights              715371 non-null  float64\n",
      " 31  distance             715371 non-null  float64\n",
      " 32  Weather_origin       715371 non-null  object \n",
      " 33  Weather_destin       715371 non-null  object \n",
      " 34  Visibility_origin    715371 non-null  object \n",
      " 35  Visibility_destin    715371 non-null  object \n",
      " 36  windspeed_origin     715371 non-null  object \n",
      " 37  windspeed_destin     715371 non-null  object \n",
      "dtypes: float64(15), int64(6), object(17)\n",
      "memory usage: 212.9+ MB\n"
     ]
    }
   ],
   "source": [
    "df_original.info()"
   ]
  },
  {
   "cell_type": "code",
   "execution_count": 13,
   "id": "fcdc83d2-2ce6-41bb-a308-7e8b07e972fa",
   "metadata": {
    "colab": {
     "base_uri": "https://localhost:8080/"
    },
    "id": "fcdc83d2-2ce6-41bb-a308-7e8b07e972fa",
    "outputId": "765503a6-25a4-458f-cd0c-821d3fe7c4a2"
   },
   "outputs": [
    {
     "data": {
      "text/plain": [
       "fl_date                0\n",
       "mkt_unique_carrier     0\n",
       "branded_code_share     0\n",
       "mkt_carrier            0\n",
       "mkt_carrier_fl_num     0\n",
       "op_unique_carrier      0\n",
       "tail_num               0\n",
       "op_carrier_fl_num      0\n",
       "origin_airport_id      0\n",
       "origin                 0\n",
       "origin_city_name       0\n",
       "dest_airport_id        0\n",
       "dest                   0\n",
       "dest_city_name         0\n",
       "crs_dep_time           0\n",
       "dep_time               0\n",
       "dep_delay              0\n",
       "taxi_out               0\n",
       "wheels_off             0\n",
       "wheels_on              0\n",
       "taxi_in                0\n",
       "crs_arr_time           0\n",
       "arr_time               0\n",
       "arr_delay              0\n",
       "cancelled              0\n",
       "diverted               0\n",
       "dup                    0\n",
       "crs_elapsed_time       0\n",
       "actual_elapsed_time    0\n",
       "air_time               0\n",
       "flights                0\n",
       "distance               0\n",
       "Weather_origin         0\n",
       "Weather_destin         0\n",
       "Visibility_origin      0\n",
       "Visibility_destin      0\n",
       "windspeed_origin       0\n",
       "windspeed_destin       0\n",
       "dtype: int64"
      ]
     },
     "execution_count": 13,
     "metadata": {},
     "output_type": "execute_result"
    }
   ],
   "source": [
    "df_original.isnull().sum()"
   ]
  },
  {
   "cell_type": "markdown",
   "id": "cbc3765a-e7ac-4b32-9454-aad1e04e0680",
   "metadata": {
    "id": "cbc3765a-e7ac-4b32-9454-aad1e04e0680"
   },
   "source": [
    "### inital selection"
   ]
  },
  {
   "cell_type": "code",
   "execution_count": 14,
   "id": "effc64fc-6022-41e9-b8f3-1d76c30d69db",
   "metadata": {
    "colab": {
     "base_uri": "https://localhost:8080/"
    },
    "id": "effc64fc-6022-41e9-b8f3-1d76c30d69db",
    "outputId": "b12b592e-29e5-477d-af84-8fcc519c4409"
   },
   "outputs": [
    {
     "data": {
      "text/plain": [
       "Index(['fl_date', 'mkt_unique_carrier', 'branded_code_share', 'mkt_carrier',\n",
       "       'op_unique_carrier', 'tail_num', 'origin', 'origin_city_name', 'dest',\n",
       "       'dest_city_name', 'dup', 'Weather_origin', 'Weather_destin',\n",
       "       'Visibility_origin', 'Visibility_destin', 'windspeed_origin',\n",
       "       'windspeed_destin'],\n",
       "      dtype='object')"
      ]
     },
     "execution_count": 14,
     "metadata": {},
     "output_type": "execute_result"
    }
   ],
   "source": [
    "df_original.select_dtypes('object').columns"
   ]
  },
  {
   "cell_type": "code",
   "execution_count": 15,
   "id": "a722e29b-7ba3-49e3-b733-416020c126d2",
   "metadata": {
    "id": "a722e29b-7ba3-49e3-b733-416020c126d2"
   },
   "outputs": [],
   "source": [
    "tmp=df_original.drop(['mkt_unique_carrier','branded_code_share','dup',\n",
    "                     'tail_num'],axis=1)"
   ]
  },
  {
   "cell_type": "code",
   "execution_count": 20,
   "id": "26254620-d836-4c57-9cd6-78de25fbe353",
   "metadata": {
    "colab": {
     "base_uri": "https://localhost:8080/"
    },
    "id": "26254620-d836-4c57-9cd6-78de25fbe353",
    "outputId": "a6073d78-79ba-46b7-c222-fa5602c7d03f",
    "tags": []
   },
   "outputs": [
    {
     "data": {
      "text/plain": [
       "Index(['mkt_carrier_fl_num', 'op_carrier_fl_num', 'origin_airport_id',\n",
       "       'dest_airport_id', 'crs_dep_time', 'dep_time', 'dep_delay', 'taxi_out',\n",
       "       'wheels_off', 'wheels_on', 'taxi_in', 'crs_arr_time', 'arr_time',\n",
       "       'arr_delay', 'cancelled', 'diverted', 'crs_elapsed_time',\n",
       "       'actual_elapsed_time', 'air_time', 'flights', 'distance'],\n",
       "      dtype='object')"
      ]
     },
     "execution_count": 20,
     "metadata": {},
     "output_type": "execute_result"
    }
   ],
   "source": [
    "df_original.select_dtypes('number').columns"
   ]
  },
  {
   "cell_type": "code",
   "execution_count": 21,
   "id": "5179dc2e-7cff-40bf-8868-20519360230d",
   "metadata": {
    "id": "5179dc2e-7cff-40bf-8868-20519360230d"
   },
   "outputs": [],
   "source": [
    "df=tmp.drop(['mkt_carrier_fl_num','op_carrier_fl_num',\n",
    "             'taxi_out', 'wheels_off', 'wheels_on', 'taxi_in'],axis=1)"
   ]
  },
  {
   "cell_type": "code",
   "execution_count": 22,
   "id": "7c8c87d1-0f9f-45eb-a3a1-c56ea7ee437c",
   "metadata": {
    "colab": {
     "base_uri": "https://localhost:8080/",
     "height": 364
    },
    "id": "7c8c87d1-0f9f-45eb-a3a1-c56ea7ee437c",
    "outputId": "47e3259d-1a13-457b-e434-b53a7f476d7e"
   },
   "outputs": [
    {
     "data": {
      "text/html": [
       "<div>\n",
       "<style scoped>\n",
       "    .dataframe tbody tr th:only-of-type {\n",
       "        vertical-align: middle;\n",
       "    }\n",
       "\n",
       "    .dataframe tbody tr th {\n",
       "        vertical-align: top;\n",
       "    }\n",
       "\n",
       "    .dataframe thead th {\n",
       "        text-align: right;\n",
       "    }\n",
       "</style>\n",
       "<table border=\"1\" class=\"dataframe\">\n",
       "  <thead>\n",
       "    <tr style=\"text-align: right;\">\n",
       "      <th></th>\n",
       "      <th>origin_airport_id</th>\n",
       "      <th>dest_airport_id</th>\n",
       "      <th>crs_dep_time</th>\n",
       "      <th>dep_time</th>\n",
       "      <th>dep_delay</th>\n",
       "      <th>crs_arr_time</th>\n",
       "      <th>arr_time</th>\n",
       "      <th>arr_delay</th>\n",
       "      <th>cancelled</th>\n",
       "      <th>diverted</th>\n",
       "      <th>crs_elapsed_time</th>\n",
       "      <th>actual_elapsed_time</th>\n",
       "      <th>air_time</th>\n",
       "      <th>flights</th>\n",
       "      <th>distance</th>\n",
       "    </tr>\n",
       "  </thead>\n",
       "  <tbody>\n",
       "    <tr>\n",
       "      <th>count</th>\n",
       "      <td>715371.000000</td>\n",
       "      <td>715371.000000</td>\n",
       "      <td>715371.000000</td>\n",
       "      <td>715371.000000</td>\n",
       "      <td>715371.000000</td>\n",
       "      <td>715371.000000</td>\n",
       "      <td>715371.000000</td>\n",
       "      <td>715371.000000</td>\n",
       "      <td>715371.0</td>\n",
       "      <td>715371.0</td>\n",
       "      <td>715371.000000</td>\n",
       "      <td>715371.000000</td>\n",
       "      <td>715371.000000</td>\n",
       "      <td>715371.0</td>\n",
       "      <td>715371.000000</td>\n",
       "    </tr>\n",
       "    <tr>\n",
       "      <th>mean</th>\n",
       "      <td>12729.078274</td>\n",
       "      <td>12728.462852</td>\n",
       "      <td>1327.639232</td>\n",
       "      <td>1333.976279</td>\n",
       "      <td>9.320171</td>\n",
       "      <td>1500.783914</td>\n",
       "      <td>1486.942108</td>\n",
       "      <td>3.500860</td>\n",
       "      <td>0.0</td>\n",
       "      <td>0.0</td>\n",
       "      <td>140.202960</td>\n",
       "      <td>134.302492</td>\n",
       "      <td>108.541114</td>\n",
       "      <td>1.0</td>\n",
       "      <td>766.439963</td>\n",
       "    </tr>\n",
       "    <tr>\n",
       "      <th>std</th>\n",
       "      <td>1520.989300</td>\n",
       "      <td>1521.355197</td>\n",
       "      <td>480.032456</td>\n",
       "      <td>490.394490</td>\n",
       "      <td>48.216715</td>\n",
       "      <td>501.028342</td>\n",
       "      <td>515.135782</td>\n",
       "      <td>51.080054</td>\n",
       "      <td>0.0</td>\n",
       "      <td>0.0</td>\n",
       "      <td>74.221431</td>\n",
       "      <td>72.480371</td>\n",
       "      <td>70.820044</td>\n",
       "      <td>0.0</td>\n",
       "      <td>590.547855</td>\n",
       "    </tr>\n",
       "    <tr>\n",
       "      <th>min</th>\n",
       "      <td>10135.000000</td>\n",
       "      <td>10135.000000</td>\n",
       "      <td>4.000000</td>\n",
       "      <td>1.000000</td>\n",
       "      <td>-330.000000</td>\n",
       "      <td>1.000000</td>\n",
       "      <td>1.000000</td>\n",
       "      <td>-260.000000</td>\n",
       "      <td>0.0</td>\n",
       "      <td>0.0</td>\n",
       "      <td>-90.000000</td>\n",
       "      <td>16.000000</td>\n",
       "      <td>4.000000</td>\n",
       "      <td>1.0</td>\n",
       "      <td>31.000000</td>\n",
       "    </tr>\n",
       "    <tr>\n",
       "      <th>25%</th>\n",
       "      <td>11292.000000</td>\n",
       "      <td>11292.000000</td>\n",
       "      <td>921.000000</td>\n",
       "      <td>926.000000</td>\n",
       "      <td>-6.000000</td>\n",
       "      <td>1115.000000</td>\n",
       "      <td>1107.000000</td>\n",
       "      <td>-17.000000</td>\n",
       "      <td>0.0</td>\n",
       "      <td>0.0</td>\n",
       "      <td>88.000000</td>\n",
       "      <td>82.000000</td>\n",
       "      <td>58.000000</td>\n",
       "      <td>1.0</td>\n",
       "      <td>337.000000</td>\n",
       "    </tr>\n",
       "    <tr>\n",
       "      <th>50%</th>\n",
       "      <td>12892.000000</td>\n",
       "      <td>12892.000000</td>\n",
       "      <td>1320.000000</td>\n",
       "      <td>1330.000000</td>\n",
       "      <td>-3.000000</td>\n",
       "      <td>1523.000000</td>\n",
       "      <td>1517.000000</td>\n",
       "      <td>-8.000000</td>\n",
       "      <td>0.0</td>\n",
       "      <td>0.0</td>\n",
       "      <td>120.000000</td>\n",
       "      <td>115.000000</td>\n",
       "      <td>89.000000</td>\n",
       "      <td>1.0</td>\n",
       "      <td>595.000000</td>\n",
       "    </tr>\n",
       "    <tr>\n",
       "      <th>75%</th>\n",
       "      <td>14082.000000</td>\n",
       "      <td>14092.000000</td>\n",
       "      <td>1730.000000</td>\n",
       "      <td>1736.000000</td>\n",
       "      <td>5.000000</td>\n",
       "      <td>1917.000000</td>\n",
       "      <td>1916.000000</td>\n",
       "      <td>6.000000</td>\n",
       "      <td>0.0</td>\n",
       "      <td>0.0</td>\n",
       "      <td>170.000000</td>\n",
       "      <td>164.000000</td>\n",
       "      <td>137.000000</td>\n",
       "      <td>1.0</td>\n",
       "      <td>1005.000000</td>\n",
       "    </tr>\n",
       "    <tr>\n",
       "      <th>max</th>\n",
       "      <td>16218.000000</td>\n",
       "      <td>16218.000000</td>\n",
       "      <td>2359.000000</td>\n",
       "      <td>2400.000000</td>\n",
       "      <td>1690.000000</td>\n",
       "      <td>2400.000000</td>\n",
       "      <td>2400.000000</td>\n",
       "      <td>1707.000000</td>\n",
       "      <td>0.0</td>\n",
       "      <td>0.0</td>\n",
       "      <td>1645.000000</td>\n",
       "      <td>737.000000</td>\n",
       "      <td>691.000000</td>\n",
       "      <td>1.0</td>\n",
       "      <td>4983.000000</td>\n",
       "    </tr>\n",
       "  </tbody>\n",
       "</table>\n",
       "</div>"
      ],
      "text/plain": [
       "       origin_airport_id  dest_airport_id   crs_dep_time       dep_time  \\\n",
       "count      715371.000000    715371.000000  715371.000000  715371.000000   \n",
       "mean        12729.078274     12728.462852    1327.639232    1333.976279   \n",
       "std          1520.989300      1521.355197     480.032456     490.394490   \n",
       "min         10135.000000     10135.000000       4.000000       1.000000   \n",
       "25%         11292.000000     11292.000000     921.000000     926.000000   \n",
       "50%         12892.000000     12892.000000    1320.000000    1330.000000   \n",
       "75%         14082.000000     14092.000000    1730.000000    1736.000000   \n",
       "max         16218.000000     16218.000000    2359.000000    2400.000000   \n",
       "\n",
       "           dep_delay   crs_arr_time       arr_time      arr_delay  cancelled  \\\n",
       "count  715371.000000  715371.000000  715371.000000  715371.000000   715371.0   \n",
       "mean        9.320171    1500.783914    1486.942108       3.500860        0.0   \n",
       "std        48.216715     501.028342     515.135782      51.080054        0.0   \n",
       "min      -330.000000       1.000000       1.000000    -260.000000        0.0   \n",
       "25%        -6.000000    1115.000000    1107.000000     -17.000000        0.0   \n",
       "50%        -3.000000    1523.000000    1517.000000      -8.000000        0.0   \n",
       "75%         5.000000    1917.000000    1916.000000       6.000000        0.0   \n",
       "max      1690.000000    2400.000000    2400.000000    1707.000000        0.0   \n",
       "\n",
       "       diverted  crs_elapsed_time  actual_elapsed_time       air_time  \\\n",
       "count  715371.0     715371.000000        715371.000000  715371.000000   \n",
       "mean        0.0        140.202960           134.302492     108.541114   \n",
       "std         0.0         74.221431            72.480371      70.820044   \n",
       "min         0.0        -90.000000            16.000000       4.000000   \n",
       "25%         0.0         88.000000            82.000000      58.000000   \n",
       "50%         0.0        120.000000           115.000000      89.000000   \n",
       "75%         0.0        170.000000           164.000000     137.000000   \n",
       "max         0.0       1645.000000           737.000000     691.000000   \n",
       "\n",
       "        flights       distance  \n",
       "count  715371.0  715371.000000  \n",
       "mean        1.0     766.439963  \n",
       "std         0.0     590.547855  \n",
       "min         1.0      31.000000  \n",
       "25%         1.0     337.000000  \n",
       "50%         1.0     595.000000  \n",
       "75%         1.0    1005.000000  \n",
       "max         1.0    4983.000000  "
      ]
     },
     "execution_count": 22,
     "metadata": {},
     "output_type": "execute_result"
    }
   ],
   "source": [
    "df.describe()"
   ]
  },
  {
   "cell_type": "code",
   "execution_count": null,
   "id": "bec1d2fc-1d13-4d5f-92ef-aa7ab6d56269",
   "metadata": {
    "id": "bec1d2fc-1d13-4d5f-92ef-aa7ab6d56269"
   },
   "outputs": [],
   "source": []
  },
  {
   "cell_type": "code",
   "execution_count": null,
   "id": "2cb12221-085b-4907-9d95-988e7fdab287",
   "metadata": {
    "id": "2cb12221-085b-4907-9d95-988e7fdab287"
   },
   "outputs": [],
   "source": []
  },
  {
   "cell_type": "markdown",
   "id": "b2dd2530-7c63-47d2-9993-13aeeb585902",
   "metadata": {
    "id": "b2dd2530-7c63-47d2-9993-13aeeb585902",
    "tags": []
   },
   "source": [
    "## 2.Data Clean"
   ]
  },
  {
   "cell_type": "markdown",
   "id": "a943e6b0-1fab-4c85-8e42-a146217a550b",
   "metadata": {
    "id": "a943e6b0-1fab-4c85-8e42-a146217a550b"
   },
   "source": [
    "### a.null value"
   ]
  },
  {
   "cell_type": "code",
   "execution_count": 23,
   "id": "3848b7d6-e0e0-440a-9df9-dd01af09437f",
   "metadata": {
    "colab": {
     "base_uri": "https://localhost:8080/"
    },
    "id": "3848b7d6-e0e0-440a-9df9-dd01af09437f",
    "outputId": "074048b3-06bb-47df-8cac-a62e5473cf41"
   },
   "outputs": [
    {
     "data": {
      "text/plain": [
       "fl_date                0\n",
       "mkt_carrier            0\n",
       "op_unique_carrier      0\n",
       "origin_airport_id      0\n",
       "origin                 0\n",
       "origin_city_name       0\n",
       "dest_airport_id        0\n",
       "dest                   0\n",
       "dest_city_name         0\n",
       "crs_dep_time           0\n",
       "dep_time               0\n",
       "dep_delay              0\n",
       "crs_arr_time           0\n",
       "arr_time               0\n",
       "arr_delay              0\n",
       "cancelled              0\n",
       "diverted               0\n",
       "crs_elapsed_time       0\n",
       "actual_elapsed_time    0\n",
       "air_time               0\n",
       "flights                0\n",
       "distance               0\n",
       "Weather_origin         0\n",
       "Weather_destin         0\n",
       "Visibility_origin      0\n",
       "Visibility_destin      0\n",
       "windspeed_origin       0\n",
       "windspeed_destin       0\n",
       "dtype: int64"
      ]
     },
     "execution_count": 23,
     "metadata": {},
     "output_type": "execute_result"
    }
   ],
   "source": [
    "df.isnull().sum()"
   ]
  },
  {
   "cell_type": "markdown",
   "id": "ad976964-1780-480f-b357-b49dd89e6949",
   "metadata": {
    "id": "ad976964-1780-480f-b357-b49dd89e6949"
   },
   "source": [
    "### b.Datetime Conversion\n",
    "\n",
    "We convert date of flight to datetime format and add day of week"
   ]
  },
  {
   "cell_type": "code",
   "execution_count": 24,
   "id": "0sjENurVg9FH",
   "metadata": {
    "id": "0sjENurVg9FH"
   },
   "outputs": [],
   "source": [
    "df=df_original.copy()"
   ]
  },
  {
   "cell_type": "code",
   "execution_count": 25,
   "id": "2fd07c23-3fea-4099-890d-4934e9f12b6e",
   "metadata": {
    "id": "2fd07c23-3fea-4099-890d-4934e9f12b6e"
   },
   "outputs": [],
   "source": [
    "df['fl_date'] = pd.to_datetime(df['fl_date'])"
   ]
  },
  {
   "cell_type": "code",
   "execution_count": 26,
   "id": "243c2f6d-8b3b-4445-b3af-0d562723a46f",
   "metadata": {
    "id": "243c2f6d-8b3b-4445-b3af-0d562723a46f"
   },
   "outputs": [],
   "source": [
    "df['weekday']=df['fl_date'].dt.dayofweek"
   ]
  },
  {
   "cell_type": "code",
   "execution_count": null,
   "id": "sU-FUgM3yzGS",
   "metadata": {
    "id": "sU-FUgM3yzGS"
   },
   "outputs": [],
   "source": []
  },
  {
   "cell_type": "code",
   "execution_count": null,
   "id": "RQFfcJzwy2y5",
   "metadata": {
    "id": "RQFfcJzwy2y5"
   },
   "outputs": [],
   "source": []
  },
  {
   "cell_type": "code",
   "execution_count": 27,
   "id": "230c0476-052e-49ce-b59e-ea35419af226",
   "metadata": {
    "colab": {
     "base_uri": "https://localhost:8080/"
    },
    "id": "230c0476-052e-49ce-b59e-ea35419af226",
    "outputId": "bb20b0e9-8c14-4839-abad-fa7a5ca11db7"
   },
   "outputs": [
    {
     "data": {
      "text/plain": [
       "array([0, 5, 6, 1, 2, 3, 4])"
      ]
     },
     "execution_count": 27,
     "metadata": {},
     "output_type": "execute_result"
    }
   ],
   "source": [
    "df.weekday.unique()"
   ]
  },
  {
   "cell_type": "markdown",
   "id": "bc84c29f-23ef-4d3c-ba14-f2f8f0851562",
   "metadata": {
    "id": "bc84c29f-23ef-4d3c-ba14-f2f8f0851562",
    "jp-MarkdownHeadingCollapsed": true,
    "tags": []
   },
   "source": [
    "### c.Categorize distance"
   ]
  },
  {
   "cell_type": "code",
   "execution_count": null,
   "id": "1c1d5736-13c2-4627-8e24-7b9ce90a4b33",
   "metadata": {
    "id": "1c1d5736-13c2-4627-8e24-7b9ce90a4b33"
   },
   "outputs": [],
   "source": [
    "# #Discretization\n",
    "# df['distance_cat'] = pd.qcut(df['distance'], q=4)"
   ]
  },
  {
   "cell_type": "code",
   "execution_count": null,
   "id": "4e89cf5a-f887-4013-9342-3c15fc49de33",
   "metadata": {
    "id": "4e89cf5a-f887-4013-9342-3c15fc49de33"
   },
   "outputs": [],
   "source": [
    "# #divide distance into four interval in miles: very short, short, mid, long distance\n",
    "# df.distance_cat.unique()"
   ]
  },
  {
   "cell_type": "code",
   "execution_count": null,
   "id": "3caf7b42-5114-4d68-a2bc-6d473906e0bd",
   "metadata": {
    "id": "3caf7b42-5114-4d68-a2bc-6d473906e0bd"
   },
   "outputs": [],
   "source": []
  },
  {
   "cell_type": "code",
   "execution_count": null,
   "id": "0ba7c3a7-3d70-4410-a921-377ab04de161",
   "metadata": {
    "id": "0ba7c3a7-3d70-4410-a921-377ab04de161"
   },
   "outputs": [],
   "source": []
  },
  {
   "cell_type": "code",
   "execution_count": null,
   "id": "c1447c73-714f-4f60-a3f7-6ce9806d4258",
   "metadata": {
    "id": "c1447c73-714f-4f60-a3f7-6ce9806d4258"
   },
   "outputs": [],
   "source": []
  },
  {
   "cell_type": "markdown",
   "id": "df824e9d-4af4-44c8-a875-cfd3511e143b",
   "metadata": {
    "id": "df824e9d-4af4-44c8-a875-cfd3511e143b"
   },
   "source": [
    "## 3.Exploratory Data Analysis"
   ]
  },
  {
   "cell_type": "markdown",
   "id": "3x--Y2eFm_zI",
   "metadata": {
    "id": "3x--Y2eFm_zI"
   },
   "source": [
    "*is_delayed indicator"
   ]
  },
  {
   "cell_type": "code",
   "execution_count": 28,
   "id": "bxFuUAlCm7rX",
   "metadata": {
    "id": "bxFuUAlCm7rX"
   },
   "outputs": [],
   "source": [
    "#new feature: is_delayed\n",
    "\n",
    "result = []\n",
    "for value in df['arr_delay']:\n",
    "    if value > 0:\n",
    "        result.append(1)\n",
    "    elif value <= 0:\n",
    "        result.append(0)\n",
    "\n",
    "df['is_delayed'] = result  \n"
   ]
  },
  {
   "cell_type": "code",
   "execution_count": null,
   "id": "C2EtCoUqkqSX",
   "metadata": {
    "id": "C2EtCoUqkqSX"
   },
   "outputs": [],
   "source": []
  },
  {
   "cell_type": "code",
   "execution_count": 10,
   "id": "agz-3ABzkNsc",
   "metadata": {
    "id": "agz-3ABzkNsc"
   },
   "outputs": [],
   "source": [
    "df_airline=df[df['is_delayed']==1].groupby('op_unique_carrier').agg({'is_delayed':'count','arr_delay':'mean'}).reset_index()\n"
   ]
  },
  {
   "cell_type": "code",
   "execution_count": 11,
   "id": "TBH3hvMWl2f5",
   "metadata": {
    "id": "TBH3hvMWl2f5"
   },
   "outputs": [],
   "source": [
    "df_airline=df_airline.rename(columns={'is_delayed':'numberofdelay','arr_delay':'arr_delay_airline'})"
   ]
  },
  {
   "cell_type": "code",
   "execution_count": 12,
   "id": "0dCTvZr1lOVZ",
   "metadata": {
    "id": "0dCTvZr1lOVZ"
   },
   "outputs": [],
   "source": [
    "top_10_airline=df_airline.sort_values(by='numberofdelay',ascending=False).head(10)"
   ]
  },
  {
   "cell_type": "code",
   "execution_count": 13,
   "id": "_Do4F969k_oT",
   "metadata": {
    "colab": {
     "base_uri": "https://localhost:8080/",
     "height": 298
    },
    "id": "_Do4F969k_oT",
    "outputId": "0e36613f-8d55-487a-f11b-54dbb94ccff6",
    "scrolled": true
   },
   "outputs": [
    {
     "data": {
      "text/plain": [
       "<matplotlib.axes._subplots.AxesSubplot at 0x7faeb5923050>"
      ]
     },
     "execution_count": 13,
     "metadata": {},
     "output_type": "execute_result"
    },
    {
     "data": {
      "image/png": "[encoded data removed]",
      "text/plain": [
       "<Figure size 432x288 with 1 Axes>"
      ]
     },
     "metadata": {
      "needs_background": "light"
     },
     "output_type": "display_data"
    }
   ],
   "source": [
    "sns.barplot(x='op_unique_carrier',y='numberofdelay',data=top_10_airline)"
   ]
  },
  {
   "cell_type": "markdown",
   "id": "de12c955",
   "metadata": {},
   "source": [
    "### which airline is likely to delay?"
   ]
  },
  {
   "cell_type": "code",
   "execution_count": 36,
   "id": "b0097459",
   "metadata": {},
   "outputs": [],
   "source": [
    "df_delay=df.groupby('op_unique_carrier')['flights','is_delayed'].sum().reset_index()"
   ]
  },
  {
   "cell_type": "code",
   "execution_count": 187,
   "id": "110dd68d",
   "metadata": {},
   "outputs": [],
   "source": [
    "df_delay['percentage']=100*round(df_delay['is_delayed']/df_delay['flights'],3)"
   ]
  },
  {
   "cell_type": "code",
   "execution_count": 188,
   "id": "81d1eb56",
   "metadata": {
    "scrolled": true
   },
   "outputs": [],
   "source": [
    "df_percent=df_delay.sort_values(by='percentage',ascending=False).head(10)"
   ]
  },
  {
   "cell_type": "code",
   "execution_count": 189,
   "id": "c6cbda1b",
   "metadata": {},
   "outputs": [
    {
     "data": {
      "text/html": [
       "<div>\n",
       "<style scoped>\n",
       "    .dataframe tbody tr th:only-of-type {\n",
       "        vertical-align: middle;\n",
       "    }\n",
       "\n",
       "    .dataframe tbody tr th {\n",
       "        vertical-align: top;\n",
       "    }\n",
       "\n",
       "    .dataframe thead th {\n",
       "        text-align: right;\n",
       "    }\n",
       "</style>\n",
       "<table border=\"1\" class=\"dataframe\">\n",
       "  <thead>\n",
       "    <tr style=\"text-align: right;\">\n",
       "      <th></th>\n",
       "      <th>op_unique_carrier</th>\n",
       "      <th>flights</th>\n",
       "      <th>is_delayed</th>\n",
       "      <th>percentage</th>\n",
       "    </tr>\n",
       "  </thead>\n",
       "  <tbody>\n",
       "    <tr>\n",
       "      <th>15</th>\n",
       "      <td>KS</td>\n",
       "      <td>165.0</td>\n",
       "      <td>100</td>\n",
       "      <td>60.6</td>\n",
       "    </tr>\n",
       "    <tr>\n",
       "      <th>6</th>\n",
       "      <td>C5</td>\n",
       "      <td>3881.0</td>\n",
       "      <td>1987</td>\n",
       "      <td>51.2</td>\n",
       "    </tr>\n",
       "    <tr>\n",
       "      <th>16</th>\n",
       "      <td>MQ</td>\n",
       "      <td>18020.0</td>\n",
       "      <td>8470</td>\n",
       "      <td>47.0</td>\n",
       "    </tr>\n",
       "    <tr>\n",
       "      <th>4</th>\n",
       "      <td>AX</td>\n",
       "      <td>8171.0</td>\n",
       "      <td>3494</td>\n",
       "      <td>42.8</td>\n",
       "    </tr>\n",
       "    <tr>\n",
       "      <th>5</th>\n",
       "      <td>B6</td>\n",
       "      <td>30151.0</td>\n",
       "      <td>12381</td>\n",
       "      <td>41.1</td>\n",
       "    </tr>\n",
       "    <tr>\n",
       "      <th>11</th>\n",
       "      <td>F9</td>\n",
       "      <td>12084.0</td>\n",
       "      <td>4702</td>\n",
       "      <td>38.9</td>\n",
       "    </tr>\n",
       "    <tr>\n",
       "      <th>27</th>\n",
       "      <td>ZW</td>\n",
       "      <td>9473.0</td>\n",
       "      <td>3679</td>\n",
       "      <td>38.8</td>\n",
       "    </tr>\n",
       "    <tr>\n",
       "      <th>18</th>\n",
       "      <td>OH</td>\n",
       "      <td>27333.0</td>\n",
       "      <td>10551</td>\n",
       "      <td>38.6</td>\n",
       "    </tr>\n",
       "    <tr>\n",
       "      <th>12</th>\n",
       "      <td>G4</td>\n",
       "      <td>8050.0</td>\n",
       "      <td>3099</td>\n",
       "      <td>38.5</td>\n",
       "    </tr>\n",
       "    <tr>\n",
       "      <th>26</th>\n",
       "      <td>YX</td>\n",
       "      <td>30632.0</td>\n",
       "      <td>11243</td>\n",
       "      <td>36.7</td>\n",
       "    </tr>\n",
       "  </tbody>\n",
       "</table>\n",
       "</div>"
      ],
      "text/plain": [
       "   op_unique_carrier  flights  is_delayed  percentage\n",
       "15                KS    165.0         100        60.6\n",
       "6                 C5   3881.0        1987        51.2\n",
       "16                MQ  18020.0        8470        47.0\n",
       "4                 AX   8171.0        3494        42.8\n",
       "5                 B6  30151.0       12381        41.1\n",
       "11                F9  12084.0        4702        38.9\n",
       "27                ZW   9473.0        3679        38.8\n",
       "18                OH  27333.0       10551        38.6\n",
       "12                G4   8050.0        3099        38.5\n",
       "26                YX  30632.0       11243        36.7"
      ]
     },
     "execution_count": 189,
     "metadata": {},
     "output_type": "execute_result"
    }
   ],
   "source": [
    "df_percent"
   ]
  },
  {
   "cell_type": "code",
   "execution_count": 117,
   "id": "a5de1d0a",
   "metadata": {},
   "outputs": [],
   "source": [
    "df_airline=pd.read_csv('airlines.csv')\n"
   ]
  },
  {
   "cell_type": "code",
   "execution_count": 132,
   "id": "202078ee",
   "metadata": {},
   "outputs": [
    {
     "data": {
      "text/html": [
       "<div>\n",
       "<style scoped>\n",
       "    .dataframe tbody tr th:only-of-type {\n",
       "        vertical-align: middle;\n",
       "    }\n",
       "\n",
       "    .dataframe tbody tr th {\n",
       "        vertical-align: top;\n",
       "    }\n",
       "\n",
       "    .dataframe thead th {\n",
       "        text-align: right;\n",
       "    }\n",
       "</style>\n",
       "<table border=\"1\" class=\"dataframe\">\n",
       "  <thead>\n",
       "    <tr style=\"text-align: right;\">\n",
       "      <th></th>\n",
       "      <th>IATA_CODE</th>\n",
       "      <th>AIRLINE</th>\n",
       "    </tr>\n",
       "  </thead>\n",
       "  <tbody>\n",
       "    <tr>\n",
       "      <th>0</th>\n",
       "      <td>UA</td>\n",
       "      <td>United Air Lines Inc.</td>\n",
       "    </tr>\n",
       "    <tr>\n",
       "      <th>1</th>\n",
       "      <td>AA</td>\n",
       "      <td>American Airlines Inc.</td>\n",
       "    </tr>\n",
       "    <tr>\n",
       "      <th>2</th>\n",
       "      <td>US</td>\n",
       "      <td>US Airways Inc.</td>\n",
       "    </tr>\n",
       "    <tr>\n",
       "      <th>3</th>\n",
       "      <td>F9</td>\n",
       "      <td>Frontier Airlines Inc.</td>\n",
       "    </tr>\n",
       "    <tr>\n",
       "      <th>4</th>\n",
       "      <td>B6</td>\n",
       "      <td>JetBlue Airways</td>\n",
       "    </tr>\n",
       "    <tr>\n",
       "      <th>5</th>\n",
       "      <td>OO</td>\n",
       "      <td>Skywest Airlines Inc.</td>\n",
       "    </tr>\n",
       "    <tr>\n",
       "      <th>6</th>\n",
       "      <td>AS</td>\n",
       "      <td>Alaska Airlines Inc.</td>\n",
       "    </tr>\n",
       "    <tr>\n",
       "      <th>7</th>\n",
       "      <td>NK</td>\n",
       "      <td>Spirit Air Lines</td>\n",
       "    </tr>\n",
       "    <tr>\n",
       "      <th>8</th>\n",
       "      <td>WN</td>\n",
       "      <td>Southwest Airlines Co.</td>\n",
       "    </tr>\n",
       "    <tr>\n",
       "      <th>9</th>\n",
       "      <td>DL</td>\n",
       "      <td>Delta Air Lines Inc.</td>\n",
       "    </tr>\n",
       "    <tr>\n",
       "      <th>10</th>\n",
       "      <td>EV</td>\n",
       "      <td>Atlantic Southeast Airlines</td>\n",
       "    </tr>\n",
       "    <tr>\n",
       "      <th>11</th>\n",
       "      <td>HA</td>\n",
       "      <td>Hawaiian Airlines Inc.</td>\n",
       "    </tr>\n",
       "    <tr>\n",
       "      <th>12</th>\n",
       "      <td>MQ</td>\n",
       "      <td>American Eagle Airlines Inc.</td>\n",
       "    </tr>\n",
       "    <tr>\n",
       "      <th>13</th>\n",
       "      <td>VX</td>\n",
       "      <td>Virgin America</td>\n",
       "    </tr>\n",
       "    <tr>\n",
       "      <th>14</th>\n",
       "      <td>OH</td>\n",
       "      <td>PSA Airline</td>\n",
       "    </tr>\n",
       "    <tr>\n",
       "      <th>15</th>\n",
       "      <td>YX</td>\n",
       "      <td>Republic Airways</td>\n",
       "    </tr>\n",
       "  </tbody>\n",
       "</table>\n",
       "</div>"
      ],
      "text/plain": [
       "   IATA_CODE                       AIRLINE\n",
       "0         UA         United Air Lines Inc.\n",
       "1         AA        American Airlines Inc.\n",
       "2         US               US Airways Inc.\n",
       "3         F9        Frontier Airlines Inc.\n",
       "4         B6               JetBlue Airways\n",
       "5         OO         Skywest Airlines Inc.\n",
       "6         AS          Alaska Airlines Inc.\n",
       "7         NK              Spirit Air Lines\n",
       "8         WN        Southwest Airlines Co.\n",
       "9         DL          Delta Air Lines Inc.\n",
       "10        EV   Atlantic Southeast Airlines\n",
       "11        HA        Hawaiian Airlines Inc.\n",
       "12        MQ  American Eagle Airlines Inc.\n",
       "13        VX                Virgin America\n",
       "14        OH                   PSA Airline\n",
       "15        YX              Republic Airways"
      ]
     },
     "execution_count": 132,
     "metadata": {},
     "output_type": "execute_result"
    }
   ],
   "source": [
    "df_airline"
   ]
  },
  {
   "cell_type": "code",
   "execution_count": 118,
   "id": "2f18ad99",
   "metadata": {},
   "outputs": [],
   "source": [
    "lst={'IATA_CODE':'YX',\n",
    "     'AIRLINE':'Republic Airways'}"
   ]
  },
  {
   "cell_type": "code",
   "execution_count": 128,
   "id": "06eb360d",
   "metadata": {},
   "outputs": [],
   "source": [
    "df_airline=df_airline.append({'IATA_CODE':'OH','AIRLINE':'PSA Airline'},ignore_index = True)"
   ]
  },
  {
   "cell_type": "code",
   "execution_count": 129,
   "id": "86feda63",
   "metadata": {},
   "outputs": [],
   "source": [
    "df_airline=df_airline.append(lst, ignore_index = True)\n"
   ]
  },
  {
   "cell_type": "code",
   "execution_count": 133,
   "id": "64737b9f",
   "metadata": {},
   "outputs": [],
   "source": [
    "df_airline=df_airline.append({'IATA_CODE':'9E','AIRLINE':'Endeavor Air'},ignore_index = True)"
   ]
  },
  {
   "cell_type": "code",
   "execution_count": 206,
   "id": "dac4f253",
   "metadata": {},
   "outputs": [],
   "source": [
    "df_airline=df_airline.append({'IATA_CODE':'KS','AIRLINE':'Peninsula Airway'},ignore_index = True)\n"
   ]
  },
  {
   "cell_type": "code",
   "execution_count": 207,
   "id": "97b0753b",
   "metadata": {},
   "outputs": [],
   "source": [
    "df_a=df_delay.sort_values(by='flights',ascending=False).head(10)"
   ]
  },
  {
   "cell_type": "code",
   "execution_count": 209,
   "id": "31faf491",
   "metadata": {},
   "outputs": [],
   "source": [
    "new=df_a.merge(df_airline,left_on='op_unique_carrier',right_on='IATA_CODE')"
   ]
  },
  {
   "cell_type": "code",
   "execution_count": 210,
   "id": "5d3b8723",
   "metadata": {},
   "outputs": [
    {
     "data": {
      "text/html": [
       "<div>\n",
       "<style scoped>\n",
       "    .dataframe tbody tr th:only-of-type {\n",
       "        vertical-align: middle;\n",
       "    }\n",
       "\n",
       "    .dataframe tbody tr th {\n",
       "        vertical-align: top;\n",
       "    }\n",
       "\n",
       "    .dataframe thead th {\n",
       "        text-align: right;\n",
       "    }\n",
       "</style>\n",
       "<table border=\"1\" class=\"dataframe\">\n",
       "  <thead>\n",
       "    <tr style=\"text-align: right;\">\n",
       "      <th></th>\n",
       "      <th>op_unique_carrier</th>\n",
       "      <th>flights</th>\n",
       "      <th>is_delayed</th>\n",
       "      <th>percentage</th>\n",
       "      <th>IATA_CODE</th>\n",
       "      <th>AIRLINE</th>\n",
       "    </tr>\n",
       "  </thead>\n",
       "  <tbody>\n",
       "    <tr>\n",
       "      <th>0</th>\n",
       "      <td>WN</td>\n",
       "      <td>136477.0</td>\n",
       "      <td>40927</td>\n",
       "      <td>30.0</td>\n",
       "      <td>WN</td>\n",
       "      <td>Southwest Airlines Co.</td>\n",
       "    </tr>\n",
       "    <tr>\n",
       "      <th>1</th>\n",
       "      <td>DL</td>\n",
       "      <td>90875.0</td>\n",
       "      <td>23532</td>\n",
       "      <td>25.9</td>\n",
       "      <td>DL</td>\n",
       "      <td>Delta Air Lines Inc.</td>\n",
       "    </tr>\n",
       "    <tr>\n",
       "      <th>2</th>\n",
       "      <td>OO</td>\n",
       "      <td>73705.0</td>\n",
       "      <td>26694</td>\n",
       "      <td>36.2</td>\n",
       "      <td>OO</td>\n",
       "      <td>Skywest Airlines Inc.</td>\n",
       "    </tr>\n",
       "    <tr>\n",
       "      <th>3</th>\n",
       "      <td>AA</td>\n",
       "      <td>64447.0</td>\n",
       "      <td>20887</td>\n",
       "      <td>32.4</td>\n",
       "      <td>AA</td>\n",
       "      <td>American Airlines Inc.</td>\n",
       "    </tr>\n",
       "    <tr>\n",
       "      <th>4</th>\n",
       "      <td>UA</td>\n",
       "      <td>55876.0</td>\n",
       "      <td>15719</td>\n",
       "      <td>28.1</td>\n",
       "      <td>UA</td>\n",
       "      <td>United Air Lines Inc.</td>\n",
       "    </tr>\n",
       "    <tr>\n",
       "      <th>5</th>\n",
       "      <td>YX</td>\n",
       "      <td>30632.0</td>\n",
       "      <td>11243</td>\n",
       "      <td>36.7</td>\n",
       "      <td>YX</td>\n",
       "      <td>Republic Airways</td>\n",
       "    </tr>\n",
       "    <tr>\n",
       "      <th>6</th>\n",
       "      <td>B6</td>\n",
       "      <td>30151.0</td>\n",
       "      <td>12381</td>\n",
       "      <td>41.1</td>\n",
       "      <td>B6</td>\n",
       "      <td>JetBlue Airways</td>\n",
       "    </tr>\n",
       "    <tr>\n",
       "      <th>7</th>\n",
       "      <td>OH</td>\n",
       "      <td>27333.0</td>\n",
       "      <td>10551</td>\n",
       "      <td>38.6</td>\n",
       "      <td>OH</td>\n",
       "      <td>PSA Airline</td>\n",
       "    </tr>\n",
       "    <tr>\n",
       "      <th>8</th>\n",
       "      <td>9E</td>\n",
       "      <td>23190.0</td>\n",
       "      <td>7060</td>\n",
       "      <td>30.4</td>\n",
       "      <td>9E</td>\n",
       "      <td>Endeavor Air</td>\n",
       "    </tr>\n",
       "    <tr>\n",
       "      <th>9</th>\n",
       "      <td>AS</td>\n",
       "      <td>22349.0</td>\n",
       "      <td>6278</td>\n",
       "      <td>28.1</td>\n",
       "      <td>AS</td>\n",
       "      <td>Alaska Airlines Inc.</td>\n",
       "    </tr>\n",
       "  </tbody>\n",
       "</table>\n",
       "</div>"
      ],
      "text/plain": [
       "  op_unique_carrier   flights  is_delayed  percentage IATA_CODE  \\\n",
       "0                WN  136477.0       40927        30.0        WN   \n",
       "1                DL   90875.0       23532        25.9        DL   \n",
       "2                OO   73705.0       26694        36.2        OO   \n",
       "3                AA   64447.0       20887        32.4        AA   \n",
       "4                UA   55876.0       15719        28.1        UA   \n",
       "5                YX   30632.0       11243        36.7        YX   \n",
       "6                B6   30151.0       12381        41.1        B6   \n",
       "7                OH   27333.0       10551        38.6        OH   \n",
       "8                9E   23190.0        7060        30.4        9E   \n",
       "9                AS   22349.0        6278        28.1        AS   \n",
       "\n",
       "                  AIRLINE  \n",
       "0  Southwest Airlines Co.  \n",
       "1    Delta Air Lines Inc.  \n",
       "2   Skywest Airlines Inc.  \n",
       "3  American Airlines Inc.  \n",
       "4   United Air Lines Inc.  \n",
       "5        Republic Airways  \n",
       "6         JetBlue Airways  \n",
       "7             PSA Airline  \n",
       "8            Endeavor Air  \n",
       "9    Alaska Airlines Inc.  "
      ]
     },
     "execution_count": 210,
     "metadata": {},
     "output_type": "execute_result"
    }
   ],
   "source": [
    "new"
   ]
  },
  {
   "cell_type": "code",
   "execution_count": 200,
   "id": "bceaeae8",
   "metadata": {},
   "outputs": [
    {
     "data": {
      "image/png": "[encoded data removed]",
      "text/plain": [
       "<Figure size 1296x360 with 1 Axes>"
      ]
     },
     "metadata": {
      "needs_background": "light"
     },
     "output_type": "display_data"
    }
   ],
   "source": [
    "fig,ax=plt.subplots(figsize=(18,5))\n",
    "sns.barplot(x='AIRLINE', y='flights',data=new,color='green')\n",
    "sns.barplot(x='AIRLINE', y='is_delayed',data=new,color='red')\n",
    "# for x,y in enumerate(new.percentage):\n",
    "#     plt.text(x,y+10,\"%s \"%y, ha='center',ma='center',fontsize=15)"
   ]
  },
  {
   "cell_type": "code",
   "execution_count": 219,
   "id": "54dbfb02",
   "metadata": {},
   "outputs": [
    {
     "data": {
      "image/png": "[encoded data removed]",
      "text/plain": [
       "<Figure size 1296x360 with 1 Axes>"
      ]
     },
     "metadata": {
      "needs_background": "light"
     },
     "output_type": "display_data"
    }
   ],
   "source": [
    "df_percent=df_percent.merge(df_airline,left_on='op_unique_carrier',right_on='IATA_CODE')\n",
    "fig,ax=plt.subplots(figsize=(18,5))\n",
    "sns.barplot(x='AIRLINE', y='percentage',data=df_percent)\n",
    "for x,y in enumerate(df_percent.percentage):\n",
    "    plt.text(x,y+3,\"%s \"%y, ha='center',ma='center',fontsize=15)"
   ]
  },
  {
   "cell_type": "code",
   "execution_count": null,
   "id": "4e38ad89",
   "metadata": {},
   "outputs": [],
   "source": []
  },
  {
   "cell_type": "markdown",
   "id": "1df6136a-89f1-44f9-a1b2-adaa1a33f4ef",
   "metadata": {
    "id": "1df6136a-89f1-44f9-a1b2-adaa1a33f4ef",
    "tags": []
   },
   "source": [
    "### 10 busiest airport-pairs with average delay by airline"
   ]
  },
  {
   "cell_type": "code",
   "execution_count": 20,
   "id": "b17ddf99-6fdc-419c-ab2a-25d6a17a2fc7",
   "metadata": {
    "colab": {
     "base_uri": "https://localhost:8080/"
    },
    "id": "b17ddf99-6fdc-419c-ab2a-25d6a17a2fc7",
    "outputId": "4f3ffeb1-6a58-426f-afe1-18bfaddfa151"
   },
   "outputs": [
    {
     "data": {
      "text/plain": [
       "Index(['fl_date', 'mkt_carrier', 'op_unique_carrier', 'origin',\n",
       "       'origin_city_name', 'dest', 'dest_city_name', 'crs_dep_time',\n",
       "       'dep_time', 'dep_delay', 'crs_arr_time', 'arr_time', 'arr_delay',\n",
       "       'cancelled', 'diverted', 'crs_elapsed_time', 'actual_elapsed_time',\n",
       "       'air_time', 'flights', 'distance', 'Weather_origin', 'Weather_destin',\n",
       "       'Visibility_origin', 'Visibility_destin', 'windspeed_origin',\n",
       "       'windspeed_destin', 'weekday'],\n",
       "      dtype='object')"
      ]
     },
     "execution_count": 20,
     "metadata": {},
     "output_type": "execute_result"
    }
   ],
   "source": [
    "df.columns"
   ]
  },
  {
   "cell_type": "code",
   "execution_count": 10,
   "id": "NiM_8BugsNu1",
   "metadata": {
    "id": "NiM_8BugsNu1"
   },
   "outputs": [],
   "source": []
  },
  {
   "cell_type": "code",
   "execution_count": 14,
   "id": "b71f047a-e0d2-4709-9084-49f6b190e9bf",
   "metadata": {
    "id": "b71f047a-e0d2-4709-9084-49f6b190e9bf"
   },
   "outputs": [],
   "source": [
    "df_origin_busiest=df.groupby(['origin']).agg({'flights':'count',}).sort_values(by='flights',ascending=False).reset_index().head(10)"
   ]
  },
  {
   "cell_type": "code",
   "execution_count": 15,
   "id": "OMuE1Xg3etM4",
   "metadata": {
    "colab": {
     "base_uri": "https://localhost:8080/",
     "height": 363
    },
    "id": "OMuE1Xg3etM4",
    "outputId": "9a2f8131-f02f-48c6-af2e-b1b3acae3793"
   },
   "outputs": [
    {
     "data": {
      "text/html": [
       "\n",
       "  <div id=\"df-0832d548-0c83-4a08-b7e7-be8cecb86010\">\n",
       "    <div class=\"colab-df-container\">\n",
       "      <div>\n",
       "<style scoped>\n",
       "    .dataframe tbody tr th:only-of-type {\n",
       "        vertical-align: middle;\n",
       "    }\n",
       "\n",
       "    .dataframe tbody tr th {\n",
       "        vertical-align: top;\n",
       "    }\n",
       "\n",
       "    .dataframe thead th {\n",
       "        text-align: right;\n",
       "    }\n",
       "</style>\n",
       "<table border=\"1\" class=\"dataframe\">\n",
       "  <thead>\n",
       "    <tr style=\"text-align: right;\">\n",
       "      <th></th>\n",
       "      <th>origin</th>\n",
       "      <th>flights</th>\n",
       "    </tr>\n",
       "  </thead>\n",
       "  <tbody>\n",
       "    <tr>\n",
       "      <th>0</th>\n",
       "      <td>ATL</td>\n",
       "      <td>38141</td>\n",
       "    </tr>\n",
       "    <tr>\n",
       "      <th>1</th>\n",
       "      <td>ORD</td>\n",
       "      <td>34402</td>\n",
       "    </tr>\n",
       "    <tr>\n",
       "      <th>2</th>\n",
       "      <td>DEN</td>\n",
       "      <td>25447</td>\n",
       "    </tr>\n",
       "    <tr>\n",
       "      <th>3</th>\n",
       "      <td>LAX</td>\n",
       "      <td>24567</td>\n",
       "    </tr>\n",
       "    <tr>\n",
       "      <th>4</th>\n",
       "      <td>CLT</td>\n",
       "      <td>24379</td>\n",
       "    </tr>\n",
       "    <tr>\n",
       "      <th>5</th>\n",
       "      <td>PHX</td>\n",
       "      <td>18187</td>\n",
       "    </tr>\n",
       "    <tr>\n",
       "      <th>6</th>\n",
       "      <td>SEA</td>\n",
       "      <td>17402</td>\n",
       "    </tr>\n",
       "    <tr>\n",
       "      <th>7</th>\n",
       "      <td>SFO</td>\n",
       "      <td>17131</td>\n",
       "    </tr>\n",
       "    <tr>\n",
       "      <th>8</th>\n",
       "      <td>IAH</td>\n",
       "      <td>16996</td>\n",
       "    </tr>\n",
       "    <tr>\n",
       "      <th>9</th>\n",
       "      <td>LGA</td>\n",
       "      <td>16777</td>\n",
       "    </tr>\n",
       "  </tbody>\n",
       "</table>\n",
       "</div>\n",
       "      <button class=\"colab-df-convert\" onclick=\"convertToInteractive('df-0832d548-0c83-4a08-b7e7-be8cecb86010')\"\n",
       "              title=\"Convert this dataframe to an interactive table.\"\n",
       "              style=\"display:none;\">\n",
       "        \n",
       "  <svg xmlns=\"http://www.w3.org/2000/svg\" height=\"24px\"viewBox=\"0 0 24 24\"\n",
       "       width=\"24px\">\n",
       "    <path d=\"M0 0h24v24H0V0z\" fill=\"none\"/>\n",
       "    <path d=\"M18.56 5.44l.94 2.06.94-2.06 2.06-.94-2.06-.94-.94-2.06-.94 2.06-2.06.94zm-11 1L8.5 8.5l.94-2.06 2.06-.94-2.06-.94L8.5 2.5l-.94 2.06-2.06.94zm10 10l.94 2.06.94-2.06 2.06-.94-2.06-.94-.94-2.06-.94 2.06-2.06.94z\"/><path d=\"M17.41 7.96l-1.37-1.37c-.4-.4-.92-.59-1.43-.59-.52 0-1.04.2-1.43.59L10.3 9.45l-7.72 7.72c-.78.78-.78 2.05 0 2.83L4 21.41c.39.39.9.59 1.41.59.51 0 1.02-.2 1.41-.59l7.78-7.78 2.81-2.81c.8-.78.8-2.07 0-2.86zM5.41 20L4 18.59l7.72-7.72 1.47 1.35L5.41 20z\"/>\n",
       "  </svg>\n",
       "      </button>\n",
       "      \n",
       "  <style>\n",
       "    .colab-df-container {\n",
       "      display:flex;\n",
       "      flex-wrap:wrap;\n",
       "      gap: 12px;\n",
       "    }\n",
       "\n",
       "    .colab-df-convert {\n",
       "      background-color: #E8F0FE;\n",
       "      border: none;\n",
       "      border-radius: 50%;\n",
       "      cursor: pointer;\n",
       "      display: none;\n",
       "      fill: #1967D2;\n",
       "      height: 32px;\n",
       "      padding: 0 0 0 0;\n",
       "      width: 32px;\n",
       "    }\n",
       "\n",
       "    .colab-df-convert:hover {\n",
       "      background-color: #E2EBFA;\n",
       "      box-shadow: 0px 1px 2px rgba(60, 64, 67, 0.3), 0px 1px 3px 1px rgba(60, 64, 67, 0.15);\n",
       "      fill: #174EA6;\n",
       "    }\n",
       "\n",
       "    [theme=dark] .colab-df-convert {\n",
       "      background-color: #3B4455;\n",
       "      fill: #D2E3FC;\n",
       "    }\n",
       "\n",
       "    [theme=dark] .colab-df-convert:hover {\n",
       "      background-color: #434B5C;\n",
       "      box-shadow: 0px 1px 3px 1px rgba(0, 0, 0, 0.15);\n",
       "      filter: drop-shadow(0px 1px 2px rgba(0, 0, 0, 0.3));\n",
       "      fill: #FFFFFF;\n",
       "    }\n",
       "  </style>\n",
       "\n",
       "      <script>\n",
       "        const buttonEl =\n",
       "          document.querySelector('#df-0832d548-0c83-4a08-b7e7-be8cecb86010 button.colab-df-convert');\n",
       "        buttonEl.style.display =\n",
       "          google.colab.kernel.accessAllowed ? 'block' : 'none';\n",
       "\n",
       "        async function convertToInteractive(key) {\n",
       "          const element = document.querySelector('#df-0832d548-0c83-4a08-b7e7-be8cecb86010');\n",
       "          const dataTable =\n",
       "            await google.colab.kernel.invokeFunction('convertToInteractive',\n",
       "                                                     [key], {});\n",
       "          if (!dataTable) return;\n",
       "\n",
       "          const docLinkHtml = 'Like what you see? Visit the ' +\n",
       "            '<a target=\"_blank\" href=https://colab.research.google.com/notebooks/data_table.ipynb>data table notebook</a>'\n",
       "            + ' to learn more about interactive tables.';\n",
       "          element.innerHTML = '';\n",
       "          dataTable['output_type'] = 'display_data';\n",
       "          await google.colab.output.renderOutput(dataTable, element);\n",
       "          const docLink = document.createElement('div');\n",
       "          docLink.innerHTML = docLinkHtml;\n",
       "          element.appendChild(docLink);\n",
       "        }\n",
       "      </script>\n",
       "    </div>\n",
       "  </div>\n",
       "  "
      ],
      "text/plain": [
       "  origin  flights\n",
       "0    ATL    38141\n",
       "1    ORD    34402\n",
       "2    DEN    25447\n",
       "3    LAX    24567\n",
       "4    CLT    24379\n",
       "5    PHX    18187\n",
       "6    SEA    17402\n",
       "7    SFO    17131\n",
       "8    IAH    16996\n",
       "9    LGA    16777"
      ]
     },
     "execution_count": 15,
     "metadata": {},
     "output_type": "execute_result"
    }
   ],
   "source": [
    "df_origin_busiest"
   ]
  },
  {
   "cell_type": "code",
   "execution_count": 191,
   "id": "7p_X-TAqdgQa",
   "metadata": {
    "id": "7p_X-TAqdgQa"
   },
   "outputs": [],
   "source": [
    "df_dest_busiest=df.groupby(['dest']).agg({'flights':'count',}).sort_values(by='flights',ascending=False).reset_index().head(10)"
   ]
  },
  {
   "cell_type": "code",
   "execution_count": 17,
   "id": "Jd4a6G2QeKQp",
   "metadata": {
    "colab": {
     "base_uri": "https://localhost:8080/",
     "height": 557
    },
    "id": "Jd4a6G2QeKQp",
    "outputId": "1a9ac061-59e1-406b-cccc-40bcaadf06d8"
   },
   "outputs": [
    {
     "data": {
      "text/plain": [
       "[<matplotlib.axis.XTick at 0x7faeb39ba950>,\n",
       " <matplotlib.axis.XTick at 0x7faeb39ba910>,\n",
       " <matplotlib.axis.XTick at 0x7faeb4b86d50>,\n",
       " <matplotlib.axis.XTick at 0x7faeb390e650>,\n",
       " <matplotlib.axis.XTick at 0x7faeb390eb10>,\n",
       " <matplotlib.axis.XTick at 0x7faeb390ed50>,\n",
       " <matplotlib.axis.XTick at 0x7faeb3917610>,\n",
       " <matplotlib.axis.XTick at 0x7faeb3917b50>,\n",
       " <matplotlib.axis.XTick at 0x7faeb3917d90>,\n",
       " <matplotlib.axis.XTick at 0x7faeb391e610>]"
      ]
     },
     "execution_count": 17,
     "metadata": {},
     "output_type": "execute_result"
    },
    {
     "data": {
      "image/png": "[encoded data removed]",
      "text/plain": [
       "<Figure size 864x432 with 1 Axes>"
      ]
     },
     "metadata": {
      "needs_background": "light"
     },
     "output_type": "display_data"
    }
   ],
   "source": [
    "x=df_origin_busiest.origin\n",
    "y=df_origin_busiest.flights\n",
    "X=df_dest_busiest.dest\n",
    "Y=df_dest_busiest.flights\n",
    "fig, ax = plt.subplots(figsize = (12,6))\n",
    "ax.bar(x,y, align='center')\n",
    "ax.set_ylabel('number of flights')\n",
    "ax.set_xticks(x)\n",
    "\n",
    "\n"
   ]
  },
  {
   "cell_type": "code",
   "execution_count": 194,
   "id": "acc92c0f-5db7-4fc5-a598-89f0878d3a6a",
   "metadata": {},
   "outputs": [],
   "source": [
    "airport=list(df_dest_busiest.dest)"
   ]
  },
  {
   "cell_type": "code",
   "execution_count": null,
   "id": "e1d51684-be38-4363-826e-cdc0a0241551",
   "metadata": {},
   "outputs": [],
   "source": []
  },
  {
   "cell_type": "code",
   "execution_count": 195,
   "id": "6173ebbc-7d73-461f-8d0e-28f701a86682",
   "metadata": {},
   "outputs": [],
   "source": [
    "#20\n",
    "airport=list(df_dest_busiest.dest)"
   ]
  },
  {
   "cell_type": "code",
   "execution_count": null,
   "id": "6114ba2e-9521-4bf7-8419-afb64daca166",
   "metadata": {},
   "outputs": [],
   "source": []
  },
  {
   "cell_type": "code",
   "execution_count": 18,
   "id": "9SlUzEUaeCHD",
   "metadata": {
    "colab": {
     "base_uri": "https://localhost:8080/",
     "height": 363
    },
    "id": "9SlUzEUaeCHD",
    "outputId": "c4d963b2-3ae7-439c-8564-93082293d34c"
   },
   "outputs": [
    {
     "data": {
      "text/html": [
       "\n",
       "  <div id=\"df-e3130ec1-cfe0-4c03-a8ea-738621d14976\">\n",
       "    <div class=\"colab-df-container\">\n",
       "      <div>\n",
       "<style scoped>\n",
       "    .dataframe tbody tr th:only-of-type {\n",
       "        vertical-align: middle;\n",
       "    }\n",
       "\n",
       "    .dataframe tbody tr th {\n",
       "        vertical-align: top;\n",
       "    }\n",
       "\n",
       "    .dataframe thead th {\n",
       "        text-align: right;\n",
       "    }\n",
       "</style>\n",
       "<table border=\"1\" class=\"dataframe\">\n",
       "  <thead>\n",
       "    <tr style=\"text-align: right;\">\n",
       "      <th></th>\n",
       "      <th>origin</th>\n",
       "      <th>flights</th>\n",
       "    </tr>\n",
       "  </thead>\n",
       "  <tbody>\n",
       "    <tr>\n",
       "      <th>0</th>\n",
       "      <td>ATL</td>\n",
       "      <td>38141</td>\n",
       "    </tr>\n",
       "    <tr>\n",
       "      <th>1</th>\n",
       "      <td>ORD</td>\n",
       "      <td>34402</td>\n",
       "    </tr>\n",
       "    <tr>\n",
       "      <th>2</th>\n",
       "      <td>DEN</td>\n",
       "      <td>25447</td>\n",
       "    </tr>\n",
       "    <tr>\n",
       "      <th>3</th>\n",
       "      <td>LAX</td>\n",
       "      <td>24567</td>\n",
       "    </tr>\n",
       "    <tr>\n",
       "      <th>4</th>\n",
       "      <td>CLT</td>\n",
       "      <td>24379</td>\n",
       "    </tr>\n",
       "    <tr>\n",
       "      <th>5</th>\n",
       "      <td>PHX</td>\n",
       "      <td>18187</td>\n",
       "    </tr>\n",
       "    <tr>\n",
       "      <th>6</th>\n",
       "      <td>SEA</td>\n",
       "      <td>17402</td>\n",
       "    </tr>\n",
       "    <tr>\n",
       "      <th>7</th>\n",
       "      <td>SFO</td>\n",
       "      <td>17131</td>\n",
       "    </tr>\n",
       "    <tr>\n",
       "      <th>8</th>\n",
       "      <td>IAH</td>\n",
       "      <td>16996</td>\n",
       "    </tr>\n",
       "    <tr>\n",
       "      <th>9</th>\n",
       "      <td>LGA</td>\n",
       "      <td>16777</td>\n",
       "    </tr>\n",
       "  </tbody>\n",
       "</table>\n",
       "</div>\n",
       "      <button class=\"colab-df-convert\" onclick=\"convertToInteractive('df-e3130ec1-cfe0-4c03-a8ea-738621d14976')\"\n",
       "              title=\"Convert this dataframe to an interactive table.\"\n",
       "              style=\"display:none;\">\n",
       "        \n",
       "  <svg xmlns=\"http://www.w3.org/2000/svg\" height=\"24px\"viewBox=\"0 0 24 24\"\n",
       "       width=\"24px\">\n",
       "    <path d=\"M0 0h24v24H0V0z\" fill=\"none\"/>\n",
       "    <path d=\"M18.56 5.44l.94 2.06.94-2.06 2.06-.94-2.06-.94-.94-2.06-.94 2.06-2.06.94zm-11 1L8.5 8.5l.94-2.06 2.06-.94-2.06-.94L8.5 2.5l-.94 2.06-2.06.94zm10 10l.94 2.06.94-2.06 2.06-.94-2.06-.94-.94-2.06-.94 2.06-2.06.94z\"/><path d=\"M17.41 7.96l-1.37-1.37c-.4-.4-.92-.59-1.43-.59-.52 0-1.04.2-1.43.59L10.3 9.45l-7.72 7.72c-.78.78-.78 2.05 0 2.83L4 21.41c.39.39.9.59 1.41.59.51 0 1.02-.2 1.41-.59l7.78-7.78 2.81-2.81c.8-.78.8-2.07 0-2.86zM5.41 20L4 18.59l7.72-7.72 1.47 1.35L5.41 20z\"/>\n",
       "  </svg>\n",
       "      </button>\n",
       "      \n",
       "  <style>\n",
       "    .colab-df-container {\n",
       "      display:flex;\n",
       "      flex-wrap:wrap;\n",
       "      gap: 12px;\n",
       "    }\n",
       "\n",
       "    .colab-df-convert {\n",
       "      background-color: #E8F0FE;\n",
       "      border: none;\n",
       "      border-radius: 50%;\n",
       "      cursor: pointer;\n",
       "      display: none;\n",
       "      fill: #1967D2;\n",
       "      height: 32px;\n",
       "      padding: 0 0 0 0;\n",
       "      width: 32px;\n",
       "    }\n",
       "\n",
       "    .colab-df-convert:hover {\n",
       "      background-color: #E2EBFA;\n",
       "      box-shadow: 0px 1px 2px rgba(60, 64, 67, 0.3), 0px 1px 3px 1px rgba(60, 64, 67, 0.15);\n",
       "      fill: #174EA6;\n",
       "    }\n",
       "\n",
       "    [theme=dark] .colab-df-convert {\n",
       "      background-color: #3B4455;\n",
       "      fill: #D2E3FC;\n",
       "    }\n",
       "\n",
       "    [theme=dark] .colab-df-convert:hover {\n",
       "      background-color: #434B5C;\n",
       "      box-shadow: 0px 1px 3px 1px rgba(0, 0, 0, 0.15);\n",
       "      filter: drop-shadow(0px 1px 2px rgba(0, 0, 0, 0.3));\n",
       "      fill: #FFFFFF;\n",
       "    }\n",
       "  </style>\n",
       "\n",
       "      <script>\n",
       "        const buttonEl =\n",
       "          document.querySelector('#df-e3130ec1-cfe0-4c03-a8ea-738621d14976 button.colab-df-convert');\n",
       "        buttonEl.style.display =\n",
       "          google.colab.kernel.accessAllowed ? 'block' : 'none';\n",
       "\n",
       "        async function convertToInteractive(key) {\n",
       "          const element = document.querySelector('#df-e3130ec1-cfe0-4c03-a8ea-738621d14976');\n",
       "          const dataTable =\n",
       "            await google.colab.kernel.invokeFunction('convertToInteractive',\n",
       "                                                     [key], {});\n",
       "          if (!dataTable) return;\n",
       "\n",
       "          const docLinkHtml = 'Like what you see? Visit the ' +\n",
       "            '<a target=\"_blank\" href=https://colab.research.google.com/notebooks/data_table.ipynb>data table notebook</a>'\n",
       "            + ' to learn more about interactive tables.';\n",
       "          element.innerHTML = '';\n",
       "          dataTable['output_type'] = 'display_data';\n",
       "          await google.colab.output.renderOutput(dataTable, element);\n",
       "          const docLink = document.createElement('div');\n",
       "          docLink.innerHTML = docLinkHtml;\n",
       "          element.appendChild(docLink);\n",
       "        }\n",
       "      </script>\n",
       "    </div>\n",
       "  </div>\n",
       "  "
      ],
      "text/plain": [
       "  origin  flights\n",
       "0    ATL    38141\n",
       "1    ORD    34402\n",
       "2    DEN    25447\n",
       "3    LAX    24567\n",
       "4    CLT    24379\n",
       "5    PHX    18187\n",
       "6    SEA    17402\n",
       "7    SFO    17131\n",
       "8    IAH    16996\n",
       "9    LGA    16777"
      ]
     },
     "execution_count": 18,
     "metadata": {},
     "output_type": "execute_result"
    }
   ],
   "source": [
    "df_origin_busiest"
   ]
  },
  {
   "cell_type": "code",
   "execution_count": 190,
   "id": "0f1cc88b-207c-4690-89f2-0dbe7ab64be4",
   "metadata": {},
   "outputs": [
    {
     "data": {
      "text/plain": [
       "[<matplotlib.axis.XTick at 0x7f8434995280>,\n",
       " <matplotlib.axis.XTick at 0x7f8434995250>,\n",
       " <matplotlib.axis.XTick at 0x7f84349a3400>,\n",
       " <matplotlib.axis.XTick at 0x7f8431eeda90>,\n",
       " <matplotlib.axis.XTick at 0x7f8431ef8220>,\n",
       " <matplotlib.axis.XTick at 0x7f8431ef8970>,\n",
       " <matplotlib.axis.XTick at 0x7f8431efa100>,\n",
       " <matplotlib.axis.XTick at 0x7f8431efa850>,\n",
       " <matplotlib.axis.XTick at 0x7f8431eff070>,\n",
       " <matplotlib.axis.XTick at 0x7f8431efab20>]"
      ]
     },
     "execution_count": 190,
     "metadata": {},
     "output_type": "execute_result"
    },
    {
     "data": {
      "image/png": "[encoded data removed]",
      "text/plain": [
       "<Figure size 864x432 with 1 Axes>"
      ]
     },
     "metadata": {
      "needs_background": "light"
     },
     "output_type": "display_data"
    }
   ],
   "source": [
    "X=df_dest_busiest.dest\n",
    "Y=df_dest_busiest.flights\n",
    "fig, ax = plt.subplots(figsize = (12,6))\n",
    "ax.bar(X,Y, align='center')\n",
    "ax.set_ylabel('number of flights')\n",
    "ax.set_xticks(X)\n"
   ]
  },
  {
   "cell_type": "code",
   "execution_count": 19,
   "id": "WrG90OhReCtM",
   "metadata": {
    "id": "WrG90OhReCtM"
   },
   "outputs": [],
   "source": [
    "businest_airport=['ATL', 'ORD', 'DEN', 'LAX', 'CLT', 'PHX', 'SEA', 'SFO', 'IAH', 'LGA']"
   ]
  },
  {
   "cell_type": "markdown",
   "id": "nBrD5HalgIHZ",
   "metadata": {
    "id": "nBrD5HalgIHZ"
   },
   "source": [
    "*Above are the top ten businest airports with the most flights. both as departure and as desination airports"
   ]
  },
  {
   "cell_type": "code",
   "execution_count": 19,
   "id": "f1afc0ed-21a7-4606-8d15-a65da87f7bf3",
   "metadata": {
    "id": "f1afc0ed-21a7-4606-8d15-a65da87f7bf3"
   },
   "outputs": [],
   "source": []
  },
  {
   "cell_type": "markdown",
   "id": "jqClCWi9ggOR",
   "metadata": {
    "id": "jqClCWi9ggOR"
   },
   "source": [
    "* Group the average arr_delay by each route and airlines"
   ]
  },
  {
   "cell_type": "code",
   "execution_count": 20,
   "id": "bfUTpUWBtLgB",
   "metadata": {
    "id": "bfUTpUWBtLgB"
   },
   "outputs": [],
   "source": [
    "df_route=df.groupby(['origin','dest','op_unique_carrier']).agg({'flights':'count',\n",
    "                    'is_delayed':'sum'}).sort_values(by='flights',ascending=False).reset_index()"
   ]
  },
  {
   "cell_type": "code",
   "execution_count": 21,
   "id": "XrwPGYpftq4r",
   "metadata": {
    "id": "XrwPGYpftq4r"
   },
   "outputs": [],
   "source": [
    "df_route=df_route.rename(columns={'is_delayed':'avg_arr_delay'})"
   ]
  },
  {
   "cell_type": "code",
   "execution_count": 21,
   "id": "ffa2c60b-f08b-4602-9d89-99ce308b6209",
   "metadata": {
    "id": "ffa2c60b-f08b-4602-9d89-99ce308b6209"
   },
   "outputs": [],
   "source": []
  },
  {
   "cell_type": "code",
   "execution_count": 22,
   "id": "ee160508-84e9-4a66-ad4d-846a171ddb4d",
   "metadata": {
    "id": "ee160508-84e9-4a66-ad4d-846a171ddb4d"
   },
   "outputs": [],
   "source": [
    "df_route['delay_percentage']=round(df_route['avg_arr_delay']/df_route['flights'],2)"
   ]
  },
  {
   "cell_type": "code",
   "execution_count": 23,
   "id": "9d58a4a2-45c9-4ba0-ad3e-3429edd8c35d",
   "metadata": {
    "colab": {
     "base_uri": "https://localhost:8080/",
     "height": 424
    },
    "id": "9d58a4a2-45c9-4ba0-ad3e-3429edd8c35d",
    "outputId": "6e56d751-e5c1-4269-e17f-100a8bd1ac90"
   },
   "outputs": [
    {
     "data": {
      "text/html": [
       "\n",
       "  <div id=\"df-001e2e90-c46f-41f2-b883-ad80cc3e1c29\">\n",
       "    <div class=\"colab-df-container\">\n",
       "      <div>\n",
       "<style scoped>\n",
       "    .dataframe tbody tr th:only-of-type {\n",
       "        vertical-align: middle;\n",
       "    }\n",
       "\n",
       "    .dataframe tbody tr th {\n",
       "        vertical-align: top;\n",
       "    }\n",
       "\n",
       "    .dataframe thead th {\n",
       "        text-align: right;\n",
       "    }\n",
       "</style>\n",
       "<table border=\"1\" class=\"dataframe\">\n",
       "  <thead>\n",
       "    <tr style=\"text-align: right;\">\n",
       "      <th></th>\n",
       "      <th>origin</th>\n",
       "      <th>dest</th>\n",
       "      <th>op_unique_carrier</th>\n",
       "      <th>flights</th>\n",
       "      <th>avg_arr_delay</th>\n",
       "      <th>delay_percentage</th>\n",
       "    </tr>\n",
       "  </thead>\n",
       "  <tbody>\n",
       "    <tr>\n",
       "      <th>11044</th>\n",
       "      <td>COU</td>\n",
       "      <td>DEN</td>\n",
       "      <td>AX</td>\n",
       "      <td>1</td>\n",
       "      <td>1</td>\n",
       "      <td>1.0</td>\n",
       "    </tr>\n",
       "    <tr>\n",
       "      <th>11097</th>\n",
       "      <td>PIT</td>\n",
       "      <td>JFK</td>\n",
       "      <td>YX</td>\n",
       "      <td>1</td>\n",
       "      <td>1</td>\n",
       "      <td>1.0</td>\n",
       "    </tr>\n",
       "    <tr>\n",
       "      <th>11080</th>\n",
       "      <td>SGF</td>\n",
       "      <td>DEN</td>\n",
       "      <td>G7</td>\n",
       "      <td>1</td>\n",
       "      <td>1</td>\n",
       "      <td>1.0</td>\n",
       "    </tr>\n",
       "    <tr>\n",
       "      <th>10721</th>\n",
       "      <td>CRW</td>\n",
       "      <td>ATL</td>\n",
       "      <td>EV</td>\n",
       "      <td>2</td>\n",
       "      <td>2</td>\n",
       "      <td>1.0</td>\n",
       "    </tr>\n",
       "    <tr>\n",
       "      <th>11081</th>\n",
       "      <td>XNA</td>\n",
       "      <td>ORD</td>\n",
       "      <td>ZW</td>\n",
       "      <td>1</td>\n",
       "      <td>1</td>\n",
       "      <td>1.0</td>\n",
       "    </tr>\n",
       "    <tr>\n",
       "      <th>...</th>\n",
       "      <td>...</td>\n",
       "      <td>...</td>\n",
       "      <td>...</td>\n",
       "      <td>...</td>\n",
       "      <td>...</td>\n",
       "      <td>...</td>\n",
       "    </tr>\n",
       "    <tr>\n",
       "      <th>10844</th>\n",
       "      <td>IAH</td>\n",
       "      <td>BNA</td>\n",
       "      <td>YX</td>\n",
       "      <td>2</td>\n",
       "      <td>0</td>\n",
       "      <td>0.0</td>\n",
       "    </tr>\n",
       "    <tr>\n",
       "      <th>9510</th>\n",
       "      <td>PIE</td>\n",
       "      <td>ORF</td>\n",
       "      <td>G4</td>\n",
       "      <td>11</td>\n",
       "      <td>0</td>\n",
       "      <td>0.0</td>\n",
       "    </tr>\n",
       "    <tr>\n",
       "      <th>10847</th>\n",
       "      <td>MSP</td>\n",
       "      <td>ALB</td>\n",
       "      <td>DL</td>\n",
       "      <td>2</td>\n",
       "      <td>0</td>\n",
       "      <td>0.0</td>\n",
       "    </tr>\n",
       "    <tr>\n",
       "      <th>10848</th>\n",
       "      <td>ORD</td>\n",
       "      <td>ORF</td>\n",
       "      <td>UA</td>\n",
       "      <td>2</td>\n",
       "      <td>0</td>\n",
       "      <td>0.0</td>\n",
       "    </tr>\n",
       "    <tr>\n",
       "      <th>11481</th>\n",
       "      <td>CAE</td>\n",
       "      <td>IAD</td>\n",
       "      <td>EV</td>\n",
       "      <td>1</td>\n",
       "      <td>0</td>\n",
       "      <td>0.0</td>\n",
       "    </tr>\n",
       "  </tbody>\n",
       "</table>\n",
       "<p>11482 rows × 6 columns</p>\n",
       "</div>\n",
       "      <button class=\"colab-df-convert\" onclick=\"convertToInteractive('df-001e2e90-c46f-41f2-b883-ad80cc3e1c29')\"\n",
       "              title=\"Convert this dataframe to an interactive table.\"\n",
       "              style=\"display:none;\">\n",
       "        \n",
       "  <svg xmlns=\"http://www.w3.org/2000/svg\" height=\"24px\"viewBox=\"0 0 24 24\"\n",
       "       width=\"24px\">\n",
       "    <path d=\"M0 0h24v24H0V0z\" fill=\"none\"/>\n",
       "    <path d=\"M18.56 5.44l.94 2.06.94-2.06 2.06-.94-2.06-.94-.94-2.06-.94 2.06-2.06.94zm-11 1L8.5 8.5l.94-2.06 2.06-.94-2.06-.94L8.5 2.5l-.94 2.06-2.06.94zm10 10l.94 2.06.94-2.06 2.06-.94-2.06-.94-.94-2.06-.94 2.06-2.06.94z\"/><path d=\"M17.41 7.96l-1.37-1.37c-.4-.4-.92-.59-1.43-.59-.52 0-1.04.2-1.43.59L10.3 9.45l-7.72 7.72c-.78.78-.78 2.05 0 2.83L4 21.41c.39.39.9.59 1.41.59.51 0 1.02-.2 1.41-.59l7.78-7.78 2.81-2.81c.8-.78.8-2.07 0-2.86zM5.41 20L4 18.59l7.72-7.72 1.47 1.35L5.41 20z\"/>\n",
       "  </svg>\n",
       "      </button>\n",
       "      \n",
       "  <style>\n",
       "    .colab-df-container {\n",
       "      display:flex;\n",
       "      flex-wrap:wrap;\n",
       "      gap: 12px;\n",
       "    }\n",
       "\n",
       "    .colab-df-convert {\n",
       "      background-color: #E8F0FE;\n",
       "      border: none;\n",
       "      border-radius: 50%;\n",
       "      cursor: pointer;\n",
       "      display: none;\n",
       "      fill: #1967D2;\n",
       "      height: 32px;\n",
       "      padding: 0 0 0 0;\n",
       "      width: 32px;\n",
       "    }\n",
       "\n",
       "    .colab-df-convert:hover {\n",
       "      background-color: #E2EBFA;\n",
       "      box-shadow: 0px 1px 2px rgba(60, 64, 67, 0.3), 0px 1px 3px 1px rgba(60, 64, 67, 0.15);\n",
       "      fill: #174EA6;\n",
       "    }\n",
       "\n",
       "    [theme=dark] .colab-df-convert {\n",
       "      background-color: #3B4455;\n",
       "      fill: #D2E3FC;\n",
       "    }\n",
       "\n",
       "    [theme=dark] .colab-df-convert:hover {\n",
       "      background-color: #434B5C;\n",
       "      box-shadow: 0px 1px 3px 1px rgba(0, 0, 0, 0.15);\n",
       "      filter: drop-shadow(0px 1px 2px rgba(0, 0, 0, 0.3));\n",
       "      fill: #FFFFFF;\n",
       "    }\n",
       "  </style>\n",
       "\n",
       "      <script>\n",
       "        const buttonEl =\n",
       "          document.querySelector('#df-001e2e90-c46f-41f2-b883-ad80cc3e1c29 button.colab-df-convert');\n",
       "        buttonEl.style.display =\n",
       "          google.colab.kernel.accessAllowed ? 'block' : 'none';\n",
       "\n",
       "        async function convertToInteractive(key) {\n",
       "          const element = document.querySelector('#df-001e2e90-c46f-41f2-b883-ad80cc3e1c29');\n",
       "          const dataTable =\n",
       "            await google.colab.kernel.invokeFunction('convertToInteractive',\n",
       "                                                     [key], {});\n",
       "          if (!dataTable) return;\n",
       "\n",
       "          const docLinkHtml = 'Like what you see? Visit the ' +\n",
       "            '<a target=\"_blank\" href=https://colab.research.google.com/notebooks/data_table.ipynb>data table notebook</a>'\n",
       "            + ' to learn more about interactive tables.';\n",
       "          element.innerHTML = '';\n",
       "          dataTable['output_type'] = 'display_data';\n",
       "          await google.colab.output.renderOutput(dataTable, element);\n",
       "          const docLink = document.createElement('div');\n",
       "          docLink.innerHTML = docLinkHtml;\n",
       "          element.appendChild(docLink);\n",
       "        }\n",
       "      </script>\n",
       "    </div>\n",
       "  </div>\n",
       "  "
      ],
      "text/plain": [
       "      origin dest op_unique_carrier  flights  avg_arr_delay  delay_percentage\n",
       "11044    COU  DEN                AX        1              1               1.0\n",
       "11097    PIT  JFK                YX        1              1               1.0\n",
       "11080    SGF  DEN                G7        1              1               1.0\n",
       "10721    CRW  ATL                EV        2              2               1.0\n",
       "11081    XNA  ORD                ZW        1              1               1.0\n",
       "...      ...  ...               ...      ...            ...               ...\n",
       "10844    IAH  BNA                YX        2              0               0.0\n",
       "9510     PIE  ORF                G4       11              0               0.0\n",
       "10847    MSP  ALB                DL        2              0               0.0\n",
       "10848    ORD  ORF                UA        2              0               0.0\n",
       "11481    CAE  IAD                EV        1              0               0.0\n",
       "\n",
       "[11482 rows x 6 columns]"
      ]
     },
     "execution_count": 23,
     "metadata": {},
     "output_type": "execute_result"
    }
   ],
   "source": [
    "df_route.sort_values('delay_percentage',ascending=False)"
   ]
  },
  {
   "cell_type": "code",
   "execution_count": 23,
   "id": "24c585a9-26ca-4e52-81ee-31e96b5863dd",
   "metadata": {
    "id": "24c585a9-26ca-4e52-81ee-31e96b5863dd",
    "tags": []
   },
   "outputs": [],
   "source": []
  },
  {
   "cell_type": "code",
   "execution_count": 23,
   "id": "6c49a058-cbef-472b-90f4-8de60de50e0f",
   "metadata": {
    "id": "6c49a058-cbef-472b-90f4-8de60de50e0f"
   },
   "outputs": [],
   "source": []
  },
  {
   "cell_type": "code",
   "execution_count": 24,
   "id": "2b4d1137-e202-4c8b-abe2-07904c74b117",
   "metadata": {
    "id": "2b4d1137-e202-4c8b-abe2-07904c74b117"
   },
   "outputs": [],
   "source": [
    "businest_airport=['ATL', 'ORD', 'DEN', 'LAX', 'CLT', 'PHX', 'SEA', 'SFO', 'IAH', 'LGA']"
   ]
  },
  {
   "cell_type": "code",
   "execution_count": null,
   "id": "2190ad3a-587b-4a5a-98b2-e0018d7aee18",
   "metadata": {
    "id": "2190ad3a-587b-4a5a-98b2-e0018d7aee18"
   },
   "outputs": [],
   "source": [
    "df_SlightlyDelay=df[df['arr_delay_cat']==\"SlightlyDelay\"]\n",
    "df_VeryDelay=df[df['arr_delay_cat']==\"VeryDelay\"]\n"
   ]
  },
  {
   "cell_type": "code",
   "execution_count": null,
   "id": "e65b1f47-eb4a-4505-8830-0f39da73dd51",
   "metadata": {
    "id": "e65b1f47-eb4a-4505-8830-0f39da73dd51"
   },
   "outputs": [],
   "source": [
    "#SlightlyDelay:0-30minutes late\n",
    "#in each group: analyze the airline behavior"
   ]
  },
  {
   "cell_type": "code",
   "execution_count": null,
   "id": "bc58b855-c703-4ccb-8803-ab9f9aeb1dcf",
   "metadata": {
    "colab": {
     "base_uri": "https://localhost:8080/",
     "height": 678
    },
    "id": "bc58b855-c703-4ccb-8803-ab9f9aeb1dcf",
    "outputId": "5d10af61-5872-487c-e948-b34457a3991c"
   },
   "outputs": [
    {
     "data": {
      "text/html": [
       "\n",
       "  <div id=\"df-38765aab-7bf5-4174-8089-4d5e4c4315bd\">\n",
       "    <div class=\"colab-df-container\">\n",
       "      <div>\n",
       "<style scoped>\n",
       "    .dataframe tbody tr th:only-of-type {\n",
       "        vertical-align: middle;\n",
       "    }\n",
       "\n",
       "    .dataframe tbody tr th {\n",
       "        vertical-align: top;\n",
       "    }\n",
       "\n",
       "    .dataframe thead th {\n",
       "        text-align: right;\n",
       "    }\n",
       "</style>\n",
       "<table border=\"1\" class=\"dataframe\">\n",
       "  <thead>\n",
       "    <tr style=\"text-align: right;\">\n",
       "      <th></th>\n",
       "      <th>Unnamed: 0.1</th>\n",
       "      <th>fl_date</th>\n",
       "      <th>mkt_carrier</th>\n",
       "      <th>op_unique_carrier</th>\n",
       "      <th>origin</th>\n",
       "      <th>origin_city_name</th>\n",
       "      <th>dest</th>\n",
       "      <th>dest_city_name</th>\n",
       "      <th>crs_dep_time</th>\n",
       "      <th>dep_time</th>\n",
       "      <th>...</th>\n",
       "      <th>Weather_origin</th>\n",
       "      <th>Weather_destin</th>\n",
       "      <th>Visibility_origin</th>\n",
       "      <th>Visibility_destin</th>\n",
       "      <th>windspeed_origin</th>\n",
       "      <th>windspeed_destin</th>\n",
       "      <th>weekday</th>\n",
       "      <th>arr_delay_hr</th>\n",
       "      <th>arr_delay_cat</th>\n",
       "      <th>is_delayed</th>\n",
       "    </tr>\n",
       "  </thead>\n",
       "  <tbody>\n",
       "    <tr>\n",
       "      <th>4</th>\n",
       "      <td>10602</td>\n",
       "      <td>2018-01-01</td>\n",
       "      <td>NK</td>\n",
       "      <td>NK</td>\n",
       "      <td>MSP</td>\n",
       "      <td>Minneapolis, MN</td>\n",
       "      <td>DTW</td>\n",
       "      <td>Detroit, MI</td>\n",
       "      <td>1830</td>\n",
       "      <td>1912.0</td>\n",
       "      <td>...</td>\n",
       "      <td>cloudy</td>\n",
       "      <td>lightrain</td>\n",
       "      <td>highvisibility</td>\n",
       "      <td>highvisibility</td>\n",
       "      <td>lowwindspeed</td>\n",
       "      <td>lowwindspeed</td>\n",
       "      <td>0</td>\n",
       "      <td>0.25</td>\n",
       "      <td>SlightlyDelay</td>\n",
       "      <td>1</td>\n",
       "    </tr>\n",
       "    <tr>\n",
       "      <th>7</th>\n",
       "      <td>17039</td>\n",
       "      <td>2018-01-01</td>\n",
       "      <td>DL</td>\n",
       "      <td>DL</td>\n",
       "      <td>MSP</td>\n",
       "      <td>Minneapolis, MN</td>\n",
       "      <td>DTW</td>\n",
       "      <td>Detroit, MI</td>\n",
       "      <td>845</td>\n",
       "      <td>904.0</td>\n",
       "      <td>...</td>\n",
       "      <td>cloudy</td>\n",
       "      <td>lightrain</td>\n",
       "      <td>highvisibility</td>\n",
       "      <td>highvisibility</td>\n",
       "      <td>lowwindspeed</td>\n",
       "      <td>lowwindspeed</td>\n",
       "      <td>0</td>\n",
       "      <td>0.12</td>\n",
       "      <td>SlightlyDelay</td>\n",
       "      <td>1</td>\n",
       "    </tr>\n",
       "    <tr>\n",
       "      <th>10</th>\n",
       "      <td>2285</td>\n",
       "      <td>2018-01-01</td>\n",
       "      <td>DL</td>\n",
       "      <td>G7</td>\n",
       "      <td>IND</td>\n",
       "      <td>Indianapolis, IN</td>\n",
       "      <td>DTW</td>\n",
       "      <td>Detroit, MI</td>\n",
       "      <td>1016</td>\n",
       "      <td>1015.0</td>\n",
       "      <td>...</td>\n",
       "      <td>clear</td>\n",
       "      <td>lightrain</td>\n",
       "      <td>mediumvisbility</td>\n",
       "      <td>highvisibility</td>\n",
       "      <td>lowwindspeed</td>\n",
       "      <td>lowwindspeed</td>\n",
       "      <td>0</td>\n",
       "      <td>0.02</td>\n",
       "      <td>SlightlyDelay</td>\n",
       "      <td>1</td>\n",
       "    </tr>\n",
       "    <tr>\n",
       "      <th>13</th>\n",
       "      <td>18559</td>\n",
       "      <td>2018-01-01</td>\n",
       "      <td>DL</td>\n",
       "      <td>YX</td>\n",
       "      <td>IND</td>\n",
       "      <td>Indianapolis, IN</td>\n",
       "      <td>DTW</td>\n",
       "      <td>Detroit, MI</td>\n",
       "      <td>615</td>\n",
       "      <td>613.0</td>\n",
       "      <td>...</td>\n",
       "      <td>clear</td>\n",
       "      <td>lightrain</td>\n",
       "      <td>mediumvisbility</td>\n",
       "      <td>highvisibility</td>\n",
       "      <td>lowwindspeed</td>\n",
       "      <td>lowwindspeed</td>\n",
       "      <td>0</td>\n",
       "      <td>0.27</td>\n",
       "      <td>SlightlyDelay</td>\n",
       "      <td>1</td>\n",
       "    </tr>\n",
       "    <tr>\n",
       "      <th>17</th>\n",
       "      <td>3338</td>\n",
       "      <td>2018-01-01</td>\n",
       "      <td>NK</td>\n",
       "      <td>NK</td>\n",
       "      <td>RSW</td>\n",
       "      <td>Fort Myers, FL</td>\n",
       "      <td>DTW</td>\n",
       "      <td>Detroit, MI</td>\n",
       "      <td>1640</td>\n",
       "      <td>1631.0</td>\n",
       "      <td>...</td>\n",
       "      <td>lightrain</td>\n",
       "      <td>lightrain</td>\n",
       "      <td>highvisibility</td>\n",
       "      <td>highvisibility</td>\n",
       "      <td>lowwindspeed</td>\n",
       "      <td>lowwindspeed</td>\n",
       "      <td>0</td>\n",
       "      <td>0.07</td>\n",
       "      <td>SlightlyDelay</td>\n",
       "      <td>1</td>\n",
       "    </tr>\n",
       "    <tr>\n",
       "      <th>...</th>\n",
       "      <td>...</td>\n",
       "      <td>...</td>\n",
       "      <td>...</td>\n",
       "      <td>...</td>\n",
       "      <td>...</td>\n",
       "      <td>...</td>\n",
       "      <td>...</td>\n",
       "      <td>...</td>\n",
       "      <td>...</td>\n",
       "      <td>...</td>\n",
       "      <td>...</td>\n",
       "      <td>...</td>\n",
       "      <td>...</td>\n",
       "      <td>...</td>\n",
       "      <td>...</td>\n",
       "      <td>...</td>\n",
       "      <td>...</td>\n",
       "      <td>...</td>\n",
       "      <td>...</td>\n",
       "      <td>...</td>\n",
       "      <td>...</td>\n",
       "    </tr>\n",
       "    <tr>\n",
       "      <th>715356</th>\n",
       "      <td>1233875</td>\n",
       "      <td>2019-01-31</td>\n",
       "      <td>HA</td>\n",
       "      <td>EM</td>\n",
       "      <td>HNL</td>\n",
       "      <td>Honolulu, HI</td>\n",
       "      <td>MKK</td>\n",
       "      <td>Hoolehua, HI</td>\n",
       "      <td>1444</td>\n",
       "      <td>1456.0</td>\n",
       "      <td>...</td>\n",
       "      <td>lightrain</td>\n",
       "      <td>lightrain</td>\n",
       "      <td>highvisibility</td>\n",
       "      <td>highvisibility</td>\n",
       "      <td>highwindspeed</td>\n",
       "      <td>highwindspeed</td>\n",
       "      <td>3</td>\n",
       "      <td>0.32</td>\n",
       "      <td>SlightlyDelay</td>\n",
       "      <td>1</td>\n",
       "    </tr>\n",
       "    <tr>\n",
       "      <th>715359</th>\n",
       "      <td>1233868</td>\n",
       "      <td>2019-01-31</td>\n",
       "      <td>HA</td>\n",
       "      <td>EM</td>\n",
       "      <td>HNL</td>\n",
       "      <td>Honolulu, HI</td>\n",
       "      <td>JHM</td>\n",
       "      <td>Kapalua, HI</td>\n",
       "      <td>936</td>\n",
       "      <td>956.0</td>\n",
       "      <td>...</td>\n",
       "      <td>lightrain</td>\n",
       "      <td>lightrain</td>\n",
       "      <td>highvisibility</td>\n",
       "      <td>highvisibility</td>\n",
       "      <td>highwindspeed</td>\n",
       "      <td>lowwindspeed</td>\n",
       "      <td>3</td>\n",
       "      <td>0.43</td>\n",
       "      <td>SlightlyDelay</td>\n",
       "      <td>1</td>\n",
       "    </tr>\n",
       "    <tr>\n",
       "      <th>715360</th>\n",
       "      <td>1233873</td>\n",
       "      <td>2019-01-31</td>\n",
       "      <td>HA</td>\n",
       "      <td>EM</td>\n",
       "      <td>HNL</td>\n",
       "      <td>Honolulu, HI</td>\n",
       "      <td>JHM</td>\n",
       "      <td>Kapalua, HI</td>\n",
       "      <td>1226</td>\n",
       "      <td>1214.0</td>\n",
       "      <td>...</td>\n",
       "      <td>lightrain</td>\n",
       "      <td>lightrain</td>\n",
       "      <td>highvisibility</td>\n",
       "      <td>highvisibility</td>\n",
       "      <td>highwindspeed</td>\n",
       "      <td>lowwindspeed</td>\n",
       "      <td>3</td>\n",
       "      <td>0.18</td>\n",
       "      <td>SlightlyDelay</td>\n",
       "      <td>1</td>\n",
       "    </tr>\n",
       "    <tr>\n",
       "      <th>715363</th>\n",
       "      <td>1233871</td>\n",
       "      <td>2019-01-31</td>\n",
       "      <td>HA</td>\n",
       "      <td>EM</td>\n",
       "      <td>HNL</td>\n",
       "      <td>Honolulu, HI</td>\n",
       "      <td>LNY</td>\n",
       "      <td>Lanai, HI</td>\n",
       "      <td>1101</td>\n",
       "      <td>1134.0</td>\n",
       "      <td>...</td>\n",
       "      <td>lightrain</td>\n",
       "      <td>lightrain</td>\n",
       "      <td>highvisibility</td>\n",
       "      <td>highvisibility</td>\n",
       "      <td>highwindspeed</td>\n",
       "      <td>lowwindspeed</td>\n",
       "      <td>3</td>\n",
       "      <td>0.50</td>\n",
       "      <td>SlightlyDelay</td>\n",
       "      <td>1</td>\n",
       "    </tr>\n",
       "    <tr>\n",
       "      <th>715366</th>\n",
       "      <td>1233885</td>\n",
       "      <td>2019-01-31</td>\n",
       "      <td>HA</td>\n",
       "      <td>EM</td>\n",
       "      <td>HNL</td>\n",
       "      <td>Honolulu, HI</td>\n",
       "      <td>LNY</td>\n",
       "      <td>Lanai, HI</td>\n",
       "      <td>1846</td>\n",
       "      <td>1853.0</td>\n",
       "      <td>...</td>\n",
       "      <td>lightrain</td>\n",
       "      <td>lightrain</td>\n",
       "      <td>highvisibility</td>\n",
       "      <td>highvisibility</td>\n",
       "      <td>highwindspeed</td>\n",
       "      <td>lowwindspeed</td>\n",
       "      <td>3</td>\n",
       "      <td>0.10</td>\n",
       "      <td>SlightlyDelay</td>\n",
       "      <td>1</td>\n",
       "    </tr>\n",
       "  </tbody>\n",
       "</table>\n",
       "<p>152101 rows × 33 columns</p>\n",
       "</div>\n",
       "      <button class=\"colab-df-convert\" onclick=\"convertToInteractive('df-38765aab-7bf5-4174-8089-4d5e4c4315bd')\"\n",
       "              title=\"Convert this dataframe to an interactive table.\"\n",
       "              style=\"display:none;\">\n",
       "        \n",
       "  <svg xmlns=\"http://www.w3.org/2000/svg\" height=\"24px\"viewBox=\"0 0 24 24\"\n",
       "       width=\"24px\">\n",
       "    <path d=\"M0 0h24v24H0V0z\" fill=\"none\"/>\n",
       "    <path d=\"M18.56 5.44l.94 2.06.94-2.06 2.06-.94-2.06-.94-.94-2.06-.94 2.06-2.06.94zm-11 1L8.5 8.5l.94-2.06 2.06-.94-2.06-.94L8.5 2.5l-.94 2.06-2.06.94zm10 10l.94 2.06.94-2.06 2.06-.94-2.06-.94-.94-2.06-.94 2.06-2.06.94z\"/><path d=\"M17.41 7.96l-1.37-1.37c-.4-.4-.92-.59-1.43-.59-.52 0-1.04.2-1.43.59L10.3 9.45l-7.72 7.72c-.78.78-.78 2.05 0 2.83L4 21.41c.39.39.9.59 1.41.59.51 0 1.02-.2 1.41-.59l7.78-7.78 2.81-2.81c.8-.78.8-2.07 0-2.86zM5.41 20L4 18.59l7.72-7.72 1.47 1.35L5.41 20z\"/>\n",
       "  </svg>\n",
       "      </button>\n",
       "      \n",
       "  <style>\n",
       "    .colab-df-container {\n",
       "      display:flex;\n",
       "      flex-wrap:wrap;\n",
       "      gap: 12px;\n",
       "    }\n",
       "\n",
       "    .colab-df-convert {\n",
       "      background-color: #E8F0FE;\n",
       "      border: none;\n",
       "      border-radius: 50%;\n",
       "      cursor: pointer;\n",
       "      display: none;\n",
       "      fill: #1967D2;\n",
       "      height: 32px;\n",
       "      padding: 0 0 0 0;\n",
       "      width: 32px;\n",
       "    }\n",
       "\n",
       "    .colab-df-convert:hover {\n",
       "      background-color: #E2EBFA;\n",
       "      box-shadow: 0px 1px 2px rgba(60, 64, 67, 0.3), 0px 1px 3px 1px rgba(60, 64, 67, 0.15);\n",
       "      fill: #174EA6;\n",
       "    }\n",
       "\n",
       "    [theme=dark] .colab-df-convert {\n",
       "      background-color: #3B4455;\n",
       "      fill: #D2E3FC;\n",
       "    }\n",
       "\n",
       "    [theme=dark] .colab-df-convert:hover {\n",
       "      background-color: #434B5C;\n",
       "      box-shadow: 0px 1px 3px 1px rgba(0, 0, 0, 0.15);\n",
       "      filter: drop-shadow(0px 1px 2px rgba(0, 0, 0, 0.3));\n",
       "      fill: #FFFFFF;\n",
       "    }\n",
       "  </style>\n",
       "\n",
       "      <script>\n",
       "        const buttonEl =\n",
       "          document.querySelector('#df-38765aab-7bf5-4174-8089-4d5e4c4315bd button.colab-df-convert');\n",
       "        buttonEl.style.display =\n",
       "          google.colab.kernel.accessAllowed ? 'block' : 'none';\n",
       "\n",
       "        async function convertToInteractive(key) {\n",
       "          const element = document.querySelector('#df-38765aab-7bf5-4174-8089-4d5e4c4315bd');\n",
       "          const dataTable =\n",
       "            await google.colab.kernel.invokeFunction('convertToInteractive',\n",
       "                                                     [key], {});\n",
       "          if (!dataTable) return;\n",
       "\n",
       "          const docLinkHtml = 'Like what you see? Visit the ' +\n",
       "            '<a target=\"_blank\" href=https://colab.research.google.com/notebooks/data_table.ipynb>data table notebook</a>'\n",
       "            + ' to learn more about interactive tables.';\n",
       "          element.innerHTML = '';\n",
       "          dataTable['output_type'] = 'display_data';\n",
       "          await google.colab.output.renderOutput(dataTable, element);\n",
       "          const docLink = document.createElement('div');\n",
       "          docLink.innerHTML = docLinkHtml;\n",
       "          element.appendChild(docLink);\n",
       "        }\n",
       "      </script>\n",
       "    </div>\n",
       "  </div>\n",
       "  "
      ],
      "text/plain": [
       "        Unnamed: 0.1    fl_date mkt_carrier op_unique_carrier origin  \\\n",
       "4              10602 2018-01-01          NK                NK    MSP   \n",
       "7              17039 2018-01-01          DL                DL    MSP   \n",
       "10              2285 2018-01-01          DL                G7    IND   \n",
       "13             18559 2018-01-01          DL                YX    IND   \n",
       "17              3338 2018-01-01          NK                NK    RSW   \n",
       "...              ...        ...         ...               ...    ...   \n",
       "715356       1233875 2019-01-31          HA                EM    HNL   \n",
       "715359       1233868 2019-01-31          HA                EM    HNL   \n",
       "715360       1233873 2019-01-31          HA                EM    HNL   \n",
       "715363       1233871 2019-01-31          HA                EM    HNL   \n",
       "715366       1233885 2019-01-31          HA                EM    HNL   \n",
       "\n",
       "        origin_city_name dest dest_city_name  crs_dep_time  dep_time  ...  \\\n",
       "4        Minneapolis, MN  DTW    Detroit, MI          1830    1912.0  ...   \n",
       "7        Minneapolis, MN  DTW    Detroit, MI           845     904.0  ...   \n",
       "10      Indianapolis, IN  DTW    Detroit, MI          1016    1015.0  ...   \n",
       "13      Indianapolis, IN  DTW    Detroit, MI           615     613.0  ...   \n",
       "17        Fort Myers, FL  DTW    Detroit, MI          1640    1631.0  ...   \n",
       "...                  ...  ...            ...           ...       ...  ...   \n",
       "715356      Honolulu, HI  MKK   Hoolehua, HI          1444    1456.0  ...   \n",
       "715359      Honolulu, HI  JHM    Kapalua, HI           936     956.0  ...   \n",
       "715360      Honolulu, HI  JHM    Kapalua, HI          1226    1214.0  ...   \n",
       "715363      Honolulu, HI  LNY      Lanai, HI          1101    1134.0  ...   \n",
       "715366      Honolulu, HI  LNY      Lanai, HI          1846    1853.0  ...   \n",
       "\n",
       "        Weather_origin  Weather_destin  Visibility_origin  Visibility_destin  \\\n",
       "4               cloudy       lightrain     highvisibility     highvisibility   \n",
       "7               cloudy       lightrain     highvisibility     highvisibility   \n",
       "10               clear       lightrain    mediumvisbility     highvisibility   \n",
       "13               clear       lightrain    mediumvisbility     highvisibility   \n",
       "17           lightrain       lightrain     highvisibility     highvisibility   \n",
       "...                ...             ...                ...                ...   \n",
       "715356       lightrain       lightrain     highvisibility     highvisibility   \n",
       "715359       lightrain       lightrain     highvisibility     highvisibility   \n",
       "715360       lightrain       lightrain     highvisibility     highvisibility   \n",
       "715363       lightrain       lightrain     highvisibility     highvisibility   \n",
       "715366       lightrain       lightrain     highvisibility     highvisibility   \n",
       "\n",
       "        windspeed_origin  windspeed_destin  weekday  arr_delay_hr  \\\n",
       "4           lowwindspeed      lowwindspeed        0          0.25   \n",
       "7           lowwindspeed      lowwindspeed        0          0.12   \n",
       "10          lowwindspeed      lowwindspeed        0          0.02   \n",
       "13          lowwindspeed      lowwindspeed        0          0.27   \n",
       "17          lowwindspeed      lowwindspeed        0          0.07   \n",
       "...                  ...               ...      ...           ...   \n",
       "715356     highwindspeed     highwindspeed        3          0.32   \n",
       "715359     highwindspeed      lowwindspeed        3          0.43   \n",
       "715360     highwindspeed      lowwindspeed        3          0.18   \n",
       "715363     highwindspeed      lowwindspeed        3          0.50   \n",
       "715366     highwindspeed      lowwindspeed        3          0.10   \n",
       "\n",
       "        arr_delay_cat  is_delayed  \n",
       "4       SlightlyDelay           1  \n",
       "7       SlightlyDelay           1  \n",
       "10      SlightlyDelay           1  \n",
       "13      SlightlyDelay           1  \n",
       "17      SlightlyDelay           1  \n",
       "...               ...         ...  \n",
       "715356  SlightlyDelay           1  \n",
       "715359  SlightlyDelay           1  \n",
       "715360  SlightlyDelay           1  \n",
       "715363  SlightlyDelay           1  \n",
       "715366  SlightlyDelay           1  \n",
       "\n",
       "[152101 rows x 33 columns]"
      ]
     },
     "execution_count": 56,
     "metadata": {},
     "output_type": "execute_result"
    }
   ],
   "source": [
    "df_SlightlyDelay"
   ]
  },
  {
   "cell_type": "code",
   "execution_count": null,
   "id": "0739b714-d71e-491e-ab57-86ffc3748d19",
   "metadata": {
    "id": "0739b714-d71e-491e-ab57-86ffc3748d19"
   },
   "outputs": [],
   "source": [
    "# df_arrline_dep_delay = pd.DataFrame({'arrline_dep_delay' : df.groupby([ 'op_unique_carrier'] )['dep_delay'].mean()}).reset_index()\n",
    "# df_arrline_arr_delay = pd.DataFrame({'arrline_arr_delay' : df.groupby([ 'op_unique_carrier'] )['arr_delay'].mean()}).reset_index()\n"
   ]
  },
  {
   "cell_type": "code",
   "execution_count": null,
   "id": "56de9d42-32db-4eef-902b-ce51a58b5bad",
   "metadata": {
    "id": "56de9d42-32db-4eef-902b-ce51a58b5bad"
   },
   "outputs": [],
   "source": [
    "# df_airline=df_arrline_dep_delay.merge(df_arrline_arr_delay,on='op_unique_carrier')"
   ]
  },
  {
   "cell_type": "code",
   "execution_count": null,
   "id": "907b9034-7b14-4f9f-8bb0-edc10015c4a9",
   "metadata": {
    "id": "907b9034-7b14-4f9f-8bb0-edc10015c4a9"
   },
   "outputs": [],
   "source": [
    "# df_dest_arr_delay = pd.DataFrame({'dest_arr_delay' : df.groupby([ 'dest'] )['arr_delay'].mean()}).reset_index()\n",
    "# df_origin_dep_delay = pd.DataFrame({'origin_dep_delay' : df.groupby([ 'origin'] )['dep_delay'].mean()}).reset_index()\n"
   ]
  },
  {
   "cell_type": "code",
   "execution_count": 10,
   "id": "4wmuAif0oirF",
   "metadata": {
    "id": "4wmuAif0oirF"
   },
   "outputs": [],
   "source": [
    "businest_airport=['ATL', 'ORD', 'DEN', 'LAX', 'CLT', 'PHX', 'SEA', 'SFO', 'IAH', 'LGA']"
   ]
  },
  {
   "cell_type": "code",
   "execution_count": null,
   "id": "91395d6a-a590-4673-b32a-1d6120bc1b5c",
   "metadata": {
    "id": "91395d6a-a590-4673-b32a-1d6120bc1b5c"
   },
   "outputs": [],
   "source": [
    "df=df.merge(df_airline,on='op_unique_carrier')"
   ]
  },
  {
   "cell_type": "code",
   "execution_count": null,
   "id": "18f412d5-03be-4927-b61b-3bfd9dae13fb",
   "metadata": {
    "id": "18f412d5-03be-4927-b61b-3bfd9dae13fb"
   },
   "outputs": [],
   "source": [
    "df=df.merge(df_dest_arr_delay,on='dest')"
   ]
  },
  {
   "cell_type": "code",
   "execution_count": null,
   "id": "3a3d4572-668f-4ee4-b687-04bad4bc1db1",
   "metadata": {
    "id": "3a3d4572-668f-4ee4-b687-04bad4bc1db1"
   },
   "outputs": [],
   "source": [
    "df=df.merge(df_origin_dep_delay,on='origin')"
   ]
  },
  {
   "cell_type": "code",
   "execution_count": null,
   "id": "5fe24492-6999-4475-999f-b48434e526bb",
   "metadata": {
    "colab": {
     "base_uri": "https://localhost:8080/"
    },
    "id": "5fe24492-6999-4475-999f-b48434e526bb",
    "outputId": "d49429ca-ad34-4be0-f20b-21a82c38cee1"
   },
   "outputs": [
    {
     "data": {
      "text/plain": [
       "Index(['Unnamed: 0.1', 'fl_date', 'mkt_carrier', 'op_unique_carrier', 'origin',\n",
       "       'origin_city_name', 'dest', 'dest_city_name', 'crs_dep_time',\n",
       "       'dep_time', 'dep_delay', 'crs_arr_time', 'arr_time', 'arr_delay',\n",
       "       'cancelled', 'diverted', 'crs_elapsed_time', 'actual_elapsed_time',\n",
       "       'air_time', 'flights', 'distance', 'arr_time_time', 'new',\n",
       "       'Weather_origin', 'Weather_destin', 'Visibility_origin',\n",
       "       'Visibility_destin', 'windspeed_origin', 'windspeed_destin', 'weekday',\n",
       "       'arr_delay_hr', 'arr_delay_cat', 'is_delayed', 'arrline_dep_delay',\n",
       "       'arrline_arr_delay', 'dest_arr_delay', 'origin_dep_delay'],\n",
       "      dtype='object')"
      ]
     },
     "execution_count": 63,
     "metadata": {},
     "output_type": "execute_result"
    }
   ],
   "source": [
    "df.columns"
   ]
  },
  {
   "cell_type": "markdown",
   "id": "0bb7b1db-3dd5-480a-9118-274088b435af",
   "metadata": {
    "id": "0bb7b1db-3dd5-480a-9118-274088b435af"
   },
   "source": [
    "### delay by time"
   ]
  },
  {
   "cell_type": "markdown",
   "id": "a4cf09a3-6995-4643-971e-aba2ba83b29c",
   "metadata": {
    "id": "a4cf09a3-6995-4643-971e-aba2ba83b29c",
    "jp-MarkdownHeadingCollapsed": true,
    "tags": []
   },
   "source": [
    "#### b.1. categorize arr_delay by day of week:\n",
    "* are flights tends to delay during the weekdays or weekends?"
   ]
  },
  {
   "cell_type": "code",
   "execution_count": 8,
   "id": "63a3949e-c977-445b-b9bf-9de62e027831",
   "metadata": {
    "colab": {
     "base_uri": "https://localhost:8080/"
    },
    "id": "63a3949e-c977-445b-b9bf-9de62e027831",
    "outputId": "e0d19658-1127-4600-d363-d39e1f497a57"
   },
   "outputs": [
    {
     "data": {
      "text/plain": [
       "array([0, 5, 6, 1, 2, 3, 4])"
      ]
     },
     "execution_count": 8,
     "metadata": {},
     "output_type": "execute_result"
    }
   ],
   "source": [
    "df['weekday'].unique()"
   ]
  },
  {
   "cell_type": "code",
   "execution_count": null,
   "id": "d313fcd9-9130-4b02-9309-1a3ddb240130",
   "metadata": {
    "id": "d313fcd9-9130-4b02-9309-1a3ddb240130"
   },
   "outputs": [],
   "source": [
    "ind=df[df['weekday'].isin([1,2,3,4,0])].index\n",
    "df.loc[ind,'DAY_OF_WEEK']=\"WeekDay\""
   ]
  },
  {
   "cell_type": "code",
   "execution_count": null,
   "id": "3b63ebb8-d051-41c8-a160-0dfa6dbb32df",
   "metadata": {
    "id": "3b63ebb8-d051-41c8-a160-0dfa6dbb32df"
   },
   "outputs": [],
   "source": [
    "ind=df[df['weekday'].isin([5,6])].index\n",
    "df.loc[ind,'DAY_OF_WEEK']=\"WeekEnd\""
   ]
  },
  {
   "cell_type": "code",
   "execution_count": null,
   "id": "679dd7f7-beef-48e1-b2a5-1f65c5efc316",
   "metadata": {
    "id": "679dd7f7-beef-48e1-b2a5-1f65c5efc316"
   },
   "outputs": [],
   "source": [
    "dayofweek = df[['DAY_OF_WEEK',\n",
    "                    'is_delayed']].groupby('DAY_OF_WEEK').sum().sort_values(by='is_delayed',ascending=False)\n"
   ]
  },
  {
   "cell_type": "code",
   "execution_count": null,
   "id": "cfef6e8b-7ff1-4508-9d76-6eea01bef43a",
   "metadata": {
    "colab": {
     "base_uri": "https://localhost:8080/"
    },
    "id": "cfef6e8b-7ff1-4508-9d76-6eea01bef43a",
    "outputId": "9f24a699-8311-4a7f-fefb-2464b9c75e13"
   },
   "outputs": [
    {
     "name": "stdout",
     "output_type": "stream",
     "text": [
      ">> Delayed flights by dayofweek<<\n",
      "             is_delayed\n",
      "DAY_OF_WEEK            \n",
      "WeekDay          183068\n",
      "WeekEnd           49860\n"
     ]
    }
   ],
   "source": [
    "print('>> Delayed flights by dayofweek<<')\n",
    "print(dayofweek)"
   ]
  },
  {
   "cell_type": "code",
   "execution_count": null,
   "id": "296a8544-e12e-4328-8204-ffbd5c405e45",
   "metadata": {
    "colab": {
     "base_uri": "https://localhost:8080/",
     "height": 143
    },
    "id": "296a8544-e12e-4328-8204-ffbd5c405e45",
    "outputId": "bbd68ee8-dd6d-48c8-9e36-c08a70922500"
   },
   "outputs": [
    {
     "data": {
      "text/html": [
       "\n",
       "  <div id=\"df-c0345df0-0042-41d0-9fa2-5dda85927749\">\n",
       "    <div class=\"colab-df-container\">\n",
       "      <div>\n",
       "<style scoped>\n",
       "    .dataframe tbody tr th:only-of-type {\n",
       "        vertical-align: middle;\n",
       "    }\n",
       "\n",
       "    .dataframe tbody tr th {\n",
       "        vertical-align: top;\n",
       "    }\n",
       "\n",
       "    .dataframe thead th {\n",
       "        text-align: right;\n",
       "    }\n",
       "</style>\n",
       "<table border=\"1\" class=\"dataframe\">\n",
       "  <thead>\n",
       "    <tr style=\"text-align: right;\">\n",
       "      <th></th>\n",
       "      <th>is_delayed</th>\n",
       "    </tr>\n",
       "    <tr>\n",
       "      <th>DAY_OF_WEEK</th>\n",
       "      <th></th>\n",
       "    </tr>\n",
       "  </thead>\n",
       "  <tbody>\n",
       "    <tr>\n",
       "      <th>WeekDay</th>\n",
       "      <td>183068</td>\n",
       "    </tr>\n",
       "    <tr>\n",
       "      <th>WeekEnd</th>\n",
       "      <td>49860</td>\n",
       "    </tr>\n",
       "  </tbody>\n",
       "</table>\n",
       "</div>\n",
       "      <button class=\"colab-df-convert\" onclick=\"convertToInteractive('df-c0345df0-0042-41d0-9fa2-5dda85927749')\"\n",
       "              title=\"Convert this dataframe to an interactive table.\"\n",
       "              style=\"display:none;\">\n",
       "        \n",
       "  <svg xmlns=\"http://www.w3.org/2000/svg\" height=\"24px\"viewBox=\"0 0 24 24\"\n",
       "       width=\"24px\">\n",
       "    <path d=\"M0 0h24v24H0V0z\" fill=\"none\"/>\n",
       "    <path d=\"M18.56 5.44l.94 2.06.94-2.06 2.06-.94-2.06-.94-.94-2.06-.94 2.06-2.06.94zm-11 1L8.5 8.5l.94-2.06 2.06-.94-2.06-.94L8.5 2.5l-.94 2.06-2.06.94zm10 10l.94 2.06.94-2.06 2.06-.94-2.06-.94-.94-2.06-.94 2.06-2.06.94z\"/><path d=\"M17.41 7.96l-1.37-1.37c-.4-.4-.92-.59-1.43-.59-.52 0-1.04.2-1.43.59L10.3 9.45l-7.72 7.72c-.78.78-.78 2.05 0 2.83L4 21.41c.39.39.9.59 1.41.59.51 0 1.02-.2 1.41-.59l7.78-7.78 2.81-2.81c.8-.78.8-2.07 0-2.86zM5.41 20L4 18.59l7.72-7.72 1.47 1.35L5.41 20z\"/>\n",
       "  </svg>\n",
       "      </button>\n",
       "      \n",
       "  <style>\n",
       "    .colab-df-container {\n",
       "      display:flex;\n",
       "      flex-wrap:wrap;\n",
       "      gap: 12px;\n",
       "    }\n",
       "\n",
       "    .colab-df-convert {\n",
       "      background-color: #E8F0FE;\n",
       "      border: none;\n",
       "      border-radius: 50%;\n",
       "      cursor: pointer;\n",
       "      display: none;\n",
       "      fill: #1967D2;\n",
       "      height: 32px;\n",
       "      padding: 0 0 0 0;\n",
       "      width: 32px;\n",
       "    }\n",
       "\n",
       "    .colab-df-convert:hover {\n",
       "      background-color: #E2EBFA;\n",
       "      box-shadow: 0px 1px 2px rgba(60, 64, 67, 0.3), 0px 1px 3px 1px rgba(60, 64, 67, 0.15);\n",
       "      fill: #174EA6;\n",
       "    }\n",
       "\n",
       "    [theme=dark] .colab-df-convert {\n",
       "      background-color: #3B4455;\n",
       "      fill: #D2E3FC;\n",
       "    }\n",
       "\n",
       "    [theme=dark] .colab-df-convert:hover {\n",
       "      background-color: #434B5C;\n",
       "      box-shadow: 0px 1px 3px 1px rgba(0, 0, 0, 0.15);\n",
       "      filter: drop-shadow(0px 1px 2px rgba(0, 0, 0, 0.3));\n",
       "      fill: #FFFFFF;\n",
       "    }\n",
       "  </style>\n",
       "\n",
       "      <script>\n",
       "        const buttonEl =\n",
       "          document.querySelector('#df-c0345df0-0042-41d0-9fa2-5dda85927749 button.colab-df-convert');\n",
       "        buttonEl.style.display =\n",
       "          google.colab.kernel.accessAllowed ? 'block' : 'none';\n",
       "\n",
       "        async function convertToInteractive(key) {\n",
       "          const element = document.querySelector('#df-c0345df0-0042-41d0-9fa2-5dda85927749');\n",
       "          const dataTable =\n",
       "            await google.colab.kernel.invokeFunction('convertToInteractive',\n",
       "                                                     [key], {});\n",
       "          if (!dataTable) return;\n",
       "\n",
       "          const docLinkHtml = 'Like what you see? Visit the ' +\n",
       "            '<a target=\"_blank\" href=https://colab.research.google.com/notebooks/data_table.ipynb>data table notebook</a>'\n",
       "            + ' to learn more about interactive tables.';\n",
       "          element.innerHTML = '';\n",
       "          dataTable['output_type'] = 'display_data';\n",
       "          await google.colab.output.renderOutput(dataTable, element);\n",
       "          const docLink = document.createElement('div');\n",
       "          docLink.innerHTML = docLinkHtml;\n",
       "          element.appendChild(docLink);\n",
       "        }\n",
       "      </script>\n",
       "    </div>\n",
       "  </div>\n",
       "  "
      ],
      "text/plain": [
       "             is_delayed\n",
       "DAY_OF_WEEK            \n",
       "WeekDay          183068\n",
       "WeekEnd           49860"
      ]
     },
     "execution_count": 69,
     "metadata": {},
     "output_type": "execute_result"
    }
   ],
   "source": [
    "dayofweek"
   ]
  },
  {
   "cell_type": "code",
   "execution_count": null,
   "id": "cdc7e881-4873-4336-aeda-bff9473d4b8e",
   "metadata": {
    "colab": {
     "base_uri": "https://localhost:8080/",
     "height": 317
    },
    "id": "cdc7e881-4873-4336-aeda-bff9473d4b8e",
    "outputId": "bae15a33-6131-4902-c377-ae785b67232d"
   },
   "outputs": [
    {
     "data": {
      "image/png": "[encoded data removed]",
      "text/plain": [
       "<Figure size 432x288 with 1 Axes>"
      ]
     },
     "metadata": {
      "needs_background": "light"
     },
     "output_type": "display_data"
    }
   ],
   "source": [
    "dayofweek.plot(kind='bar')\n",
    "\n",
    "plt.legend()\n",
    "plt.show()"
   ]
  },
  {
   "cell_type": "markdown",
   "id": "0e1c88c1-694a-406b-8005-1380d03563fd",
   "metadata": {
    "id": "0e1c88c1-694a-406b-8005-1380d03563fd",
    "tags": []
   },
   "source": [
    "#### b.2. creating time block desination"
   ]
  },
  {
   "cell_type": "code",
   "execution_count": 116,
   "id": "fd635e65-0b4a-4440-8755-bbbbf5446db2",
   "metadata": {
    "id": "fd635e65-0b4a-4440-8755-bbbbf5446db2"
   },
   "outputs": [],
   "source": [
    "def arr_time(x):\n",
    "    if x>=700 and x<=1200:\n",
    "        return \"Morning\"\n",
    "    elif x>1200 and x<=1800:\n",
    "        return \"Afternoon\"\n",
    "    elif x>1800 and x<=2300:\n",
    "        return \"Evening\"\n",
    "    elif (x>2300 and x<=2400) or (x<700):\n",
    "        return \"RedEye\"\n",
    "    "
   ]
  },
  {
   "cell_type": "code",
   "execution_count": null,
   "id": "4ZRmI6Xkx4Af",
   "metadata": {
    "id": "4ZRmI6Xkx4Af"
   },
   "outputs": [],
   "source": []
  },
  {
   "cell_type": "code",
   "execution_count": 117,
   "id": "cea5d863-6200-443d-bb99-7a0b9e14263b",
   "metadata": {
    "id": "cea5d863-6200-443d-bb99-7a0b9e14263b"
   },
   "outputs": [],
   "source": [
    "# We can create ARR_TIME_BLOCK.\n",
    "df['crs_arr_timeblk'] = df['crs_arr_time'].apply(lambda x :arr_time(x))"
   ]
  },
  {
   "cell_type": "code",
   "execution_count": 118,
   "id": "3bf6680c-b269-4eca-96ff-243dcb54ab2d",
   "metadata": {
    "id": "3bf6680c-b269-4eca-96ff-243dcb54ab2d"
   },
   "outputs": [],
   "source": [
    "# We can create DEP_TIME_BLOCK.\n",
    "df['crs_dep_timeblk'] = df['crs_dep_time'].apply(lambda x :arr_time(x))"
   ]
  },
  {
   "cell_type": "code",
   "execution_count": 119,
   "id": "eabb015b-d3f8-48a6-9791-8b755afd1b1e",
   "metadata": {
    "id": "eabb015b-d3f8-48a6-9791-8b755afd1b1e"
   },
   "outputs": [],
   "source": [
    "# df=df.merge(avg_dep_dely_timeblk,on='dep_timeblk')"
   ]
  },
  {
   "cell_type": "code",
   "execution_count": 49,
   "id": "7d273404-c6f2-494b-a4d3-c044671c1d44",
   "metadata": {
    "id": "7d273404-c6f2-494b-a4d3-c044671c1d44"
   },
   "outputs": [],
   "source": [
    "dfff=df[df['is_delayed']==1]"
   ]
  },
  {
   "cell_type": "code",
   "execution_count": null,
   "id": "42e9b4b0-2835-4dfb-88a5-8d2b366a5041",
   "metadata": {
    "id": "42e9b4b0-2835-4dfb-88a5-8d2b366a5041"
   },
   "outputs": [],
   "source": []
  },
  {
   "cell_type": "code",
   "execution_count": null,
   "id": "c48OH1hGvbb_",
   "metadata": {
    "id": "c48OH1hGvbb_"
   },
   "outputs": [],
   "source": []
  },
  {
   "cell_type": "code",
   "execution_count": 50,
   "id": "KCYSlr8iuNpX",
   "metadata": {
    "id": "KCYSlr8iuNpX"
   },
   "outputs": [],
   "source": [
    "df_rounte_day_timeblk_airline_avg_arr=df.groupby(['origin','dest','crs_arr_timeblk','op_unique_carrier']).agg({'arr_delay':'mean',\n",
    "                      }).reset_index()"
   ]
  },
  {
   "cell_type": "code",
   "execution_count": 51,
   "id": "_lHPijfjvEBx",
   "metadata": {
    "id": "_lHPijfjvEBx"
   },
   "outputs": [],
   "source": [
    "df_rounte_day_timeblk_airline_avg_arr=df_rounte_day_timeblk_airline_avg_arr.rename(columns={'arr_delay':'route_day_timeblk_airline_avg_arr'})"
   ]
  },
  {
   "cell_type": "code",
   "execution_count": null,
   "id": "2162d839-1c96-4e5a-8f14-30e0bac47355",
   "metadata": {},
   "outputs": [],
   "source": []
  },
  {
   "cell_type": "code",
   "execution_count": 120,
   "id": "530a51f0-8b73-421a-933f-55977f5153fd",
   "metadata": {},
   "outputs": [],
   "source": [
    "df_rounte_day_timeblk_airline_arr=df.groupby(['origin','dest','crs_arr_timeblk','op_unique_carrier']).agg({'arr_delay':'mean',\n",
    "                      }).reset_index().rename(columns={'arr_delay':'route_day_timeblk_airline_avg_arr'})"
   ]
  },
  {
   "cell_type": "code",
   "execution_count": null,
   "id": "f8848c3d-92f8-4fb5-99e3-12b236821457",
   "metadata": {},
   "outputs": [],
   "source": []
  },
  {
   "cell_type": "code",
   "execution_count": null,
   "id": "docHN88lm8V5",
   "metadata": {
    "id": "docHN88lm8V5"
   },
   "outputs": [],
   "source": []
  },
  {
   "cell_type": "code",
   "execution_count": 121,
   "id": "0Lpb9qoS0JhC",
   "metadata": {
    "id": "0Lpb9qoS0JhC"
   },
   "outputs": [],
   "source": [
    "df_rounte_day_timeblk_airline_dep=df.groupby(['origin','dest','crs_dep_timeblk','op_unique_carrier']).agg({'dep_delay':'mean',}).reset_index().rename(columns={'dep_delay':'route_day_timeblk_airline_avg_dep'})"
   ]
  },
  {
   "cell_type": "code",
   "execution_count": null,
   "id": "-XOCDNxCy-_D",
   "metadata": {
    "id": "-XOCDNxCy-_D"
   },
   "outputs": [],
   "source": []
  },
  {
   "cell_type": "code",
   "execution_count": null,
   "id": "uMquwkgVm84V",
   "metadata": {
    "id": "uMquwkgVm84V"
   },
   "outputs": [],
   "source": []
  },
  {
   "cell_type": "code",
   "execution_count": 122,
   "id": "jxhFYgW30q1m",
   "metadata": {
    "id": "jxhFYgW30q1m"
   },
   "outputs": [],
   "source": [
    "df=df.merge(df_rounte_day_timeblk_airline_arr,on=['origin','dest','crs_arr_timeblk','op_unique_carrier'])"
   ]
  },
  {
   "cell_type": "code",
   "execution_count": 123,
   "id": "coQhzD0r0zof",
   "metadata": {
    "id": "coQhzD0r0zof"
   },
   "outputs": [],
   "source": [
    "df=df.merge(df_rounte_day_timeblk_airline_dep,on=['origin','dest','crs_dep_timeblk','op_unique_carrier'])"
   ]
  },
  {
   "cell_type": "code",
   "execution_count": null,
   "id": "eXU4NJy-_KXt",
   "metadata": {
    "id": "eXU4NJy-_KXt"
   },
   "outputs": [],
   "source": []
  },
  {
   "cell_type": "code",
   "execution_count": null,
   "id": "d0b4acf6-b76c-4b71-85de-dda7e5fcc4cf",
   "metadata": {},
   "outputs": [],
   "source": []
  },
  {
   "cell_type": "code",
   "execution_count": null,
   "id": "2ef482f1-26d9-4a8e-9e6e-d12311c02990",
   "metadata": {},
   "outputs": [],
   "source": []
  },
  {
   "cell_type": "markdown",
   "id": "7017abf2-fec0-403e-848f-9f1c516e2482",
   "metadata": {
    "id": "7017abf2-fec0-403e-848f-9f1c516e2482",
    "tags": []
   },
   "source": [
    "### 3.Delay by city"
   ]
  },
  {
   "cell_type": "code",
   "execution_count": null,
   "id": "ae268eef-2122-4de1-85c6-fdbb6569ddf6",
   "metadata": {
    "id": "ae268eef-2122-4de1-85c6-fdbb6569ddf6"
   },
   "outputs": [],
   "source": [
    "df_dest = df[['dest',\n",
    "              'is_delayed']].groupby('dest').sum().sort_values(by='is_delayed',ascending=False).reset_index()\n",
    "df_dest['percentage'] = df_dest['is_delayed']/(df_dest['is_delayed'].sum())\n"
   ]
  },
  {
   "cell_type": "code",
   "execution_count": null,
   "id": "4096f584-4564-4c80-88d2-61f5b64b6dd1",
   "metadata": {
    "colab": {
     "base_uri": "https://localhost:8080/",
     "height": 206
    },
    "id": "4096f584-4564-4c80-88d2-61f5b64b6dd1",
    "outputId": "ce09b827-d65c-443d-856d-501c2e3e0870"
   },
   "outputs": [
    {
     "data": {
      "text/html": [
       "\n",
       "  <div id=\"df-40c046bc-af4c-479d-b0a0-caf46364f295\">\n",
       "    <div class=\"colab-df-container\">\n",
       "      <div>\n",
       "<style scoped>\n",
       "    .dataframe tbody tr th:only-of-type {\n",
       "        vertical-align: middle;\n",
       "    }\n",
       "\n",
       "    .dataframe tbody tr th {\n",
       "        vertical-align: top;\n",
       "    }\n",
       "\n",
       "    .dataframe thead th {\n",
       "        text-align: right;\n",
       "    }\n",
       "</style>\n",
       "<table border=\"1\" class=\"dataframe\">\n",
       "  <thead>\n",
       "    <tr style=\"text-align: right;\">\n",
       "      <th></th>\n",
       "      <th>dest</th>\n",
       "      <th>is_delayed</th>\n",
       "      <th>percentage</th>\n",
       "    </tr>\n",
       "  </thead>\n",
       "  <tbody>\n",
       "    <tr>\n",
       "      <th>0</th>\n",
       "      <td>ORD</td>\n",
       "      <td>14105</td>\n",
       "      <td>0.060555</td>\n",
       "    </tr>\n",
       "    <tr>\n",
       "      <th>1</th>\n",
       "      <td>ATL</td>\n",
       "      <td>10358</td>\n",
       "      <td>0.044469</td>\n",
       "    </tr>\n",
       "    <tr>\n",
       "      <th>2</th>\n",
       "      <td>CLT</td>\n",
       "      <td>7897</td>\n",
       "      <td>0.033903</td>\n",
       "    </tr>\n",
       "    <tr>\n",
       "      <th>3</th>\n",
       "      <td>DEN</td>\n",
       "      <td>7590</td>\n",
       "      <td>0.032585</td>\n",
       "    </tr>\n",
       "    <tr>\n",
       "      <th>4</th>\n",
       "      <td>LGA</td>\n",
       "      <td>7428</td>\n",
       "      <td>0.031890</td>\n",
       "    </tr>\n",
       "  </tbody>\n",
       "</table>\n",
       "</div>\n",
       "      <button class=\"colab-df-convert\" onclick=\"convertToInteractive('df-40c046bc-af4c-479d-b0a0-caf46364f295')\"\n",
       "              title=\"Convert this dataframe to an interactive table.\"\n",
       "              style=\"display:none;\">\n",
       "        \n",
       "  <svg xmlns=\"http://www.w3.org/2000/svg\" height=\"24px\"viewBox=\"0 0 24 24\"\n",
       "       width=\"24px\">\n",
       "    <path d=\"M0 0h24v24H0V0z\" fill=\"none\"/>\n",
       "    <path d=\"M18.56 5.44l.94 2.06.94-2.06 2.06-.94-2.06-.94-.94-2.06-.94 2.06-2.06.94zm-11 1L8.5 8.5l.94-2.06 2.06-.94-2.06-.94L8.5 2.5l-.94 2.06-2.06.94zm10 10l.94 2.06.94-2.06 2.06-.94-2.06-.94-.94-2.06-.94 2.06-2.06.94z\"/><path d=\"M17.41 7.96l-1.37-1.37c-.4-.4-.92-.59-1.43-.59-.52 0-1.04.2-1.43.59L10.3 9.45l-7.72 7.72c-.78.78-.78 2.05 0 2.83L4 21.41c.39.39.9.59 1.41.59.51 0 1.02-.2 1.41-.59l7.78-7.78 2.81-2.81c.8-.78.8-2.07 0-2.86zM5.41 20L4 18.59l7.72-7.72 1.47 1.35L5.41 20z\"/>\n",
       "  </svg>\n",
       "      </button>\n",
       "      \n",
       "  <style>\n",
       "    .colab-df-container {\n",
       "      display:flex;\n",
       "      flex-wrap:wrap;\n",
       "      gap: 12px;\n",
       "    }\n",
       "\n",
       "    .colab-df-convert {\n",
       "      background-color: #E8F0FE;\n",
       "      border: none;\n",
       "      border-radius: 50%;\n",
       "      cursor: pointer;\n",
       "      display: none;\n",
       "      fill: #1967D2;\n",
       "      height: 32px;\n",
       "      padding: 0 0 0 0;\n",
       "      width: 32px;\n",
       "    }\n",
       "\n",
       "    .colab-df-convert:hover {\n",
       "      background-color: #E2EBFA;\n",
       "      box-shadow: 0px 1px 2px rgba(60, 64, 67, 0.3), 0px 1px 3px 1px rgba(60, 64, 67, 0.15);\n",
       "      fill: #174EA6;\n",
       "    }\n",
       "\n",
       "    [theme=dark] .colab-df-convert {\n",
       "      background-color: #3B4455;\n",
       "      fill: #D2E3FC;\n",
       "    }\n",
       "\n",
       "    [theme=dark] .colab-df-convert:hover {\n",
       "      background-color: #434B5C;\n",
       "      box-shadow: 0px 1px 3px 1px rgba(0, 0, 0, 0.15);\n",
       "      filter: drop-shadow(0px 1px 2px rgba(0, 0, 0, 0.3));\n",
       "      fill: #FFFFFF;\n",
       "    }\n",
       "  </style>\n",
       "\n",
       "      <script>\n",
       "        const buttonEl =\n",
       "          document.querySelector('#df-40c046bc-af4c-479d-b0a0-caf46364f295 button.colab-df-convert');\n",
       "        buttonEl.style.display =\n",
       "          google.colab.kernel.accessAllowed ? 'block' : 'none';\n",
       "\n",
       "        async function convertToInteractive(key) {\n",
       "          const element = document.querySelector('#df-40c046bc-af4c-479d-b0a0-caf46364f295');\n",
       "          const dataTable =\n",
       "            await google.colab.kernel.invokeFunction('convertToInteractive',\n",
       "                                                     [key], {});\n",
       "          if (!dataTable) return;\n",
       "\n",
       "          const docLinkHtml = 'Like what you see? Visit the ' +\n",
       "            '<a target=\"_blank\" href=https://colab.research.google.com/notebooks/data_table.ipynb>data table notebook</a>'\n",
       "            + ' to learn more about interactive tables.';\n",
       "          element.innerHTML = '';\n",
       "          dataTable['output_type'] = 'display_data';\n",
       "          await google.colab.output.renderOutput(dataTable, element);\n",
       "          const docLink = document.createElement('div');\n",
       "          docLink.innerHTML = docLinkHtml;\n",
       "          element.appendChild(docLink);\n",
       "        }\n",
       "      </script>\n",
       "    </div>\n",
       "  </div>\n",
       "  "
      ],
      "text/plain": [
       "  dest  is_delayed  percentage\n",
       "0  ORD       14105    0.060555\n",
       "1  ATL       10358    0.044469\n",
       "2  CLT        7897    0.033903\n",
       "3  DEN        7590    0.032585\n",
       "4  LGA        7428    0.031890"
      ]
     },
     "execution_count": 107,
     "metadata": {},
     "output_type": "execute_result"
    }
   ],
   "source": [
    "df_dest.head()"
   ]
  },
  {
   "cell_type": "code",
   "execution_count": null,
   "id": "873f4921-83fc-4c52-b837-688e67331a45",
   "metadata": {
    "colab": {
     "base_uri": "https://localhost:8080/",
     "height": 237
    },
    "id": "873f4921-83fc-4c52-b837-688e67331a45",
    "outputId": "d279dc20-a717-4efe-e47a-33f70014b703"
   },
   "outputs": [
    {
     "data": {
      "text/html": [
       "\n",
       "  <div id=\"df-4a337489-ce2e-4b18-ae11-d4b528181e8f\">\n",
       "    <div class=\"colab-df-container\">\n",
       "      <div>\n",
       "<style scoped>\n",
       "    .dataframe tbody tr th:only-of-type {\n",
       "        vertical-align: middle;\n",
       "    }\n",
       "\n",
       "    .dataframe tbody tr th {\n",
       "        vertical-align: top;\n",
       "    }\n",
       "\n",
       "    .dataframe thead th {\n",
       "        text-align: right;\n",
       "    }\n",
       "</style>\n",
       "<table border=\"1\" class=\"dataframe\">\n",
       "  <thead>\n",
       "    <tr style=\"text-align: right;\">\n",
       "      <th></th>\n",
       "      <th>dep_delay</th>\n",
       "      <th>percentage</th>\n",
       "    </tr>\n",
       "    <tr>\n",
       "      <th>origin</th>\n",
       "      <th></th>\n",
       "      <th></th>\n",
       "    </tr>\n",
       "  </thead>\n",
       "  <tbody>\n",
       "    <tr>\n",
       "      <th>ORD</th>\n",
       "      <td>663286.0</td>\n",
       "      <td>9.948226</td>\n",
       "    </tr>\n",
       "    <tr>\n",
       "      <th>ATL</th>\n",
       "      <td>333271.0</td>\n",
       "      <td>4.998530</td>\n",
       "    </tr>\n",
       "    <tr>\n",
       "      <th>LGA</th>\n",
       "      <td>281670.0</td>\n",
       "      <td>4.224598</td>\n",
       "    </tr>\n",
       "    <tr>\n",
       "      <th>DTW</th>\n",
       "      <td>266628.0</td>\n",
       "      <td>3.998992</td>\n",
       "    </tr>\n",
       "    <tr>\n",
       "      <th>DEN</th>\n",
       "      <td>250546.0</td>\n",
       "      <td>3.757788</td>\n",
       "    </tr>\n",
       "  </tbody>\n",
       "</table>\n",
       "</div>\n",
       "      <button class=\"colab-df-convert\" onclick=\"convertToInteractive('df-4a337489-ce2e-4b18-ae11-d4b528181e8f')\"\n",
       "              title=\"Convert this dataframe to an interactive table.\"\n",
       "              style=\"display:none;\">\n",
       "        \n",
       "  <svg xmlns=\"http://www.w3.org/2000/svg\" height=\"24px\"viewBox=\"0 0 24 24\"\n",
       "       width=\"24px\">\n",
       "    <path d=\"M0 0h24v24H0V0z\" fill=\"none\"/>\n",
       "    <path d=\"M18.56 5.44l.94 2.06.94-2.06 2.06-.94-2.06-.94-.94-2.06-.94 2.06-2.06.94zm-11 1L8.5 8.5l.94-2.06 2.06-.94-2.06-.94L8.5 2.5l-.94 2.06-2.06.94zm10 10l.94 2.06.94-2.06 2.06-.94-2.06-.94-.94-2.06-.94 2.06-2.06.94z\"/><path d=\"M17.41 7.96l-1.37-1.37c-.4-.4-.92-.59-1.43-.59-.52 0-1.04.2-1.43.59L10.3 9.45l-7.72 7.72c-.78.78-.78 2.05 0 2.83L4 21.41c.39.39.9.59 1.41.59.51 0 1.02-.2 1.41-.59l7.78-7.78 2.81-2.81c.8-.78.8-2.07 0-2.86zM5.41 20L4 18.59l7.72-7.72 1.47 1.35L5.41 20z\"/>\n",
       "  </svg>\n",
       "      </button>\n",
       "      \n",
       "  <style>\n",
       "    .colab-df-container {\n",
       "      display:flex;\n",
       "      flex-wrap:wrap;\n",
       "      gap: 12px;\n",
       "    }\n",
       "\n",
       "    .colab-df-convert {\n",
       "      background-color: #E8F0FE;\n",
       "      border: none;\n",
       "      border-radius: 50%;\n",
       "      cursor: pointer;\n",
       "      display: none;\n",
       "      fill: #1967D2;\n",
       "      height: 32px;\n",
       "      padding: 0 0 0 0;\n",
       "      width: 32px;\n",
       "    }\n",
       "\n",
       "    .colab-df-convert:hover {\n",
       "      background-color: #E2EBFA;\n",
       "      box-shadow: 0px 1px 2px rgba(60, 64, 67, 0.3), 0px 1px 3px 1px rgba(60, 64, 67, 0.15);\n",
       "      fill: #174EA6;\n",
       "    }\n",
       "\n",
       "    [theme=dark] .colab-df-convert {\n",
       "      background-color: #3B4455;\n",
       "      fill: #D2E3FC;\n",
       "    }\n",
       "\n",
       "    [theme=dark] .colab-df-convert:hover {\n",
       "      background-color: #434B5C;\n",
       "      box-shadow: 0px 1px 3px 1px rgba(0, 0, 0, 0.15);\n",
       "      filter: drop-shadow(0px 1px 2px rgba(0, 0, 0, 0.3));\n",
       "      fill: #FFFFFF;\n",
       "    }\n",
       "  </style>\n",
       "\n",
       "      <script>\n",
       "        const buttonEl =\n",
       "          document.querySelector('#df-4a337489-ce2e-4b18-ae11-d4b528181e8f button.colab-df-convert');\n",
       "        buttonEl.style.display =\n",
       "          google.colab.kernel.accessAllowed ? 'block' : 'none';\n",
       "\n",
       "        async function convertToInteractive(key) {\n",
       "          const element = document.querySelector('#df-4a337489-ce2e-4b18-ae11-d4b528181e8f');\n",
       "          const dataTable =\n",
       "            await google.colab.kernel.invokeFunction('convertToInteractive',\n",
       "                                                     [key], {});\n",
       "          if (!dataTable) return;\n",
       "\n",
       "          const docLinkHtml = 'Like what you see? Visit the ' +\n",
       "            '<a target=\"_blank\" href=https://colab.research.google.com/notebooks/data_table.ipynb>data table notebook</a>'\n",
       "            + ' to learn more about interactive tables.';\n",
       "          element.innerHTML = '';\n",
       "          dataTable['output_type'] = 'display_data';\n",
       "          await google.colab.output.renderOutput(dataTable, element);\n",
       "          const docLink = document.createElement('div');\n",
       "          docLink.innerHTML = docLinkHtml;\n",
       "          element.appendChild(docLink);\n",
       "        }\n",
       "      </script>\n",
       "    </div>\n",
       "  </div>\n",
       "  "
      ],
      "text/plain": [
       "        dep_delay  percentage\n",
       "origin                       \n",
       "ORD      663286.0    9.948226\n",
       "ATL      333271.0    4.998530\n",
       "LGA      281670.0    4.224598\n",
       "DTW      266628.0    3.998992\n",
       "DEN      250546.0    3.757788"
      ]
     },
     "execution_count": 108,
     "metadata": {},
     "output_type": "execute_result"
    }
   ],
   "source": [
    "df_origin = df[['origin','dep_delay']].groupby('origin').sum().sort_values(by='dep_delay',ascending=False)\n",
    "df_origin['percentage'] = df_origin['dep_delay']/(df_origin['dep_delay'].sum())*100\n",
    "df_origin.head()"
   ]
  },
  {
   "cell_type": "code",
   "execution_count": null,
   "id": "816ae642-a48d-4780-8af9-221424e7a546",
   "metadata": {
    "id": "816ae642-a48d-4780-8af9-221424e7a546"
   },
   "outputs": [],
   "source": [
    "df_final.to_csv('df_finalversion_data_final.csv')\n",
    "# df_final=pd.read_csv('df_finalversion_data_final.csv',index_col=[0])"
   ]
  },
  {
   "cell_type": "code",
   "execution_count": null,
   "id": "V6_ld3s8CfuU",
   "metadata": {
    "id": "V6_ld3s8CfuU"
   },
   "outputs": [],
   "source": [
    "import pickle\n",
    "# pickle_in=open(\"df_finalversion_data_final.pickle\",\"wb\")\n",
    "# pickle.dump(df_final,pickle_in)\n",
    "# pickle_in.close()\n",
    "df_airport.to_csv('df_finalversion_data_final_top10airports.csv')"
   ]
  },
  {
   "cell_type": "code",
   "execution_count": null,
   "id": "A5jqxzsHDAbw",
   "metadata": {
    "id": "A5jqxzsHDAbw"
   },
   "outputs": [],
   "source": [
    "pickle_out=open('df_finalversion_data_final.pickle',\"rb\")\n",
    "df_final=pickle.load(pickle_out)"
   ]
  },
  {
   "cell_type": "code",
   "execution_count": 81,
   "id": "43307175-2049-477b-9eb0-c3f2e0cb84c4",
   "metadata": {
    "colab": {
     "base_uri": "https://localhost:8080/",
     "height": 870
    },
    "id": "43307175-2049-477b-9eb0-c3f2e0cb84c4",
    "outputId": "a407f8e1-446d-484d-95dc-709c03e0e505"
   },
   "outputs": [
    {
     "data": {
      "image/png": "[encoded data removed]",
      "text/plain": [
       "<Figure size 1080x864 with 2 Axes>"
      ]
     },
     "metadata": {
      "needs_background": "light"
     },
     "output_type": "display_data"
    }
   ],
   "source": [
    "axis = plt.subplots(figsize=(15,12))\n",
    "sns.heatmap(df.corr(),annot = True)\n",
    "plt.show()"
   ]
  },
  {
   "cell_type": "markdown",
   "id": "-_kcYUjxS68B",
   "metadata": {
    "id": "-_kcYUjxS68B"
   },
   "source": [
    "# Regression"
   ]
  },
  {
   "cell_type": "code",
   "execution_count": null,
   "id": "CFQ8yuav5Blb",
   "metadata": {
    "id": "CFQ8yuav5Blb"
   },
   "outputs": [],
   "source": []
  },
  {
   "cell_type": "markdown",
   "id": "zOwleRKs5B5f",
   "metadata": {
    "id": "zOwleRKs5B5f",
    "tags": []
   },
   "source": [
    "\n",
    "## Data Preprocessing"
   ]
  },
  {
   "cell_type": "code",
   "execution_count": 219,
   "id": "3ouMKbGv7vds",
   "metadata": {
    "id": "3ouMKbGv7vds"
   },
   "outputs": [],
   "source": [
    "tmpppp=df.groupby(['dest']).agg({'flights':'count',}).sort_values(by='flights',ascending=False).reset_index().head(50)"
   ]
  },
  {
   "cell_type": "code",
   "execution_count": 222,
   "id": "341ca27b-e4a4-4118-8a6c-3c5a4367d4df",
   "metadata": {},
   "outputs": [],
   "source": [
    "airport=list(tmpppp.dest)"
   ]
  },
  {
   "cell_type": "code",
   "execution_count": 243,
   "id": "c08b3dd0-ad43-4d2b-858d-2c0ff0dcce10",
   "metadata": {
    "scrolled": true
   },
   "outputs": [
    {
     "data": {
      "text/plain": [
       "['ATL',\n",
       " 'ORD',\n",
       " 'DEN',\n",
       " 'LAX',\n",
       " 'CLT',\n",
       " 'PHX',\n",
       " 'SEA',\n",
       " 'SFO',\n",
       " 'IAH',\n",
       " 'LGA',\n",
       " 'LAS',\n",
       " 'DTW',\n",
       " 'EWR',\n",
       " 'MSP',\n",
       " 'DCA',\n",
       " 'MCO',\n",
       " 'PHL',\n",
       " 'BOS',\n",
       " 'JFK',\n",
       " 'SLC',\n",
       " 'FLL',\n",
       " 'BWI',\n",
       " 'MIA',\n",
       " 'SAN',\n",
       " 'IAD',\n",
       " 'PDX',\n",
       " 'TPA',\n",
       " 'DAL',\n",
       " 'MDW',\n",
       " 'BNA',\n",
       " 'STL',\n",
       " 'SJC',\n",
       " 'RDU',\n",
       " 'HOU',\n",
       " 'AUS',\n",
       " 'MSY',\n",
       " 'MCI',\n",
       " 'OAK',\n",
       " 'SMF',\n",
       " 'HNL',\n",
       " 'CLE',\n",
       " 'IND',\n",
       " 'PIT',\n",
       " 'CVG',\n",
       " 'RSW',\n",
       " 'CMH',\n",
       " 'SNA',\n",
       " 'SAT',\n",
       " 'MKE',\n",
       " 'JAX']"
      ]
     },
     "execution_count": 243,
     "metadata": {},
     "output_type": "execute_result"
    }
   ],
   "source": [
    "airport"
   ]
  },
  {
   "cell_type": "code",
   "execution_count": 149,
   "id": "XdAb8f97zK91",
   "metadata": {
    "id": "XdAb8f97zK91"
   },
   "outputs": [],
   "source": [
    "dff=df[(df['dest'].isin(businest_airport))&(df['origin'].isin(businest_airport))]"
   ]
  },
  {
   "cell_type": "code",
   "execution_count": 223,
   "id": "1a2157ae-40d5-4922-95ae-039111c89401",
   "metadata": {},
   "outputs": [],
   "source": [
    "dff=df[(df['dest'].isin(airport))&(df['origin'].isin(airport))]"
   ]
  },
  {
   "cell_type": "code",
   "execution_count": null,
   "id": "042d4b95-0a33-42a7-9960-78a996a41dc7",
   "metadata": {},
   "outputs": [],
   "source": []
  },
  {
   "cell_type": "code",
   "execution_count": null,
   "id": "1dc08fa3-6e31-46f0-aaf1-98f280124541",
   "metadata": {},
   "outputs": [],
   "source": []
  },
  {
   "cell_type": "code",
   "execution_count": null,
   "id": "125dc3db-46b6-421e-b43d-2be09449045d",
   "metadata": {},
   "outputs": [],
   "source": [
    "df.to_csv('df_full.csv')"
   ]
  },
  {
   "cell_type": "markdown",
   "id": "Uh3uV7f45B5f",
   "metadata": {
    "id": "Uh3uV7f45B5f",
    "tags": []
   },
   "source": [
    "### ONEHOTENCODE"
   ]
  },
  {
   "cell_type": "code",
   "execution_count": null,
   "id": "bMEZLHrU5B5f",
   "metadata": {
    "id": "bMEZLHrU5B5f"
   },
   "outputs": [],
   "source": []
  },
  {
   "cell_type": "code",
   "execution_count": 59,
   "id": "g9TCVgTa5B5g",
   "metadata": {
    "id": "g9TCVgTa5B5g"
   },
   "outputs": [],
   "source": [
    "#  df_airport =pd.read_csv('df_finalversion_data_final_top10airports.csv')\n",
    "#  df_final_modeling=df_airport.copy()"
   ]
  },
  {
   "cell_type": "code",
   "execution_count": 224,
   "id": "DSCYvBCh5B5g",
   "metadata": {
    "id": "DSCYvBCh5B5g"
   },
   "outputs": [],
   "source": [
    "# df_sample=df_final.sample(n=10000)\n",
    "df_sample=dff.copy()"
   ]
  },
  {
   "cell_type": "code",
   "execution_count": 225,
   "id": "PcxBeAK05B5g",
   "metadata": {
    "id": "PcxBeAK05B5g"
   },
   "outputs": [],
   "source": [
    "X=df_sample.drop('arr_delay',axis=1)"
   ]
  },
  {
   "cell_type": "code",
   "execution_count": 226,
   "id": "WedNpEa45B5g",
   "metadata": {
    "id": "WedNpEa45B5g"
   },
   "outputs": [],
   "source": [
    "y=df_sample['arr_delay']"
   ]
  },
  {
   "cell_type": "code",
   "execution_count": null,
   "id": "jbST4s-v5B5g",
   "metadata": {
    "id": "jbST4s-v5B5g"
   },
   "outputs": [],
   "source": []
  },
  {
   "cell_type": "code",
   "execution_count": 227,
   "id": "V5v03Ht85B5h",
   "metadata": {
    "colab": {
     "base_uri": "https://localhost:8080/"
    },
    "id": "V5v03Ht85B5h",
    "outputId": "e41f4893-600a-4afa-e75e-5f7711f8b8cb"
   },
   "outputs": [
    {
     "data": {
      "text/plain": [
       "Index(['fl_date', 'mkt_unique_carrier', 'branded_code_share', 'mkt_carrier',\n",
       "       'mkt_carrier_fl_num', 'op_unique_carrier', 'tail_num',\n",
       "       'op_carrier_fl_num', 'origin_airport_id', 'origin', 'origin_city_name',\n",
       "       'dest_airport_id', 'dest', 'dest_city_name', 'crs_dep_time', 'dep_time',\n",
       "       'dep_delay', 'taxi_out', 'wheels_off', 'wheels_on', 'taxi_in',\n",
       "       'crs_arr_time', 'arr_time', 'cancelled', 'diverted', 'dup',\n",
       "       'crs_elapsed_time', 'actual_elapsed_time', 'air_time', 'flights',\n",
       "       'distance', 'Weather_origin', 'Weather_destin', 'Visibility_origin',\n",
       "       'Visibility_destin', 'windspeed_origin', 'windspeed_destin', 'weekday',\n",
       "       'is_delayed', 'crs_arr_timeblk', 'crs_dep_timeblk',\n",
       "       'route_day_timeblk_airline_avg_arr',\n",
       "       'route_day_timeblk_airline_avg_dep'],\n",
       "      dtype='object')"
      ]
     },
     "execution_count": 227,
     "metadata": {},
     "output_type": "execute_result"
    }
   ],
   "source": [
    "X.columns"
   ]
  },
  {
   "cell_type": "code",
   "execution_count": 228,
   "id": "VMxsjAby5B5h",
   "metadata": {
    "id": "VMxsjAby5B5h"
   },
   "outputs": [],
   "source": [
    "#Select features"
   ]
  },
  {
   "cell_type": "code",
   "execution_count": 229,
   "id": "k7Da470i5B5h",
   "metadata": {
    "id": "k7Da470i5B5h"
   },
   "outputs": [],
   "source": [
    "X_tmp=X[['dest_airport_id','origin_airport_id','op_unique_carrier','dest','origin','crs_arr_time','crs_dep_time','crs_elapsed_time',\n",
    "       'Weather_origin', 'Weather_destin','crs_arr_timeblk','crs_dep_timeblk','weekday',\n",
    "       'Visibility_origin', 'Visibility_destin', 'windspeed_origin',\n",
    "       'windspeed_destin','route_day_timeblk_airline_avg_arr',\n",
    "       'route_day_timeblk_airline_avg_dep','distance']]\n",
    "\n"
   ]
  },
  {
   "cell_type": "code",
   "execution_count": 230,
   "id": "cBmEULzJ5B5h",
   "metadata": {
    "id": "cBmEULzJ5B5h"
   },
   "outputs": [],
   "source": [
    "# X_tmp.corr()"
   ]
  },
  {
   "cell_type": "code",
   "execution_count": 231,
   "id": "Hkneffq85B5h",
   "metadata": {
    "id": "Hkneffq85B5h"
   },
   "outputs": [],
   "source": [
    "# #one-hot encoded\n",
    "# enc=OneHotEncoder()\n",
    "# X_encoded=enc.fit_transform(X_tmp)\n",
    "X_encoded=pd.get_dummies(X_tmp)"
   ]
  },
  {
   "cell_type": "code",
   "execution_count": 232,
   "id": "YOqmq_ZW5B5h",
   "metadata": {
    "colab": {
     "base_uri": "https://localhost:8080/"
    },
    "id": "YOqmq_ZW5B5h",
    "outputId": "362cf57a-ba8b-442a-fbc6-ae1cdc9bdb37"
   },
   "outputs": [
    {
     "data": {
      "text/plain": [
       "(422434,)"
      ]
     },
     "execution_count": 232,
     "metadata": {},
     "output_type": "execute_result"
    }
   ],
   "source": [
    "y.shape"
   ]
  },
  {
   "cell_type": "code",
   "execution_count": 233,
   "id": "qHblUGin5B5h",
   "metadata": {
    "colab": {
     "base_uri": "https://localhost:8080/"
    },
    "id": "qHblUGin5B5h",
    "outputId": "894355a2-72e2-40ef-e64b-089cbe9ca88f"
   },
   "outputs": [
    {
     "data": {
      "text/plain": [
       "(422434, 162)"
      ]
     },
     "execution_count": 233,
     "metadata": {},
     "output_type": "execute_result"
    }
   ],
   "source": [
    "X_encoded.shape"
   ]
  },
  {
   "cell_type": "code",
   "execution_count": 234,
   "id": "U3YJqG8G5B5h",
   "metadata": {
    "id": "U3YJqG8G5B5h"
   },
   "outputs": [],
   "source": [
    "# X_1 = enc.fit_transform(X_tmp)\n"
   ]
  },
  {
   "cell_type": "code",
   "execution_count": 235,
   "id": "goV2JyIR5B5h",
   "metadata": {
    "colab": {
     "base_uri": "https://localhost:8080/"
    },
    "id": "goV2JyIR5B5h",
    "outputId": "ed81cedd-19b7-4ca6-d514-c7c43db4166e"
   },
   "outputs": [
    {
     "data": {
      "text/plain": [
       "(422434, 162)"
      ]
     },
     "execution_count": 235,
     "metadata": {},
     "output_type": "execute_result"
    }
   ],
   "source": [
    "X_encoded.shape"
   ]
  },
  {
   "cell_type": "code",
   "execution_count": 236,
   "id": "iT2PB2_E5B5h",
   "metadata": {
    "id": "iT2PB2_E5B5h"
   },
   "outputs": [],
   "source": [
    "X_train, X_test, y_train, y_test = train_test_split(X_encoded, y, test_size=0.25, random_state=0)"
   ]
  },
  {
   "cell_type": "code",
   "execution_count": 237,
   "id": "YRu04r9Q0CUM",
   "metadata": {
    "id": "YRu04r9Q0CUM"
   },
   "outputs": [],
   "source": []
  },
  {
   "cell_type": "markdown",
   "id": "vwmziVqb5B5i",
   "metadata": {
    "id": "vwmziVqb5B5i",
    "jp-MarkdownHeadingCollapsed": true,
    "tags": []
   },
   "source": [
    "### LABELENCODER"
   ]
  },
  {
   "cell_type": "code",
   "execution_count": 239,
   "id": "1n5O_7LY5B5i",
   "metadata": {
    "id": "1n5O_7LY5B5i"
   },
   "outputs": [],
   "source": [
    "X=df_sample.drop('arr_delay',axis=1)"
   ]
  },
  {
   "cell_type": "code",
   "execution_count": 240,
   "id": "hIQoHk2Y5B5i",
   "metadata": {
    "id": "hIQoHk2Y5B5i"
   },
   "outputs": [],
   "source": [
    "y=df_sample['arr_delay']"
   ]
  },
  {
   "cell_type": "code",
   "execution_count": 154,
   "id": "Z5GkdAKb5B5i",
   "metadata": {
    "id": "Z5GkdAKb5B5i"
   },
   "outputs": [],
   "source": [
    "X_tmp=X[['dest_airport_id','origin_airport_id','dest','origin','crs_arr_time',\n",
    "       'Weather_origin', 'Weather_destin','crs_arr_timeblk','crs_dep_timeblk','weekday',\n",
    "       'Visibility_origin', 'Visibility_destin', 'windspeed_origin',\n",
    "       'windspeed_destin','route_day_timeblk_airline_avg_arr',\n",
    "        'route_day_timeblk_airline_avg_dep']]\n",
    "\n",
    "# X_tmp=X[['origin_airport_id','distance','op_unique_carrier','dest','origin','crs_dep_time','crs_arr_time',]]\n"
   ]
  },
  {
   "cell_type": "code",
   "execution_count": 155,
   "id": "ysNeDTuK5B5i",
   "metadata": {
    "id": "ysNeDTuK5B5i"
   },
   "outputs": [],
   "source": [
    "enc=LabelEncoder()\n",
    "x=X_tmp.apply(enc.fit_transform)\n"
   ]
  },
  {
   "cell_type": "code",
   "execution_count": 156,
   "id": "M0dzxvrA5B5i",
   "metadata": {
    "id": "M0dzxvrA5B5i"
   },
   "outputs": [],
   "source": [
    "X_train, X_test, y_train, y_test = train_test_split(x, y, test_size=0.3, random_state=0)"
   ]
  },
  {
   "cell_type": "markdown",
   "id": "5C4j-pBY5RG9",
   "metadata": {
    "id": "5C4j-pBY5RG9"
   },
   "source": [
    "## Modeling RandomForestRegressor"
   ]
  },
  {
   "cell_type": "code",
   "execution_count": 238,
   "id": "wSnzNEM6Tagn",
   "metadata": {
    "id": "wSnzNEM6Tagn"
   },
   "outputs": [],
   "source": [
    "from sklearn.ensemble import RandomForestRegressor\n",
    "from sklearn.metrics import r2_score\n"
   ]
  },
  {
   "cell_type": "code",
   "execution_count": 239,
   "id": "yJZKLwi1TD3P",
   "metadata": {
    "colab": {
     "base_uri": "https://localhost:8080/"
    },
    "id": "yJZKLwi1TD3P",
    "outputId": "ab2e7dd4-9451-4c89-e5c0-2fe7f11644d5"
   },
   "outputs": [
    {
     "data": {
      "text/plain": [
       "RandomForestRegressor()"
      ]
     },
     "execution_count": 239,
     "metadata": {},
     "output_type": "execute_result"
    }
   ],
   "source": [
    "# rfr = RandomForestRegressor()\n",
    "# rfr.fit(X_train,y_train)"
   ]
  },
  {
   "cell_type": "code",
   "execution_count": 246,
   "id": "5ba775ff-a8da-4e3f-b4ec-aa62a256e8ce",
   "metadata": {},
   "outputs": [],
   "source": [
    "rfr=RandomForestRegressor(n_estimators=200,min_samples_split=15,min_samples_leaf=5,max_features='auto',max_depth=18)"
   ]
  },
  {
   "cell_type": "code",
   "execution_count": 247,
   "id": "d059d28d-6df5-4b5b-83b2-bf617e315074",
   "metadata": {},
   "outputs": [
    {
     "data": {
      "text/plain": [
       "RandomForestRegressor(max_depth=18, min_samples_leaf=5, min_samples_split=15,\n",
       "                      n_estimators=200)"
      ]
     },
     "execution_count": 247,
     "metadata": {},
     "output_type": "execute_result"
    }
   ],
   "source": [
    "rfr.fit(X_train,y_train)"
   ]
  },
  {
   "cell_type": "code",
   "execution_count": 248,
   "id": "nNwR1leWTTnn",
   "metadata": {
    "id": "nNwR1leWTTnn"
   },
   "outputs": [],
   "source": [
    "y_pred = rfr.predict(X_test)"
   ]
  },
  {
   "cell_type": "code",
   "execution_count": 249,
   "id": "4_SedEipTqSw",
   "metadata": {
    "colab": {
     "base_uri": "https://localhost:8080/"
    },
    "id": "4_SedEipTqSw",
    "outputId": "7ba90a2b-0fb7-42c8-91b8-5c25b26334f9"
   },
   "outputs": [
    {
     "data": {
      "text/plain": [
       "0.3713133312070409"
      ]
     },
     "execution_count": 249,
     "metadata": {},
     "output_type": "execute_result"
    }
   ],
   "source": [
    "rfr.score(X_train,y_train)"
   ]
  },
  {
   "cell_type": "code",
   "execution_count": 250,
   "id": "QzYomWfIrPUk",
   "metadata": {
    "colab": {
     "base_uri": "https://localhost:8080/"
    },
    "id": "QzYomWfIrPUk",
    "outputId": "80b803f4-d76b-4679-ab4d-2f02070d8f77"
   },
   "outputs": [
    {
     "data": {
      "text/plain": [
       "0.19909389099325003"
      ]
     },
     "execution_count": 250,
     "metadata": {},
     "output_type": "execute_result"
    }
   ],
   "source": [
    "rfr.score(X_test,y_test)"
   ]
  },
  {
   "cell_type": "code",
   "execution_count": 81,
   "id": "O6SIOQPUrUyg",
   "metadata": {
    "colab": {
     "base_uri": "https://localhost:8080/"
    },
    "id": "O6SIOQPUrUyg",
    "outputId": "ccff2dac-a443-491a-bcf8-dee467ac91e1"
   },
   "outputs": [
    {
     "data": {
      "text/plain": [
       "0.2115066426550869"
      ]
     },
     "execution_count": 81,
     "metadata": {},
     "output_type": "execute_result"
    }
   ],
   "source": [
    "r2_score(y_test,y_pred)"
   ]
  },
  {
   "cell_type": "code",
   "execution_count": 212,
   "id": "Mnut5_2b6Hhl",
   "metadata": {
    "id": "Mnut5_2b6Hhl"
   },
   "outputs": [],
   "source": []
  },
  {
   "cell_type": "code",
   "execution_count": null,
   "id": "LkOSz8iw6HeJ",
   "metadata": {
    "id": "LkOSz8iw6HeJ"
   },
   "outputs": [],
   "source": [
    "#evaluation"
   ]
  },
  {
   "cell_type": "code",
   "execution_count": 80,
   "id": "Bdi5mdVM6Ham",
   "metadata": {
    "id": "Bdi5mdVM6Ham"
   },
   "outputs": [],
   "source": [
    "from sklearn.model_selection import RandomizedSearchCV,GridSearchCV "
   ]
  },
  {
   "cell_type": "code",
   "execution_count": 81,
   "id": "3gxaJAEl6HHw",
   "metadata": {
    "id": "3gxaJAEl6HHw"
   },
   "outputs": [],
   "source": [
    "#Randomized Search CV\n",
    "\n",
    "# Number of features to consider at every split\n",
    "max_features = ['auto', 'sqrt']\n",
    "# Maximum number of levels in tree\n",
    "max_depth = [18,20]\n",
    "# Minimum number of samples required to split a node\n",
    "min_samples_split = [10, 15]\n",
    "# Minimum number of samples required at each leaf node\n",
    "min_samples_leaf = [5, 10]\n"
   ]
  },
  {
   "cell_type": "code",
   "execution_count": 82,
   "id": "XwOLeK3d6Mjz",
   "metadata": {
    "id": "XwOLeK3d6Mjz"
   },
   "outputs": [],
   "source": [
    "# Create the random grid\n",
    "# n_estimators:Number of trees in random forest\n",
    "\n",
    "random_grid = {'n_estimators': [200,250],\n",
    "               'max_features': ['auto'],\n",
    "               'max_depth': [15,16,18],\n",
    "               'min_samples_split': [10,15],\n",
    "               'min_samples_leaf': [3,5,10]}\n"
   ]
  },
  {
   "cell_type": "code",
   "execution_count": 83,
   "id": "Uv8PX3x36O1E",
   "metadata": {
    "id": "Uv8PX3x36O1E"
   },
   "outputs": [],
   "source": [
    "# Random search of parameters, using 5 fold cross validation, \n",
    "rf_random = RandomizedSearchCV(estimator = rfr, \n",
    "                               param_distributions = random_grid,\n",
    "                               scoring='neg_mean_squared_error', \n",
    "                               n_iter = 5, cv = 5, \n",
    "                               verbose=2, random_state=42, \n",
    "                               n_jobs = 1)"
   ]
  },
  {
   "cell_type": "code",
   "execution_count": 84,
   "id": "Z8Iht0dG6RZ9",
   "metadata": {
    "colab": {
     "base_uri": "https://localhost:8080/"
    },
    "id": "Z8Iht0dG6RZ9",
    "outputId": "4e5bc9ed-3a2f-47c4-8b21-e3a599129c7f"
   },
   "outputs": [
    {
     "name": "stdout",
     "output_type": "stream",
     "text": [
      "Fitting 5 folds for each of 5 candidates, totalling 25 fits\n",
      "[CV] END max_depth=18, max_features=auto, min_samples_leaf=10, min_samples_split=15, n_estimators=250; total time=  44.2s\n",
      "[CV] END max_depth=18, max_features=auto, min_samples_leaf=10, min_samples_split=15, n_estimators=250; total time=  46.7s\n",
      "[CV] END max_depth=18, max_features=auto, min_samples_leaf=10, min_samples_split=15, n_estimators=250; total time=  46.0s\n",
      "[CV] END max_depth=18, max_features=auto, min_samples_leaf=10, min_samples_split=15, n_estimators=250; total time=  45.6s\n",
      "[CV] END max_depth=18, max_features=auto, min_samples_leaf=10, min_samples_split=15, n_estimators=250; total time=  47.9s\n",
      "[CV] END max_depth=16, max_features=auto, min_samples_leaf=3, min_samples_split=10, n_estimators=250; total time=  47.3s\n",
      "[CV] END max_depth=16, max_features=auto, min_samples_leaf=3, min_samples_split=10, n_estimators=250; total time=  44.4s\n",
      "[CV] END max_depth=16, max_features=auto, min_samples_leaf=3, min_samples_split=10, n_estimators=250; total time=  46.0s\n",
      "[CV] END max_depth=16, max_features=auto, min_samples_leaf=3, min_samples_split=10, n_estimators=250; total time=  43.6s\n",
      "[CV] END max_depth=16, max_features=auto, min_samples_leaf=3, min_samples_split=10, n_estimators=250; total time=  45.2s\n",
      "[CV] END max_depth=18, max_features=auto, min_samples_leaf=3, min_samples_split=15, n_estimators=200; total time=  39.7s\n",
      "[CV] END max_depth=18, max_features=auto, min_samples_leaf=3, min_samples_split=15, n_estimators=200; total time=  36.9s\n",
      "[CV] END max_depth=18, max_features=auto, min_samples_leaf=3, min_samples_split=15, n_estimators=200; total time=  36.5s\n",
      "[CV] END max_depth=18, max_features=auto, min_samples_leaf=3, min_samples_split=15, n_estimators=200; total time=  43.0s\n",
      "[CV] END max_depth=18, max_features=auto, min_samples_leaf=3, min_samples_split=15, n_estimators=200; total time=  40.4s\n",
      "[CV] END max_depth=18, max_features=auto, min_samples_leaf=5, min_samples_split=15, n_estimators=200; total time=  48.8s\n",
      "[CV] END max_depth=18, max_features=auto, min_samples_leaf=5, min_samples_split=15, n_estimators=200; total time=  44.0s\n",
      "[CV] END max_depth=18, max_features=auto, min_samples_leaf=5, min_samples_split=15, n_estimators=200; total time=  38.2s\n",
      "[CV] END max_depth=18, max_features=auto, min_samples_leaf=5, min_samples_split=15, n_estimators=200; total time=  36.3s\n",
      "[CV] END max_depth=18, max_features=auto, min_samples_leaf=5, min_samples_split=15, n_estimators=200; total time=  38.3s\n",
      "[CV] END max_depth=16, max_features=auto, min_samples_leaf=5, min_samples_split=10, n_estimators=200; total time=  36.9s\n",
      "[CV] END max_depth=16, max_features=auto, min_samples_leaf=5, min_samples_split=10, n_estimators=200; total time=  35.3s\n",
      "[CV] END max_depth=16, max_features=auto, min_samples_leaf=5, min_samples_split=10, n_estimators=200; total time=  37.0s\n",
      "[CV] END max_depth=16, max_features=auto, min_samples_leaf=5, min_samples_split=10, n_estimators=200; total time=  36.8s\n",
      "[CV] END max_depth=16, max_features=auto, min_samples_leaf=5, min_samples_split=10, n_estimators=200; total time=  34.7s\n"
     ]
    },
    {
     "data": {
      "text/plain": [
       "RandomizedSearchCV(cv=5, estimator=RandomForestRegressor(), n_iter=5, n_jobs=1,\n",
       "                   param_distributions={'max_depth': [15, 16, 18],\n",
       "                                        'max_features': ['auto'],\n",
       "                                        'min_samples_leaf': [3, 5, 10],\n",
       "                                        'min_samples_split': [10, 15],\n",
       "                                        'n_estimators': [200, 250]},\n",
       "                   random_state=42, scoring='neg_mean_squared_error',\n",
       "                   verbose=2)"
      ]
     },
     "execution_count": 84,
     "metadata": {},
     "output_type": "execute_result"
    }
   ],
   "source": [
    "rf_random.fit(X_train,y_train)\n"
   ]
  },
  {
   "cell_type": "code",
   "execution_count": 85,
   "id": "XvVEJMU46Tqm",
   "metadata": {
    "colab": {
     "base_uri": "https://localhost:8080/"
    },
    "id": "XvVEJMU46Tqm",
    "outputId": "18db2e35-0efe-45f4-9c8f-fee77a376e8e"
   },
   "outputs": [
    {
     "data": {
      "text/plain": [
       "{'n_estimators': 200,\n",
       " 'min_samples_split': 15,\n",
       " 'min_samples_leaf': 5,\n",
       " 'max_features': 'auto',\n",
       " 'max_depth': 18}"
      ]
     },
     "execution_count": 85,
     "metadata": {},
     "output_type": "execute_result"
    }
   ],
   "source": [
    "rf_random.best_params_\n"
   ]
  },
  {
   "cell_type": "code",
   "execution_count": null,
   "id": "5c1ba2ea-e60c-4ef5-92f4-3392d60eaada",
   "metadata": {},
   "outputs": [],
   "source": []
  },
  {
   "cell_type": "code",
   "execution_count": 88,
   "id": "xhefdgnb6Wd8",
   "metadata": {
    "id": "xhefdgnb6Wd8"
   },
   "outputs": [],
   "source": [
    "y_predict=rf_random.predict(X_test)\n"
   ]
  },
  {
   "cell_type": "code",
   "execution_count": 89,
   "id": "hXtcved_mbQc",
   "metadata": {
    "colab": {
     "base_uri": "https://localhost:8080/"
    },
    "id": "hXtcved_mbQc",
    "outputId": "fc40f1d9-b59d-4be2-d828-90a9e37b0f21"
   },
   "outputs": [
    {
     "data": {
      "text/plain": [
       "0.26710413630511454"
      ]
     },
     "execution_count": 89,
     "metadata": {},
     "output_type": "execute_result"
    }
   ],
   "source": [
    "r2_score(y_test,y_predict)"
   ]
  },
  {
   "cell_type": "markdown",
   "id": "24f7d152-e266-4e09-815b-084fb2509f54",
   "metadata": {
    "id": "24f7d152-e266-4e09-815b-084fb2509f54",
    "jp-MarkdownHeadingCollapsed": true,
    "tags": []
   },
   "source": [
    "## Modeling XGBoost\n"
   ]
  },
  {
   "cell_type": "code",
   "execution_count": null,
   "id": "QXJiN5BDUozf",
   "metadata": {
    "id": "QXJiN5BDUozf"
   },
   "outputs": [],
   "source": [
    "import xgboost as xgb\n",
    "### XGBoost\n",
    "\n",
    "from sklearn.model_selection import RandomizedSearchCV,GridSearchCV\n",
    "\n",
    "#define model\n",
    "#model = xgb.XGBRegressor(tree_method = 'gpu_hist')\n",
    "model = xgb.XGBRegressor(tree_method = 'hist')"
   ]
  },
  {
   "cell_type": "code",
   "execution_count": null,
   "id": "ZqQ_L-5JUuNF",
   "metadata": {
    "id": "ZqQ_L-5JUuNF"
   },
   "outputs": [],
   "source": [
    "#parameter definition\n",
    "params = {\"n_estimators\": [3, 50, 100, 200, 500,700, 1000],\n",
    "'min_child_weight': [1, 5, 7.5, 10],\n",
    "'gamma': [0.5, 1, 1.5, 2, 5],\n",
    "'subsample': [0.6, 0.8, 1.0],\n",
    "'colsample_bytree': [0.6, 0.8, 1.0],\n",
    "'max_depth': [3, 4, 5, 6, 7, 8, 9, 10],\n",
    "'learning_rate': [.01, .02, .05, .1, .15, .2]\n",
    "}"
   ]
  },
  {
   "cell_type": "code",
   "execution_count": null,
   "id": "0ARt8T4GUxCN",
   "metadata": {
    "colab": {
     "base_uri": "https://localhost:8080/"
    },
    "id": "0ARt8T4GUxCN",
    "outputId": "1bdb00dc-389c-4629-803f-5625405f524a"
   },
   "outputs": [
    {
     "name": "stdout",
     "output_type": "stream",
     "text": [
      "Fitting 5 folds for each of 100 candidates, totalling 500 fits\n"
     ]
    }
   ],
   "source": [
    "# Instantiate RandomizedSearchCV()\n",
    "model_rs = RandomizedSearchCV(model, param_distributions=params, scoring= 'r2', n_jobs=-1, verbose=5, random_state=42,refit=True, n_iter = 100)\n",
    "\n",
    "# Train the model on the training set\n",
    "model_rs.fit(X_train, y_train)\n",
    "\n",
    "# predicted values\n",
    "y_pred = model_rs.predict(X_test)"
   ]
  },
  {
   "cell_type": "code",
   "execution_count": null,
   "id": "x6ohhBsAbLW2",
   "metadata": {
    "colab": {
     "base_uri": "https://localhost:8080/"
    },
    "id": "x6ohhBsAbLW2",
    "outputId": "ef31d4c5-e73b-45ec-c65b-920c7b54fc51"
   },
   "outputs": [
    {
     "name": "stdout",
     "output_type": "stream",
     "text": [
      "Best parameters found:  {'subsample': 1.0, 'n_estimators': 50, 'min_child_weight': 7.5, 'max_depth': 10, 'learning_rate': 0.15, 'gamma': 0.5, 'colsample_bytree': 0.8}\n",
      "Best score found:  0.22814851365575511\n",
      "Feature Importance [0.00201003 0.00279097 0.0016356  ... 0.00148325 0.0015096  0.00188325]\n"
     ]
    },
    {
     "data": {
      "text/plain": [
       "{'mean_fit_time': array([13.89533072,  1.00776219, 13.62248731,  0.24932423, 14.0658505 ,\n",
       "         0.17250237,  2.1570118 ,  9.72917008,  1.32852354,  1.11078305,\n",
       "         0.86715183, 13.67590666,  0.68448591,  3.9193253 , 10.14961567,\n",
       "         0.20562625,  6.88461165,  1.35693631,  6.2186902 ,  8.27557974,\n",
       "         2.98671336, 13.37214379, 31.82109809, 14.86592298,  0.11142211,\n",
       "         5.91343803, 10.96651669,  1.5053268 ,  4.1162447 ,  8.64052663,\n",
       "        14.00817409,  0.22803292,  8.47372432,  0.10665627,  6.60431399,\n",
       "         7.04827461,  7.09629979,  0.29633927,  5.50490303,  0.10537143,\n",
       "         1.48530784,  2.35665874,  1.17377644,  4.16569905, 28.85037155,\n",
       "         5.38402967,  4.08577628,  1.83476663,  8.47113914,  1.35039077,\n",
       "         1.35148525,  4.96567221, 11.86303401,  1.60857844,  6.90602121,\n",
       "         0.13123426,  0.21040363,  5.21740541,  0.13616662,  5.67545428,\n",
       "         9.40042229, 11.54734721,  7.65250149, 16.29976788,  3.79652858,\n",
       "        14.60705261,  6.43084593,  3.20382791,  9.84362898,  1.82816534,\n",
       "         0.1807004 ,  1.0347847 ,  1.39644127,  0.15644836, 24.64131436,\n",
       "         0.10921321,  4.23867702,  2.90598755,  1.66168137,  2.63403563,\n",
       "        10.75295081, 14.95926051,  4.20298114, 10.18858953, 11.61613832,\n",
       "        17.72290144, 20.93845358, 15.64234796, 24.97553062,  3.11920381,\n",
       "        10.64234147,  1.17822227,  1.00312834,  6.00546336,  0.10100069,\n",
       "        10.41825013,  8.05208163, 12.90179906,  0.64817986,  0.11023703]),\n",
       " 'mean_score_time': array([0.38761902, 0.02999544, 0.41628041, 0.01074972, 0.35885429,\n",
       "        0.01241927, 0.05573864, 0.20651131, 0.03904233, 0.03224225,\n",
       "        0.0267283 , 0.40038567, 0.02072349, 0.08593078, 0.23103704,\n",
       "        0.01092186, 0.14982772, 0.03137236, 0.14606624, 0.11961269,\n",
       "        0.0664465 , 0.50375004, 1.63642459, 0.43066478, 0.00969701,\n",
       "        0.13039641, 0.15639963, 0.04150453, 0.07087331, 0.21385379,\n",
       "        0.38556395, 0.01044817, 0.18241773, 0.01016865, 0.08737283,\n",
       "        0.17705531, 0.14726558, 0.01106129, 0.10961399, 0.00972047,\n",
       "        0.04144726, 0.05272727, 0.03167367, 0.10504141, 1.06238484,\n",
       "        0.08715024, 0.10002265, 0.04332542, 0.2455379 , 0.03741007,\n",
       "        0.0344594 , 0.04855928, 0.34989147, 0.03123403, 0.18115726,\n",
       "        0.01002893, 0.01193519, 0.12013984, 0.00993481, 0.10544844,\n",
       "        0.25416846, 0.29229465, 0.21359901, 0.68176227, 0.07543802,\n",
       "        0.4236897 , 0.13819175, 0.07284508, 0.21616282, 0.03831396,\n",
       "        0.01071472, 0.02725058, 0.03409896, 0.0104877 , 0.73792243,\n",
       "        0.00973454, 0.09654064, 0.07281933, 0.04271641, 0.06908598,\n",
       "        0.36249113, 0.57292705, 0.11203313, 0.26458697, 0.30285788,\n",
       "        0.67342806, 1.16232572, 0.35604062, 0.64965706, 0.07842355,\n",
       "        0.2144299 , 0.03270555, 0.03432631, 0.1617806 , 0.00950546,\n",
       "        0.22044563, 0.1726593 , 0.27323217, 0.02178044, 0.00974064]),\n",
       " 'mean_test_score': array([0.18550415, 0.13980078, 0.15164648, 0.04799491, 0.22118179,\n",
       "        0.00610122, 0.20627158, 0.19093795, 0.18558012, 0.11675869,\n",
       "        0.13091156, 0.20923903, 0.16998637, 0.18984107, 0.181604  ,\n",
       "        0.13223933, 0.13754514, 0.17308581, 0.14321291, 0.12625044,\n",
       "        0.19729451, 0.19670879, 0.15714173, 0.09965441, 0.09447466,\n",
       "        0.12537973, 0.22233536, 0.19837797, 0.16863809, 0.09892156,\n",
       "        0.0619241 , 0.01722007, 0.16784418, 0.07585406, 0.18278282,\n",
       "        0.19545964, 0.15755726, 0.05004132, 0.11897807, 0.00329398,\n",
       "        0.20429097, 0.17661034, 0.14375303, 0.21392809, 0.1543555 ,\n",
       "        0.18532677, 0.20575117, 0.1960895 , 0.20025878, 0.17957164,\n",
       "        0.21892538, 0.18843966, 0.2116257 , 0.14234253, 0.19985407,\n",
       "        0.03984972, 0.07916101, 0.14799676, 0.09976064, 0.07305822,\n",
       "        0.19536449, 0.21848052, 0.07009682, 0.15899609, 0.17847341,\n",
       "        0.18610718, 0.18274461, 0.18558028, 0.1736698 , 0.22814851,\n",
       "        0.08269723, 0.07779626, 0.15001935, 0.01362988, 0.22264819,\n",
       "        0.00808961, 0.13529763, 0.19155946, 0.20451102, 0.18958419,\n",
       "        0.19733891, 0.18634668, 0.2248275 , 0.16843647, 0.16790892,\n",
       "        0.18410402, 0.2220682 , 0.21944084, 0.1735106 , 0.19926303,\n",
       "        0.15537367, 0.17009039, 0.18684866, 0.16398063, 0.01092483,\n",
       "        0.10739253, 0.1772049 , 0.17718634, 0.16933094, 0.01325018]),\n",
       " 'param_colsample_bytree': masked_array(data=[1.0, 0.6, 0.6, 0.8, 1.0, 1.0, 0.6, 1.0, 0.6, 0.6, 0.8,\n",
       "                    0.8, 1.0, 1.0, 1.0, 0.6, 1.0, 0.6, 0.6, 1.0, 1.0, 0.6,\n",
       "                    0.6, 0.8, 0.8, 0.6, 1.0, 0.6, 0.8, 0.6, 0.8, 1.0, 0.8,\n",
       "                    0.6, 1.0, 0.6, 0.6, 1.0, 1.0, 0.6, 0.6, 0.8, 1.0, 0.6,\n",
       "                    1.0, 0.6, 0.8, 1.0, 0.6, 0.6, 0.6, 1.0, 0.8, 1.0, 0.6,\n",
       "                    0.8, 0.6, 0.6, 1.0, 1.0, 0.6, 1.0, 0.6, 0.8, 0.6, 1.0,\n",
       "                    1.0, 1.0, 1.0, 0.8, 1.0, 1.0, 1.0, 0.6, 1.0, 1.0, 0.6,\n",
       "                    0.8, 0.8, 0.6, 0.6, 0.8, 0.6, 0.6, 0.6, 1.0, 0.6, 1.0,\n",
       "                    1.0, 0.6, 1.0, 0.6, 0.6, 0.6, 0.8, 0.8, 0.8, 0.8, 0.6,\n",
       "                    0.8],\n",
       "              mask=[False, False, False, False, False, False, False, False,\n",
       "                    False, False, False, False, False, False, False, False,\n",
       "                    False, False, False, False, False, False, False, False,\n",
       "                    False, False, False, False, False, False, False, False,\n",
       "                    False, False, False, False, False, False, False, False,\n",
       "                    False, False, False, False, False, False, False, False,\n",
       "                    False, False, False, False, False, False, False, False,\n",
       "                    False, False, False, False, False, False, False, False,\n",
       "                    False, False, False, False, False, False, False, False,\n",
       "                    False, False, False, False, False, False, False, False,\n",
       "                    False, False, False, False, False, False, False, False,\n",
       "                    False, False, False, False, False, False, False, False,\n",
       "                    False, False, False, False],\n",
       "        fill_value='?',\n",
       "             dtype=object),\n",
       " 'param_gamma': masked_array(data=[2, 2, 0.5, 5, 2, 1, 1.5, 2, 1, 5, 5, 0.5, 1, 0.5, 5, 2,\n",
       "                    0.5, 0.5, 0.5, 5, 2, 0.5, 1, 5, 5, 5, 2, 5, 1.5, 1, 1,\n",
       "                    0.5, 1, 5, 5, 5, 0.5, 5, 5, 0.5, 5, 2, 2, 0.5, 5, 0.5,\n",
       "                    1.5, 1.5, 1.5, 0.5, 0.5, 0.5, 1.5, 5, 2, 0.5, 1.5, 1.5,\n",
       "                    0.5, 0.5, 1.5, 0.5, 1.5, 0.5, 0.5, 2, 5, 2, 2, 0.5, 5,\n",
       "                    1.5, 5, 5, 1, 0.5, 2, 2, 1, 0.5, 0.5, 0.5, 5, 0.5, 1.5,\n",
       "                    0.5, 2, 2, 0.5, 1.5, 1, 1, 1, 0.5, 5, 1, 2, 2, 1.5,\n",
       "                    1.5],\n",
       "              mask=[False, False, False, False, False, False, False, False,\n",
       "                    False, False, False, False, False, False, False, False,\n",
       "                    False, False, False, False, False, False, False, False,\n",
       "                    False, False, False, False, False, False, False, False,\n",
       "                    False, False, False, False, False, False, False, False,\n",
       "                    False, False, False, False, False, False, False, False,\n",
       "                    False, False, False, False, False, False, False, False,\n",
       "                    False, False, False, False, False, False, False, False,\n",
       "                    False, False, False, False, False, False, False, False,\n",
       "                    False, False, False, False, False, False, False, False,\n",
       "                    False, False, False, False, False, False, False, False,\n",
       "                    False, False, False, False, False, False, False, False,\n",
       "                    False, False, False, False],\n",
       "        fill_value='?',\n",
       "             dtype=object),\n",
       " 'param_learning_rate': masked_array(data=[0.2, 0.2, 0.02, 0.05, 0.05, 0.01, 0.15, 0.1, 0.1, 0.02,\n",
       "                    0.02, 0.05, 0.15, 0.2, 0.2, 0.2, 0.02, 0.05, 0.02,\n",
       "                    0.15, 0.2, 0.1, 0.02, 0.05, 0.15, 0.05, 0.02, 0.2,\n",
       "                    0.01, 0.1, 0.15, 0.02, 0.05, 0.15, 0.01, 0.1, 0.15,\n",
       "                    0.05, 0.15, 0.01, 0.15, 0.2, 0.05, 0.05, 0.01, 0.02,\n",
       "                    0.15, 0.1, 0.15, 0.2, 0.2, 0.02, 0.1, 0.2, 0.1, 0.05,\n",
       "                    0.1, 0.02, 0.15, 0.15, 0.01, 0.1, 0.15, 0.2, 0.1, 0.2,\n",
       "                    0.1, 0.15, 0.1, 0.15, 0.1, 0.01, 0.2, 0.02, 0.01, 0.02,\n",
       "                    0.1, 0.2, 0.1, 0.05, 0.2, 0.2, 0.15, 0.02, 0.2, 0.15,\n",
       "                    0.02, 0.01, 0.01, 0.05, 0.05, 0.15, 0.05, 0.01, 0.02,\n",
       "                    0.1, 0.05, 0.01, 0.2, 0.02],\n",
       "              mask=[False, False, False, False, False, False, False, False,\n",
       "                    False, False, False, False, False, False, False, False,\n",
       "                    False, False, False, False, False, False, False, False,\n",
       "                    False, False, False, False, False, False, False, False,\n",
       "                    False, False, False, False, False, False, False, False,\n",
       "                    False, False, False, False, False, False, False, False,\n",
       "                    False, False, False, False, False, False, False, False,\n",
       "                    False, False, False, False, False, False, False, False,\n",
       "                    False, False, False, False, False, False, False, False,\n",
       "                    False, False, False, False, False, False, False, False,\n",
       "                    False, False, False, False, False, False, False, False,\n",
       "                    False, False, False, False, False, False, False, False,\n",
       "                    False, False, False, False],\n",
       "        fill_value='?',\n",
       "             dtype=object),\n",
       " 'param_max_depth': masked_array(data=[10, 7, 5, 9, 9, 7, 9, 8, 5, 3, 5, 8, 4, 8, 8, 9, 4, 7,\n",
       "                    4, 10, 6, 7, 10, 5, 5, 4, 10, 6, 8, 7, 10, 8, 4, 4, 9,\n",
       "                    6, 3, 9, 3, 5, 6, 4, 3, 9, 8, 10, 10, 6, 10, 5, 9, 10,\n",
       "                    8, 8, 7, 6, 9, 3, 6, 3, 7, 10, 6, 7, 10, 7, 5, 6, 5,\n",
       "                    10, 7, 5, 4, 7, 10, 3, 8, 6, 6, 5, 9, 7, 10, 7, 5, 9,\n",
       "                    10, 9, 8, 6, 3, 4, 6, 4, 4, 7, 4, 7, 4, 5],\n",
       "              mask=[False, False, False, False, False, False, False, False,\n",
       "                    False, False, False, False, False, False, False, False,\n",
       "                    False, False, False, False, False, False, False, False,\n",
       "                    False, False, False, False, False, False, False, False,\n",
       "                    False, False, False, False, False, False, False, False,\n",
       "                    False, False, False, False, False, False, False, False,\n",
       "                    False, False, False, False, False, False, False, False,\n",
       "                    False, False, False, False, False, False, False, False,\n",
       "                    False, False, False, False, False, False, False, False,\n",
       "                    False, False, False, False, False, False, False, False,\n",
       "                    False, False, False, False, False, False, False, False,\n",
       "                    False, False, False, False, False, False, False, False,\n",
       "                    False, False, False, False],\n",
       "        fill_value='?',\n",
       "             dtype=object),\n",
       " 'param_min_child_weight': masked_array(data=[7.5, 1, 1, 5, 10, 7.5, 5, 5, 7.5, 7.5, 10, 5, 10, 5, 5,\n",
       "                    10, 1, 1, 1, 1, 10, 10, 1, 1, 7.5, 1, 5, 5, 7.5, 1, 1,\n",
       "                    5, 5, 7.5, 7.5, 5, 7.5, 5, 1, 5, 7.5, 10, 7.5, 7.5, 1,\n",
       "                    1, 7.5, 5, 7.5, 5, 5, 5, 10, 1, 7.5, 5, 7.5, 7.5, 10,\n",
       "                    1, 5, 10, 1, 5, 1, 10, 10, 5, 5, 7.5, 5, 1, 1, 5, 5, 1,\n",
       "                    1, 7.5, 10, 10, 10, 10, 7.5, 1, 7.5, 7.5, 7.5, 10, 1,\n",
       "                    5, 7.5, 10, 7.5, 10, 5, 1, 10, 1, 5, 10],\n",
       "              mask=[False, False, False, False, False, False, False, False,\n",
       "                    False, False, False, False, False, False, False, False,\n",
       "                    False, False, False, False, False, False, False, False,\n",
       "                    False, False, False, False, False, False, False, False,\n",
       "                    False, False, False, False, False, False, False, False,\n",
       "                    False, False, False, False, False, False, False, False,\n",
       "                    False, False, False, False, False, False, False, False,\n",
       "                    False, False, False, False, False, False, False, False,\n",
       "                    False, False, False, False, False, False, False, False,\n",
       "                    False, False, False, False, False, False, False, False,\n",
       "                    False, False, False, False, False, False, False, False,\n",
       "                    False, False, False, False, False, False, False, False,\n",
       "                    False, False, False, False],\n",
       "        fill_value='?',\n",
       "             dtype=object),\n",
       " 'param_n_estimators': masked_array(data=[700, 50, 1000, 3, 700, 3, 100, 500, 100, 100, 50, 700,\n",
       "                    50, 200, 500, 3, 500, 50, 500, 200, 200, 1000, 1000,\n",
       "                    1000, 3, 500, 200, 100, 100, 500, 500, 3, 700, 3, 100,\n",
       "                    500, 700, 3, 500, 3, 100, 200, 100, 200, 1000, 100,\n",
       "                    200, 100, 500, 100, 50, 50, 700, 50, 500, 3, 3, 500, 3,\n",
       "                    500, 500, 500, 500, 1000, 100, 1000, 500, 200, 700, 50,\n",
       "                    3, 50, 100, 3, 500, 3, 200, 200, 100, 200, 700, 1000,\n",
       "                    200, 500, 1000, 1000, 1000, 500, 700, 200, 1000, 100,\n",
       "                    50, 500, 3, 500, 700, 500, 50, 3],\n",
       "              mask=[False, False, False, False, False, False, False, False,\n",
       "                    False, False, False, False, False, False, False, False,\n",
       "                    False, False, False, False, False, False, False, False,\n",
       "                    False, False, False, False, False, False, False, False,\n",
       "                    False, False, False, False, False, False, False, False,\n",
       "                    False, False, False, False, False, False, False, False,\n",
       "                    False, False, False, False, False, False, False, False,\n",
       "                    False, False, False, False, False, False, False, False,\n",
       "                    False, False, False, False, False, False, False, False,\n",
       "                    False, False, False, False, False, False, False, False,\n",
       "                    False, False, False, False, False, False, False, False,\n",
       "                    False, False, False, False, False, False, False, False,\n",
       "                    False, False, False, False],\n",
       "        fill_value='?',\n",
       "             dtype=object),\n",
       " 'param_subsample': masked_array(data=[0.8, 0.6, 1.0, 0.8, 0.8, 1.0, 0.8, 0.8, 0.8, 1.0, 0.6,\n",
       "                    1.0, 0.8, 0.8, 1.0, 0.6, 1.0, 1.0, 0.8, 1.0, 0.8, 0.6,\n",
       "                    0.8, 0.8, 1.0, 0.6, 0.8, 1.0, 0.8, 0.6, 0.6, 0.8, 1.0,\n",
       "                    0.6, 0.8, 1.0, 1.0, 1.0, 1.0, 0.6, 1.0, 0.8, 1.0, 0.6,\n",
       "                    0.6, 0.8, 0.6, 0.8, 0.6, 0.8, 1.0, 1.0, 1.0, 0.8, 0.6,\n",
       "                    0.6, 0.8, 1.0, 0.6, 0.8, 0.6, 1.0, 0.6, 1.0, 1.0, 0.6,\n",
       "                    0.6, 0.8, 1.0, 1.0, 0.8, 0.6, 1.0, 1.0, 0.8, 1.0, 0.6,\n",
       "                    0.8, 1.0, 0.8, 0.8, 1.0, 1.0, 0.8, 0.8, 0.8, 0.8, 0.6,\n",
       "                    1.0, 1.0, 1.0, 0.6, 1.0, 1.0, 0.6, 0.8, 0.8, 1.0, 1.0,\n",
       "                    0.6],\n",
       "              mask=[False, False, False, False, False, False, False, False,\n",
       "                    False, False, False, False, False, False, False, False,\n",
       "                    False, False, False, False, False, False, False, False,\n",
       "                    False, False, False, False, False, False, False, False,\n",
       "                    False, False, False, False, False, False, False, False,\n",
       "                    False, False, False, False, False, False, False, False,\n",
       "                    False, False, False, False, False, False, False, False,\n",
       "                    False, False, False, False, False, False, False, False,\n",
       "                    False, False, False, False, False, False, False, False,\n",
       "                    False, False, False, False, False, False, False, False,\n",
       "                    False, False, False, False, False, False, False, False,\n",
       "                    False, False, False, False, False, False, False, False,\n",
       "                    False, False, False, False],\n",
       "        fill_value='?',\n",
       "             dtype=object),\n",
       " 'params': [{'colsample_bytree': 1.0,\n",
       "   'gamma': 2,\n",
       "   'learning_rate': 0.2,\n",
       "   'max_depth': 10,\n",
       "   'min_child_weight': 7.5,\n",
       "   'n_estimators': 700,\n",
       "   'subsample': 0.8},\n",
       "  {'colsample_bytree': 0.6,\n",
       "   'gamma': 2,\n",
       "   'learning_rate': 0.2,\n",
       "   'max_depth': 7,\n",
       "   'min_child_weight': 1,\n",
       "   'n_estimators': 50,\n",
       "   'subsample': 0.6},\n",
       "  {'colsample_bytree': 0.6,\n",
       "   'gamma': 0.5,\n",
       "   'learning_rate': 0.02,\n",
       "   'max_depth': 5,\n",
       "   'min_child_weight': 1,\n",
       "   'n_estimators': 1000,\n",
       "   'subsample': 1.0},\n",
       "  {'colsample_bytree': 0.8,\n",
       "   'gamma': 5,\n",
       "   'learning_rate': 0.05,\n",
       "   'max_depth': 9,\n",
       "   'min_child_weight': 5,\n",
       "   'n_estimators': 3,\n",
       "   'subsample': 0.8},\n",
       "  {'colsample_bytree': 1.0,\n",
       "   'gamma': 2,\n",
       "   'learning_rate': 0.05,\n",
       "   'max_depth': 9,\n",
       "   'min_child_weight': 10,\n",
       "   'n_estimators': 700,\n",
       "   'subsample': 0.8},\n",
       "  {'colsample_bytree': 1.0,\n",
       "   'gamma': 1,\n",
       "   'learning_rate': 0.01,\n",
       "   'max_depth': 7,\n",
       "   'min_child_weight': 7.5,\n",
       "   'n_estimators': 3,\n",
       "   'subsample': 1.0},\n",
       "  {'colsample_bytree': 0.6,\n",
       "   'gamma': 1.5,\n",
       "   'learning_rate': 0.15,\n",
       "   'max_depth': 9,\n",
       "   'min_child_weight': 5,\n",
       "   'n_estimators': 100,\n",
       "   'subsample': 0.8},\n",
       "  {'colsample_bytree': 1.0,\n",
       "   'gamma': 2,\n",
       "   'learning_rate': 0.1,\n",
       "   'max_depth': 8,\n",
       "   'min_child_weight': 5,\n",
       "   'n_estimators': 500,\n",
       "   'subsample': 0.8},\n",
       "  {'colsample_bytree': 0.6,\n",
       "   'gamma': 1,\n",
       "   'learning_rate': 0.1,\n",
       "   'max_depth': 5,\n",
       "   'min_child_weight': 7.5,\n",
       "   'n_estimators': 100,\n",
       "   'subsample': 0.8},\n",
       "  {'colsample_bytree': 0.6,\n",
       "   'gamma': 5,\n",
       "   'learning_rate': 0.02,\n",
       "   'max_depth': 3,\n",
       "   'min_child_weight': 7.5,\n",
       "   'n_estimators': 100,\n",
       "   'subsample': 1.0},\n",
       "  {'colsample_bytree': 0.8,\n",
       "   'gamma': 5,\n",
       "   'learning_rate': 0.02,\n",
       "   'max_depth': 5,\n",
       "   'min_child_weight': 10,\n",
       "   'n_estimators': 50,\n",
       "   'subsample': 0.6},\n",
       "  {'colsample_bytree': 0.8,\n",
       "   'gamma': 0.5,\n",
       "   'learning_rate': 0.05,\n",
       "   'max_depth': 8,\n",
       "   'min_child_weight': 5,\n",
       "   'n_estimators': 700,\n",
       "   'subsample': 1.0},\n",
       "  {'colsample_bytree': 1.0,\n",
       "   'gamma': 1,\n",
       "   'learning_rate': 0.15,\n",
       "   'max_depth': 4,\n",
       "   'min_child_weight': 10,\n",
       "   'n_estimators': 50,\n",
       "   'subsample': 0.8},\n",
       "  {'colsample_bytree': 1.0,\n",
       "   'gamma': 0.5,\n",
       "   'learning_rate': 0.2,\n",
       "   'max_depth': 8,\n",
       "   'min_child_weight': 5,\n",
       "   'n_estimators': 200,\n",
       "   'subsample': 0.8},\n",
       "  {'colsample_bytree': 1.0,\n",
       "   'gamma': 5,\n",
       "   'learning_rate': 0.2,\n",
       "   'max_depth': 8,\n",
       "   'min_child_weight': 5,\n",
       "   'n_estimators': 500,\n",
       "   'subsample': 1.0},\n",
       "  {'colsample_bytree': 0.6,\n",
       "   'gamma': 2,\n",
       "   'learning_rate': 0.2,\n",
       "   'max_depth': 9,\n",
       "   'min_child_weight': 10,\n",
       "   'n_estimators': 3,\n",
       "   'subsample': 0.6},\n",
       "  {'colsample_bytree': 1.0,\n",
       "   'gamma': 0.5,\n",
       "   'learning_rate': 0.02,\n",
       "   'max_depth': 4,\n",
       "   'min_child_weight': 1,\n",
       "   'n_estimators': 500,\n",
       "   'subsample': 1.0},\n",
       "  {'colsample_bytree': 0.6,\n",
       "   'gamma': 0.5,\n",
       "   'learning_rate': 0.05,\n",
       "   'max_depth': 7,\n",
       "   'min_child_weight': 1,\n",
       "   'n_estimators': 50,\n",
       "   'subsample': 1.0},\n",
       "  {'colsample_bytree': 0.6,\n",
       "   'gamma': 0.5,\n",
       "   'learning_rate': 0.02,\n",
       "   'max_depth': 4,\n",
       "   'min_child_weight': 1,\n",
       "   'n_estimators': 500,\n",
       "   'subsample': 0.8},\n",
       "  {'colsample_bytree': 1.0,\n",
       "   'gamma': 5,\n",
       "   'learning_rate': 0.15,\n",
       "   'max_depth': 10,\n",
       "   'min_child_weight': 1,\n",
       "   'n_estimators': 200,\n",
       "   'subsample': 1.0},\n",
       "  {'colsample_bytree': 1.0,\n",
       "   'gamma': 2,\n",
       "   'learning_rate': 0.2,\n",
       "   'max_depth': 6,\n",
       "   'min_child_weight': 10,\n",
       "   'n_estimators': 200,\n",
       "   'subsample': 0.8},\n",
       "  {'colsample_bytree': 0.6,\n",
       "   'gamma': 0.5,\n",
       "   'learning_rate': 0.1,\n",
       "   'max_depth': 7,\n",
       "   'min_child_weight': 10,\n",
       "   'n_estimators': 1000,\n",
       "   'subsample': 0.6},\n",
       "  {'colsample_bytree': 0.6,\n",
       "   'gamma': 1,\n",
       "   'learning_rate': 0.02,\n",
       "   'max_depth': 10,\n",
       "   'min_child_weight': 1,\n",
       "   'n_estimators': 1000,\n",
       "   'subsample': 0.8},\n",
       "  {'colsample_bytree': 0.8,\n",
       "   'gamma': 5,\n",
       "   'learning_rate': 0.05,\n",
       "   'max_depth': 5,\n",
       "   'min_child_weight': 1,\n",
       "   'n_estimators': 1000,\n",
       "   'subsample': 0.8},\n",
       "  {'colsample_bytree': 0.8,\n",
       "   'gamma': 5,\n",
       "   'learning_rate': 0.15,\n",
       "   'max_depth': 5,\n",
       "   'min_child_weight': 7.5,\n",
       "   'n_estimators': 3,\n",
       "   'subsample': 1.0},\n",
       "  {'colsample_bytree': 0.6,\n",
       "   'gamma': 5,\n",
       "   'learning_rate': 0.05,\n",
       "   'max_depth': 4,\n",
       "   'min_child_weight': 1,\n",
       "   'n_estimators': 500,\n",
       "   'subsample': 0.6},\n",
       "  {'colsample_bytree': 1.0,\n",
       "   'gamma': 2,\n",
       "   'learning_rate': 0.02,\n",
       "   'max_depth': 10,\n",
       "   'min_child_weight': 5,\n",
       "   'n_estimators': 200,\n",
       "   'subsample': 0.8},\n",
       "  {'colsample_bytree': 0.6,\n",
       "   'gamma': 5,\n",
       "   'learning_rate': 0.2,\n",
       "   'max_depth': 6,\n",
       "   'min_child_weight': 5,\n",
       "   'n_estimators': 100,\n",
       "   'subsample': 1.0},\n",
       "  {'colsample_bytree': 0.8,\n",
       "   'gamma': 1.5,\n",
       "   'learning_rate': 0.01,\n",
       "   'max_depth': 8,\n",
       "   'min_child_weight': 7.5,\n",
       "   'n_estimators': 100,\n",
       "   'subsample': 0.8},\n",
       "  {'colsample_bytree': 0.6,\n",
       "   'gamma': 1,\n",
       "   'learning_rate': 0.1,\n",
       "   'max_depth': 7,\n",
       "   'min_child_weight': 1,\n",
       "   'n_estimators': 500,\n",
       "   'subsample': 0.6},\n",
       "  {'colsample_bytree': 0.8,\n",
       "   'gamma': 1,\n",
       "   'learning_rate': 0.15,\n",
       "   'max_depth': 10,\n",
       "   'min_child_weight': 1,\n",
       "   'n_estimators': 500,\n",
       "   'subsample': 0.6},\n",
       "  {'colsample_bytree': 1.0,\n",
       "   'gamma': 0.5,\n",
       "   'learning_rate': 0.02,\n",
       "   'max_depth': 8,\n",
       "   'min_child_weight': 5,\n",
       "   'n_estimators': 3,\n",
       "   'subsample': 0.8},\n",
       "  {'colsample_bytree': 0.8,\n",
       "   'gamma': 1,\n",
       "   'learning_rate': 0.05,\n",
       "   'max_depth': 4,\n",
       "   'min_child_weight': 5,\n",
       "   'n_estimators': 700,\n",
       "   'subsample': 1.0},\n",
       "  {'colsample_bytree': 0.6,\n",
       "   'gamma': 5,\n",
       "   'learning_rate': 0.15,\n",
       "   'max_depth': 4,\n",
       "   'min_child_weight': 7.5,\n",
       "   'n_estimators': 3,\n",
       "   'subsample': 0.6},\n",
       "  {'colsample_bytree': 1.0,\n",
       "   'gamma': 5,\n",
       "   'learning_rate': 0.01,\n",
       "   'max_depth': 9,\n",
       "   'min_child_weight': 7.5,\n",
       "   'n_estimators': 100,\n",
       "   'subsample': 0.8},\n",
       "  {'colsample_bytree': 0.6,\n",
       "   'gamma': 5,\n",
       "   'learning_rate': 0.1,\n",
       "   'max_depth': 6,\n",
       "   'min_child_weight': 5,\n",
       "   'n_estimators': 500,\n",
       "   'subsample': 1.0},\n",
       "  {'colsample_bytree': 0.6,\n",
       "   'gamma': 0.5,\n",
       "   'learning_rate': 0.15,\n",
       "   'max_depth': 3,\n",
       "   'min_child_weight': 7.5,\n",
       "   'n_estimators': 700,\n",
       "   'subsample': 1.0},\n",
       "  {'colsample_bytree': 1.0,\n",
       "   'gamma': 5,\n",
       "   'learning_rate': 0.05,\n",
       "   'max_depth': 9,\n",
       "   'min_child_weight': 5,\n",
       "   'n_estimators': 3,\n",
       "   'subsample': 1.0},\n",
       "  {'colsample_bytree': 1.0,\n",
       "   'gamma': 5,\n",
       "   'learning_rate': 0.15,\n",
       "   'max_depth': 3,\n",
       "   'min_child_weight': 1,\n",
       "   'n_estimators': 500,\n",
       "   'subsample': 1.0},\n",
       "  {'colsample_bytree': 0.6,\n",
       "   'gamma': 0.5,\n",
       "   'learning_rate': 0.01,\n",
       "   'max_depth': 5,\n",
       "   'min_child_weight': 5,\n",
       "   'n_estimators': 3,\n",
       "   'subsample': 0.6},\n",
       "  {'colsample_bytree': 0.6,\n",
       "   'gamma': 5,\n",
       "   'learning_rate': 0.15,\n",
       "   'max_depth': 6,\n",
       "   'min_child_weight': 7.5,\n",
       "   'n_estimators': 100,\n",
       "   'subsample': 1.0},\n",
       "  {'colsample_bytree': 0.8,\n",
       "   'gamma': 2,\n",
       "   'learning_rate': 0.2,\n",
       "   'max_depth': 4,\n",
       "   'min_child_weight': 10,\n",
       "   'n_estimators': 200,\n",
       "   'subsample': 0.8},\n",
       "  {'colsample_bytree': 1.0,\n",
       "   'gamma': 2,\n",
       "   'learning_rate': 0.05,\n",
       "   'max_depth': 3,\n",
       "   'min_child_weight': 7.5,\n",
       "   'n_estimators': 100,\n",
       "   'subsample': 1.0},\n",
       "  {'colsample_bytree': 0.6,\n",
       "   'gamma': 0.5,\n",
       "   'learning_rate': 0.05,\n",
       "   'max_depth': 9,\n",
       "   'min_child_weight': 7.5,\n",
       "   'n_estimators': 200,\n",
       "   'subsample': 0.6},\n",
       "  {'colsample_bytree': 1.0,\n",
       "   'gamma': 5,\n",
       "   'learning_rate': 0.01,\n",
       "   'max_depth': 8,\n",
       "   'min_child_weight': 1,\n",
       "   'n_estimators': 1000,\n",
       "   'subsample': 0.6},\n",
       "  {'colsample_bytree': 0.6,\n",
       "   'gamma': 0.5,\n",
       "   'learning_rate': 0.02,\n",
       "   'max_depth': 10,\n",
       "   'min_child_weight': 1,\n",
       "   'n_estimators': 100,\n",
       "   'subsample': 0.8},\n",
       "  {'colsample_bytree': 0.8,\n",
       "   'gamma': 1.5,\n",
       "   'learning_rate': 0.15,\n",
       "   'max_depth': 10,\n",
       "   'min_child_weight': 7.5,\n",
       "   'n_estimators': 200,\n",
       "   'subsample': 0.6},\n",
       "  {'colsample_bytree': 1.0,\n",
       "   'gamma': 1.5,\n",
       "   'learning_rate': 0.1,\n",
       "   'max_depth': 6,\n",
       "   'min_child_weight': 5,\n",
       "   'n_estimators': 100,\n",
       "   'subsample': 0.8},\n",
       "  {'colsample_bytree': 0.6,\n",
       "   'gamma': 1.5,\n",
       "   'learning_rate': 0.15,\n",
       "   'max_depth': 10,\n",
       "   'min_child_weight': 7.5,\n",
       "   'n_estimators': 500,\n",
       "   'subsample': 0.6},\n",
       "  {'colsample_bytree': 0.6,\n",
       "   'gamma': 0.5,\n",
       "   'learning_rate': 0.2,\n",
       "   'max_depth': 5,\n",
       "   'min_child_weight': 5,\n",
       "   'n_estimators': 100,\n",
       "   'subsample': 0.8},\n",
       "  {'colsample_bytree': 0.6,\n",
       "   'gamma': 0.5,\n",
       "   'learning_rate': 0.2,\n",
       "   'max_depth': 9,\n",
       "   'min_child_weight': 5,\n",
       "   'n_estimators': 50,\n",
       "   'subsample': 1.0},\n",
       "  {'colsample_bytree': 1.0,\n",
       "   'gamma': 0.5,\n",
       "   'learning_rate': 0.02,\n",
       "   'max_depth': 10,\n",
       "   'min_child_weight': 5,\n",
       "   'n_estimators': 50,\n",
       "   'subsample': 1.0},\n",
       "  {'colsample_bytree': 0.8,\n",
       "   'gamma': 1.5,\n",
       "   'learning_rate': 0.1,\n",
       "   'max_depth': 8,\n",
       "   'min_child_weight': 10,\n",
       "   'n_estimators': 700,\n",
       "   'subsample': 1.0},\n",
       "  {'colsample_bytree': 1.0,\n",
       "   'gamma': 5,\n",
       "   'learning_rate': 0.2,\n",
       "   'max_depth': 8,\n",
       "   'min_child_weight': 1,\n",
       "   'n_estimators': 50,\n",
       "   'subsample': 0.8},\n",
       "  {'colsample_bytree': 0.6,\n",
       "   'gamma': 2,\n",
       "   'learning_rate': 0.1,\n",
       "   'max_depth': 7,\n",
       "   'min_child_weight': 7.5,\n",
       "   'n_estimators': 500,\n",
       "   'subsample': 0.6},\n",
       "  {'colsample_bytree': 0.8,\n",
       "   'gamma': 0.5,\n",
       "   'learning_rate': 0.05,\n",
       "   'max_depth': 6,\n",
       "   'min_child_weight': 5,\n",
       "   'n_estimators': 3,\n",
       "   'subsample': 0.6},\n",
       "  {'colsample_bytree': 0.6,\n",
       "   'gamma': 1.5,\n",
       "   'learning_rate': 0.1,\n",
       "   'max_depth': 9,\n",
       "   'min_child_weight': 7.5,\n",
       "   'n_estimators': 3,\n",
       "   'subsample': 0.8},\n",
       "  {'colsample_bytree': 0.6,\n",
       "   'gamma': 1.5,\n",
       "   'learning_rate': 0.02,\n",
       "   'max_depth': 3,\n",
       "   'min_child_weight': 7.5,\n",
       "   'n_estimators': 500,\n",
       "   'subsample': 1.0},\n",
       "  {'colsample_bytree': 1.0,\n",
       "   'gamma': 0.5,\n",
       "   'learning_rate': 0.15,\n",
       "   'max_depth': 6,\n",
       "   'min_child_weight': 10,\n",
       "   'n_estimators': 3,\n",
       "   'subsample': 0.6},\n",
       "  {'colsample_bytree': 1.0,\n",
       "   'gamma': 0.5,\n",
       "   'learning_rate': 0.15,\n",
       "   'max_depth': 3,\n",
       "   'min_child_weight': 1,\n",
       "   'n_estimators': 500,\n",
       "   'subsample': 0.8},\n",
       "  {'colsample_bytree': 0.6,\n",
       "   'gamma': 1.5,\n",
       "   'learning_rate': 0.01,\n",
       "   'max_depth': 7,\n",
       "   'min_child_weight': 5,\n",
       "   'n_estimators': 500,\n",
       "   'subsample': 0.6},\n",
       "  {'colsample_bytree': 1.0,\n",
       "   'gamma': 0.5,\n",
       "   'learning_rate': 0.1,\n",
       "   'max_depth': 10,\n",
       "   'min_child_weight': 10,\n",
       "   'n_estimators': 500,\n",
       "   'subsample': 1.0},\n",
       "  {'colsample_bytree': 0.6,\n",
       "   'gamma': 1.5,\n",
       "   'learning_rate': 0.15,\n",
       "   'max_depth': 6,\n",
       "   'min_child_weight': 1,\n",
       "   'n_estimators': 500,\n",
       "   'subsample': 0.6},\n",
       "  {'colsample_bytree': 0.8,\n",
       "   'gamma': 0.5,\n",
       "   'learning_rate': 0.2,\n",
       "   'max_depth': 7,\n",
       "   'min_child_weight': 5,\n",
       "   'n_estimators': 1000,\n",
       "   'subsample': 1.0},\n",
       "  {'colsample_bytree': 0.6,\n",
       "   'gamma': 0.5,\n",
       "   'learning_rate': 0.1,\n",
       "   'max_depth': 10,\n",
       "   'min_child_weight': 1,\n",
       "   'n_estimators': 100,\n",
       "   'subsample': 1.0},\n",
       "  {'colsample_bytree': 1.0,\n",
       "   'gamma': 2,\n",
       "   'learning_rate': 0.2,\n",
       "   'max_depth': 7,\n",
       "   'min_child_weight': 10,\n",
       "   'n_estimators': 1000,\n",
       "   'subsample': 0.6},\n",
       "  {'colsample_bytree': 1.0,\n",
       "   'gamma': 5,\n",
       "   'learning_rate': 0.1,\n",
       "   'max_depth': 5,\n",
       "   'min_child_weight': 10,\n",
       "   'n_estimators': 500,\n",
       "   'subsample': 0.6},\n",
       "  {'colsample_bytree': 1.0,\n",
       "   'gamma': 2,\n",
       "   'learning_rate': 0.15,\n",
       "   'max_depth': 6,\n",
       "   'min_child_weight': 5,\n",
       "   'n_estimators': 200,\n",
       "   'subsample': 0.8},\n",
       "  {'colsample_bytree': 1.0,\n",
       "   'gamma': 2,\n",
       "   'learning_rate': 0.1,\n",
       "   'max_depth': 5,\n",
       "   'min_child_weight': 5,\n",
       "   'n_estimators': 700,\n",
       "   'subsample': 1.0},\n",
       "  {'colsample_bytree': 0.8,\n",
       "   'gamma': 0.5,\n",
       "   'learning_rate': 0.15,\n",
       "   'max_depth': 10,\n",
       "   'min_child_weight': 7.5,\n",
       "   'n_estimators': 50,\n",
       "   'subsample': 1.0},\n",
       "  {'colsample_bytree': 1.0,\n",
       "   'gamma': 5,\n",
       "   'learning_rate': 0.1,\n",
       "   'max_depth': 7,\n",
       "   'min_child_weight': 5,\n",
       "   'n_estimators': 3,\n",
       "   'subsample': 0.8},\n",
       "  {'colsample_bytree': 1.0,\n",
       "   'gamma': 1.5,\n",
       "   'learning_rate': 0.01,\n",
       "   'max_depth': 5,\n",
       "   'min_child_weight': 1,\n",
       "   'n_estimators': 50,\n",
       "   'subsample': 0.6},\n",
       "  {'colsample_bytree': 1.0,\n",
       "   'gamma': 5,\n",
       "   'learning_rate': 0.2,\n",
       "   'max_depth': 4,\n",
       "   'min_child_weight': 1,\n",
       "   'n_estimators': 100,\n",
       "   'subsample': 1.0},\n",
       "  {'colsample_bytree': 0.6,\n",
       "   'gamma': 5,\n",
       "   'learning_rate': 0.02,\n",
       "   'max_depth': 7,\n",
       "   'min_child_weight': 5,\n",
       "   'n_estimators': 3,\n",
       "   'subsample': 1.0},\n",
       "  {'colsample_bytree': 1.0,\n",
       "   'gamma': 1,\n",
       "   'learning_rate': 0.01,\n",
       "   'max_depth': 10,\n",
       "   'min_child_weight': 5,\n",
       "   'n_estimators': 500,\n",
       "   'subsample': 0.8},\n",
       "  {'colsample_bytree': 1.0,\n",
       "   'gamma': 0.5,\n",
       "   'learning_rate': 0.02,\n",
       "   'max_depth': 3,\n",
       "   'min_child_weight': 1,\n",
       "   'n_estimators': 3,\n",
       "   'subsample': 1.0},\n",
       "  {'colsample_bytree': 0.6,\n",
       "   'gamma': 2,\n",
       "   'learning_rate': 0.1,\n",
       "   'max_depth': 8,\n",
       "   'min_child_weight': 1,\n",
       "   'n_estimators': 200,\n",
       "   'subsample': 0.6},\n",
       "  {'colsample_bytree': 0.8,\n",
       "   'gamma': 2,\n",
       "   'learning_rate': 0.2,\n",
       "   'max_depth': 6,\n",
       "   'min_child_weight': 7.5,\n",
       "   'n_estimators': 200,\n",
       "   'subsample': 0.8},\n",
       "  {'colsample_bytree': 0.8,\n",
       "   'gamma': 1,\n",
       "   'learning_rate': 0.1,\n",
       "   'max_depth': 6,\n",
       "   'min_child_weight': 10,\n",
       "   'n_estimators': 100,\n",
       "   'subsample': 1.0},\n",
       "  {'colsample_bytree': 0.6,\n",
       "   'gamma': 0.5,\n",
       "   'learning_rate': 0.05,\n",
       "   'max_depth': 5,\n",
       "   'min_child_weight': 10,\n",
       "   'n_estimators': 200,\n",
       "   'subsample': 0.8},\n",
       "  {'colsample_bytree': 0.6,\n",
       "   'gamma': 0.5,\n",
       "   'learning_rate': 0.2,\n",
       "   'max_depth': 9,\n",
       "   'min_child_weight': 10,\n",
       "   'n_estimators': 700,\n",
       "   'subsample': 0.8},\n",
       "  {'colsample_bytree': 0.8,\n",
       "   'gamma': 0.5,\n",
       "   'learning_rate': 0.2,\n",
       "   'max_depth': 7,\n",
       "   'min_child_weight': 10,\n",
       "   'n_estimators': 1000,\n",
       "   'subsample': 1.0},\n",
       "  {'colsample_bytree': 0.6,\n",
       "   'gamma': 5,\n",
       "   'learning_rate': 0.15,\n",
       "   'max_depth': 10,\n",
       "   'min_child_weight': 7.5,\n",
       "   'n_estimators': 200,\n",
       "   'subsample': 1.0},\n",
       "  {'colsample_bytree': 0.6,\n",
       "   'gamma': 0.5,\n",
       "   'learning_rate': 0.02,\n",
       "   'max_depth': 7,\n",
       "   'min_child_weight': 1,\n",
       "   'n_estimators': 500,\n",
       "   'subsample': 0.8},\n",
       "  {'colsample_bytree': 0.6,\n",
       "   'gamma': 1.5,\n",
       "   'learning_rate': 0.2,\n",
       "   'max_depth': 5,\n",
       "   'min_child_weight': 7.5,\n",
       "   'n_estimators': 1000,\n",
       "   'subsample': 0.8},\n",
       "  {'colsample_bytree': 1.0,\n",
       "   'gamma': 0.5,\n",
       "   'learning_rate': 0.15,\n",
       "   'max_depth': 9,\n",
       "   'min_child_weight': 7.5,\n",
       "   'n_estimators': 1000,\n",
       "   'subsample': 0.8},\n",
       "  {'colsample_bytree': 0.6,\n",
       "   'gamma': 2,\n",
       "   'learning_rate': 0.02,\n",
       "   'max_depth': 10,\n",
       "   'min_child_weight': 7.5,\n",
       "   'n_estimators': 1000,\n",
       "   'subsample': 0.8},\n",
       "  {'colsample_bytree': 1.0,\n",
       "   'gamma': 2,\n",
       "   'learning_rate': 0.01,\n",
       "   'max_depth': 9,\n",
       "   'min_child_weight': 10,\n",
       "   'n_estimators': 500,\n",
       "   'subsample': 0.6},\n",
       "  {'colsample_bytree': 1.0,\n",
       "   'gamma': 0.5,\n",
       "   'learning_rate': 0.01,\n",
       "   'max_depth': 8,\n",
       "   'min_child_weight': 1,\n",
       "   'n_estimators': 700,\n",
       "   'subsample': 1.0},\n",
       "  {'colsample_bytree': 0.6,\n",
       "   'gamma': 1.5,\n",
       "   'learning_rate': 0.05,\n",
       "   'max_depth': 6,\n",
       "   'min_child_weight': 5,\n",
       "   'n_estimators': 200,\n",
       "   'subsample': 1.0},\n",
       "  {'colsample_bytree': 1.0,\n",
       "   'gamma': 1,\n",
       "   'learning_rate': 0.05,\n",
       "   'max_depth': 3,\n",
       "   'min_child_weight': 7.5,\n",
       "   'n_estimators': 1000,\n",
       "   'subsample': 1.0},\n",
       "  {'colsample_bytree': 0.6,\n",
       "   'gamma': 1,\n",
       "   'learning_rate': 0.15,\n",
       "   'max_depth': 4,\n",
       "   'min_child_weight': 10,\n",
       "   'n_estimators': 100,\n",
       "   'subsample': 0.6},\n",
       "  {'colsample_bytree': 0.6,\n",
       "   'gamma': 1,\n",
       "   'learning_rate': 0.05,\n",
       "   'max_depth': 6,\n",
       "   'min_child_weight': 7.5,\n",
       "   'n_estimators': 50,\n",
       "   'subsample': 1.0},\n",
       "  {'colsample_bytree': 0.6,\n",
       "   'gamma': 0.5,\n",
       "   'learning_rate': 0.01,\n",
       "   'max_depth': 4,\n",
       "   'min_child_weight': 10,\n",
       "   'n_estimators': 500,\n",
       "   'subsample': 1.0},\n",
       "  {'colsample_bytree': 0.8,\n",
       "   'gamma': 5,\n",
       "   'learning_rate': 0.02,\n",
       "   'max_depth': 4,\n",
       "   'min_child_weight': 5,\n",
       "   'n_estimators': 3,\n",
       "   'subsample': 0.6},\n",
       "  {'colsample_bytree': 0.8,\n",
       "   'gamma': 1,\n",
       "   'learning_rate': 0.1,\n",
       "   'max_depth': 7,\n",
       "   'min_child_weight': 1,\n",
       "   'n_estimators': 500,\n",
       "   'subsample': 0.8},\n",
       "  {'colsample_bytree': 0.8,\n",
       "   'gamma': 2,\n",
       "   'learning_rate': 0.05,\n",
       "   'max_depth': 4,\n",
       "   'min_child_weight': 10,\n",
       "   'n_estimators': 700,\n",
       "   'subsample': 0.8},\n",
       "  {'colsample_bytree': 0.8,\n",
       "   'gamma': 2,\n",
       "   'learning_rate': 0.01,\n",
       "   'max_depth': 7,\n",
       "   'min_child_weight': 1,\n",
       "   'n_estimators': 500,\n",
       "   'subsample': 1.0},\n",
       "  {'colsample_bytree': 0.6,\n",
       "   'gamma': 1.5,\n",
       "   'learning_rate': 0.2,\n",
       "   'max_depth': 4,\n",
       "   'min_child_weight': 5,\n",
       "   'n_estimators': 50,\n",
       "   'subsample': 1.0},\n",
       "  {'colsample_bytree': 0.8,\n",
       "   'gamma': 1.5,\n",
       "   'learning_rate': 0.02,\n",
       "   'max_depth': 5,\n",
       "   'min_child_weight': 10,\n",
       "   'n_estimators': 3,\n",
       "   'subsample': 0.6}],\n",
       " 'rank_test_score': array([ 37,  70,  64,  92,   6,  99,  13,  28,  36,  78,  74,  12,  52,\n",
       "         29,  42,  73,  71,  50,  68,  75,  22,  23,  61,  81,  83,  76,\n",
       "          4,  20,  54,  82,  90,  94,  57,  87,  40,  25,  60,  91,  77,\n",
       "        100,  16,  47,  67,  10,  63,  38,  14,  24,  17,  43,   8,  31,\n",
       "         11,  69,  18,  93,  85,  66,  80,  88,  26,   9,  89,  59,  44,\n",
       "         34,  41,  35,  48,   1,  84,  86,  65,  95,   3,  98,  72,  27,\n",
       "         15,  30,  21,  33,   2,  55,  56,  39,   5,   7,  49,  19,  62,\n",
       "         51,  32,  58,  97,  79,  45,  46,  53,  96], dtype=int32),\n",
       " 'split0_test_score': array([0.19690148, 0.14136179, 0.16219454, 0.04386404, 0.22492784,\n",
       "        0.00437313, 0.19797484, 0.19941598, 0.18394601, 0.10578745,\n",
       "        0.12153677, 0.221552  , 0.16712536, 0.19442534, 0.20098337,\n",
       "        0.11732493, 0.14883069, 0.17677871, 0.14479069, 0.12495809,\n",
       "        0.19502624, 0.1978472 , 0.1748191 , 0.12220512, 0.08996327,\n",
       "        0.13036689, 0.23063741, 0.20041643, 0.16141786, 0.09857035,\n",
       "        0.08478877, 0.01601772, 0.15641643, 0.06177435, 0.18231283,\n",
       "        0.19647465, 0.15583362, 0.04640378, 0.13238554, 0.00124895,\n",
       "        0.20399389, 0.17119108, 0.13891673, 0.21400152, 0.1680929 ,\n",
       "        0.18767873, 0.20783038, 0.19269492, 0.19514712, 0.16479054,\n",
       "        0.21868117, 0.18855586, 0.21539606, 0.15510491, 0.20086534,\n",
       "        0.03392206, 0.07034963, 0.13985773, 0.09043945, 0.08007369,\n",
       "        0.19335914, 0.22481304, 0.07689737, 0.16808747, 0.18924228,\n",
       "        0.18087545, 0.17868308, 0.17943477, 0.17831569, 0.23839   ,\n",
       "        0.08121618, 0.07645033, 0.15091993, 0.01018598, 0.2310343 ,\n",
       "        0.00595493, 0.13325273, 0.19765182, 0.20636186, 0.18996909,\n",
       "        0.1875279 , 0.19279627, 0.21886411, 0.17862936, 0.16529775,\n",
       "        0.19678271, 0.22477517, 0.22134133, 0.17484563, 0.19621175,\n",
       "        0.1541121 , 0.16759821, 0.18133238, 0.15314975, 0.00798261,\n",
       "        0.12566001, 0.17487139, 0.18835705, 0.15881364, 0.0104608 ]),\n",
       " 'split1_test_score': array([0.19415079, 0.15926601, 0.15755454, 0.05323893, 0.22568929,\n",
       "        0.00739501, 0.19895747, 0.17740397, 0.19329758, 0.12941418,\n",
       "        0.14151207, 0.19484664, 0.18548661, 0.17437786, 0.17360244,\n",
       "        0.14448915, 0.13357784, 0.17221628, 0.14992994, 0.0933652 ,\n",
       "        0.20008282, 0.20395576, 0.15779828, 0.12584258, 0.10580857,\n",
       "        0.13670249, 0.21400497, 0.19901534, 0.17433773, 0.10730796,\n",
       "        0.06019588, 0.01841964, 0.17907861, 0.08811813, 0.18582379,\n",
       "        0.19070131, 0.16765603, 0.05537161, 0.11594651, 0.00469342,\n",
       "        0.20671132, 0.1876416 , 0.15324586, 0.22048512, 0.16220565,\n",
       "        0.18341877, 0.21922809, 0.19803843, 0.20242956, 0.19928717,\n",
       "        0.19898653, 0.18771664, 0.21337768, 0.16113151, 0.21014423,\n",
       "        0.04801511, 0.08585399, 0.16043698, 0.10904757, 0.10673921,\n",
       "        0.20013253, 0.21461322, 0.0858561 , 0.15861867, 0.15948926,\n",
       "        0.19751796, 0.19973983, 0.18647402, 0.17422968, 0.2260336 ,\n",
       "        0.08399558, 0.08461162, 0.14668993, 0.01579495, 0.21069414,\n",
       "        0.01021778, 0.14230513, 0.19755142, 0.21136385, 0.19759069,\n",
       "        0.20031789, 0.19851956, 0.22508439, 0.17165591, 0.18303794,\n",
       "        0.1957982 , 0.22167616, 0.22248269, 0.15358476, 0.19960912,\n",
       "        0.15885231, 0.18217003, 0.19176021, 0.17720321, 0.01400623,\n",
       "        0.12168573, 0.19010462, 0.16939717, 0.18074143, 0.01665884]),\n",
       " 'split2_test_score': array([0.14807462, 0.11333138, 0.13884423, 0.0523136 , 0.22629245,\n",
       "        0.00577252, 0.22338714, 0.20409141, 0.19850454, 0.11723523,\n",
       "        0.13200726, 0.22618982, 0.17949427, 0.21644556, 0.19336112,\n",
       "        0.13809769, 0.12119207, 0.17789941, 0.13512954, 0.13344958,\n",
       "        0.20793915, 0.19800264, 0.13143972, 0.03002163, 0.0984275 ,\n",
       "        0.10228609, 0.23778844, 0.21667764, 0.17671383, 0.07826472,\n",
       "        0.04872979, 0.01852323, 0.17565492, 0.08171177, 0.18953276,\n",
       "        0.20906127, 0.15995415, 0.05526431, 0.1484473 , 0.00287132,\n",
       "        0.21535857, 0.18870027, 0.14551936, 0.2227543 , 0.13185462,\n",
       "        0.19876585, 0.20856823, 0.21316291, 0.21933002, 0.18414507,\n",
       "        0.24406908, 0.21552619, 0.22268966, 0.11099611, 0.20824806,\n",
       "        0.04251791, 0.09015248, 0.15024944, 0.10540773, 0.02925003,\n",
       "        0.20646587, 0.23326226, 0.00882833, 0.18552831, 0.17577413,\n",
       "        0.20072725, 0.18792449, 0.2013773 , 0.18315709, 0.23676746,\n",
       "        0.08998191, 0.07696248, 0.17700463, 0.01577139, 0.2411402 ,\n",
       "        0.00547987, 0.11470173, 0.19544544, 0.21317289, 0.19928571,\n",
       "        0.20737221, 0.18776854, 0.23493548, 0.1564618 , 0.16866729,\n",
       "        0.16172501, 0.22697581, 0.22941702, 0.18696346, 0.21693454,\n",
       "        0.16162158, 0.18299425, 0.19431054, 0.17061059, 0.01038073,\n",
       "        0.07248304, 0.18344819, 0.17933322, 0.16663824, 0.01325004]),\n",
       " 'split3_test_score': array([0.19150289, 0.13516752, 0.15367031, 0.04188188, 0.20874231,\n",
       "        0.00404074, 0.19117535, 0.18844648, 0.16517894, 0.11047147,\n",
       "        0.11995309, 0.19101498, 0.15157837, 0.18045929, 0.17023073,\n",
       "        0.12910918, 0.14126415, 0.16038736, 0.14345368, 0.1479524 ,\n",
       "        0.18641112, 0.18268073, 0.16400396, 0.11505383, 0.08358249,\n",
       "        0.12775082, 0.20766087, 0.1829595 , 0.15539487, 0.09989939,\n",
       "        0.08839205, 0.01335145, 0.15875857, 0.06399715, 0.16992675,\n",
       "        0.17627583, 0.14076626, 0.03991604, 0.10885759, 0.00174861,\n",
       "        0.18908809, 0.15821124, 0.13830704, 0.19533545, 0.15854503,\n",
       "        0.16877656, 0.19595696, 0.18878165, 0.18986834, 0.1680995 ,\n",
       "        0.20685161, 0.16558017, 0.19126549, 0.15506048, 0.17971639,\n",
       "        0.03328389, 0.06862848, 0.13818781, 0.09634367, 0.08571088,\n",
       "        0.17638019, 0.20332327, 0.0914358 , 0.14406342, 0.18609026,\n",
       "        0.17114957, 0.16357667, 0.1782648 , 0.16275741, 0.21029051,\n",
       "        0.07492357, 0.06924434, 0.13527397, 0.00991597, 0.20620554,\n",
       "        0.00796612, 0.14092261, 0.17506708, 0.1899116 , 0.16897009,\n",
       "        0.19507636, 0.16589505, 0.21200432, 0.16988757, 0.15014014,\n",
       "        0.1779407 , 0.21120257, 0.20716241, 0.17839665, 0.18126535,\n",
       "        0.14658988, 0.15327461, 0.17403996, 0.15142584, 0.00854687,\n",
       "        0.10113523, 0.16209099, 0.17577473, 0.1669648 , 0.01096986]),\n",
       " 'split4_test_score': array([0.19689095, 0.14987717, 0.14596877, 0.04867609, 0.22025707,\n",
       "        0.00892469, 0.2198631 , 0.18533191, 0.18697356, 0.12088512,\n",
       "        0.13954861, 0.21259172, 0.16624723, 0.18349728, 0.16984236,\n",
       "        0.13217569, 0.14286094, 0.17814727, 0.1427607 , 0.13152692,\n",
       "        0.19701319, 0.2010576 , 0.1576476 , 0.10514887, 0.09459145,\n",
       "        0.12979235, 0.22158509, 0.19282096, 0.17532614, 0.11056538,\n",
       "        0.02751399, 0.01978831, 0.16931238, 0.08366889, 0.18631799,\n",
       "        0.20478516, 0.16357626, 0.05325087, 0.0892534 , 0.00590762,\n",
       "        0.20630298, 0.17730749, 0.14277617, 0.21706407, 0.1510793 ,\n",
       "        0.18799393, 0.19717221, 0.18776961, 0.19451887, 0.18153592,\n",
       "        0.22603854, 0.18481945, 0.21539959, 0.12941964, 0.20029634,\n",
       "        0.04150961, 0.08082048, 0.15125184, 0.09756479, 0.06351731,\n",
       "        0.20048473, 0.21639079, 0.08746651, 0.13868258, 0.18177111,\n",
       "        0.18026569, 0.18379899, 0.18235053, 0.16988915, 0.229261  ,\n",
       "        0.0833689 , 0.08171252, 0.14020827, 0.01648111, 0.22416676,\n",
       "        0.01082935, 0.14530596, 0.19208155, 0.20174487, 0.19210538,\n",
       "        0.19640016, 0.18675396, 0.2332492 , 0.16554768, 0.17240145,\n",
       "        0.18827349, 0.22571128, 0.21680074, 0.17376249, 0.20229437,\n",
       "        0.15569247, 0.16441486, 0.1928002 , 0.16751377, 0.0137077 ,\n",
       "        0.11599866, 0.17550933, 0.1730695 , 0.17349661, 0.01491137]),\n",
       " 'std_fit_time': array([0.46837091, 0.01273563, 0.1020675 , 0.00737098, 0.11654663,\n",
       "        0.00254854, 0.0422502 , 0.40800537, 0.01193401, 0.01394544,\n",
       "        0.01632002, 0.15956713, 0.0078584 , 0.04238997, 0.10165466,\n",
       "        0.01434405, 0.04427663, 0.01586956, 0.05829242, 0.11141512,\n",
       "        0.01470197, 0.09466869, 1.24539529, 0.07317759, 0.00521507,\n",
       "        0.03163491, 0.07349649, 0.02989523, 0.02751351, 0.04332347,\n",
       "        0.10505399, 0.00944076, 0.11763846, 0.00814315, 0.08532521,\n",
       "        0.06015048, 0.08818399, 0.00181368, 0.0420208 , 0.00140311,\n",
       "        0.01611972, 0.02977745, 0.01390386, 0.05013974, 0.04253928,\n",
       "        0.08438063, 0.04446057, 0.01589665, 0.09340512, 0.03565519,\n",
       "        0.03785329, 0.17989079, 0.07920671, 0.04197147, 0.05284904,\n",
       "        0.00605922, 0.00675711, 0.02029235, 0.00517945, 0.06589202,\n",
       "        0.07928017, 0.1227565 , 0.11144733, 0.15184378, 0.11749359,\n",
       "        0.26630122, 0.07301423, 0.03631669, 0.05673559, 0.01922976,\n",
       "        0.00265384, 0.01706099, 0.01082971, 0.00620508, 0.19105221,\n",
       "        0.00969204, 0.07306409, 0.06722915, 0.0370743 , 0.03799008,\n",
       "        0.15551987, 0.08493497, 0.02372999, 0.08893512, 0.04694201,\n",
       "        0.20760878, 0.21677389, 0.22666423, 0.51031558, 0.06276548,\n",
       "        0.05317526, 0.01770392, 0.00893353, 0.07603737, 0.00381224,\n",
       "        0.18880878, 0.01912433, 1.02761784, 0.01838201, 0.00165536]),\n",
       " 'std_score_time': array([4.79536250e-02, 3.19130673e-03, 1.40042394e-02, 4.26646289e-04,\n",
       "        1.93176672e-02, 4.82135229e-03, 1.46891506e-03, 8.80893677e-03,\n",
       "        4.55738838e-03, 7.13405049e-04, 3.87562160e-04, 1.41159629e-02,\n",
       "        3.03970602e-04, 3.08096363e-03, 9.34526939e-03, 9.89808277e-05,\n",
       "        1.03608979e-02, 3.02177708e-04, 1.22410290e-02, 1.81369924e-03,\n",
       "        1.21284400e-03, 5.27592703e-02, 8.54993983e-02, 9.55466530e-03,\n",
       "        1.72216419e-04, 6.49436588e-03, 1.18830279e-02, 1.24659947e-03,\n",
       "        1.23227954e-03, 9.06347910e-03, 2.71340402e-02, 2.57225092e-04,\n",
       "        3.39391508e-03, 2.33833212e-04, 6.75214133e-03, 3.68516959e-03,\n",
       "        5.43647489e-03, 1.41104180e-03, 8.85757329e-03, 9.28619523e-05,\n",
       "        4.92371267e-04, 1.34023481e-03, 2.34732893e-04, 3.20075007e-03,\n",
       "        4.43820511e-02, 3.44088969e-03, 3.59947928e-03, 1.95903626e-03,\n",
       "        7.85474601e-03, 1.09676139e-03, 4.51549215e-04, 4.04397798e-03,\n",
       "        5.66280357e-03, 5.20741960e-04, 1.33217646e-02, 6.19492085e-04,\n",
       "        1.92801619e-03, 1.51411210e-03, 2.13044236e-04, 2.00951825e-03,\n",
       "        4.58621173e-03, 1.59203378e-02, 1.60135566e-02, 3.80679445e-02,\n",
       "        6.45807373e-03, 2.29203788e-02, 6.82421703e-03, 6.60504071e-03,\n",
       "        5.14723542e-03, 7.91395020e-04, 1.58962119e-04, 3.04160860e-03,\n",
       "        5.64313007e-04, 1.84545135e-04, 6.87237007e-02, 3.98256627e-04,\n",
       "        3.84779993e-03, 3.92024972e-03, 2.93975913e-04, 8.41878826e-04,\n",
       "        1.58002923e-02, 1.99092602e-02, 4.11311175e-03, 6.03799019e-03,\n",
       "        8.94017466e-03, 2.25507886e-02, 6.03176258e-02, 1.68945804e-02,\n",
       "        3.14069973e-02, 1.13728786e-03, 1.12963918e-02, 3.89343978e-04,\n",
       "        8.09191831e-03, 5.19029212e-03, 7.72124964e-05, 1.65802765e-03,\n",
       "        1.39143186e-03, 4.54400542e-02, 6.45654705e-04, 1.31466901e-04]),\n",
       " 'std_test_score': array([0.01882167, 0.01552393, 0.00832342, 0.00449551, 0.00657366,\n",
       "        0.00184314, 0.01286779, 0.00965085, 0.0113791 , 0.00821356,\n",
       "        0.00890107, 0.01406724, 0.01176162, 0.01480667, 0.01300386,\n",
       "        0.00912819, 0.00951435, 0.00669975, 0.00475839, 0.01807624,\n",
       "        0.0069965 , 0.00736461, 0.01428888, 0.03552579, 0.00752447,\n",
       "        0.01192884, 0.01089055, 0.01102768, 0.00860172, 0.01125784,\n",
       "        0.02273534, 0.00228669, 0.00897237, 0.01081311, 0.00682358,\n",
       "        0.01152094, 0.00926139, 0.00602903, 0.02021567, 0.00176287,\n",
       "        0.00852777, 0.01128039, 0.00542654, 0.00976138, 0.01252929,\n",
       "        0.00970365, 0.00852539, 0.00926767, 0.01034854, 0.01235773,\n",
       "        0.01566011, 0.01593662, 0.0106628 , 0.01911674, 0.01079899,\n",
       "        0.00556409, 0.00844911, 0.00815952, 0.00665611, 0.02589943,\n",
       "        0.0103597 , 0.01007637, 0.03100158, 0.0168664 , 0.01051231,\n",
       "        0.01121764, 0.01183796, 0.00839118, 0.007004  , 0.01003786,\n",
       "        0.00485442, 0.00524268, 0.01451747, 0.00293451, 0.01286738,\n",
       "        0.00216417, 0.01103888, 0.00848991, 0.00832117, 0.01085973,\n",
       "        0.00650842, 0.01104747, 0.00863896, 0.00732261, 0.0106976 ,\n",
       "        0.01306671, 0.00570789, 0.00735008, 0.01098852, 0.01144393,\n",
       "        0.00509874, 0.01125718, 0.0078704 , 0.01006188, 0.00252376,\n",
       "        0.0193385 , 0.00940353, 0.00646538, 0.00736227, 0.00233919])}"
      ]
     },
     "execution_count": 25,
     "metadata": {},
     "output_type": "execute_result"
    }
   ],
   "source": [
    "# Print the best parameters and highest accuracy\n",
    "print(\"Best parameters found: \", model_rs.best_params_)\n",
    "print(\"Best score found: \", model_rs.best_score_)\n",
    "print(\"Feature Importance\", model_rs.best_estimator_.feature_importances_)\n",
    "model_rs.cv_results_\n"
   ]
  },
  {
   "cell_type": "code",
   "execution_count": null,
   "id": "IYyRRP2TUyon",
   "metadata": {
    "colab": {
     "base_uri": "https://localhost:8080/"
    },
    "id": "IYyRRP2TUyon",
    "outputId": "defcc712-3954-4a99-cc29-534fbd12f752"
   },
   "outputs": [
    {
     "name": "stdout",
     "output_type": "stream",
     "text": [
      "R^2 score is 0.2286069383185585\n",
      "RMSE score is 41.997668248467235\n"
     ]
    }
   ],
   "source": [
    "import sklearn.metrics as metrics\n",
    "from sklearn.metrics import mean_squared_error, r2_score, mean_absolute_error\n",
    "# R^2 score\n",
    "r2score = metrics.r2_score(y_test, y_pred)\n",
    "rmse = np.sqrt(mean_squared_error(y_test, y_pred))\n",
    "print (\"R^2 score is\", r2score)\n",
    "print (\"RMSE score is\", rmse)"
   ]
  },
  {
   "cell_type": "code",
   "execution_count": null,
   "id": "iTUt0htCLLlX",
   "metadata": {
    "id": "iTUt0htCLLlX"
   },
   "outputs": [],
   "source": []
  },
  {
   "cell_type": "code",
   "execution_count": null,
   "id": "C-fXwVtT1p4q",
   "metadata": {
    "id": "C-fXwVtT1p4q"
   },
   "outputs": [],
   "source": []
  },
  {
   "cell_type": "markdown",
   "id": "NxnEfTO9CKax",
   "metadata": {
    "id": "NxnEfTO9CKax"
   },
   "source": [
    "# Testing"
   ]
  },
  {
   "cell_type": "code",
   "execution_count": 186,
   "id": "akWqArUYCO7i",
   "metadata": {
    "id": "akWqArUYCO7i"
   },
   "outputs": [],
   "source": [
    "#using RandomForestRegression"
   ]
  },
  {
   "cell_type": "code",
   "execution_count": 94,
   "id": "a012f7af-c05a-43e0-93bf-ccf15394c132",
   "metadata": {},
   "outputs": [],
   "source": [
    "df_testing_full_info=pd.read_csv('df_merged_final_weathermodified_test.csv')"
   ]
  },
  {
   "cell_type": "code",
   "execution_count": 6,
   "id": "ircqRd_MhbPV",
   "metadata": {
    "colab": {
     "base_uri": "https://localhost:8080/",
     "height": 336
    },
    "id": "ircqRd_MhbPV",
    "outputId": "67578d67-9967-442c-8ddd-5ae74760829c"
   },
   "outputs": [],
   "source": [
    "\n",
    "# pickle_in = open(\"df_test_with_dummies.pickle\",\"rb\")\n",
    "# df_test = pickle.load(pickle_in)"
   ]
  },
  {
   "cell_type": "code",
   "execution_count": 253,
   "id": "0dd1e14e-6335-4479-a8e3-8316432107f5",
   "metadata": {},
   "outputs": [],
   "source": [
    "df_test=pd.read_csv('df_test_with_dummies.csv',index_col=[0])"
   ]
  },
  {
   "cell_type": "code",
   "execution_count": 254,
   "id": "10222c4b-da66-4ce0-b0bb-177d77ea770d",
   "metadata": {},
   "outputs": [
    {
     "data": {
      "text/html": [
       "<div>\n",
       "<style scoped>\n",
       "    .dataframe tbody tr th:only-of-type {\n",
       "        vertical-align: middle;\n",
       "    }\n",
       "\n",
       "    .dataframe tbody tr th {\n",
       "        vertical-align: top;\n",
       "    }\n",
       "\n",
       "    .dataframe thead th {\n",
       "        text-align: right;\n",
       "    }\n",
       "</style>\n",
       "<table border=\"1\" class=\"dataframe\">\n",
       "  <thead>\n",
       "    <tr style=\"text-align: right;\">\n",
       "      <th></th>\n",
       "      <th>distance</th>\n",
       "      <th>origin_airport_id</th>\n",
       "      <th>crs_dep_time</th>\n",
       "      <th>crs_arr_time</th>\n",
       "      <th>weekday</th>\n",
       "      <th>avg_arr</th>\n",
       "      <th>avg_dep</th>\n",
       "      <th>op_unique_carrier_9E</th>\n",
       "      <th>op_unique_carrier_AA</th>\n",
       "      <th>op_unique_carrier_AS</th>\n",
       "      <th>...</th>\n",
       "      <th>crs_dep_timeblk_Morning</th>\n",
       "      <th>crs_dep_timeblk_RedEye</th>\n",
       "      <th>Visibility_origin_highvisibility</th>\n",
       "      <th>Visibility_origin_lowvisibility</th>\n",
       "      <th>Visibility_origin_mediumvisbility</th>\n",
       "      <th>Visibility_destin_highvisibility</th>\n",
       "      <th>Visibility_destin_lowvisibility</th>\n",
       "      <th>Visibility_destin_mediumvisbility</th>\n",
       "      <th>windspeed_origin_lowwindspeed</th>\n",
       "      <th>windspeed_destin_lowwindspeed</th>\n",
       "    </tr>\n",
       "  </thead>\n",
       "  <tbody>\n",
       "    <tr>\n",
       "      <th>4</th>\n",
       "      <td>883</td>\n",
       "      <td>14027</td>\n",
       "      <td>700</td>\n",
       "      <td>915</td>\n",
       "      <td>2</td>\n",
       "      <td>-1.379324</td>\n",
       "      <td>6.408516</td>\n",
       "      <td>0</td>\n",
       "      <td>0</td>\n",
       "      <td>0</td>\n",
       "      <td>...</td>\n",
       "      <td>1</td>\n",
       "      <td>0</td>\n",
       "      <td>1</td>\n",
       "      <td>0</td>\n",
       "      <td>0</td>\n",
       "      <td>1</td>\n",
       "      <td>0</td>\n",
       "      <td>0</td>\n",
       "      <td>1</td>\n",
       "      <td>1</td>\n",
       "    </tr>\n",
       "    <tr>\n",
       "      <th>5</th>\n",
       "      <td>883</td>\n",
       "      <td>14027</td>\n",
       "      <td>1750</td>\n",
       "      <td>2010</td>\n",
       "      <td>2</td>\n",
       "      <td>-1.379324</td>\n",
       "      <td>6.408516</td>\n",
       "      <td>0</td>\n",
       "      <td>0</td>\n",
       "      <td>0</td>\n",
       "      <td>...</td>\n",
       "      <td>0</td>\n",
       "      <td>0</td>\n",
       "      <td>1</td>\n",
       "      <td>0</td>\n",
       "      <td>0</td>\n",
       "      <td>1</td>\n",
       "      <td>0</td>\n",
       "      <td>0</td>\n",
       "      <td>1</td>\n",
       "      <td>1</td>\n",
       "    </tr>\n",
       "    <tr>\n",
       "      <th>6</th>\n",
       "      <td>883</td>\n",
       "      <td>14027</td>\n",
       "      <td>1100</td>\n",
       "      <td>1320</td>\n",
       "      <td>2</td>\n",
       "      <td>-1.379324</td>\n",
       "      <td>6.408516</td>\n",
       "      <td>0</td>\n",
       "      <td>0</td>\n",
       "      <td>0</td>\n",
       "      <td>...</td>\n",
       "      <td>1</td>\n",
       "      <td>0</td>\n",
       "      <td>1</td>\n",
       "      <td>0</td>\n",
       "      <td>0</td>\n",
       "      <td>1</td>\n",
       "      <td>0</td>\n",
       "      <td>0</td>\n",
       "      <td>1</td>\n",
       "      <td>1</td>\n",
       "    </tr>\n",
       "    <tr>\n",
       "      <th>7</th>\n",
       "      <td>90</td>\n",
       "      <td>14100</td>\n",
       "      <td>1451</td>\n",
       "      <td>1548</td>\n",
       "      <td>2</td>\n",
       "      <td>0.575849</td>\n",
       "      <td>3.966680</td>\n",
       "      <td>0</td>\n",
       "      <td>0</td>\n",
       "      <td>0</td>\n",
       "      <td>...</td>\n",
       "      <td>0</td>\n",
       "      <td>0</td>\n",
       "      <td>1</td>\n",
       "      <td>0</td>\n",
       "      <td>0</td>\n",
       "      <td>1</td>\n",
       "      <td>0</td>\n",
       "      <td>0</td>\n",
       "      <td>1</td>\n",
       "      <td>1</td>\n",
       "    </tr>\n",
       "    <tr>\n",
       "      <th>8</th>\n",
       "      <td>90</td>\n",
       "      <td>14100</td>\n",
       "      <td>2130</td>\n",
       "      <td>2229</td>\n",
       "      <td>2</td>\n",
       "      <td>0.575849</td>\n",
       "      <td>3.966680</td>\n",
       "      <td>0</td>\n",
       "      <td>0</td>\n",
       "      <td>0</td>\n",
       "      <td>...</td>\n",
       "      <td>0</td>\n",
       "      <td>0</td>\n",
       "      <td>1</td>\n",
       "      <td>0</td>\n",
       "      <td>0</td>\n",
       "      <td>1</td>\n",
       "      <td>0</td>\n",
       "      <td>0</td>\n",
       "      <td>1</td>\n",
       "      <td>1</td>\n",
       "    </tr>\n",
       "    <tr>\n",
       "      <th>...</th>\n",
       "      <td>...</td>\n",
       "      <td>...</td>\n",
       "      <td>...</td>\n",
       "      <td>...</td>\n",
       "      <td>...</td>\n",
       "      <td>...</td>\n",
       "      <td>...</td>\n",
       "      <td>...</td>\n",
       "      <td>...</td>\n",
       "      <td>...</td>\n",
       "      <td>...</td>\n",
       "      <td>...</td>\n",
       "      <td>...</td>\n",
       "      <td>...</td>\n",
       "      <td>...</td>\n",
       "      <td>...</td>\n",
       "      <td>...</td>\n",
       "      <td>...</td>\n",
       "      <td>...</td>\n",
       "      <td>...</td>\n",
       "      <td>...</td>\n",
       "    </tr>\n",
       "    <tr>\n",
       "      <th>16649</th>\n",
       "      <td>991</td>\n",
       "      <td>11292</td>\n",
       "      <td>1437</td>\n",
       "      <td>1635</td>\n",
       "      <td>2</td>\n",
       "      <td>7.249503</td>\n",
       "      <td>13.360311</td>\n",
       "      <td>0</td>\n",
       "      <td>0</td>\n",
       "      <td>0</td>\n",
       "      <td>...</td>\n",
       "      <td>0</td>\n",
       "      <td>0</td>\n",
       "      <td>1</td>\n",
       "      <td>0</td>\n",
       "      <td>0</td>\n",
       "      <td>0</td>\n",
       "      <td>0</td>\n",
       "      <td>1</td>\n",
       "      <td>1</td>\n",
       "      <td>1</td>\n",
       "    </tr>\n",
       "    <tr>\n",
       "      <th>16650</th>\n",
       "      <td>991</td>\n",
       "      <td>11292</td>\n",
       "      <td>1715</td>\n",
       "      <td>1908</td>\n",
       "      <td>2</td>\n",
       "      <td>1.494380</td>\n",
       "      <td>8.501611</td>\n",
       "      <td>0</td>\n",
       "      <td>0</td>\n",
       "      <td>0</td>\n",
       "      <td>...</td>\n",
       "      <td>0</td>\n",
       "      <td>0</td>\n",
       "      <td>1</td>\n",
       "      <td>0</td>\n",
       "      <td>0</td>\n",
       "      <td>0</td>\n",
       "      <td>0</td>\n",
       "      <td>1</td>\n",
       "      <td>1</td>\n",
       "      <td>1</td>\n",
       "    </tr>\n",
       "    <tr>\n",
       "      <th>16651</th>\n",
       "      <td>991</td>\n",
       "      <td>11292</td>\n",
       "      <td>1548</td>\n",
       "      <td>1741</td>\n",
       "      <td>2</td>\n",
       "      <td>1.494380</td>\n",
       "      <td>8.501611</td>\n",
       "      <td>0</td>\n",
       "      <td>0</td>\n",
       "      <td>0</td>\n",
       "      <td>...</td>\n",
       "      <td>0</td>\n",
       "      <td>0</td>\n",
       "      <td>1</td>\n",
       "      <td>0</td>\n",
       "      <td>0</td>\n",
       "      <td>0</td>\n",
       "      <td>0</td>\n",
       "      <td>1</td>\n",
       "      <td>1</td>\n",
       "      <td>1</td>\n",
       "    </tr>\n",
       "    <tr>\n",
       "      <th>16652</th>\n",
       "      <td>991</td>\n",
       "      <td>11292</td>\n",
       "      <td>1900</td>\n",
       "      <td>2055</td>\n",
       "      <td>2</td>\n",
       "      <td>1.494380</td>\n",
       "      <td>8.501611</td>\n",
       "      <td>0</td>\n",
       "      <td>0</td>\n",
       "      <td>0</td>\n",
       "      <td>...</td>\n",
       "      <td>0</td>\n",
       "      <td>0</td>\n",
       "      <td>1</td>\n",
       "      <td>0</td>\n",
       "      <td>0</td>\n",
       "      <td>0</td>\n",
       "      <td>0</td>\n",
       "      <td>1</td>\n",
       "      <td>1</td>\n",
       "      <td>1</td>\n",
       "    </tr>\n",
       "    <tr>\n",
       "      <th>16653</th>\n",
       "      <td>2534</td>\n",
       "      <td>13204</td>\n",
       "      <td>1725</td>\n",
       "      <td>2044</td>\n",
       "      <td>2</td>\n",
       "      <td>-4.464361</td>\n",
       "      <td>-0.969753</td>\n",
       "      <td>0</td>\n",
       "      <td>0</td>\n",
       "      <td>1</td>\n",
       "      <td>...</td>\n",
       "      <td>0</td>\n",
       "      <td>0</td>\n",
       "      <td>1</td>\n",
       "      <td>0</td>\n",
       "      <td>0</td>\n",
       "      <td>0</td>\n",
       "      <td>0</td>\n",
       "      <td>1</td>\n",
       "      <td>1</td>\n",
       "      <td>1</td>\n",
       "    </tr>\n",
       "  </tbody>\n",
       "</table>\n",
       "<p>10519 rows × 162 columns</p>\n",
       "</div>"
      ],
      "text/plain": [
       "       distance  origin_airport_id  crs_dep_time  crs_arr_time  weekday  \\\n",
       "4           883              14027           700           915        2   \n",
       "5           883              14027          1750          2010        2   \n",
       "6           883              14027          1100          1320        2   \n",
       "7            90              14100          1451          1548        2   \n",
       "8            90              14100          2130          2229        2   \n",
       "...         ...                ...           ...           ...      ...   \n",
       "16649       991              11292          1437          1635        2   \n",
       "16650       991              11292          1715          1908        2   \n",
       "16651       991              11292          1548          1741        2   \n",
       "16652       991              11292          1900          2055        2   \n",
       "16653      2534              13204          1725          2044        2   \n",
       "\n",
       "        avg_arr    avg_dep  op_unique_carrier_9E  op_unique_carrier_AA  \\\n",
       "4     -1.379324   6.408516                     0                     0   \n",
       "5     -1.379324   6.408516                     0                     0   \n",
       "6     -1.379324   6.408516                     0                     0   \n",
       "7      0.575849   3.966680                     0                     0   \n",
       "8      0.575849   3.966680                     0                     0   \n",
       "...         ...        ...                   ...                   ...   \n",
       "16649  7.249503  13.360311                     0                     0   \n",
       "16650  1.494380   8.501611                     0                     0   \n",
       "16651  1.494380   8.501611                     0                     0   \n",
       "16652  1.494380   8.501611                     0                     0   \n",
       "16653 -4.464361  -0.969753                     0                     0   \n",
       "\n",
       "       op_unique_carrier_AS  ...  crs_dep_timeblk_Morning  \\\n",
       "4                         0  ...                        1   \n",
       "5                         0  ...                        0   \n",
       "6                         0  ...                        1   \n",
       "7                         0  ...                        0   \n",
       "8                         0  ...                        0   \n",
       "...                     ...  ...                      ...   \n",
       "16649                     0  ...                        0   \n",
       "16650                     0  ...                        0   \n",
       "16651                     0  ...                        0   \n",
       "16652                     0  ...                        0   \n",
       "16653                     1  ...                        0   \n",
       "\n",
       "       crs_dep_timeblk_RedEye  Visibility_origin_highvisibility  \\\n",
       "4                           0                                 1   \n",
       "5                           0                                 1   \n",
       "6                           0                                 1   \n",
       "7                           0                                 1   \n",
       "8                           0                                 1   \n",
       "...                       ...                               ...   \n",
       "16649                       0                                 1   \n",
       "16650                       0                                 1   \n",
       "16651                       0                                 1   \n",
       "16652                       0                                 1   \n",
       "16653                       0                                 1   \n",
       "\n",
       "       Visibility_origin_lowvisibility  Visibility_origin_mediumvisbility  \\\n",
       "4                                    0                                  0   \n",
       "5                                    0                                  0   \n",
       "6                                    0                                  0   \n",
       "7                                    0                                  0   \n",
       "8                                    0                                  0   \n",
       "...                                ...                                ...   \n",
       "16649                                0                                  0   \n",
       "16650                                0                                  0   \n",
       "16651                                0                                  0   \n",
       "16652                                0                                  0   \n",
       "16653                                0                                  0   \n",
       "\n",
       "       Visibility_destin_highvisibility  Visibility_destin_lowvisibility  \\\n",
       "4                                     1                                0   \n",
       "5                                     1                                0   \n",
       "6                                     1                                0   \n",
       "7                                     1                                0   \n",
       "8                                     1                                0   \n",
       "...                                 ...                              ...   \n",
       "16649                                 0                                0   \n",
       "16650                                 0                                0   \n",
       "16651                                 0                                0   \n",
       "16652                                 0                                0   \n",
       "16653                                 0                                0   \n",
       "\n",
       "       Visibility_destin_mediumvisbility  windspeed_origin_lowwindspeed  \\\n",
       "4                                      0                              1   \n",
       "5                                      0                              1   \n",
       "6                                      0                              1   \n",
       "7                                      0                              1   \n",
       "8                                      0                              1   \n",
       "...                                  ...                            ...   \n",
       "16649                                  1                              1   \n",
       "16650                                  1                              1   \n",
       "16651                                  1                              1   \n",
       "16652                                  1                              1   \n",
       "16653                                  1                              1   \n",
       "\n",
       "       windspeed_destin_lowwindspeed  \n",
       "4                                  1  \n",
       "5                                  1  \n",
       "6                                  1  \n",
       "7                                  1  \n",
       "8                                  1  \n",
       "...                              ...  \n",
       "16649                              1  \n",
       "16650                              1  \n",
       "16651                              1  \n",
       "16652                              1  \n",
       "16653                              1  \n",
       "\n",
       "[10519 rows x 162 columns]"
      ]
     },
     "execution_count": 254,
     "metadata": {},
     "output_type": "execute_result"
    }
   ],
   "source": [
    "df_test"
   ]
  },
  {
   "cell_type": "code",
   "execution_count": 255,
   "id": "5ff2a4a9-5c8a-4fb6-92a0-f8d59df5eae0",
   "metadata": {},
   "outputs": [
    {
     "data": {
      "text/plain": [
       "Index(['distance', 'origin_airport_id', 'crs_dep_time', 'crs_arr_time',\n",
       "       'weekday', 'avg_arr', 'avg_dep', 'op_unique_carrier_9E',\n",
       "       'op_unique_carrier_AA', 'op_unique_carrier_AS',\n",
       "       ...\n",
       "       'crs_dep_timeblk_Morning', 'crs_dep_timeblk_RedEye',\n",
       "       'Visibility_origin_highvisibility', 'Visibility_origin_lowvisibility',\n",
       "       'Visibility_origin_mediumvisbility', 'Visibility_destin_highvisibility',\n",
       "       'Visibility_destin_lowvisibility', 'Visibility_destin_mediumvisbility',\n",
       "       'windspeed_origin_lowwindspeed', 'windspeed_destin_lowwindspeed'],\n",
       "      dtype='object', length=162)"
      ]
     },
     "execution_count": 255,
     "metadata": {},
     "output_type": "execute_result"
    }
   ],
   "source": [
    "df_test.columns"
   ]
  },
  {
   "cell_type": "code",
   "execution_count": 256,
   "id": "bb7a04ea-1f05-4902-8fda-8708b6cafbf8",
   "metadata": {},
   "outputs": [
    {
     "data": {
      "text/plain": [
       "distance                             0\n",
       "origin_airport_id                    0\n",
       "crs_dep_time                         0\n",
       "crs_arr_time                         0\n",
       "weekday                              0\n",
       "                                    ..\n",
       "Visibility_destin_highvisibility     0\n",
       "Visibility_destin_lowvisibility      0\n",
       "Visibility_destin_mediumvisbility    0\n",
       "windspeed_origin_lowwindspeed        0\n",
       "windspeed_destin_lowwindspeed        0\n",
       "Length: 162, dtype: int64"
      ]
     },
     "execution_count": 256,
     "metadata": {},
     "output_type": "execute_result"
    }
   ],
   "source": [
    "df_test.isnull().sum()"
   ]
  },
  {
   "cell_type": "code",
   "execution_count": 257,
   "id": "8ce3fc50-0514-424d-8fdb-78bb4ea36e49",
   "metadata": {},
   "outputs": [],
   "source": [
    "y_predict_testing=rfr.predict(df_test)"
   ]
  },
  {
   "cell_type": "code",
   "execution_count": null,
   "id": "13ef450d-1fe7-4d4e-8fcb-a501b7d37ea8",
   "metadata": {},
   "outputs": [],
   "source": []
  },
  {
   "cell_type": "code",
   "execution_count": 258,
   "id": "94455d0a-9c6f-44a8-8f20-511ef51e601b",
   "metadata": {},
   "outputs": [
    {
     "data": {
      "text/plain": [
       "array([11.56188072, 20.19457485, 15.17643853, ..., 23.43450504,\n",
       "       21.19550903, 14.86856604])"
      ]
     },
     "execution_count": 258,
     "metadata": {},
     "output_type": "execute_result"
    }
   ],
   "source": [
    "y_predict_testing"
   ]
  },
  {
   "cell_type": "code",
   "execution_count": 260,
   "id": "6a45f89d-c1d0-4794-8c4b-889432d1acf9",
   "metadata": {},
   "outputs": [],
   "source": [
    "df_testing_full_info=pd.read_csv('df_merged_final_weathermodified_test.csv')"
   ]
  },
  {
   "cell_type": "code",
   "execution_count": 261,
   "id": "4b31b8b7-104b-425c-b05c-f8cb25a76a6a",
   "metadata": {},
   "outputs": [
    {
     "data": {
      "text/html": [
       "<div>\n",
       "<style scoped>\n",
       "    .dataframe tbody tr th:only-of-type {\n",
       "        vertical-align: middle;\n",
       "    }\n",
       "\n",
       "    .dataframe tbody tr th {\n",
       "        vertical-align: top;\n",
       "    }\n",
       "\n",
       "    .dataframe thead th {\n",
       "        text-align: right;\n",
       "    }\n",
       "</style>\n",
       "<table border=\"1\" class=\"dataframe\">\n",
       "  <thead>\n",
       "    <tr style=\"text-align: right;\">\n",
       "      <th></th>\n",
       "      <th>fl_date</th>\n",
       "      <th>mkt_unique_carrier</th>\n",
       "      <th>mkt_carrier</th>\n",
       "      <th>mkt_carrier_fl_num</th>\n",
       "      <th>origin</th>\n",
       "      <th>dest</th>\n",
       "      <th>distance</th>\n",
       "      <th>op_unique_carrier</th>\n",
       "      <th>crs_dep_time</th>\n",
       "      <th>crs_arr_time</th>\n",
       "    </tr>\n",
       "  </thead>\n",
       "  <tbody>\n",
       "    <tr>\n",
       "      <th>0</th>\n",
       "      <td>2020-01-01</td>\n",
       "      <td>WN</td>\n",
       "      <td>WN</td>\n",
       "      <td>3719</td>\n",
       "      <td>ORF</td>\n",
       "      <td>BWI</td>\n",
       "      <td>159</td>\n",
       "      <td>WN</td>\n",
       "      <td>1130</td>\n",
       "      <td>1235</td>\n",
       "    </tr>\n",
       "    <tr>\n",
       "      <th>1</th>\n",
       "      <td>2020-01-01</td>\n",
       "      <td>WN</td>\n",
       "      <td>WN</td>\n",
       "      <td>4863</td>\n",
       "      <td>ORF</td>\n",
       "      <td>BWI</td>\n",
       "      <td>159</td>\n",
       "      <td>WN</td>\n",
       "      <td>630</td>\n",
       "      <td>730</td>\n",
       "    </tr>\n",
       "    <tr>\n",
       "      <th>2</th>\n",
       "      <td>2020-01-01</td>\n",
       "      <td>WN</td>\n",
       "      <td>WN</td>\n",
       "      <td>4924</td>\n",
       "      <td>ORF</td>\n",
       "      <td>BWI</td>\n",
       "      <td>159</td>\n",
       "      <td>WN</td>\n",
       "      <td>2020</td>\n",
       "      <td>2120</td>\n",
       "    </tr>\n",
       "    <tr>\n",
       "      <th>3</th>\n",
       "      <td>2020-01-01</td>\n",
       "      <td>WN</td>\n",
       "      <td>WN</td>\n",
       "      <td>5321</td>\n",
       "      <td>ORF</td>\n",
       "      <td>BWI</td>\n",
       "      <td>159</td>\n",
       "      <td>WN</td>\n",
       "      <td>1745</td>\n",
       "      <td>1855</td>\n",
       "    </tr>\n",
       "    <tr>\n",
       "      <th>4</th>\n",
       "      <td>2020-01-01</td>\n",
       "      <td>WN</td>\n",
       "      <td>WN</td>\n",
       "      <td>4887</td>\n",
       "      <td>PBI</td>\n",
       "      <td>BWI</td>\n",
       "      <td>883</td>\n",
       "      <td>WN</td>\n",
       "      <td>700</td>\n",
       "      <td>915</td>\n",
       "    </tr>\n",
       "    <tr>\n",
       "      <th>...</th>\n",
       "      <td>...</td>\n",
       "      <td>...</td>\n",
       "      <td>...</td>\n",
       "      <td>...</td>\n",
       "      <td>...</td>\n",
       "      <td>...</td>\n",
       "      <td>...</td>\n",
       "      <td>...</td>\n",
       "      <td>...</td>\n",
       "      <td>...</td>\n",
       "    </tr>\n",
       "    <tr>\n",
       "      <th>17765</th>\n",
       "      <td>2020-01-01</td>\n",
       "      <td>AS</td>\n",
       "      <td>AS</td>\n",
       "      <td>70</td>\n",
       "      <td>JNU</td>\n",
       "      <td>SIT</td>\n",
       "      <td>95</td>\n",
       "      <td>AS</td>\n",
       "      <td>2235</td>\n",
       "      <td>2318</td>\n",
       "    </tr>\n",
       "    <tr>\n",
       "      <th>17766</th>\n",
       "      <td>2020-01-01</td>\n",
       "      <td>AS</td>\n",
       "      <td>AS</td>\n",
       "      <td>64</td>\n",
       "      <td>JNU</td>\n",
       "      <td>PSG</td>\n",
       "      <td>123</td>\n",
       "      <td>AS</td>\n",
       "      <td>1330</td>\n",
       "      <td>1419</td>\n",
       "    </tr>\n",
       "    <tr>\n",
       "      <th>17767</th>\n",
       "      <td>2020-01-01</td>\n",
       "      <td>AS</td>\n",
       "      <td>AS</td>\n",
       "      <td>65</td>\n",
       "      <td>WRG</td>\n",
       "      <td>PSG</td>\n",
       "      <td>31</td>\n",
       "      <td>AS</td>\n",
       "      <td>1030</td>\n",
       "      <td>1052</td>\n",
       "    </tr>\n",
       "    <tr>\n",
       "      <th>17768</th>\n",
       "      <td>2020-01-01</td>\n",
       "      <td>AS</td>\n",
       "      <td>AS</td>\n",
       "      <td>64</td>\n",
       "      <td>PSG</td>\n",
       "      <td>WRG</td>\n",
       "      <td>31</td>\n",
       "      <td>AS</td>\n",
       "      <td>1505</td>\n",
       "      <td>1529</td>\n",
       "    </tr>\n",
       "    <tr>\n",
       "      <th>17769</th>\n",
       "      <td>2020-01-01</td>\n",
       "      <td>UA</td>\n",
       "      <td>UA</td>\n",
       "      <td>174</td>\n",
       "      <td>GUM</td>\n",
       "      <td>SPN</td>\n",
       "      <td>129</td>\n",
       "      <td>UA</td>\n",
       "      <td>730</td>\n",
       "      <td>811</td>\n",
       "    </tr>\n",
       "  </tbody>\n",
       "</table>\n",
       "<p>17770 rows × 10 columns</p>\n",
       "</div>"
      ],
      "text/plain": [
       "          fl_date mkt_unique_carrier mkt_carrier  mkt_carrier_fl_num origin  \\\n",
       "0      2020-01-01                 WN          WN                3719    ORF   \n",
       "1      2020-01-01                 WN          WN                4863    ORF   \n",
       "2      2020-01-01                 WN          WN                4924    ORF   \n",
       "3      2020-01-01                 WN          WN                5321    ORF   \n",
       "4      2020-01-01                 WN          WN                4887    PBI   \n",
       "...           ...                ...         ...                 ...    ...   \n",
       "17765  2020-01-01                 AS          AS                  70    JNU   \n",
       "17766  2020-01-01                 AS          AS                  64    JNU   \n",
       "17767  2020-01-01                 AS          AS                  65    WRG   \n",
       "17768  2020-01-01                 AS          AS                  64    PSG   \n",
       "17769  2020-01-01                 UA          UA                 174    GUM   \n",
       "\n",
       "      dest  distance op_unique_carrier  crs_dep_time  crs_arr_time  \n",
       "0      BWI       159                WN          1130          1235  \n",
       "1      BWI       159                WN           630           730  \n",
       "2      BWI       159                WN          2020          2120  \n",
       "3      BWI       159                WN          1745          1855  \n",
       "4      BWI       883                WN           700           915  \n",
       "...    ...       ...               ...           ...           ...  \n",
       "17765  SIT        95                AS          2235          2318  \n",
       "17766  PSG       123                AS          1330          1419  \n",
       "17767  PSG        31                AS          1030          1052  \n",
       "17768  WRG        31                AS          1505          1529  \n",
       "17769  SPN       129                UA           730           811  \n",
       "\n",
       "[17770 rows x 10 columns]"
      ]
     },
     "execution_count": 261,
     "metadata": {},
     "output_type": "execute_result"
    }
   ],
   "source": [
    "df_testing_full_info[['fl_date','mkt_unique_carrier','mkt_carrier','mkt_carrier_fl_num','origin','dest','distance','op_unique_carrier','crs_dep_time','crs_arr_time']]"
   ]
  },
  {
   "cell_type": "code",
   "execution_count": null,
   "id": "382abfc7-d00f-487c-88aa-8e45ded223d2",
   "metadata": {},
   "outputs": [],
   "source": []
  },
  {
   "cell_type": "code",
   "execution_count": null,
   "id": "098a0654-6730-40de-8c49-89593c075fb6",
   "metadata": {},
   "outputs": [],
   "source": []
  },
  {
   "cell_type": "code",
   "execution_count": 262,
   "id": "40582c46-5124-44b1-8adf-6b3f35c4b435",
   "metadata": {},
   "outputs": [
    {
     "data": {
      "text/html": [
       "<div>\n",
       "<style scoped>\n",
       "    .dataframe tbody tr th:only-of-type {\n",
       "        vertical-align: middle;\n",
       "    }\n",
       "\n",
       "    .dataframe tbody tr th {\n",
       "        vertical-align: top;\n",
       "    }\n",
       "\n",
       "    .dataframe thead th {\n",
       "        text-align: right;\n",
       "    }\n",
       "</style>\n",
       "<table border=\"1\" class=\"dataframe\">\n",
       "  <thead>\n",
       "    <tr style=\"text-align: right;\">\n",
       "      <th></th>\n",
       "      <th>distance</th>\n",
       "      <th>origin_airport_id</th>\n",
       "      <th>crs_dep_time</th>\n",
       "      <th>crs_arr_time</th>\n",
       "      <th>weekday</th>\n",
       "      <th>avg_arr</th>\n",
       "      <th>avg_dep</th>\n",
       "      <th>op_unique_carrier_9E</th>\n",
       "      <th>op_unique_carrier_AA</th>\n",
       "      <th>op_unique_carrier_AS</th>\n",
       "      <th>...</th>\n",
       "      <th>crs_dep_timeblk_Morning</th>\n",
       "      <th>crs_dep_timeblk_RedEye</th>\n",
       "      <th>Visibility_origin_highvisibility</th>\n",
       "      <th>Visibility_origin_lowvisibility</th>\n",
       "      <th>Visibility_origin_mediumvisbility</th>\n",
       "      <th>Visibility_destin_highvisibility</th>\n",
       "      <th>Visibility_destin_lowvisibility</th>\n",
       "      <th>Visibility_destin_mediumvisbility</th>\n",
       "      <th>windspeed_origin_lowwindspeed</th>\n",
       "      <th>windspeed_destin_lowwindspeed</th>\n",
       "    </tr>\n",
       "  </thead>\n",
       "  <tbody>\n",
       "    <tr>\n",
       "      <th>4</th>\n",
       "      <td>883</td>\n",
       "      <td>14027</td>\n",
       "      <td>700</td>\n",
       "      <td>915</td>\n",
       "      <td>2</td>\n",
       "      <td>-1.379324</td>\n",
       "      <td>6.408516</td>\n",
       "      <td>0</td>\n",
       "      <td>0</td>\n",
       "      <td>0</td>\n",
       "      <td>...</td>\n",
       "      <td>1</td>\n",
       "      <td>0</td>\n",
       "      <td>1</td>\n",
       "      <td>0</td>\n",
       "      <td>0</td>\n",
       "      <td>1</td>\n",
       "      <td>0</td>\n",
       "      <td>0</td>\n",
       "      <td>1</td>\n",
       "      <td>1</td>\n",
       "    </tr>\n",
       "    <tr>\n",
       "      <th>5</th>\n",
       "      <td>883</td>\n",
       "      <td>14027</td>\n",
       "      <td>1750</td>\n",
       "      <td>2010</td>\n",
       "      <td>2</td>\n",
       "      <td>-1.379324</td>\n",
       "      <td>6.408516</td>\n",
       "      <td>0</td>\n",
       "      <td>0</td>\n",
       "      <td>0</td>\n",
       "      <td>...</td>\n",
       "      <td>0</td>\n",
       "      <td>0</td>\n",
       "      <td>1</td>\n",
       "      <td>0</td>\n",
       "      <td>0</td>\n",
       "      <td>1</td>\n",
       "      <td>0</td>\n",
       "      <td>0</td>\n",
       "      <td>1</td>\n",
       "      <td>1</td>\n",
       "    </tr>\n",
       "    <tr>\n",
       "      <th>6</th>\n",
       "      <td>883</td>\n",
       "      <td>14027</td>\n",
       "      <td>1100</td>\n",
       "      <td>1320</td>\n",
       "      <td>2</td>\n",
       "      <td>-1.379324</td>\n",
       "      <td>6.408516</td>\n",
       "      <td>0</td>\n",
       "      <td>0</td>\n",
       "      <td>0</td>\n",
       "      <td>...</td>\n",
       "      <td>1</td>\n",
       "      <td>0</td>\n",
       "      <td>1</td>\n",
       "      <td>0</td>\n",
       "      <td>0</td>\n",
       "      <td>1</td>\n",
       "      <td>0</td>\n",
       "      <td>0</td>\n",
       "      <td>1</td>\n",
       "      <td>1</td>\n",
       "    </tr>\n",
       "    <tr>\n",
       "      <th>7</th>\n",
       "      <td>90</td>\n",
       "      <td>14100</td>\n",
       "      <td>1451</td>\n",
       "      <td>1548</td>\n",
       "      <td>2</td>\n",
       "      <td>0.575849</td>\n",
       "      <td>3.966680</td>\n",
       "      <td>0</td>\n",
       "      <td>0</td>\n",
       "      <td>0</td>\n",
       "      <td>...</td>\n",
       "      <td>0</td>\n",
       "      <td>0</td>\n",
       "      <td>1</td>\n",
       "      <td>0</td>\n",
       "      <td>0</td>\n",
       "      <td>1</td>\n",
       "      <td>0</td>\n",
       "      <td>0</td>\n",
       "      <td>1</td>\n",
       "      <td>1</td>\n",
       "    </tr>\n",
       "    <tr>\n",
       "      <th>8</th>\n",
       "      <td>90</td>\n",
       "      <td>14100</td>\n",
       "      <td>2130</td>\n",
       "      <td>2229</td>\n",
       "      <td>2</td>\n",
       "      <td>0.575849</td>\n",
       "      <td>3.966680</td>\n",
       "      <td>0</td>\n",
       "      <td>0</td>\n",
       "      <td>0</td>\n",
       "      <td>...</td>\n",
       "      <td>0</td>\n",
       "      <td>0</td>\n",
       "      <td>1</td>\n",
       "      <td>0</td>\n",
       "      <td>0</td>\n",
       "      <td>1</td>\n",
       "      <td>0</td>\n",
       "      <td>0</td>\n",
       "      <td>1</td>\n",
       "      <td>1</td>\n",
       "    </tr>\n",
       "    <tr>\n",
       "      <th>...</th>\n",
       "      <td>...</td>\n",
       "      <td>...</td>\n",
       "      <td>...</td>\n",
       "      <td>...</td>\n",
       "      <td>...</td>\n",
       "      <td>...</td>\n",
       "      <td>...</td>\n",
       "      <td>...</td>\n",
       "      <td>...</td>\n",
       "      <td>...</td>\n",
       "      <td>...</td>\n",
       "      <td>...</td>\n",
       "      <td>...</td>\n",
       "      <td>...</td>\n",
       "      <td>...</td>\n",
       "      <td>...</td>\n",
       "      <td>...</td>\n",
       "      <td>...</td>\n",
       "      <td>...</td>\n",
       "      <td>...</td>\n",
       "      <td>...</td>\n",
       "    </tr>\n",
       "    <tr>\n",
       "      <th>16649</th>\n",
       "      <td>991</td>\n",
       "      <td>11292</td>\n",
       "      <td>1437</td>\n",
       "      <td>1635</td>\n",
       "      <td>2</td>\n",
       "      <td>7.249503</td>\n",
       "      <td>13.360311</td>\n",
       "      <td>0</td>\n",
       "      <td>0</td>\n",
       "      <td>0</td>\n",
       "      <td>...</td>\n",
       "      <td>0</td>\n",
       "      <td>0</td>\n",
       "      <td>1</td>\n",
       "      <td>0</td>\n",
       "      <td>0</td>\n",
       "      <td>0</td>\n",
       "      <td>0</td>\n",
       "      <td>1</td>\n",
       "      <td>1</td>\n",
       "      <td>1</td>\n",
       "    </tr>\n",
       "    <tr>\n",
       "      <th>16650</th>\n",
       "      <td>991</td>\n",
       "      <td>11292</td>\n",
       "      <td>1715</td>\n",
       "      <td>1908</td>\n",
       "      <td>2</td>\n",
       "      <td>1.494380</td>\n",
       "      <td>8.501611</td>\n",
       "      <td>0</td>\n",
       "      <td>0</td>\n",
       "      <td>0</td>\n",
       "      <td>...</td>\n",
       "      <td>0</td>\n",
       "      <td>0</td>\n",
       "      <td>1</td>\n",
       "      <td>0</td>\n",
       "      <td>0</td>\n",
       "      <td>0</td>\n",
       "      <td>0</td>\n",
       "      <td>1</td>\n",
       "      <td>1</td>\n",
       "      <td>1</td>\n",
       "    </tr>\n",
       "    <tr>\n",
       "      <th>16651</th>\n",
       "      <td>991</td>\n",
       "      <td>11292</td>\n",
       "      <td>1548</td>\n",
       "      <td>1741</td>\n",
       "      <td>2</td>\n",
       "      <td>1.494380</td>\n",
       "      <td>8.501611</td>\n",
       "      <td>0</td>\n",
       "      <td>0</td>\n",
       "      <td>0</td>\n",
       "      <td>...</td>\n",
       "      <td>0</td>\n",
       "      <td>0</td>\n",
       "      <td>1</td>\n",
       "      <td>0</td>\n",
       "      <td>0</td>\n",
       "      <td>0</td>\n",
       "      <td>0</td>\n",
       "      <td>1</td>\n",
       "      <td>1</td>\n",
       "      <td>1</td>\n",
       "    </tr>\n",
       "    <tr>\n",
       "      <th>16652</th>\n",
       "      <td>991</td>\n",
       "      <td>11292</td>\n",
       "      <td>1900</td>\n",
       "      <td>2055</td>\n",
       "      <td>2</td>\n",
       "      <td>1.494380</td>\n",
       "      <td>8.501611</td>\n",
       "      <td>0</td>\n",
       "      <td>0</td>\n",
       "      <td>0</td>\n",
       "      <td>...</td>\n",
       "      <td>0</td>\n",
       "      <td>0</td>\n",
       "      <td>1</td>\n",
       "      <td>0</td>\n",
       "      <td>0</td>\n",
       "      <td>0</td>\n",
       "      <td>0</td>\n",
       "      <td>1</td>\n",
       "      <td>1</td>\n",
       "      <td>1</td>\n",
       "    </tr>\n",
       "    <tr>\n",
       "      <th>16653</th>\n",
       "      <td>2534</td>\n",
       "      <td>13204</td>\n",
       "      <td>1725</td>\n",
       "      <td>2044</td>\n",
       "      <td>2</td>\n",
       "      <td>-4.464361</td>\n",
       "      <td>-0.969753</td>\n",
       "      <td>0</td>\n",
       "      <td>0</td>\n",
       "      <td>1</td>\n",
       "      <td>...</td>\n",
       "      <td>0</td>\n",
       "      <td>0</td>\n",
       "      <td>1</td>\n",
       "      <td>0</td>\n",
       "      <td>0</td>\n",
       "      <td>0</td>\n",
       "      <td>0</td>\n",
       "      <td>1</td>\n",
       "      <td>1</td>\n",
       "      <td>1</td>\n",
       "    </tr>\n",
       "  </tbody>\n",
       "</table>\n",
       "<p>10519 rows × 162 columns</p>\n",
       "</div>"
      ],
      "text/plain": [
       "       distance  origin_airport_id  crs_dep_time  crs_arr_time  weekday  \\\n",
       "4           883              14027           700           915        2   \n",
       "5           883              14027          1750          2010        2   \n",
       "6           883              14027          1100          1320        2   \n",
       "7            90              14100          1451          1548        2   \n",
       "8            90              14100          2130          2229        2   \n",
       "...         ...                ...           ...           ...      ...   \n",
       "16649       991              11292          1437          1635        2   \n",
       "16650       991              11292          1715          1908        2   \n",
       "16651       991              11292          1548          1741        2   \n",
       "16652       991              11292          1900          2055        2   \n",
       "16653      2534              13204          1725          2044        2   \n",
       "\n",
       "        avg_arr    avg_dep  op_unique_carrier_9E  op_unique_carrier_AA  \\\n",
       "4     -1.379324   6.408516                     0                     0   \n",
       "5     -1.379324   6.408516                     0                     0   \n",
       "6     -1.379324   6.408516                     0                     0   \n",
       "7      0.575849   3.966680                     0                     0   \n",
       "8      0.575849   3.966680                     0                     0   \n",
       "...         ...        ...                   ...                   ...   \n",
       "16649  7.249503  13.360311                     0                     0   \n",
       "16650  1.494380   8.501611                     0                     0   \n",
       "16651  1.494380   8.501611                     0                     0   \n",
       "16652  1.494380   8.501611                     0                     0   \n",
       "16653 -4.464361  -0.969753                     0                     0   \n",
       "\n",
       "       op_unique_carrier_AS  ...  crs_dep_timeblk_Morning  \\\n",
       "4                         0  ...                        1   \n",
       "5                         0  ...                        0   \n",
       "6                         0  ...                        1   \n",
       "7                         0  ...                        0   \n",
       "8                         0  ...                        0   \n",
       "...                     ...  ...                      ...   \n",
       "16649                     0  ...                        0   \n",
       "16650                     0  ...                        0   \n",
       "16651                     0  ...                        0   \n",
       "16652                     0  ...                        0   \n",
       "16653                     1  ...                        0   \n",
       "\n",
       "       crs_dep_timeblk_RedEye  Visibility_origin_highvisibility  \\\n",
       "4                           0                                 1   \n",
       "5                           0                                 1   \n",
       "6                           0                                 1   \n",
       "7                           0                                 1   \n",
       "8                           0                                 1   \n",
       "...                       ...                               ...   \n",
       "16649                       0                                 1   \n",
       "16650                       0                                 1   \n",
       "16651                       0                                 1   \n",
       "16652                       0                                 1   \n",
       "16653                       0                                 1   \n",
       "\n",
       "       Visibility_origin_lowvisibility  Visibility_origin_mediumvisbility  \\\n",
       "4                                    0                                  0   \n",
       "5                                    0                                  0   \n",
       "6                                    0                                  0   \n",
       "7                                    0                                  0   \n",
       "8                                    0                                  0   \n",
       "...                                ...                                ...   \n",
       "16649                                0                                  0   \n",
       "16650                                0                                  0   \n",
       "16651                                0                                  0   \n",
       "16652                                0                                  0   \n",
       "16653                                0                                  0   \n",
       "\n",
       "       Visibility_destin_highvisibility  Visibility_destin_lowvisibility  \\\n",
       "4                                     1                                0   \n",
       "5                                     1                                0   \n",
       "6                                     1                                0   \n",
       "7                                     1                                0   \n",
       "8                                     1                                0   \n",
       "...                                 ...                              ...   \n",
       "16649                                 0                                0   \n",
       "16650                                 0                                0   \n",
       "16651                                 0                                0   \n",
       "16652                                 0                                0   \n",
       "16653                                 0                                0   \n",
       "\n",
       "       Visibility_destin_mediumvisbility  windspeed_origin_lowwindspeed  \\\n",
       "4                                      0                              1   \n",
       "5                                      0                              1   \n",
       "6                                      0                              1   \n",
       "7                                      0                              1   \n",
       "8                                      0                              1   \n",
       "...                                  ...                            ...   \n",
       "16649                                  1                              1   \n",
       "16650                                  1                              1   \n",
       "16651                                  1                              1   \n",
       "16652                                  1                              1   \n",
       "16653                                  1                              1   \n",
       "\n",
       "       windspeed_destin_lowwindspeed  \n",
       "4                                  1  \n",
       "5                                  1  \n",
       "6                                  1  \n",
       "7                                  1  \n",
       "8                                  1  \n",
       "...                              ...  \n",
       "16649                              1  \n",
       "16650                              1  \n",
       "16651                              1  \n",
       "16652                              1  \n",
       "16653                              1  \n",
       "\n",
       "[10519 rows x 162 columns]"
      ]
     },
     "execution_count": 262,
     "metadata": {},
     "output_type": "execute_result"
    }
   ],
   "source": [
    "df_test"
   ]
  },
  {
   "cell_type": "code",
   "execution_count": 263,
   "id": "aca024e3-8725-469e-b021-99259e8681ef",
   "metadata": {},
   "outputs": [],
   "source": [
    "df_t_new=pd.read_csv('df_test_without_dummies.csv',index_col=[0])"
   ]
  },
  {
   "cell_type": "code",
   "execution_count": 264,
   "id": "eb33854c-e934-4c39-a05b-afc329d2ccf1",
   "metadata": {},
   "outputs": [
    {
     "data": {
      "text/html": [
       "<div>\n",
       "<style scoped>\n",
       "    .dataframe tbody tr th:only-of-type {\n",
       "        vertical-align: middle;\n",
       "    }\n",
       "\n",
       "    .dataframe tbody tr th {\n",
       "        vertical-align: top;\n",
       "    }\n",
       "\n",
       "    .dataframe thead th {\n",
       "        text-align: right;\n",
       "    }\n",
       "</style>\n",
       "<table border=\"1\" class=\"dataframe\">\n",
       "  <thead>\n",
       "    <tr style=\"text-align: right;\">\n",
       "      <th></th>\n",
       "      <th>fl_date</th>\n",
       "      <th>mkt_unique_carrier</th>\n",
       "      <th>mkt_carrier</th>\n",
       "      <th>mkt_carrier_fl_num</th>\n",
       "      <th>origin</th>\n",
       "      <th>dest</th>\n",
       "      <th>distance</th>\n",
       "      <th>op_unique_carrier</th>\n",
       "      <th>crs_dep_time</th>\n",
       "      <th>crs_arr_time</th>\n",
       "    </tr>\n",
       "  </thead>\n",
       "  <tbody>\n",
       "    <tr>\n",
       "      <th>4</th>\n",
       "      <td>2020-01-01</td>\n",
       "      <td>WN</td>\n",
       "      <td>WN</td>\n",
       "      <td>4887</td>\n",
       "      <td>PBI</td>\n",
       "      <td>BWI</td>\n",
       "      <td>883</td>\n",
       "      <td>WN</td>\n",
       "      <td>700</td>\n",
       "      <td>915</td>\n",
       "    </tr>\n",
       "    <tr>\n",
       "      <th>5</th>\n",
       "      <td>2020-01-01</td>\n",
       "      <td>WN</td>\n",
       "      <td>WN</td>\n",
       "      <td>4917</td>\n",
       "      <td>PBI</td>\n",
       "      <td>BWI</td>\n",
       "      <td>883</td>\n",
       "      <td>WN</td>\n",
       "      <td>1750</td>\n",
       "      <td>2010</td>\n",
       "    </tr>\n",
       "    <tr>\n",
       "      <th>6</th>\n",
       "      <td>2020-01-01</td>\n",
       "      <td>WN</td>\n",
       "      <td>WN</td>\n",
       "      <td>5068</td>\n",
       "      <td>PBI</td>\n",
       "      <td>BWI</td>\n",
       "      <td>883</td>\n",
       "      <td>WN</td>\n",
       "      <td>1100</td>\n",
       "      <td>1320</td>\n",
       "    </tr>\n",
       "    <tr>\n",
       "      <th>7</th>\n",
       "      <td>2020-01-01</td>\n",
       "      <td>AA</td>\n",
       "      <td>AA</td>\n",
       "      <td>4861</td>\n",
       "      <td>PHL</td>\n",
       "      <td>BWI</td>\n",
       "      <td>90</td>\n",
       "      <td>PT</td>\n",
       "      <td>1451</td>\n",
       "      <td>1548</td>\n",
       "    </tr>\n",
       "    <tr>\n",
       "      <th>8</th>\n",
       "      <td>2020-01-01</td>\n",
       "      <td>AA</td>\n",
       "      <td>AA</td>\n",
       "      <td>4781</td>\n",
       "      <td>PHL</td>\n",
       "      <td>BWI</td>\n",
       "      <td>90</td>\n",
       "      <td>PT</td>\n",
       "      <td>2130</td>\n",
       "      <td>2229</td>\n",
       "    </tr>\n",
       "    <tr>\n",
       "      <th>...</th>\n",
       "      <td>...</td>\n",
       "      <td>...</td>\n",
       "      <td>...</td>\n",
       "      <td>...</td>\n",
       "      <td>...</td>\n",
       "      <td>...</td>\n",
       "      <td>...</td>\n",
       "      <td>...</td>\n",
       "      <td>...</td>\n",
       "      <td>...</td>\n",
       "    </tr>\n",
       "    <tr>\n",
       "      <th>16649</th>\n",
       "      <td>2020-01-01</td>\n",
       "      <td>F9</td>\n",
       "      <td>F9</td>\n",
       "      <td>791</td>\n",
       "      <td>DEN</td>\n",
       "      <td>PDX</td>\n",
       "      <td>991</td>\n",
       "      <td>F9</td>\n",
       "      <td>1437</td>\n",
       "      <td>1635</td>\n",
       "    </tr>\n",
       "    <tr>\n",
       "      <th>16650</th>\n",
       "      <td>2020-01-01</td>\n",
       "      <td>UA</td>\n",
       "      <td>UA</td>\n",
       "      <td>427</td>\n",
       "      <td>DEN</td>\n",
       "      <td>PDX</td>\n",
       "      <td>991</td>\n",
       "      <td>UA</td>\n",
       "      <td>1715</td>\n",
       "      <td>1908</td>\n",
       "    </tr>\n",
       "    <tr>\n",
       "      <th>16651</th>\n",
       "      <td>2020-01-01</td>\n",
       "      <td>UA</td>\n",
       "      <td>UA</td>\n",
       "      <td>416</td>\n",
       "      <td>DEN</td>\n",
       "      <td>PDX</td>\n",
       "      <td>991</td>\n",
       "      <td>UA</td>\n",
       "      <td>1548</td>\n",
       "      <td>1741</td>\n",
       "    </tr>\n",
       "    <tr>\n",
       "      <th>16652</th>\n",
       "      <td>2020-01-01</td>\n",
       "      <td>UA</td>\n",
       "      <td>UA</td>\n",
       "      <td>393</td>\n",
       "      <td>DEN</td>\n",
       "      <td>PDX</td>\n",
       "      <td>991</td>\n",
       "      <td>UA</td>\n",
       "      <td>1900</td>\n",
       "      <td>2055</td>\n",
       "    </tr>\n",
       "    <tr>\n",
       "      <th>16653</th>\n",
       "      <td>2020-01-01</td>\n",
       "      <td>AS</td>\n",
       "      <td>AS</td>\n",
       "      <td>727</td>\n",
       "      <td>MCO</td>\n",
       "      <td>PDX</td>\n",
       "      <td>2534</td>\n",
       "      <td>AS</td>\n",
       "      <td>1725</td>\n",
       "      <td>2044</td>\n",
       "    </tr>\n",
       "  </tbody>\n",
       "</table>\n",
       "<p>10519 rows × 10 columns</p>\n",
       "</div>"
      ],
      "text/plain": [
       "          fl_date mkt_unique_carrier mkt_carrier  mkt_carrier_fl_num origin  \\\n",
       "4      2020-01-01                 WN          WN                4887    PBI   \n",
       "5      2020-01-01                 WN          WN                4917    PBI   \n",
       "6      2020-01-01                 WN          WN                5068    PBI   \n",
       "7      2020-01-01                 AA          AA                4861    PHL   \n",
       "8      2020-01-01                 AA          AA                4781    PHL   \n",
       "...           ...                ...         ...                 ...    ...   \n",
       "16649  2020-01-01                 F9          F9                 791    DEN   \n",
       "16650  2020-01-01                 UA          UA                 427    DEN   \n",
       "16651  2020-01-01                 UA          UA                 416    DEN   \n",
       "16652  2020-01-01                 UA          UA                 393    DEN   \n",
       "16653  2020-01-01                 AS          AS                 727    MCO   \n",
       "\n",
       "      dest  distance op_unique_carrier  crs_dep_time  crs_arr_time  \n",
       "4      BWI       883                WN           700           915  \n",
       "5      BWI       883                WN          1750          2010  \n",
       "6      BWI       883                WN          1100          1320  \n",
       "7      BWI        90                PT          1451          1548  \n",
       "8      BWI        90                PT          2130          2229  \n",
       "...    ...       ...               ...           ...           ...  \n",
       "16649  PDX       991                F9          1437          1635  \n",
       "16650  PDX       991                UA          1715          1908  \n",
       "16651  PDX       991                UA          1548          1741  \n",
       "16652  PDX       991                UA          1900          2055  \n",
       "16653  PDX      2534                AS          1725          2044  \n",
       "\n",
       "[10519 rows x 10 columns]"
      ]
     },
     "execution_count": 264,
     "metadata": {},
     "output_type": "execute_result"
    }
   ],
   "source": [
    "df_t_new[['fl_date','mkt_unique_carrier','mkt_carrier','mkt_carrier_fl_num','origin','dest','distance','op_unique_carrier','crs_dep_time','crs_arr_time']]"
   ]
  },
  {
   "cell_type": "code",
   "execution_count": 265,
   "id": "fbf3fcd5-afa9-49f0-b557-205ef3566bab",
   "metadata": {},
   "outputs": [],
   "source": [
    "df_t_new['predicted_delay']=y_predict_testing"
   ]
  },
  {
   "cell_type": "code",
   "execution_count": 266,
   "id": "9347ebb7-14a9-4128-af89-fc7b23b1c7d1",
   "metadata": {},
   "outputs": [],
   "source": [
    "final_submision=df_t_new[['fl_date','mkt_carrier','mkt_carrier_fl_num','origin','dest','predicted_delay']]\n"
   ]
  },
  {
   "cell_type": "code",
   "execution_count": 269,
   "id": "30b376e3-1be3-41ec-80e8-3cf13e86c291",
   "metadata": {},
   "outputs": [],
   "source": [
    "final_submision.to_csv('submission.csv')"
   ]
  },
  {
   "cell_type": "code",
   "execution_count": 268,
   "id": "0788f04b-2aa7-4f2e-b168-84da938420bb",
   "metadata": {},
   "outputs": [
    {
     "data": {
      "text/plain": [
       "mkt_carrier_fl_num    2710.512881\n",
       "predicted_delay         24.941096\n",
       "dtype: float64"
      ]
     },
     "execution_count": 268,
     "metadata": {},
     "output_type": "execute_result"
    }
   ],
   "source": [
    "final_submision.mean()"
   ]
  },
  {
   "cell_type": "code",
   "execution_count": 401,
   "id": "JqmGhVe11w_B",
   "metadata": {
    "id": "JqmGhVe11w_B"
   },
   "outputs": [],
   "source": [
    "#new feature: delayed range\n",
    "\n",
    "result = []\n",
    "for value in df['arr_delay']:\n",
    "    if value <= 0:\n",
    "        result.append(0)\n",
    "    elif value > 0 and value<=10:\n",
    "        result.append(1)\n",
    "    elif value > 10 and value<=20:\n",
    "        result.append(2)\n",
    "    elif value >20 and value<=30:                \n",
    "        result.append(3)\n",
    "    elif value >30 and value<=40:                \n",
    "        result.append(4) \n",
    "    elif value >40 and value<=50:                \n",
    "        result.append(5)\n",
    "    elif value >50 and value<=60:                \n",
    "        result.append(6)\n",
    "    elif value >60:\n",
    "        result.append(7)\n",
    "\n",
    "df['delayed'] = result\n"
   ]
  },
  {
   "cell_type": "markdown",
   "id": "SvHa5vNa5grk",
   "metadata": {
    "id": "SvHa5vNa5grk"
   },
   "source": [
    "## Data Preprocessing"
   ]
  },
  {
   "cell_type": "code",
   "execution_count": 403,
   "id": "HzOhQvgI386p",
   "metadata": {
    "id": "HzOhQvgI386p"
   },
   "outputs": [],
   "source": [
    "y=df['delayed']\n",
    "y_r=df['arr_delay']"
   ]
  },
  {
   "cell_type": "code",
   "execution_count": 404,
   "id": "QoIbdsxY3_f_",
   "metadata": {
    "id": "QoIbdsxY3_f_"
   },
   "outputs": [],
   "source": [
    "X_tmp=df[['distance','origin_airport_id','op_unique_carrier','dest','origin','crs_dep_time','crs_arr_time',\n",
    "       'Weather_origin', 'Weather_destin','crs_arr_timeblk','crs_dep_timeblk',\n",
    "       'Visibility_origin', 'Visibility_destin', 'windspeed_origin',\n",
    "       'windspeed_destin','route_day_timeblk_airline_avg_arr',\n",
    "        'route_day_timeblk_airline_avg_dep']]"
   ]
  },
  {
   "cell_type": "code",
   "execution_count": 405,
   "id": "ebi-GKkl4I_u",
   "metadata": {
    "id": "ebi-GKkl4I_u"
   },
   "outputs": [],
   "source": [
    "#one-hot encoded\n",
    "enc=OneHotEncoder()\n",
    "X_1 = enc.fit_transform(X_tmp)\n"
   ]
  },
  {
   "cell_type": "code",
   "execution_count": 406,
   "id": "dfvr7MVS4M_y",
   "metadata": {
    "id": "dfvr7MVS4M_y"
   },
   "outputs": [],
   "source": [
    "from imblearn.over_sampling import SMOTE\n"
   ]
  },
  {
   "cell_type": "code",
   "execution_count": 62,
   "id": "I8rOIfs34M8x",
   "metadata": {
    "id": "I8rOIfs34M8x"
   },
   "outputs": [],
   "source": [
    "X_train, X_test, y_train, y_test = train_test_split(X_tmp, y, test_size=0.25, random_state=0)\n",
    "# sm=SMOTE(random_state=1)\n",
    "# X_train_sm,y_train_sm=sm.fit_resample(X_train,y_train)"
   ]
  },
  {
   "cell_type": "code",
   "execution_count": null,
   "id": "hQoCFe_z4M6I",
   "metadata": {
    "id": "hQoCFe_z4M6I"
   },
   "outputs": [],
   "source": [
    "# # Feature Scaling\n",
    "# scaler = StandardScaler(with_mean=False)\n",
    "# X_train = scaler.fit_transform(X_train)\n",
    "# X_test = scaler.transform(X_test)"
   ]
  },
  {
   "cell_type": "markdown",
   "id": "KOqClexL5nBJ",
   "metadata": {
    "id": "KOqClexL5nBJ"
   },
   "source": [
    "### RandomForestClassification"
   ]
  },
  {
   "cell_type": "code",
   "execution_count": 409,
   "id": "TcB4lns84M3K",
   "metadata": {
    "id": "TcB4lns84M3K"
   },
   "outputs": [],
   "source": [
    "#baseline Logistic Regression\n",
    "from sklearn.linear_model import LogisticRegression\n",
    "lr=LogisticRegression()"
   ]
  },
  {
   "cell_type": "code",
   "execution_count": 410,
   "id": "JPbhfGYx4M0u",
   "metadata": {
    "colab": {
     "base_uri": "https://localhost:8080/"
    },
    "id": "JPbhfGYx4M0u",
    "outputId": "0ce7c4fe-d07d-4097-c138-eaaa681ba6a6"
   },
   "outputs": [
    {
     "data": {
      "text/plain": [
       "LogisticRegression()"
      ]
     },
     "execution_count": 410,
     "metadata": {},
     "output_type": "execute_result"
    }
   ],
   "source": [
    "lr.fit(X_train,y_train)"
   ]
  },
  {
   "cell_type": "code",
   "execution_count": 411,
   "id": "FRc4Yx7q4Mx0",
   "metadata": {
    "id": "FRc4Yx7q4Mx0"
   },
   "outputs": [],
   "source": [
    "y_pred = lr.predict(X_test)"
   ]
  },
  {
   "cell_type": "code",
   "execution_count": 412,
   "id": "vE4YlgZU4fsB",
   "metadata": {
    "colab": {
     "base_uri": "https://localhost:8080/"
    },
    "id": "vE4YlgZU4fsB",
    "outputId": "43ea72a4-ca81-485e-aeff-01464990a7d8"
   },
   "outputs": [
    {
     "data": {
      "text/plain": [
       "0.6733482300984995"
      ]
     },
     "execution_count": 412,
     "metadata": {},
     "output_type": "execute_result"
    }
   ],
   "source": [
    "lr.score(X_train,y_train)"
   ]
  },
  {
   "cell_type": "code",
   "execution_count": 414,
   "id": "veFun-2-5oCf",
   "metadata": {
    "colab": {
     "base_uri": "https://localhost:8080/"
    },
    "id": "veFun-2-5oCf",
    "outputId": "b616bdb9-b4c9-4f37-b5e0-1e268c171d94"
   },
   "outputs": [
    {
     "data": {
      "text/plain": [
       "0.668837114660698"
      ]
     },
     "execution_count": 414,
     "metadata": {},
     "output_type": "execute_result"
    }
   ],
   "source": [
    "lr.score(X_test,y_test)"
   ]
  },
  {
   "cell_type": "code",
   "execution_count": null,
   "id": "w4NY2Qxy5dUv",
   "metadata": {
    "id": "w4NY2Qxy5dUv"
   },
   "outputs": [],
   "source": []
  },
  {
   "cell_type": "code",
   "execution_count": 64,
   "id": "M8BRw2hQ5dOj",
   "metadata": {
    "id": "M8BRw2hQ5dOj"
   },
   "outputs": [],
   "source": [
    "from sklearn.ensemble import RandomForestClassifier"
   ]
  },
  {
   "cell_type": "code",
   "execution_count": null,
   "id": "FPUp1DsR9v2j",
   "metadata": {
    "id": "FPUp1DsR9v2j"
   },
   "outputs": [],
   "source": []
  },
  {
   "cell_type": "code",
   "execution_count": 61,
   "id": "3xFK1SbT9vyG",
   "metadata": {
    "id": "3xFK1SbT9vyG"
   },
   "outputs": [],
   "source": [
    "X_tmp=df_sample[['op_unique_carrier','distance','crs_arr_timeblk', 'crs_dep_timeblk', 'route_day_timeblk_airline_avg_arr','mean']]"
   ]
  },
  {
   "cell_type": "code",
   "execution_count": null,
   "id": "I97DpYen9vEu",
   "metadata": {
    "id": "I97DpYen9vEu"
   },
   "outputs": [],
   "source": [
    "rfr = RandomForestClassifier()\n",
    "rfr.fit(X_train,y_train)"
   ]
  },
  {
   "cell_type": "code",
   "execution_count": null,
   "id": "QdAk0jjP5vbd",
   "metadata": {
    "id": "QdAk0jjP5vbd"
   },
   "outputs": [],
   "source": [
    "y_pred = rfr.predict(X_test)"
   ]
  },
  {
   "cell_type": "code",
   "execution_count": null,
   "id": "K3c_GPGn5w96",
   "metadata": {
    "id": "K3c_GPGn5w96"
   },
   "outputs": [],
   "source": [
    "rfr.score(y_train_sm,y_train_sm)"
   ]
  },
  {
   "cell_type": "code",
   "execution_count": null,
   "id": "fFyB55tr5yjS",
   "metadata": {
    "id": "fFyB55tr5yjS"
   },
   "outputs": [],
   "source": [
    "print(classification_report(y_test,y_pred))"
   ]
  },
  {
   "cell_type": "markdown",
   "id": "Ez8MZjNmnxWK",
   "metadata": {
    "id": "Ez8MZjNmnxWK"
   },
   "source": [
    "### XGBoostClassification"
   ]
  },
  {
   "cell_type": "code",
   "execution_count": null,
   "id": "jTnkPP_L4fmT",
   "metadata": {
    "id": "jTnkPP_L4fmT"
   },
   "outputs": [],
   "source": [
    "from xgboost import XGBClassifier\n",
    "model = XGBClassifier()\n",
    "model.fit(X_train, y_train)"
   ]
  },
  {
   "cell_type": "code",
   "execution_count": null,
   "id": "GZR0Y1eK4kdP",
   "metadata": {
    "id": "GZR0Y1eK4kdP"
   },
   "outputs": [],
   "source": []
  },
  {
   "cell_type": "code",
   "execution_count": null,
   "id": "qW8W-Lkn4kan",
   "metadata": {
    "id": "qW8W-Lkn4kan"
   },
   "outputs": [],
   "source": []
  },
  {
   "cell_type": "code",
   "execution_count": null,
   "id": "t6kVhzS64kYR",
   "metadata": {
    "id": "t6kVhzS64kYR"
   },
   "outputs": [],
   "source": []
  },
  {
   "cell_type": "code",
   "execution_count": null,
   "id": "XrY5-zxi4kWI",
   "metadata": {
    "id": "XrY5-zxi4kWI"
   },
   "outputs": [],
   "source": []
  },
  {
   "cell_type": "code",
   "execution_count": null,
   "id": "zJzdaiuH4kTa",
   "metadata": {
    "id": "zJzdaiuH4kTa"
   },
   "outputs": [],
   "source": [
    "y_pred = rfr.predict(X_test)"
   ]
  },
  {
   "cell_type": "code",
   "execution_count": null,
   "id": "PRryaJgA4kRp",
   "metadata": {
    "id": "PRryaJgA4kRp"
   },
   "outputs": [],
   "source": [
    "rfr.score(y_train_sm,y_train_sm)"
   ]
  },
  {
   "cell_type": "code",
   "execution_count": null,
   "id": "4vnwj53c4qCn",
   "metadata": {
    "id": "4vnwj53c4qCn"
   },
   "outputs": [],
   "source": [
    "rfr.score(X_test,y_test)"
   ]
  },
  {
   "cell_type": "code",
   "execution_count": null,
   "id": "igOqB7zd4p_7",
   "metadata": {
    "id": "igOqB7zd4p_7"
   },
   "outputs": [],
   "source": [
    "print(classification_report(y_test,y_pred))"
   ]
  },
  {
   "cell_type": "code",
   "execution_count": null,
   "id": "5UbiN3-P4p8t",
   "metadata": {
    "id": "5UbiN3-P4p8t"
   },
   "outputs": [],
   "source": []
  },
  {
   "cell_type": "code",
   "execution_count": null,
   "id": "CqznHtLk4p6C",
   "metadata": {
    "id": "CqznHtLk4p6C"
   },
   "outputs": [],
   "source": []
  }
 ],
 "metadata": {
  "colab": {
   "collapsed_sections": [
    "706f1eec-d4d8-4a27-8f39-112d3ca5de7d",
    "b9e77419-692c-44e9-b8b5-b6a7e53c8596",
    "1d3d3132-cd23-426c-a299-3357b0308945",
    "7017abf2-fec0-403e-848f-9f1c516e2482",
    "11099085-5c4c-433c-a3db-e7352da18d47"
   ],
   "name": "Flight_Weather_EDA_Trial2.ipynb",
   "provenance": [],
   "toc_visible": true
  },
  "gpuClass": "standard",
  "kernelspec": {
   "display_name": "Python 3 (ipykernel)",
   "language": "python",
   "name": "python3"
  },
  "language_info": {
   "codemirror_mode": {
    "name": "ipython",
    "version": 3
   },
   "file_extension": ".py",
   "mimetype": "text/x-python",
   "name": "python",
   "nbconvert_exporter": "python",
   "pygments_lexer": "ipython3",
   "version": "3.9.12"
  },
  "toc": {
   "base_numbering": 1,
   "nav_menu": {},
   "number_sections": true,
   "sideBar": true,
   "skip_h1_title": false,
   "title_cell": "Table of Contents",
   "title_sidebar": "Contents",
   "toc_cell": false,
   "toc_position": {},
   "toc_section_display": true,
   "toc_window_display": false
  }
 },
 "nbformat": 4,
 "nbformat_minor": 5
}
